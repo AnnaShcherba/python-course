{
 "cells": [
  {
   "cell_type": "markdown",
   "metadata": {},
   "source": [
    "# 6. WorkShop "
   ]
  },
  {
   "cell_type": "markdown",
   "metadata": {},
   "source": [
    "### Task 1"
   ]
  },
  {
   "cell_type": "markdown",
   "metadata": {},
   "source": [
    "Задано ціле число. Перевірити, чи воно парне.\n",
    "\n",
    "*Число називається парним, якщо воно ділиться на 2 націло.*"
   ]
  },
  {
   "cell_type": "code",
   "execution_count": 16,
   "metadata": {},
   "outputs": [
    {
     "name": "stdout",
     "output_type": "stream",
     "text": [
      "11\n",
      "Odd\n"
     ]
    }
   ],
   "source": [
    "n = int(input())\n",
    "\n",
    "if n % 2:\n",
    "    print(\"Odd\")\n",
    "else:\n",
    "    print(\"Even\")"
   ]
  },
  {
   "cell_type": "markdown",
   "metadata": {},
   "source": [
    "### Task 2"
   ]
  },
  {
   "cell_type": "markdown",
   "metadata": {},
   "source": [
    "Визначити, чи є введений символ голосною літерою. \n",
    "\n",
    "*(Працюємо лише з нижнім регістром латинських символів).*"
   ]
  },
  {
   "cell_type": "code",
   "execution_count": 64,
   "metadata": {},
   "outputs": [
    {
     "name": "stdout",
     "output_type": "stream",
     "text": [
      "a\n",
      "Голосна\n"
     ]
    }
   ],
   "source": [
    "# 36\n",
    "i = input()\n",
    "\n",
    "vowels = ('a', 'e', 'i', 'o', 'u')\n",
    "\n",
    "if i in vowels:\n",
    "    print('Голосна')\n",
    "else:\n",
    "    print(\"Приголосна\")"
   ]
  },
  {
   "cell_type": "markdown",
   "metadata": {},
   "source": [
    "### Task 3"
   ]
  },
  {
   "cell_type": "markdown",
   "metadata": {},
   "source": [
    "Для введених чисел *(якщо користувач вводить нуль, введення завершується)* \n",
    "знайти їх середнє арифметичне."
   ]
  },
  {
   "cell_type": "code",
   "execution_count": 66,
   "metadata": {},
   "outputs": [
    {
     "name": "stdout",
     "output_type": "stream",
     "text": [
      "1\n",
      "2\n",
      "3\n",
      "4\n",
      "0\n",
      "Avg =  2.5\n"
     ]
    }
   ],
   "source": [
    "#61\n",
    "list_with_numbers = []\n",
    "\n",
    "while True:\n",
    "    new_number = int(input())\n",
    "    if new_number == 0:\n",
    "        break\n",
    "    else:\n",
    "        list_with_numbers.append(new_number)\n",
    "        \n",
    "print(\"Avg = \", sum(list_with_numbers)/len(list_with_numbers))      "
   ]
  },
  {
   "cell_type": "markdown",
   "metadata": {},
   "source": [
    "### Task 4"
   ]
  },
  {
   "cell_type": "markdown",
   "metadata": {},
   "source": [
    "Знайти наближення числа pi, використавши формулу:"
   ]
  },
  {
   "cell_type": "markdown",
   "metadata": {},
   "source": [
    "![Pi](img/pi.png)"
   ]
  },
  {
   "cell_type": "code",
   "execution_count": 27,
   "metadata": {},
   "outputs": [
    {
     "name": "stdout",
     "output_type": "stream",
     "text": [
      "3.141653394197426\n"
     ]
    }
   ],
   "source": [
    "#69\n",
    "new_pi = 3\n",
    "j = 2\n",
    "\n",
    "for i in range(1,16):\n",
    "    fraction = (-1)**(i+1) * 4/(j * (j+1) * (j+2))\n",
    "    new_pi = new_pi + fraction\n",
    "    j = j + 2\n",
    "\n",
    "print(new_pi)"
   ]
  },
  {
   "cell_type": "markdown",
   "metadata": {},
   "source": [
    "### Task 5"
   ]
  },
  {
   "cell_type": "markdown",
   "metadata": {},
   "source": [
    "Слова вводяться в рядок через пробіл. Вивести лише унікальні слова."
   ]
  },
  {
   "cell_type": "code",
   "execution_count": 68,
   "metadata": {},
   "outputs": [
    {
     "name": "stdout",
     "output_type": "stream",
     "text": [
      "first second first third second\n",
      "first second third\n",
      "first second third\n"
     ]
    }
   ],
   "source": [
    "#107\n",
    "list_with_words = input().split()\n",
    "\n",
    "#use set\n",
    "print(*set(list_with_words))\n",
    "\n",
    "#dont use set\n",
    "unique_words = []\n",
    "\n",
    "for i in list_with_words:\n",
    "    if i not in unique_words:\n",
    "        unique_words.append(i)\n",
    "        \n",
    "print(*unique_words)\n"
   ]
  },
  {
   "cell_type": "markdown",
   "metadata": {},
   "source": [
    "### Task 6"
   ]
  },
  {
   "cell_type": "markdown",
   "metadata": {},
   "source": [
    "Перевірити, чи число досокнале.\n",
    "\n",
    "*Досконале число — натуральне число, яке дорівнює сумі всіх своїх дільників крім самого числа.*"
   ]
  },
  {
   "cell_type": "code",
   "execution_count": 69,
   "metadata": {},
   "outputs": [
    {
     "name": "stdout",
     "output_type": "stream",
     "text": [
      "28\n",
      "Perfect\n"
     ]
    }
   ],
   "source": [
    "#110\n",
    "N = int(input())\n",
    "\n",
    "dividers = []\n",
    "\n",
    "for i in range(1, N):\n",
    "    if N % i == 0:\n",
    "        dividers.append(i)\n",
    "        \n",
    "if N == sum(dividers):\n",
    "    print(\"Perfect\")\n",
    "else:\n",
    "    print(\"Not perfect\")"
   ]
  },
  {
   "cell_type": "markdown",
   "metadata": {},
   "source": [
    "### Task 7"
   ]
  },
  {
   "cell_type": "markdown",
   "metadata": {},
   "source": [
    "Задано список чисел. Вивести числа, що більші та менші за середнє арифметичне."
   ]
  },
  {
   "cell_type": "code",
   "execution_count": 75,
   "metadata": {},
   "outputs": [
    {
     "name": "stdout",
     "output_type": "stream",
     "text": [
      "More then avg: 34 67 56 22 \n",
      "Less then avg: 1 5 8 10 -10 "
     ]
    }
   ],
   "source": [
    "#112\n",
    "a  = [1, 5, 8, 10, 34, 67, -10, 56, 22]\n",
    "\n",
    "avg = sum(a)/len(a)\n",
    "\n",
    "print(\"More then avg\", end=': ')\n",
    "for i in a:\n",
    "    if i > avg:\n",
    "        print(i, end=' ')\n",
    "\n",
    "print()\n",
    "\n",
    "print(\"Less then avg\", end=': ')\n",
    "for i in a:\n",
    "    if i < avg:\n",
    "        print(i, end=' ')"
   ]
  },
  {
   "cell_type": "markdown",
   "metadata": {},
   "source": [
    "### Task 8"
   ]
  },
  {
   "cell_type": "markdown",
   "metadata": {},
   "source": [
    "Вивести N-елементів послідовності чисел Фібоначчі.\n",
    "\n",
    "*Послідовності Фібоначчі це:*\n",
    "- *послідовність, де кожен наступний елемент дорівнює сумі двох попередніх;*\n",
    "- *перший та другий член послідовності дорівнює 1;*\n",
    "\n",
    "*Приклад: 1, 1, 2, 3, 5, 8, 13, 21, 34, 55 ...*"
   ]
  },
  {
   "cell_type": "code",
   "execution_count": 63,
   "metadata": {},
   "outputs": [
    {
     "name": "stdout",
     "output_type": "stream",
     "text": [
      "1\n",
      "2\n",
      "3\n",
      "5\n",
      "8\n",
      "13\n",
      "21\n",
      "34\n",
      "55\n"
     ]
    }
   ],
   "source": [
    "a = 1\n",
    "b = 1\n",
    "for _ in range(1, 10):\n",
    "    a, b = b, a + b \n",
    "    print(a)"
   ]
  },
  {
   "cell_type": "markdown",
   "metadata": {},
   "source": [
    "### Task 9"
   ]
  },
  {
   "cell_type": "markdown",
   "metadata": {},
   "source": [
    "Перевірити, чи натуральне число N є просте.\n",
    "\n",
    "*Число називається просте - якщо кількість його дільників становить два:одиниця і саме число.*"
   ]
  },
  {
   "cell_type": "code",
   "execution_count": 62,
   "metadata": {},
   "outputs": [
    {
     "name": "stdout",
     "output_type": "stream",
     "text": [
      "13\n",
      "Simple\n"
     ]
    }
   ],
   "source": [
    "import math\n",
    "N = int(input())\n",
    "\n",
    "\n",
    "for i in range(2, int(math.sqrt(N)) + 1):\n",
    "    if N % i == 0:\n",
    "        print('Not simple')\n",
    "        break\n",
    "else:\n",
    "    print('Simple')"
   ]
  }
 ],
 "metadata": {
  "kernelspec": {
   "display_name": "Python 3",
   "language": "python",
   "name": "python3"
  },
  "language_info": {
   "codemirror_mode": {
    "name": "ipython",
    "version": 3
   },
   "file_extension": ".py",
   "mimetype": "text/x-python",
   "name": "python",
   "nbconvert_exporter": "python",
   "pygments_lexer": "ipython3",
   "version": "3.7.3"
  }
 },
 "nbformat": 4,
 "nbformat_minor": 2
}
