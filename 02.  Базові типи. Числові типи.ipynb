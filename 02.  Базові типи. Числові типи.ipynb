{
 "cells": [
  {
   "cell_type": "markdown",
   "metadata": {},
   "source": [
    "# 2. Базові типи. Числові типи"
   ]
  },
  {
   "cell_type": "markdown",
   "metadata": {},
   "source": [
    "## 2.1 Вступ до типів даних"
   ]
  },
  {
   "cell_type": "markdown",
   "metadata": {},
   "source": [
    "Тип даних — характеристика, яку явно чи неявно надано об'єкту (змінній, функції, полю запису, константі, масиву тощо). \n",
    "\n",
    "Тип даних визначає множину припустимих значень, формат їхнього збереження, розмір виділеної пам'яті та набір операцій, які можна робити над даними."
   ]
  },
  {
   "cell_type": "markdown",
   "metadata": {},
   "source": [
    "Всі данні в Python є об'єктами. Імена - лише посилання на ці об'єкти і немають жодного навантаження про декларацію типу\n",
    "\n",
    "*Нагадаю*, що об'єкти можуть бути змінними і незмінними."
   ]
  },
  {
   "cell_type": "markdown",
   "metadata": {},
   "source": [
    "**Карта базових типи**:\n",
    "1. Числа\n",
    "    - цілі числа *int*\n",
    "    - числа з плаваючою точкою *float*\n",
    "    - логічні *bool*\n",
    "    - комплексні *complex*    \n",
    "2. Послідовності:\n",
    "    - Стрічки *str*\n",
    "    - Списки *list*\n",
    "    - Кортежі *tupl*\n",
    "3. Відображення: \n",
    "    - Словники *dict*\n",
    "4. Файли *file*\n",
    "5. Типи структурних елементів програми (функціїї, модулі)\n",
    "6. Інші базові типи (*None*, самі типи, ...)\n"
   ]
  },
  {
   "cell_type": "markdown",
   "metadata": {},
   "source": [
    "`type()` - функція, що визначає тип елемента"
   ]
  },
  {
   "cell_type": "code",
   "execution_count": 1,
   "metadata": {},
   "outputs": [
    {
     "name": "stdout",
     "output_type": "stream",
     "text": [
      "10 <class 'int'>\n",
      "10 <class 'str'>\n",
      "(14+1j) <class 'complex'>\n",
      "<class 'NoneType'>\n",
      "<class 'type'>\n"
     ]
    }
   ],
   "source": [
    "a = 10\n",
    "print(a, type(a))\n",
    "\n",
    "b = '10'\n",
    "print(b, type(b))\n",
    "\n",
    "c = 14 + 1j\n",
    "print(c, type(c))\n",
    "\n",
    "d = None\n",
    "print(type(d))\n",
    "\n",
    "print(type(type(a)))\n"
   ]
  },
  {
   "cell_type": "markdown",
   "metadata": {},
   "source": [
    "#### 2. Ідентифікатори:"
   ]
  },
  {
   "cell_type": "markdown",
   "metadata": {},
   "source": [
    "`id` - повертає ідентифікатор вказаного об'єкта\n",
    "\n",
    "Це ціле число, яке гарантовано є унікальним та сталим для цього об’єкта протягом його \"життя\". Два об'єкти можуть мати однакове значення `id`."
   ]
  },
  {
   "cell_type": "code",
   "execution_count": 2,
   "metadata": {},
   "outputs": [
    {
     "name": "stdout",
     "output_type": "stream",
     "text": [
      "140720532722784\n"
     ]
    }
   ],
   "source": [
    "a = 10\n",
    "\n",
    "print(id(a))"
   ]
  },
  {
   "cell_type": "code",
   "execution_count": 3,
   "metadata": {},
   "outputs": [
    {
     "name": "stdout",
     "output_type": "stream",
     "text": [
      "140720532726400\n",
      "140720532726400\n"
     ]
    }
   ],
   "source": [
    "a = 123\n",
    "b = 123\n",
    "\n",
    "print(id(a))\n",
    "print(id(b))"
   ]
  },
  {
   "cell_type": "markdown",
   "metadata": {},
   "source": [
    "## 2.1 Базові числові типи"
   ]
  },
  {
   "cell_type": "markdown",
   "metadata": {},
   "source": [
    "#### Цілі числа - int"
   ]
  },
  {
   "cell_type": "markdown",
   "metadata": {},
   "source": [
    "Тип `int` призначений для задання цілих чисел. Приклади цілих чисел: `-1, 0, 20`"
   ]
  },
  {
   "cell_type": "code",
   "execution_count": 125,
   "metadata": {},
   "outputs": [
    {
     "name": "stdout",
     "output_type": "stream",
     "text": [
      "13 <class 'int'>\n"
     ]
    }
   ],
   "source": [
    "num = 13\n",
    "print(num, type(num))\n"
   ]
  },
  {
   "cell_type": "code",
   "execution_count": 7,
   "metadata": {},
   "outputs": [
    {
     "name": "stdout",
     "output_type": "stream",
     "text": [
      "100000000000 <class 'int'>\n"
     ]
    }
   ],
   "source": [
    "#для кращого відображення розрядів, можна використовувати такий запис: \n",
    "\n",
    "num = 100_000_000_000\n",
    "print(num, type(num))"
   ]
  },
  {
   "cell_type": "markdown",
   "metadata": {},
   "source": [
    "#### Дійсні числа (або числа з плаваючою точкою) - float"
   ]
  },
  {
   "cell_type": "code",
   "execution_count": 126,
   "metadata": {},
   "outputs": [
    {
     "name": "stdout",
     "output_type": "stream",
     "text": [
      "13.4 <class 'float'>\n"
     ]
    }
   ],
   "source": [
    "num = 13.4\n",
    "print(num, type(num))\n"
   ]
  },
  {
   "cell_type": "code",
   "execution_count": 9,
   "metadata": {},
   "outputs": [
    {
     "name": "stdout",
     "output_type": "stream",
     "text": [
      "100000.000001\n"
     ]
    }
   ],
   "source": [
    "num = 100_000.000_001\n",
    "print(num)"
   ]
  },
  {
   "cell_type": "markdown",
   "metadata": {},
   "source": [
    "Число з плаваючою точкою — форма представлення дійсних чисел, в якій число зберігається у формі мантиси і показника степеня (на рівні архітектури).\n",
    "\n",
    "Детальніше з можна ознайомитися за [посиланням](https://javarush.ru/groups/posts/2255-chto-vnutri-chisla-s-plavajujshey-tochkoy-i-kak-ono-rabotaet)."
   ]
  },
  {
   "cell_type": "code",
   "execution_count": 127,
   "metadata": {},
   "outputs": [
    {
     "name": "stdout",
     "output_type": "stream",
     "text": [
      "150.0\n"
     ]
    }
   ],
   "source": [
    "num = 1.5e2   # тотожно 1.5 * 10**2\n",
    "print(num)"
   ]
  },
  {
   "cell_type": "markdown",
   "metadata": {},
   "source": [
    "#### Комплекксні числа - complex"
   ]
  },
  {
   "cell_type": "markdown",
   "metadata": {},
   "source": [
    "Комплексні числа — розширення поля дійсних чисел, зазвичай позначається ${\\displaystyle \\mathbb {C} }$. Будь-яке комплексне число може бути представлене як формальна сума ${\\displaystyle x+iy}$, де ${\\displaystyle x}$ і ${\\displaystyle y}$ — дійсні числа, $ {\\displaystyle i}$ — уявна одиниця."
   ]
  },
  {
   "cell_type": "code",
   "execution_count": 128,
   "metadata": {},
   "outputs": [
    {
     "name": "stdout",
     "output_type": "stream",
     "text": [
      "<class 'complex'>\n",
      "14.0\n",
      "1.0\n"
     ]
    }
   ],
   "source": [
    "num = 14 + 1j\n",
    "\n",
    "print(type(num))\n",
    "print(num.real)   #дійсна частина\n",
    "print(num.imag)   #уявна частина"
   ]
  },
  {
   "cell_type": "code",
   "execution_count": 129,
   "metadata": {},
   "outputs": [
    {
     "name": "stdout",
     "output_type": "stream",
     "text": [
      "(16+1j)\n",
      "<class 'complex'>\n"
     ]
    }
   ],
   "source": [
    "#сума комплексного і цілого числа  - комплексне число\n",
    "num = 14 + 1j\n",
    "a = 2\n",
    "\n",
    "print(num + a)\n",
    "print(type(num + a))"
   ]
  },
  {
   "cell_type": "markdown",
   "metadata": {},
   "source": [
    "#### Decimal and fractions "
   ]
  },
  {
   "cell_type": "markdown",
   "metadata": {},
   "source": [
    "Інколи арифментичні операції над числами типу `float` можуть дати невеличку похибку:"
   ]
  },
  {
   "cell_type": "code",
   "execution_count": 130,
   "metadata": {},
   "outputs": [
    {
     "name": "stdout",
     "output_type": "stream",
     "text": [
      "0.30000000000000004 2\n"
     ]
    }
   ],
   "source": [
    "number = 0.1 + 0.1 + 0.1\n",
    "print(number, 2)"
   ]
  },
  {
   "cell_type": "markdown",
   "metadata": {},
   "source": [
    "Щоб уникнути таких результатів, можна скористатися бібліотекою [decimal](https://docs.python.org/2/library/decimal.html)"
   ]
  },
  {
   "cell_type": "code",
   "execution_count": 15,
   "metadata": {},
   "outputs": [
    {
     "name": "stdout",
     "output_type": "stream",
     "text": [
      "0.3\n"
     ]
    }
   ],
   "source": [
    "from decimal import Decimal\n",
    " \n",
    "number = Decimal(\"0.1\")\n",
    "number = number + number + number\n",
    "print(number) "
   ]
  },
  {
   "cell_type": "markdown",
   "metadata": {},
   "source": [
    "Для роботи із дробами використовують бібліотеку [fractions](https://docs.python.org/2/library/fractions.html?highlight=fractions)"
   ]
  },
  {
   "cell_type": "code",
   "execution_count": 19,
   "metadata": {},
   "outputs": [
    {
     "name": "stdout",
     "output_type": "stream",
     "text": [
      "8/7\n",
      "31/21\n",
      "8/21\n"
     ]
    }
   ],
   "source": [
    "from fractions import Fraction\n",
    "a = 1 + Fraction(1, 7)\n",
    "print(a)\n",
    "b = Fraction(1, 3)\n",
    "\n",
    "print(a + b)\n",
    "print(a*b)"
   ]
  },
  {
   "cell_type": "markdown",
   "metadata": {},
   "source": [
    "#### Основні арифметичні операції  з числами"
   ]
  },
  {
   "cell_type": "markdown",
   "metadata": {},
   "source": [
    "| Операція          \t| Результат                                                             \t|\n",
    "|-------------------\t|-----------------------------------------------------------------------\t|\n",
    "| x   +   y         \t| Сума двох чисел                                                       \t|\n",
    "| x   -   y         \t| Різниця двох чисел                                                    \t|\n",
    "| x   *   y         \t| Добуток двох чисел                                                    \t|\n",
    "| x   /   y         \t| Частка двох чисел                                                     \t|\n",
    "| x   //   y        \t| Ціла частина при ділені                                               \t|\n",
    "| x   %   y         \t| Остача при ділені                                                     \t|\n",
    "| abs(x)            \t| Модуль числа                                                          \t|\n",
    "| int(x)            \t| Перетворює об'єкт в ціле число                                        \t|\n",
    "| float(x)          \t| Перетворює об'єкт в дійсне число                                      \t|\n",
    "| complex(re,   im) \t| Створює комплексне число                                              \t|\n",
    "| divmod(x,   y)    \t| Повертає пару: (x   //   y,   x   %   y)                              \t|\n",
    "| x   **   y        \t| Піденсення до степеня                                                 \t|\n",
    "| pow(x,   y, z)    \t|  Піднесення до степеня та знаходження остачі від ділення (x ** y) % z      |"
   ]
  },
  {
   "cell_type": "markdown",
   "metadata": {},
   "source": [
    "##### Базові арифметичні операції"
   ]
  },
  {
   "cell_type": "code",
   "execution_count": 132,
   "metadata": {},
   "outputs": [
    {
     "data": {
      "text/plain": [
       "3.0"
      ]
     },
     "execution_count": 132,
     "metadata": {},
     "output_type": "execute_result"
    }
   ],
   "source": [
    "1 + 2.0"
   ]
  },
  {
   "cell_type": "code",
   "execution_count": 22,
   "metadata": {},
   "outputs": [
    {
     "data": {
      "text/plain": [
       "(14+2j)"
      ]
     },
     "execution_count": 22,
     "metadata": {},
     "output_type": "execute_result"
    }
   ],
   "source": [
    "(14 + 1j) +  1j"
   ]
  },
  {
   "cell_type": "code",
   "execution_count": 25,
   "metadata": {},
   "outputs": [
    {
     "data": {
      "text/plain": [
       "5.0"
      ]
     },
     "execution_count": 25,
     "metadata": {},
     "output_type": "execute_result"
    }
   ],
   "source": [
    "10 / 2"
   ]
  },
  {
   "cell_type": "markdown",
   "metadata": {},
   "source": [
    "Цитата дня:\n",
    "> **На нуль ділити не можна!**"
   ]
  },
  {
   "cell_type": "code",
   "execution_count": 26,
   "metadata": {},
   "outputs": [
    {
     "ename": "ZeroDivisionError",
     "evalue": "division by zero",
     "output_type": "error",
     "traceback": [
      "\u001b[1;31m---------------------------------------------------------------------------\u001b[0m",
      "\u001b[1;31mZeroDivisionError\u001b[0m                         Traceback (most recent call last)",
      "\u001b[1;32m<ipython-input-26-8b4ac6d3a3e1>\u001b[0m in \u001b[0;36m<module>\u001b[1;34m\u001b[0m\n\u001b[1;32m----> 1\u001b[1;33m \u001b[1;36m2\u001b[0m \u001b[1;33m/\u001b[0m \u001b[1;36m0\u001b[0m\u001b[1;33m\u001b[0m\u001b[1;33m\u001b[0m\u001b[0m\n\u001b[0m",
      "\u001b[1;31mZeroDivisionError\u001b[0m: division by zero"
     ]
    }
   ],
   "source": [
    "2 / 0"
   ]
  },
  {
   "cell_type": "markdown",
   "metadata": {},
   "source": [
    "##### Піднесення до степеня"
   ]
  },
  {
   "cell_type": "code",
   "execution_count": 28,
   "metadata": {},
   "outputs": [
    {
     "data": {
      "text/plain": [
       "16"
      ]
     },
     "execution_count": 28,
     "metadata": {},
     "output_type": "execute_result"
    }
   ],
   "source": [
    "2 ** 4"
   ]
  },
  {
   "cell_type": "code",
   "execution_count": 31,
   "metadata": {},
   "outputs": [
    {
     "data": {
      "text/plain": [
       "16"
      ]
     },
     "execution_count": 31,
     "metadata": {},
     "output_type": "execute_result"
    }
   ],
   "source": [
    "pow(2, 4)"
   ]
  },
  {
   "cell_type": "code",
   "execution_count": 134,
   "metadata": {},
   "outputs": [
    {
     "data": {
      "text/plain": [
       "1"
      ]
     },
     "execution_count": 134,
     "metadata": {},
     "output_type": "execute_result"
    }
   ],
   "source": [
    "pow(2, 4, 3)  # (2**4) %3"
   ]
  },
  {
   "cell_type": "markdown",
   "metadata": {},
   "source": [
    "##### Модуль числа"
   ]
  },
  {
   "cell_type": "code",
   "execution_count": 32,
   "metadata": {},
   "outputs": [
    {
     "data": {
      "text/plain": [
       "3"
      ]
     },
     "execution_count": 32,
     "metadata": {},
     "output_type": "execute_result"
    }
   ],
   "source": [
    "abs(-3)"
   ]
  },
  {
   "cell_type": "code",
   "execution_count": 33,
   "metadata": {},
   "outputs": [
    {
     "data": {
      "text/plain": [
       "3"
      ]
     },
     "execution_count": 33,
     "metadata": {},
     "output_type": "execute_result"
    }
   ],
   "source": [
    "abs(3)"
   ]
  },
  {
   "cell_type": "markdown",
   "metadata": {},
   "source": [
    "##### Мінімум та максимум двох чисел"
   ]
  },
  {
   "cell_type": "code",
   "execution_count": 136,
   "metadata": {},
   "outputs": [
    {
     "name": "stdout",
     "output_type": "stream",
     "text": [
      "10\n"
     ]
    }
   ],
   "source": [
    "# Класичний алгоритм\n",
    "first_number = float(input())\n",
    "second_number = float(input())\n",
    "\n",
    "if first_number >= second_number:\n",
    "    print(first_number)\n",
    "else:\n",
    "    print(second_number)"
   ]
  },
  {
   "cell_type": "code",
   "execution_count": 49,
   "metadata": {},
   "outputs": [
    {
     "name": "stdout",
     "output_type": "stream",
     "text": [
      "10\n",
      "11\n",
      "11.0\n"
     ]
    }
   ],
   "source": [
    "# Вбудована функція\n",
    "first_number = float(input())\n",
    "second_number = float(input())\n",
    "\n",
    "\n",
    "max(first_number, second_number)"
   ]
  },
  {
   "cell_type": "markdown",
   "metadata": {},
   "source": [
    "##### Округлення"
   ]
  },
  {
   "cell_type": "markdown",
   "metadata": {},
   "source": [
    "- `math.trunc(x)` - повертає цілу частину числа\n",
    "\n",
    "\n",
    "- `round(x[, n])` - заокруглює за метематичними правилами до `n` знаків після коми\n",
    "\n",
    "\n",
    "- `math.floor(x)` - заокруглює в меншу сторну\n",
    "\n",
    "\n",
    "- `math.ceil(x)`  - заокруглює в більшу сторну"
   ]
  },
  {
   "cell_type": "code",
   "execution_count": 144,
   "metadata": {},
   "outputs": [
    {
     "data": {
      "text/plain": [
       "1"
      ]
     },
     "execution_count": 144,
     "metadata": {},
     "output_type": "execute_result"
    }
   ],
   "source": [
    "import math \n",
    "\n",
    "math.trunc(1.333333)"
   ]
  },
  {
   "cell_type": "code",
   "execution_count": 141,
   "metadata": {},
   "outputs": [
    {
     "data": {
      "text/plain": [
       "1.33"
      ]
     },
     "execution_count": 141,
     "metadata": {},
     "output_type": "execute_result"
    }
   ],
   "source": [
    "round(1.333333, 2)"
   ]
  },
  {
   "cell_type": "code",
   "execution_count": 142,
   "metadata": {},
   "outputs": [
    {
     "data": {
      "text/plain": [
       "1"
      ]
     },
     "execution_count": 142,
     "metadata": {},
     "output_type": "execute_result"
    }
   ],
   "source": [
    "math.floor(1.333333)"
   ]
  },
  {
   "cell_type": "code",
   "execution_count": 143,
   "metadata": {},
   "outputs": [
    {
     "data": {
      "text/plain": [
       "2"
      ]
     },
     "execution_count": 143,
     "metadata": {},
     "output_type": "execute_result"
    }
   ],
   "source": [
    "math.ceil(1.333333)"
   ]
  },
  {
   "cell_type": "markdown",
   "metadata": {},
   "source": [
    "##### Ділення з остачею"
   ]
  },
  {
   "cell_type": "markdown",
   "metadata": {},
   "source": [
    "Ділення з остачею (ділення за модулем, ділення націло) — арифметична операція, результатом якої є два числа: неповна частка та остача."
   ]
  },
  {
   "cell_type": "markdown",
   "metadata": {},
   "source": [
    "Ціла частина від ділення (неповна частка):"
   ]
  },
  {
   "cell_type": "code",
   "execution_count": 146,
   "metadata": {},
   "outputs": [
    {
     "data": {
      "text/plain": [
       "2"
      ]
     },
     "execution_count": 146,
     "metadata": {},
     "output_type": "execute_result"
    }
   ],
   "source": [
    "10 // 4"
   ]
  },
  {
   "cell_type": "markdown",
   "metadata": {},
   "source": [
    "Остача від ділення:"
   ]
  },
  {
   "cell_type": "code",
   "execution_count": 147,
   "metadata": {},
   "outputs": [
    {
     "data": {
      "text/plain": [
       "2"
      ]
     },
     "execution_count": 147,
     "metadata": {},
     "output_type": "execute_result"
    }
   ],
   "source": [
    "10 % 4"
   ]
  },
  {
   "cell_type": "markdown",
   "metadata": {},
   "source": [
    "##### Порядок виконання операцій"
   ]
  },
  {
   "cell_type": "markdown",
   "metadata": {},
   "source": [
    "Порядок виконання операцій аналогічний математиці.\n",
    "\n",
    "> *Якщо невпевнені щодо пріоритетності тої чи іншої дії - використовуйте дужки!!!* "
   ]
  },
  {
   "cell_type": "markdown",
   "metadata": {},
   "source": [
    "#### Бібліотека Math"
   ]
  },
  {
   "cell_type": "markdown",
   "metadata": {},
   "source": [
    "Крім найпростіших операцій над числами, Python здатний обчислювати значення більш складні: тригонометричні, логарифмічні та ін. Для проведення таких обчислень з числами мова Python містить багато додаткових функцій, зібраних в бібліотеку (модуль), яка називається `math`."
   ]
  },
  {
   "cell_type": "code",
   "execution_count": 59,
   "metadata": {},
   "outputs": [],
   "source": [
    "import math "
   ]
  },
  {
   "cell_type": "code",
   "execution_count": 60,
   "metadata": {},
   "outputs": [
    {
     "data": {
      "text/plain": [
       "3.141592653589793"
      ]
     },
     "execution_count": 60,
     "metadata": {},
     "output_type": "execute_result"
    }
   ],
   "source": [
    "math.pi               #число pi"
   ]
  },
  {
   "cell_type": "code",
   "execution_count": 61,
   "metadata": {},
   "outputs": [
    {
     "data": {
      "text/plain": [
       "11.180339887498949"
      ]
     },
     "execution_count": 61,
     "metadata": {},
     "output_type": "execute_result"
    }
   ],
   "source": [
    "math.sqrt(125)        # Квадратний корінь"
   ]
  },
  {
   "cell_type": "code",
   "execution_count": 62,
   "metadata": {},
   "outputs": [
    {
     "data": {
      "text/plain": [
       "3628800"
      ]
     },
     "execution_count": 62,
     "metadata": {},
     "output_type": "execute_result"
    }
   ],
   "source": [
    "math.factorial(10)    # Факторіал: 10! = 1*2*3 ... *10"
   ]
  },
  {
   "cell_type": "code",
   "execution_count": 63,
   "metadata": {},
   "outputs": [
    {
     "data": {
      "text/plain": [
       "148.4131591025766"
      ]
     },
     "execution_count": 63,
     "metadata": {},
     "output_type": "execute_result"
    }
   ],
   "source": [
    "math.exp(5)           # e ^ 5, де e - експонента"
   ]
  },
  {
   "cell_type": "code",
   "execution_count": 64,
   "metadata": {},
   "outputs": [
    {
     "data": {
      "text/plain": [
       "0.43067655807339306"
      ]
     },
     "execution_count": 64,
     "metadata": {},
     "output_type": "execute_result"
    }
   ],
   "source": [
    " math.log(2, 5)       # знаходження логарифма"
   ]
  },
  {
   "cell_type": "code",
   "execution_count": 65,
   "metadata": {},
   "outputs": [
    {
     "data": {
      "text/plain": [
       "1.0"
      ]
     },
     "execution_count": 65,
     "metadata": {},
     "output_type": "execute_result"
    }
   ],
   "source": [
    "x = math.radians(90)  # аргумент передається в радіанах\n",
    "math.sin(x)           # тригонометрина функція"
   ]
  },
  {
   "cell_type": "code",
   "execution_count": 66,
   "metadata": {},
   "outputs": [
    {
     "data": {
      "text/plain": [
       "11"
      ]
     },
     "execution_count": 66,
     "metadata": {},
     "output_type": "execute_result"
    }
   ],
   "source": [
    "math.gcd(110, 77)     # найбільший спільний дільник"
   ]
  },
  {
   "cell_type": "markdown",
   "metadata": {},
   "source": [
    "Для роботи із комплексними числами використовуйте математичну бібліотеку `cmath`"
   ]
  },
  {
   "cell_type": "markdown",
   "metadata": {},
   "source": [
    "#### Бібліотека Random"
   ]
  },
  {
   "cell_type": "markdown",
   "metadata": {},
   "source": [
    "У модулі `random` реалізовані засоби, які дозволяють генерувати випадкові (псевдо-випадкові) числа. У модулі `random` реалізовані функції, які обробляють наступні категорії чисел:\n",
    "\n",
    "- цілі числа;\n",
    "- послідовності чисел;\n",
    "- дійсні числа (числа з плаваючою комою)."
   ]
  },
  {
   "cell_type": "code",
   "execution_count": 69,
   "metadata": {},
   "outputs": [],
   "source": [
    "import random"
   ]
  },
  {
   "cell_type": "code",
   "execution_count": 70,
   "metadata": {},
   "outputs": [
    {
     "data": {
      "text/plain": [
       "0.6726470739765533"
      ]
     },
     "execution_count": 70,
     "metadata": {},
     "output_type": "execute_result"
    }
   ],
   "source": [
    "random.random()                  #випадкове число з діапазону (0;1)"
   ]
  },
  {
   "cell_type": "code",
   "execution_count": 71,
   "metadata": {},
   "outputs": [
    {
     "data": {
      "text/plain": [
       "1"
      ]
     },
     "execution_count": 71,
     "metadata": {},
     "output_type": "execute_result"
    }
   ],
   "source": [
    "random.choice([1, 2, 3, 4, 5])   #вибір випадкового числа з списку чисел"
   ]
  },
  {
   "cell_type": "code",
   "execution_count": 151,
   "metadata": {},
   "outputs": [
    {
     "data": {
      "text/plain": [
       "-10"
      ]
     },
     "execution_count": 151,
     "metadata": {},
     "output_type": "execute_result"
    }
   ],
   "source": [
    "random.randint(-10, 10)          #випадкове число з [-10; 10]"
   ]
  },
  {
   "cell_type": "code",
   "execution_count": 150,
   "metadata": {},
   "outputs": [
    {
     "data": {
      "text/plain": [
       "[87, 67, 70, 20, 41]"
      ]
     },
     "execution_count": 150,
     "metadata": {},
     "output_type": "execute_result"
    }
   ],
   "source": [
    "random.sample(range(100), 5)     #5 випадквоих чисел з послідовності range "
   ]
  },
  {
   "cell_type": "markdown",
   "metadata": {},
   "source": [
    "## Task"
   ]
  },
  {
   "cell_type": "markdown",
   "metadata": {},
   "source": [
    "####  Завдання 1"
   ]
  },
  {
   "cell_type": "markdown",
   "metadata": {},
   "source": [
    "Міняємо місцями значення 2-ох змінних"
   ]
  },
  {
   "cell_type": "code",
   "execution_count": 78,
   "metadata": {},
   "outputs": [
    {
     "name": "stdout",
     "output_type": "stream",
     "text": [
      "20 10\n"
     ]
    }
   ],
   "source": [
    "a = 10\n",
    "b = 20\n",
    "\n",
    "\"\"\"\n",
    "c = a\n",
    "a = b\n",
    "b = c\n",
    "\"\"\"\n",
    "\n",
    "a, b = b, a\n",
    "\n",
    "print(a, b)\n"
   ]
  },
  {
   "cell_type": "markdown",
   "metadata": {},
   "source": [
    "#### Завдання 2"
   ]
  },
  {
   "cell_type": "markdown",
   "metadata": {},
   "source": [
    "Квадратне рівняння (пошук двох коренів) "
   ]
  },
  {
   "cell_type": "code",
   "execution_count": null,
   "metadata": {},
   "outputs": [],
   "source": []
  },
  {
   "cell_type": "markdown",
   "metadata": {},
   "source": [
    "#### Завдання 3"
   ]
  },
  {
   "cell_type": "markdown",
   "metadata": {},
   "source": [
    "Write a program that asks the user to enter his or her name. The program should\n",
    "respond with a message that says hello to the user, using his or her name."
   ]
  },
  {
   "cell_type": "code",
   "execution_count": 82,
   "metadata": {},
   "outputs": [
    {
     "name": "stdout",
     "output_type": "stream",
     "text": [
      "Введіть імя: \n",
      "Ihor\n",
      "Hello, Ihor\n"
     ]
    }
   ],
   "source": [
    "print('Введіть імя: ')\n",
    "name = input()\n",
    "\n",
    "print(\"Hello, \" + name)"
   ]
  },
  {
   "cell_type": "markdown",
   "metadata": {},
   "source": [
    "#### Завдання 4"
   ]
  },
  {
   "cell_type": "markdown",
   "metadata": {},
   "source": [
    "Write a program that asks the user to enter the width and length of a room. Once\n",
    "the values have been read, your program should compute and display the area of the\n",
    "room. The length and the width will be entered as floating point numbers. Include\n",
    "units in your prompt and output message; either feet or meters, depending on which\n",
    "unit you are more comfortable working with."
   ]
  },
  {
   "cell_type": "code",
   "execution_count": 85,
   "metadata": {},
   "outputs": [
    {
     "name": "stdout",
     "output_type": "stream",
     "text": [
      "Enter width: 1\n",
      "Enter length: 1\n",
      "1.0\n"
     ]
    }
   ],
   "source": [
    "#task 3\n",
    "width = float(input(\"Enter width: \"))\n",
    "length = float(input(\"Enter length: \"))\n",
    "\n",
    "print(width * length)"
   ]
  },
  {
   "cell_type": "markdown",
   "metadata": {},
   "source": [
    "#### Завдання 5"
   ]
  },
  {
   "cell_type": "markdown",
   "metadata": {},
   "source": [
    "Develop a program that reads a four-digit integer from the user and displays the sum\n",
    "of the digits in the number. For example, if the user enters 3141 then your program\n",
    "should display 3+1+4+1=9."
   ]
  },
  {
   "cell_type": "code",
   "execution_count": 101,
   "metadata": {},
   "outputs": [
    {
     "name": "stdout",
     "output_type": "stream",
     "text": [
      "36\n"
     ]
    }
   ],
   "source": [
    "a = 9999\n",
    "\n",
    "last_number = a % 10\n",
    "\n",
    "first_number = a // 1000\n",
    "\n",
    "helper = a - first_number*1000\n",
    "\n",
    "second_number = helper // 100\n",
    "\n",
    "helper =  helper - second_number * 100\n",
    "\n",
    "third_number = helper // 10\n",
    "\n",
    "print(first_number + second_number + third_number + last_number )"
   ]
  },
  {
   "cell_type": "markdown",
   "metadata": {},
   "source": [
    "#### Завдання 6"
   ]
  },
  {
   "cell_type": "markdown",
   "metadata": {},
   "source": [
    "Create a program that reads three integers from the user and displays them in sorted\n",
    "order (from smallest to largest). Use the min and max functions to find the smallest\n",
    "and largest values. The middle value can be found by computing the sum of all three\n",
    "values, and then subtracting the minimum value and the maximum value."
   ]
  },
  {
   "cell_type": "code",
   "execution_count": 121,
   "metadata": {},
   "outputs": [
    {
     "name": "stdout",
     "output_type": "stream",
     "text": [
      "-10 0.5 11\n"
     ]
    }
   ],
   "source": [
    "a = 11\n",
    "b = -10\n",
    "c = 0.5\n",
    "\n",
    "\"\"\"first_number = min(a, b, c)\n",
    "last_number = max(a, b, c)\n",
    "middle_number = sum([a, b, c]) - first_number - last_number \"\"\"\n",
    "\n",
    "print(min(a, b, c), \n",
    "      sum([a, b, c]) - min(a, b, c) - max(a, b, c),\n",
    "      max(a, b, c))\n"
   ]
  },
  {
   "cell_type": "markdown",
   "metadata": {},
   "source": [
    "## Homework"
   ]
  },
  {
   "cell_type": "markdown",
   "metadata": {},
   "source": [
    "1. Прочитати коспект\n",
    "2. Написати програму, що розвзяує квадратне рівняння \n",
    "3. Із збірник \"Python Workbook\": вправи 7, 8, 12, 33\n",
    "4. У своємо репозиторії на ГітХаб створити папку з назвою \"Homework 1\" і туди помістити дані програми "
   ]
  }
 ],
 "metadata": {
  "kernelspec": {
   "display_name": "Python 3",
   "language": "python",
   "name": "python3"
  },
  "language_info": {
   "codemirror_mode": {
    "name": "ipython",
    "version": 3
   },
   "file_extension": ".py",
   "mimetype": "text/x-python",
   "name": "python",
   "nbconvert_exporter": "python",
   "pygments_lexer": "ipython3",
   "version": "3.7.3"
  }
 },
 "nbformat": 4,
 "nbformat_minor": 2
}
