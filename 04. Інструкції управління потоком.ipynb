{
 "cells": [
  {
   "cell_type": "markdown",
   "metadata": {},
   "source": [
    "# 3. Інструкції управління потоком"
   ]
  },
  {
   "cell_type": "markdown",
   "metadata": {},
   "source": [
    "Очевидно, що лише послідовними діями важко запрограмувати складні алгоритми, тому використовуються іструкції управління потоком"
   ]
  },
  {
   "cell_type": "markdown",
   "metadata": {},
   "source": [
    "## 3.1 Розгалуження"
   ]
  },
  {
   "cell_type": "markdown",
   "metadata": {},
   "source": [
    "Розгалуження починається з певної умови. Якщо ця умова виконується, відбувається одна дія (чи набір дій); якщо ні - інша. \n",
    "\n",
    "Приклад: алгоритму спілкування контролера з пасажиром автобуса: якщо пасажир пред'явив квиток, треба подякувати пасажиру за оплачений проїзд, якщо ні - оштрафувати"
   ]
  },
  {
   "cell_type": "markdown",
   "metadata": {},
   "source": [
    "### Інструкція `if` "
   ]
  },
  {
   "cell_type": "markdown",
   "metadata": {},
   "source": [
    "- Перевіримо, чи число додатнє:"
   ]
  },
  {
   "cell_type": "code",
   "execution_count": 1,
   "metadata": {},
   "outputs": [
    {
     "name": "stdout",
     "output_type": "stream",
     "text": [
      "10\n",
      "Число додатнє\n"
     ]
    }
   ],
   "source": [
    "a = int(input())\n",
    "\n",
    "if a > 0:\n",
    "    print(\"Число додатнє\")"
   ]
  },
  {
   "cell_type": "markdown",
   "metadata": {},
   "source": [
    "- Перевіримо, чи слово міститься в стрічці:"
   ]
  },
  {
   "cell_type": "code",
   "execution_count": 2,
   "metadata": {},
   "outputs": [
    {
     "name": "stdout",
     "output_type": "stream",
     "text": [
      "Умова виконана!\n"
     ]
    }
   ],
   "source": [
    "company = \"mathhub.com.ua\"\n",
    "\n",
    "if \"math\" in company:\n",
    "    print(\"Умова виконана!\")"
   ]
  },
  {
   "cell_type": "markdown",
   "metadata": {},
   "source": [
    "- Приклад складнішої умови: "
   ]
  },
  {
   "cell_type": "code",
   "execution_count": 3,
   "metadata": {},
   "outputs": [
    {
     "name": "stdout",
     "output_type": "stream",
     "text": [
      "Умова виконана!\n"
     ]
    }
   ],
   "source": [
    "company = \"mathhub.com.ua\"\n",
    "\n",
    "if \"hub\" in company or company.endswith(\".ua\"):\n",
    "    print(\"Умова виконана!\")"
   ]
  },
  {
   "cell_type": "markdown",
   "metadata": {},
   "source": [
    "### Інструкція `if - else`"
   ]
  },
  {
   "cell_type": "markdown",
   "metadata": {},
   "source": [
    "Оператор `else` дозволяє виконати будь-який код, якщо умова в блоці `if` не виконалась:"
   ]
  },
  {
   "cell_type": "code",
   "execution_count": 4,
   "metadata": {},
   "outputs": [
    {
     "name": "stdout",
     "output_type": "stream",
     "text": [
      "Слово міститься в стрічці\n"
     ]
    }
   ],
   "source": [
    "company = \"mathhub.com.ua\"\n",
    "\n",
    "if \"math\" in company:\n",
    "    print(\"Слово міститься в стрічці\")\n",
    "else:\n",
    "    print(\"Слово НЕ міститься в стрічці\")\n",
    "    "
   ]
  },
  {
   "cell_type": "markdown",
   "metadata": {},
   "source": [
    "### Інструкція `if - elif - else`"
   ]
  },
  {
   "cell_type": "markdown",
   "metadata": {},
   "source": [
    "Оператор `elif` використовується, коли потрібно перевірити кілька різних умов одну за одною"
   ]
  },
  {
   "cell_type": "code",
   "execution_count": 5,
   "metadata": {},
   "outputs": [
    {
     "name": "stdout",
     "output_type": "stream",
     "text": [
      "Це сайт про математику\n"
     ]
    }
   ],
   "source": [
    "company = \"mathhub.com.ua\"\n",
    "\n",
    "if \"physic\" in company:\n",
    "    print(\"Це сайт про фізику\")\n",
    "elif \"math\" in company:\n",
    "    print(\"Це сайт про математику\")\n",
    "else:\n",
    "    print(\"Це сайт для гуманітаріїв\")"
   ]
  },
  {
   "cell_type": "markdown",
   "metadata": {},
   "source": [
    "### Python’s Ternary Operator"
   ]
  },
  {
   "cell_type": "markdown",
   "metadata": {},
   "source": [
    "У Python є підтримка тернарних умовних операцій. Вони працюють не зовсім як інструкція, що змінює потік програми, а як оператор, що визначає вираз. "
   ]
  },
  {
   "cell_type": "markdown",
   "metadata": {},
   "source": [
    "Розглянемо задачу знаходження максимума для двох чисел:"
   ]
  },
  {
   "cell_type": "code",
   "execution_count": 6,
   "metadata": {},
   "outputs": [
    {
     "name": "stdout",
     "output_type": "stream",
     "text": [
      "6\n"
     ]
    }
   ],
   "source": [
    "#класична конструкція if\n",
    "a = 5\n",
    "b = 6\n",
    "if a >= b:\n",
    "    max_number = a\n",
    "else:\n",
    "    max_number = b\n",
    "    \n",
    "print(max_number)"
   ]
  },
  {
   "cell_type": "code",
   "execution_count": 7,
   "metadata": {},
   "outputs": [
    {
     "name": "stdout",
     "output_type": "stream",
     "text": [
      "6\n"
     ]
    }
   ],
   "source": [
    "#тернарна умовна операція\n",
    "a = 5\n",
    "b = 6\n",
    "max_number = a if a > b else b\n",
    "\n",
    "print(max_number)"
   ]
  },
  {
   "cell_type": "code",
   "execution_count": 8,
   "metadata": {},
   "outputs": [
    {
     "name": "stdout",
     "output_type": "stream",
     "text": [
      "6\n"
     ]
    }
   ],
   "source": [
    "#тернарна умовна операція\n",
    "a = 5\n",
    "b = 6\n",
    "max_number = (a, b)[a<b]\n",
    "\n",
    "print(max_number)"
   ]
  },
  {
   "cell_type": "markdown",
   "metadata": {},
   "source": [
    "## 3.2 Цикли"
   ]
  },
  {
   "cell_type": "markdown",
   "metadata": {},
   "source": [
    "*Цикл* — різновид керівної конструкції у високорівневих мовах програмування, призначений для організації багаторазового виконання набору інструкцій (команд).\n",
    "\n",
    "В світі Python є два види циклів: \n",
    "- цикл `for`\n",
    "\n",
    "- цикл `while`"
   ]
  },
  {
   "cell_type": "markdown",
   "metadata": {},
   "source": [
    "### Цикл `while`"
   ]
  },
  {
   "cell_type": "markdown",
   "metadata": {},
   "source": [
    "Цикл `while` є свого роду умовним оператором.\n",
    "\n",
    "Оператор `while` дозволяє виконувати блок, доки виконується умова:"
   ]
  },
  {
   "cell_type": "code",
   "execution_count": 9,
   "metadata": {},
   "outputs": [
    {
     "name": "stdout",
     "output_type": "stream",
     "text": [
      "0\n",
      "1\n",
      "2\n",
      "3\n",
      "4\n"
     ]
    }
   ],
   "source": [
    "i = 0\n",
    "\n",
    "while i < 5:\n",
    "    print(i)\n",
    "    i = i + 1\n"
   ]
  },
  {
   "cell_type": "markdown",
   "metadata": {},
   "source": [
    "### Цикл `for`"
   ]
  },
  {
   "cell_type": "markdown",
   "metadata": {},
   "source": [
    "Цикл for може обходити будь-який ітератор Python. \n",
    "\n",
    "*Ітератори — об'єкти, які можна ітерувати один за одним.*"
   ]
  },
  {
   "cell_type": "markdown",
   "metadata": {},
   "source": [
    "Проітеруємося за допмогою циклу по кожному символу у стрічці:"
   ]
  },
  {
   "cell_type": "code",
   "execution_count": 10,
   "metadata": {},
   "outputs": [
    {
     "name": "stdout",
     "output_type": "stream",
     "text": [
      "I\n",
      "h\n",
      "o\n",
      "r\n"
     ]
    }
   ],
   "source": [
    "name = \"Ihor\"\n",
    "\n",
    "for i in name:\n",
    "    print(i)"
   ]
  },
  {
   "cell_type": "code",
   "execution_count": 11,
   "metadata": {},
   "outputs": [
    {
     "name": "stdout",
     "output_type": "stream",
     "text": [
      "Ihor\n",
      "Olya\n"
     ]
    }
   ],
   "source": [
    "# Ітерація по елементах списку:\n",
    "\n",
    "names = ['Ihor', 'Olya']\n",
    "for i in names:\n",
    "    print(i)"
   ]
  },
  {
   "cell_type": "markdown",
   "metadata": {},
   "source": [
    "#### Функція `range`"
   ]
  },
  {
   "cell_type": "markdown",
   "metadata": {},
   "source": [
    "Функція **range** є однією з вбудованих функцій, доступних в Python. Вона генерує послідовність цілих чисел, від значення start до stop, зазначеного користувачем. Ми можемо використовувати його для циклу for і обходити весь діапазон як список.\n",
    "- Функція **range** повертає не список, а ітерабельний об'єкт.\n",
    "- Синтаксис функції: *`range(start, stop, step)`*."
   ]
  },
  {
   "cell_type": "code",
   "execution_count": 12,
   "metadata": {},
   "outputs": [
    {
     "data": {
      "text/plain": [
       "range"
      ]
     },
     "execution_count": 12,
     "metadata": {},
     "output_type": "execute_result"
    }
   ],
   "source": [
    "type(range(10))"
   ]
  },
  {
   "cell_type": "code",
   "execution_count": 13,
   "metadata": {},
   "outputs": [
    {
     "data": {
      "text/plain": [
       "[0, 1, 2, 3, 4, 5, 6, 7, 8, 9]"
      ]
     },
     "execution_count": 13,
     "metadata": {},
     "output_type": "execute_result"
    }
   ],
   "source": [
    "list(range(10))"
   ]
  },
  {
   "cell_type": "markdown",
   "metadata": {},
   "source": [
    "Використовуємо цикл для ітерації по range:"
   ]
  },
  {
   "cell_type": "code",
   "execution_count": 14,
   "metadata": {},
   "outputs": [
    {
     "name": "stdout",
     "output_type": "stream",
     "text": [
      "0\n",
      "1\n",
      "2\n"
     ]
    }
   ],
   "source": [
    "for i in range(3):\n",
    "    print(i)"
   ]
  },
  {
   "cell_type": "code",
   "execution_count": 15,
   "metadata": {},
   "outputs": [
    {
     "name": "stdout",
     "output_type": "stream",
     "text": [
      "5\n",
      "6\n",
      "7\n"
     ]
    }
   ],
   "source": [
    "for i in range(5, 8):\n",
    "    print(i)"
   ]
  },
  {
   "cell_type": "code",
   "execution_count": 16,
   "metadata": {},
   "outputs": [
    {
     "name": "stdout",
     "output_type": "stream",
     "text": [
      "1\n",
      "3\n",
      "5\n",
      "7\n",
      "9\n"
     ]
    }
   ],
   "source": [
    "for i in range(1, 10, 2):\n",
    "    print(i)"
   ]
  },
  {
   "cell_type": "markdown",
   "metadata": {},
   "source": [
    "Допоможні оператори, що використовуються у циклах:\n",
    "- pass\n",
    "- break\n",
    "- continue\n",
    "- else"
   ]
  },
  {
   "cell_type": "markdown",
   "metadata": {},
   "source": [
    "#### Оператор `pass`"
   ]
  },
  {
   "cell_type": "markdown",
   "metadata": {},
   "source": [
    "Пустий блок, що нічого не робить:"
   ]
  },
  {
   "cell_type": "code",
   "execution_count": 17,
   "metadata": {},
   "outputs": [],
   "source": [
    "for i in range(100):\n",
    "    pass"
   ]
  },
  {
   "cell_type": "markdown",
   "metadata": {},
   "source": [
    "#### Оператор `break`"
   ]
  },
  {
   "cell_type": "markdown",
   "metadata": {},
   "source": [
    "Дозволяє вийти з циклу достроково:"
   ]
  },
  {
   "cell_type": "code",
   "execution_count": 18,
   "metadata": {},
   "outputs": [
    {
     "name": "stdout",
     "output_type": "stream",
     "text": [
      "36\n"
     ]
    }
   ],
   "source": [
    "result = 0\n",
    "\n",
    "for i in range(1000):\n",
    "    result += i\n",
    "    if result > 30:\n",
    "        break\n",
    "\n",
    "print(result)"
   ]
  },
  {
   "cell_type": "markdown",
   "metadata": {},
   "source": [
    "#### Оператор `continue`"
   ]
  },
  {
   "cell_type": "markdown",
   "metadata": {},
   "source": [
    "Оператор continue використовується, коли в блоці циклу потрібно перейти до наступної ітерації циклу без виконання решти інструкцій в блоці:"
   ]
  },
  {
   "cell_type": "code",
   "execution_count": 19,
   "metadata": {},
   "outputs": [
    {
     "name": "stdout",
     "output_type": "stream",
     "text": [
      "20\n"
     ]
    }
   ],
   "source": [
    "result = 0\n",
    "\n",
    "for i in range(10):\n",
    "    if i % 2 != 0:\n",
    "        continue\n",
    "    result += i\n",
    "\n",
    "print(result)"
   ]
  },
  {
   "cell_type": "markdown",
   "metadata": {},
   "source": [
    "#### Оператор `else`"
   ]
  },
  {
   "cell_type": "markdown",
   "metadata": {},
   "source": [
    "Даний оператор спрацьовує лише тоді, коли цикл повністю виконав свою роботy: тобто не спрацював оператор `break`"
   ]
  },
  {
   "cell_type": "code",
   "execution_count": 20,
   "metadata": {},
   "outputs": [
    {
     "name": "stdout",
     "output_type": "stream",
     "text": [
      "Букви немає в стрічці\n"
     ]
    }
   ],
   "source": [
    "for i in 'hallo world':\n",
    "    if i == 'x':\n",
    "         break\n",
    "else:\n",
    "     print('Букви немає в стрічці')"
   ]
  }
 ],
 "metadata": {
  "kernelspec": {
   "display_name": "Python 3",
   "language": "python",
   "name": "python3"
  },
  "language_info": {
   "codemirror_mode": {
    "name": "ipython",
    "version": 3
   },
   "file_extension": ".py",
   "mimetype": "text/x-python",
   "name": "python",
   "nbconvert_exporter": "python",
   "pygments_lexer": "ipython3",
   "version": "3.7.3"
  }
 },
 "nbformat": 4,
 "nbformat_minor": 2
}
