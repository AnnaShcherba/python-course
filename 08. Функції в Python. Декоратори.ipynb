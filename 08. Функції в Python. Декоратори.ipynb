{
 "cells": [
  {
   "cell_type": "markdown",
   "metadata": {},
   "source": [
    "# 8. Функції в Python. Декоратори"
   ]
  },
  {
   "cell_type": "markdown",
   "metadata": {},
   "source": [
    "## 8.1. Функції в Python"
   ]
  },
  {
   "cell_type": "markdown",
   "metadata": {},
   "source": [
    "### Поняття функції"
   ]
  },
  {
   "cell_type": "markdown",
   "metadata": {},
   "source": [
    "   Функції - це багаторазово використовувані фрагменти програми. Вони дозволяють дати ім'я певному блоку команд для того, щоб згодом запускати цей блок за вказаною імені в будь-якому місці програми і скільки завгодно разів. Це називається викликом функції. Ми вже використовували багато вбудованих функцій, як то len і range.\n",
    "\n",
    "Функція - це, мабуть, найбільш важливий будівельний блок для нетривіальних програм (на будь-якій мові програмування).\n",
    "\n",
    "Функції визначаються за допомогою зарезервованого слова `def`. Після цього слова вказується ім'я функції, за яким слід пара дужок, в яких передаються аргументи."
   ]
  },
  {
   "cell_type": "code",
   "execution_count": 3,
   "metadata": {},
   "outputs": [
    {
     "name": "stdout",
     "output_type": "stream",
     "text": [
      "Hello, world!\n"
     ]
    }
   ],
   "source": [
    "def foo():\n",
    "    print(\"Hello, world!\")\n",
    "    \n",
    "foo()"
   ]
  },
  {
   "cell_type": "markdown",
   "metadata": {},
   "source": [
    "Оператор `return` використовується для повернення з функції, тобто для припинення її роботи і виходу з неї. При цьому можна також повернути деяке значення з функції."
   ]
  },
  {
   "cell_type": "code",
   "execution_count": 8,
   "metadata": {},
   "outputs": [
    {
     "name": "stdout",
     "output_type": "stream",
     "text": [
      "16\n"
     ]
    }
   ],
   "source": [
    "def foo():\n",
    "    \"\"\"Return 2 ** 4\"\"\"\n",
    "    return 2**4\n",
    "    \n",
    "a = foo()\n",
    "print(a)"
   ]
  },
  {
   "cell_type": "markdown",
   "metadata": {},
   "source": [
    "    Вивести стрічку документації:"
   ]
  },
  {
   "cell_type": "code",
   "execution_count": 12,
   "metadata": {},
   "outputs": [
    {
     "data": {
      "text/plain": [
       "'Return 2 ** 4'"
      ]
     },
     "execution_count": 12,
     "metadata": {},
     "output_type": "execute_result"
    }
   ],
   "source": [
    "foo.__doc__"
   ]
  },
  {
   "cell_type": "markdown",
   "metadata": {},
   "source": [
    "    Вивести назву функції:"
   ]
  },
  {
   "cell_type": "code",
   "execution_count": 11,
   "metadata": {},
   "outputs": [
    {
     "data": {
      "text/plain": [
       "'foo'"
      ]
     },
     "execution_count": 11,
     "metadata": {},
     "output_type": "execute_result"
    }
   ],
   "source": [
    "foo.__name__"
   ]
  },
  {
   "cell_type": "markdown",
   "metadata": {},
   "source": [
    "### Аргументи функції"
   ]
  },
  {
   "cell_type": "markdown",
   "metadata": {},
   "source": [
    "Функції можуть приймати параметри, тобто деякі значення, що передаються функції для того, щоб вона щось зробила з ними. Ці параметри схожі на змінні, за винятком того, що значення цих змінних вказується при виклику функції, і під час роботи функції їм уже присвоєні їх значення.\n",
    "\n",
    "Параметри вказуються в дужках при оголошенні функції і розділяються комами. Аналогічно ми передаємо значення, коли викликаємо функцію. Зверніть увагу на термінологію: імена, зазначені в оголошенні функції, називаються параметрами, тоді як значення, які ви передаєте в функцію при її виклику, - аргументами."
   ]
  },
  {
   "cell_type": "code",
   "execution_count": 14,
   "metadata": {},
   "outputs": [],
   "source": [
    "def summator(a, b):     #a, b - параметри\n",
    "    return a + b"
   ]
  },
  {
   "cell_type": "code",
   "execution_count": 15,
   "metadata": {},
   "outputs": [
    {
     "data": {
      "text/plain": [
       "10"
      ]
     },
     "execution_count": 15,
     "metadata": {},
     "output_type": "execute_result"
    }
   ],
   "source": [
    "#пряма передача\n",
    "summator(4, 6)          #4, 6 - аргументи"
   ]
  },
  {
   "cell_type": "code",
   "execution_count": 17,
   "metadata": {},
   "outputs": [
    {
     "data": {
      "text/plain": [
       "10"
      ]
     },
     "execution_count": 17,
     "metadata": {},
     "output_type": "execute_result"
    }
   ],
   "source": [
    "x = 4\n",
    "y = 6\n",
    "summator(x, y)          #передача змінних в якості аргумента"
   ]
  },
  {
   "cell_type": "markdown",
   "metadata": {},
   "source": [
    "#### Аргуенти за замовчуванням:"
   ]
  },
  {
   "cell_type": "code",
   "execution_count": 19,
   "metadata": {},
   "outputs": [
    {
     "data": {
      "text/plain": [
       "4"
      ]
     },
     "execution_count": 19,
     "metadata": {},
     "output_type": "execute_result"
    }
   ],
   "source": [
    "def power(a, pw=2):     #параметр pw заданий за замовчуванням\n",
    "    return a ** pw\n",
    "        \n",
    "power(2)                #pw не є обов'язковий"
   ]
  },
  {
   "cell_type": "code",
   "execution_count": 20,
   "metadata": {},
   "outputs": [
    {
     "data": {
      "text/plain": [
       "8"
      ]
     },
     "execution_count": 20,
     "metadata": {},
     "output_type": "execute_result"
    }
   ],
   "source": [
    "power(2, 3)            #але при потребі ми можемо pw передати інше значення"
   ]
  },
  {
   "cell_type": "markdown",
   "metadata": {},
   "source": [
    "#### Змінна кількість параметрів:"
   ]
  },
  {
   "cell_type": "markdown",
   "metadata": {},
   "source": [
    "Іноді буває потрібно визначити функцію, здатну приймати будь-яке число параметрів. Цього можна досягти за допомогою зірочок:"
   ]
  },
  {
   "cell_type": "code",
   "execution_count": 21,
   "metadata": {},
   "outputs": [
    {
     "name": "stdout",
     "output_type": "stream",
     "text": [
      "10 <class 'int'>\n",
      "(1, 2, 3) <class 'tuple'>\n",
      "{'Ihor': 1123, 'Olya': 2231, 'Tom': 1560} <class 'dict'>\n"
     ]
    }
   ],
   "source": [
    "def total(a, *numbers, **phonebook):\n",
    "    print(a, type(a))                      \n",
    "    print(numbers, type(numbers))\n",
    "    print(phonebook, type(phonebook))\n",
    "    \n",
    "total(10, 1, 2, 3, Ihor=1123, Olya=2231, Tom=1560)"
   ]
  },
  {
   "cell_type": "markdown",
   "metadata": {},
   "source": [
    "#### Анотація типів:"
   ]
  },
  {
   "cell_type": "markdown",
   "metadata": {},
   "source": [
    "Анотації типів просто зчитуються інтерпретатором Python і ніяк більше не обробляються, але доступні для використання з стороннього коду і в першу чергу розраховані для використання статичними аналізаторами."
   ]
  },
  {
   "cell_type": "code",
   "execution_count": 24,
   "metadata": {},
   "outputs": [
    {
     "data": {
      "text/plain": [
       "21"
      ]
     },
     "execution_count": 24,
     "metadata": {},
     "output_type": "execute_result"
    }
   ],
   "source": [
    "def summator(x: int, y: int) -> int:\n",
    "    return x + y\n",
    "\n",
    "summator(10, 11)"
   ]
  },
  {
   "cell_type": "code",
   "execution_count": 26,
   "metadata": {},
   "outputs": [
    {
     "data": {
      "text/plain": [
       "'Також працює'"
      ]
     },
     "execution_count": 26,
     "metadata": {},
     "output_type": "execute_result"
    }
   ],
   "source": [
    "summator('Також ', 'працює')"
   ]
  },
  {
   "cell_type": "code",
   "execution_count": 27,
   "metadata": {},
   "outputs": [
    {
     "data": {
      "text/plain": [
       "{'x': int, 'y': int, 'return': int}"
      ]
     },
     "execution_count": 27,
     "metadata": {},
     "output_type": "execute_result"
    }
   ],
   "source": [
    "summator.__annotations__"
   ]
  },
  {
   "cell_type": "markdown",
   "metadata": {},
   "source": [
    "### Області видимості в Python"
   ]
  },
  {
   "cell_type": "markdown",
   "metadata": {},
   "source": [
    "Область видимості можна розідлити на такі чотири типи:\n",
    "    1. Local\n",
    "    2. Enclosed (Nonlocal)\n",
    "    3. Global\n",
    "    4. Built-in\n",
    "    \n",
    "Розберемо їх детально."
   ]
  },
  {
   "cell_type": "markdown",
   "metadata": {},
   "source": [
    "#### Built-in"
   ]
  },
  {
   "cell_type": "markdown",
   "metadata": {},
   "source": [
    "Built-in вбудована область імен, створюється при запуску програми.\n",
    "\n",
    "Перелік таких імен можна знайти за [посиланням](https://docs.python.org/2/library/functions.html)."
   ]
  },
  {
   "cell_type": "code",
   "execution_count": 32,
   "metadata": {},
   "outputs": [
    {
     "data": {
      "text/plain": [
       "7"
      ]
     },
     "execution_count": 32,
     "metadata": {},
     "output_type": "execute_result"
    }
   ],
   "source": [
    "# built-in\n",
    "max([1, 3, 7])"
   ]
  },
  {
   "cell_type": "markdown",
   "metadata": {},
   "source": [
    "#### Global"
   ]
  },
  {
   "cell_type": "markdown",
   "metadata": {},
   "source": [
    "Це змінні, що виникають в головній програмі чи в даному модулі. Глобальна область доступна, доки інтерпретотор не завершить свою роботу."
   ]
  },
  {
   "cell_type": "code",
   "execution_count": 36,
   "metadata": {},
   "outputs": [
    {
     "data": {
      "text/plain": [
       "10"
      ]
     },
     "execution_count": 36,
     "metadata": {},
     "output_type": "execute_result"
    }
   ],
   "source": [
    "#global\n",
    "max = 10\n",
    "max"
   ]
  },
  {
   "cell_type": "code",
   "execution_count": 35,
   "metadata": {},
   "outputs": [
    {
     "name": "stdout",
     "output_type": "stream",
     "text": [
      "x дорівнює 50\n",
      "Змінюємо на x на 2\n",
      "Тепер x дорівнює 2\n"
     ]
    }
   ],
   "source": [
    "x = 50\n",
    "\n",
    "def func():\n",
    "    global x\n",
    "\n",
    "    print('x дорівнює', x)\n",
    "    x = 2\n",
    "    print('Змінюємо на x на', x)\n",
    "\n",
    "func()\n",
    "print('Тепер x дорівнює', x)"
   ]
  },
  {
   "cell_type": "markdown",
   "metadata": {},
   "source": [
    "#### Enclosed"
   ]
  },
  {
   "cell_type": "markdown",
   "metadata": {},
   "source": [
    "Нелокальна області видимості зустрічаються, коли ви визначаєте функції всередині функцій."
   ]
  },
  {
   "cell_type": "code",
   "execution_count": 41,
   "metadata": {},
   "outputs": [
    {
     "name": "stdout",
     "output_type": "stream",
     "text": [
      "x равно 2\n",
      "Локальна x змінилася на 5\n"
     ]
    }
   ],
   "source": [
    "#приклад 1\n",
    "def func_outer():\n",
    "    x = 2\n",
    "    print('x равно', x)\n",
    "\n",
    "    def func_inner():\n",
    "        nonlocal x\n",
    "        x = 5\n",
    "\n",
    "    func_inner()\n",
    "    print('Локальна x змінилася на', x)\n",
    "\n",
    "func_outer()"
   ]
  },
  {
   "cell_type": "code",
   "execution_count": 45,
   "metadata": {},
   "outputs": [
    {
     "name": "stdout",
     "output_type": "stream",
     "text": [
      "1\n",
      "2\n"
     ]
    }
   ],
   "source": [
    "#приклад 2\n",
    "def red():\n",
    "    a=1              #nonlocal\n",
    "    def blue():\n",
    "        b=2          #local\n",
    "        print(a)  \n",
    "        print(b)\n",
    "    blue()\n",
    "\n",
    "red()"
   ]
  },
  {
   "cell_type": "markdown",
   "metadata": {},
   "source": [
    "#### Local"
   ]
  },
  {
   "cell_type": "markdown",
   "metadata": {},
   "source": [
    "Локальні зміни виникають в блоці функцій. \n",
    "\n",
    "Вони видаляються, коли функція завершує роботу."
   ]
  },
  {
   "cell_type": "code",
   "execution_count": 40,
   "metadata": {},
   "outputs": [
    {
     "name": "stdout",
     "output_type": "stream",
     "text": [
      "Тут змінна локальна 2\n",
      "А тут глобальна 50\n"
     ]
    }
   ],
   "source": [
    "x = 50 #глобальна                            \n",
    "\n",
    "def func():\n",
    "    x = 2  #локальна\n",
    "    print(\"Тут змінна локальна\", x)\n",
    "\n",
    "func()\n",
    "print(\"А тут глобальна\", x)"
   ]
  },
  {
   "cell_type": "markdown",
   "metadata": {},
   "source": [
    "#### Правило LEGB"
   ]
  },
  {
   "cell_type": "markdown",
   "metadata": {},
   "source": [
    "Змінні в програмі на Python шукаються в областях видимості в наступному порядку:\n",
    "\n",
    "    Local -> Enclosed -> Global -> Built-in\n"
   ]
  },
  {
   "cell_type": "markdown",
   "metadata": {},
   "source": [
    "## 8.2. Анонімні функції"
   ]
  },
  {
   "cell_type": "markdown",
   "metadata": {},
   "source": [
    "## 8.3. Декоратори"
   ]
  }
 ],
 "metadata": {
  "kernelspec": {
   "display_name": "Python 3",
   "language": "python",
   "name": "python3"
  },
  "language_info": {
   "codemirror_mode": {
    "name": "ipython",
    "version": 3
   },
   "file_extension": ".py",
   "mimetype": "text/x-python",
   "name": "python",
   "nbconvert_exporter": "python",
   "pygments_lexer": "ipython3",
   "version": "3.7.3"
  }
 },
 "nbformat": 4,
 "nbformat_minor": 2
}
