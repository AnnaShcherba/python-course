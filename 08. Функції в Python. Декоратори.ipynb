{
 "cells": [
  {
   "cell_type": "markdown",
   "metadata": {},
   "source": [
    "# 8. Функції в Python. Декоратори"
   ]
  },
  {
   "cell_type": "markdown",
   "metadata": {},
   "source": [
    "## 8.1. Функції в Python"
   ]
  },
  {
   "cell_type": "markdown",
   "metadata": {},
   "source": [
    "### Поняття функції"
   ]
  },
  {
   "cell_type": "markdown",
   "metadata": {},
   "source": [
    "   Функції - це багаторазово використовувані фрагменти програми. Вони дозволяють дати ім'я певному блоку команд для того, щоб згодом запускати цей блок за вказаною імені в будь-якому місці програми і скільки завгодно разів. Це називається викликом функції. Ми вже використовували багато вбудованих функцій, як то len і range.\n",
    "\n",
    "Функція - це, мабуть, найбільш важливий будівельний блок для нетривіальних програм (на будь-якій мові програмування).\n",
    "\n",
    "Функції визначаються за допомогою зарезервованого слова `def`. Після цього слова вказується ім'я функції, за яким слід пара дужок, в яких передаються аргументи."
   ]
  },
  {
   "cell_type": "code",
   "execution_count": 3,
   "metadata": {},
   "outputs": [
    {
     "name": "stdout",
     "output_type": "stream",
     "text": [
      "Hello, world!\n"
     ]
    }
   ],
   "source": [
    "def foo():\n",
    "    print(\"Hello, world!\")\n",
    "    \n",
    "foo()"
   ]
  },
  {
   "cell_type": "markdown",
   "metadata": {},
   "source": [
    "Оператор `return` використовується для повернення з функції, тобто для припинення її роботи і виходу з неї. При цьому можна також повернути деяке значення з функції."
   ]
  },
  {
   "cell_type": "code",
   "execution_count": 8,
   "metadata": {},
   "outputs": [
    {
     "name": "stdout",
     "output_type": "stream",
     "text": [
      "16\n"
     ]
    }
   ],
   "source": [
    "def foo():\n",
    "    \"\"\"Return 2 ** 4\"\"\"\n",
    "    return 2**4\n",
    "    \n",
    "a = foo()\n",
    "print(a)"
   ]
  },
  {
   "cell_type": "markdown",
   "metadata": {},
   "source": [
    "    Вивести стрічку документації:"
   ]
  },
  {
   "cell_type": "code",
   "execution_count": 12,
   "metadata": {},
   "outputs": [
    {
     "data": {
      "text/plain": [
       "'Return 2 ** 4'"
      ]
     },
     "execution_count": 12,
     "metadata": {},
     "output_type": "execute_result"
    }
   ],
   "source": [
    "foo.__doc__"
   ]
  },
  {
   "cell_type": "markdown",
   "metadata": {},
   "source": [
    "    Вивести назву функції:"
   ]
  },
  {
   "cell_type": "code",
   "execution_count": 11,
   "metadata": {},
   "outputs": [
    {
     "data": {
      "text/plain": [
       "'foo'"
      ]
     },
     "execution_count": 11,
     "metadata": {},
     "output_type": "execute_result"
    }
   ],
   "source": [
    "foo.__name__"
   ]
  },
  {
   "cell_type": "markdown",
   "metadata": {},
   "source": [
    "### Аргументи функції"
   ]
  },
  {
   "cell_type": "markdown",
   "metadata": {},
   "source": [
    "Функції можуть приймати параметри, тобто деякі значення, що передаються функції для того, щоб вона щось зробила з ними. Ці параметри схожі на змінні, за винятком того, що значення цих змінних вказується при виклику функції, і під час роботи функції їм уже присвоєні їх значення.\n",
    "\n",
    "Параметри вказуються в дужках при оголошенні функції і розділяються комами. Аналогічно ми передаємо значення, коли викликаємо функцію. Зверніть увагу на термінологію: імена, зазначені в оголошенні функції, називаються параметрами, тоді як значення, які ви передаєте в функцію при її виклику, - аргументами."
   ]
  },
  {
   "cell_type": "code",
   "execution_count": 14,
   "metadata": {},
   "outputs": [],
   "source": [
    "def summator(a, b):     #a, b - параметри\n",
    "    return a + b"
   ]
  },
  {
   "cell_type": "code",
   "execution_count": 15,
   "metadata": {},
   "outputs": [
    {
     "data": {
      "text/plain": [
       "10"
      ]
     },
     "execution_count": 15,
     "metadata": {},
     "output_type": "execute_result"
    }
   ],
   "source": [
    "#пряма передача\n",
    "summator(4, 6)          #4, 6 - аргументи"
   ]
  },
  {
   "cell_type": "code",
   "execution_count": 17,
   "metadata": {},
   "outputs": [
    {
     "data": {
      "text/plain": [
       "10"
      ]
     },
     "execution_count": 17,
     "metadata": {},
     "output_type": "execute_result"
    }
   ],
   "source": [
    "x = 4\n",
    "y = 6\n",
    "summator(x, y)          #передача змінних в якості аргумента"
   ]
  },
  {
   "cell_type": "markdown",
   "metadata": {},
   "source": [
    "#### Аргуенти за замовчуванням:"
   ]
  },
  {
   "cell_type": "code",
   "execution_count": 19,
   "metadata": {},
   "outputs": [
    {
     "data": {
      "text/plain": [
       "4"
      ]
     },
     "execution_count": 19,
     "metadata": {},
     "output_type": "execute_result"
    }
   ],
   "source": [
    "def power(a, pw=2):     #параметр pw заданий за замовчуванням\n",
    "    return a ** pw\n",
    "        \n",
    "power(2)                #pw не є обов'язковий"
   ]
  },
  {
   "cell_type": "code",
   "execution_count": 20,
   "metadata": {},
   "outputs": [
    {
     "data": {
      "text/plain": [
       "8"
      ]
     },
     "execution_count": 20,
     "metadata": {},
     "output_type": "execute_result"
    }
   ],
   "source": [
    "power(2, 3)            #але при потребі ми можемо pw передати інше значення"
   ]
  },
  {
   "cell_type": "markdown",
   "metadata": {},
   "source": [
    "#### Змінна кількість параметрів:"
   ]
  },
  {
   "cell_type": "markdown",
   "metadata": {},
   "source": [
    "Іноді буває потрібно визначити функцію, здатну приймати будь-яке число параметрів. Цього можна досягти за допомогою зірочок:"
   ]
  },
  {
   "cell_type": "code",
   "execution_count": 21,
   "metadata": {},
   "outputs": [
    {
     "name": "stdout",
     "output_type": "stream",
     "text": [
      "10 <class 'int'>\n",
      "(1, 2, 3) <class 'tuple'>\n",
      "{'Ihor': 1123, 'Olya': 2231, 'Tom': 1560} <class 'dict'>\n"
     ]
    }
   ],
   "source": [
    "def total(a, *numbers, **phonebook):\n",
    "    print(a, type(a))                      \n",
    "    print(numbers, type(numbers))\n",
    "    print(phonebook, type(phonebook))\n",
    "    \n",
    "total(10, 1, 2, 3, Ihor=1123, Olya=2231, Tom=1560)"
   ]
  },
  {
   "cell_type": "markdown",
   "metadata": {},
   "source": [
    "#### Анотація типів:"
   ]
  },
  {
   "cell_type": "markdown",
   "metadata": {},
   "source": [
    "Анотації типів просто зчитуються інтерпретатором Python і ніяк більше не обробляються, але доступні для використання з стороннього коду і в першу чергу розраховані для використання статичними аналізаторами."
   ]
  },
  {
   "cell_type": "code",
   "execution_count": 24,
   "metadata": {},
   "outputs": [
    {
     "data": {
      "text/plain": [
       "21"
      ]
     },
     "execution_count": 24,
     "metadata": {},
     "output_type": "execute_result"
    }
   ],
   "source": [
    "def summator(x: int, y: int) -> int:\n",
    "    return x + y\n",
    "\n",
    "summator(10, 11)"
   ]
  },
  {
   "cell_type": "code",
   "execution_count": 26,
   "metadata": {},
   "outputs": [
    {
     "data": {
      "text/plain": [
       "'Також працює'"
      ]
     },
     "execution_count": 26,
     "metadata": {},
     "output_type": "execute_result"
    }
   ],
   "source": [
    "summator('Також ', 'працює')"
   ]
  },
  {
   "cell_type": "code",
   "execution_count": 27,
   "metadata": {},
   "outputs": [
    {
     "data": {
      "text/plain": [
       "{'x': int, 'y': int, 'return': int}"
      ]
     },
     "execution_count": 27,
     "metadata": {},
     "output_type": "execute_result"
    }
   ],
   "source": [
    "summator.__annotations__"
   ]
  },
  {
   "cell_type": "markdown",
   "metadata": {},
   "source": [
    "### Області видимості в Python"
   ]
  },
  {
   "cell_type": "markdown",
   "metadata": {},
   "source": [
    "Область видимості можна розідлити на такі чотири типи:\n",
    "    1. Local\n",
    "    2. Enclosed (Nonlocal)\n",
    "    3. Global\n",
    "    4. Built-in\n",
    "    \n",
    "Розберемо їх детально."
   ]
  },
  {
   "cell_type": "markdown",
   "metadata": {},
   "source": [
    "#### Built-in"
   ]
  },
  {
   "cell_type": "markdown",
   "metadata": {},
   "source": [
    "Built-in вбудована область імен, створюється при запуску програми.\n",
    "\n",
    "Перелік таких імен можна знайти за [посиланням](https://docs.python.org/2/library/functions.html)."
   ]
  },
  {
   "cell_type": "code",
   "execution_count": 32,
   "metadata": {},
   "outputs": [
    {
     "data": {
      "text/plain": [
       "7"
      ]
     },
     "execution_count": 32,
     "metadata": {},
     "output_type": "execute_result"
    }
   ],
   "source": [
    "# built-in\n",
    "max([1, 3, 7])"
   ]
  },
  {
   "cell_type": "markdown",
   "metadata": {},
   "source": [
    "#### Global"
   ]
  },
  {
   "cell_type": "markdown",
   "metadata": {},
   "source": [
    "Це змінні, що виникають в головній програмі чи в даному модулі. Глобальна область доступна, доки інтерпретотор не завершить свою роботу."
   ]
  },
  {
   "cell_type": "code",
   "execution_count": 36,
   "metadata": {},
   "outputs": [
    {
     "data": {
      "text/plain": [
       "10"
      ]
     },
     "execution_count": 36,
     "metadata": {},
     "output_type": "execute_result"
    }
   ],
   "source": [
    "#global\n",
    "max = 10\n",
    "max"
   ]
  },
  {
   "cell_type": "code",
   "execution_count": 35,
   "metadata": {},
   "outputs": [
    {
     "name": "stdout",
     "output_type": "stream",
     "text": [
      "x дорівнює 50\n",
      "Змінюємо на x на 2\n",
      "Тепер x дорівнює 2\n"
     ]
    }
   ],
   "source": [
    "x = 50\n",
    "\n",
    "def func():\n",
    "    global x\n",
    "\n",
    "    print('x дорівнює', x)\n",
    "    x = 2\n",
    "    print('Змінюємо на x на', x)\n",
    "\n",
    "func()\n",
    "print('Тепер x дорівнює', x)"
   ]
  },
  {
   "cell_type": "markdown",
   "metadata": {},
   "source": [
    "#### Enclosed"
   ]
  },
  {
   "cell_type": "markdown",
   "metadata": {},
   "source": [
    "Нелокальна області видимості зустрічаються, коли ви визначаєте функції всередині функцій."
   ]
  },
  {
   "cell_type": "code",
   "execution_count": 41,
   "metadata": {},
   "outputs": [
    {
     "name": "stdout",
     "output_type": "stream",
     "text": [
      "x равно 2\n",
      "Локальна x змінилася на 5\n"
     ]
    }
   ],
   "source": [
    "#приклад 1\n",
    "def func_outer():\n",
    "    x = 2\n",
    "    print('x равно', x)\n",
    "\n",
    "    def func_inner():\n",
    "        nonlocal x\n",
    "        x = 5\n",
    "\n",
    "    func_inner()\n",
    "    print('Локальна x змінилася на', x)\n",
    "\n",
    "func_outer()"
   ]
  },
  {
   "cell_type": "code",
   "execution_count": 45,
   "metadata": {},
   "outputs": [
    {
     "name": "stdout",
     "output_type": "stream",
     "text": [
      "1\n",
      "2\n"
     ]
    }
   ],
   "source": [
    "#приклад 2\n",
    "def red():\n",
    "    a=1              #nonlocal\n",
    "    def blue():\n",
    "        b=2          #local\n",
    "        print(a)  \n",
    "        print(b)\n",
    "    blue()\n",
    "\n",
    "red()"
   ]
  },
  {
   "cell_type": "markdown",
   "metadata": {},
   "source": [
    "#### Local"
   ]
  },
  {
   "cell_type": "markdown",
   "metadata": {},
   "source": [
    "Локальні зміни виникають в блоці функцій. \n",
    "\n",
    "Вони видаляються, коли функція завершує роботу."
   ]
  },
  {
   "cell_type": "code",
   "execution_count": 40,
   "metadata": {},
   "outputs": [
    {
     "name": "stdout",
     "output_type": "stream",
     "text": [
      "Тут змінна локальна 2\n",
      "А тут глобальна 50\n"
     ]
    }
   ],
   "source": [
    "x = 50 #nonlocal                            \n",
    "\n",
    "def func():\n",
    "    x = 2  #local\n",
    "    print(\"Тут змінна локальна\", x)\n",
    "\n",
    "func()\n",
    "print(\"А тут глобальна\", x)"
   ]
  },
  {
   "cell_type": "markdown",
   "metadata": {},
   "source": [
    "#### Правило LEGB"
   ]
  },
  {
   "cell_type": "markdown",
   "metadata": {},
   "source": [
    "Змінні в програмі на Python шукаються в областях видимості в наступному порядку:\n",
    "\n",
    "    Local -> Enclosed -> Global -> Built-in\n"
   ]
  },
  {
   "cell_type": "markdown",
   "metadata": {},
   "source": [
    "## 8.2. Анонімні функції"
   ]
  },
  {
   "cell_type": "code",
   "execution_count": 51,
   "metadata": {},
   "outputs": [
    {
     "data": {
      "text/plain": [
       "(25, 4)"
      ]
     },
     "execution_count": 51,
     "metadata": {},
     "output_type": "execute_result"
    }
   ],
   "source": [
    "x = [(1,2), (-1,2), (1,4), (1,2), (-1,2), (25,4)]\n",
    "\n",
    "def foo(elem_tupl):\n",
    "    return (elem_tupl[0] + elem_tupl[1])**2\n",
    "\n",
    "max(x, key = lambda element : (element[0] + element[1])**2)\n",
    "\n"
   ]
  },
  {
   "cell_type": "code",
   "execution_count": 55,
   "metadata": {},
   "outputs": [
    {
     "data": {
      "text/plain": [
       "[(1, 2), (-1, 2), (2, 4)]"
      ]
     },
     "execution_count": 55,
     "metadata": {},
     "output_type": "execute_result"
    }
   ],
   "source": [
    "x = [(1,2), (-1,2), (2,4)]\n",
    "\n",
    "sorted(x, key = lambda elem: elem[1])"
   ]
  },
  {
   "cell_type": "code",
   "execution_count": 57,
   "metadata": {},
   "outputs": [
    {
     "data": {
      "text/plain": [
       "[(2, 4), (1, 2), (-1, 2)]"
      ]
     },
     "execution_count": 57,
     "metadata": {},
     "output_type": "execute_result"
    }
   ],
   "source": [
    "x = [(1,2), (-1,2), (2,4)]\n",
    "\n",
    "sorted(x, reverse=True, key = lambda elem: (elem[1] + elem[0])/len(elem))"
   ]
  },
  {
   "cell_type": "code",
   "execution_count": 60,
   "metadata": {},
   "outputs": [
    {
     "data": {
      "text/plain": [
       "'10'"
      ]
     },
     "execution_count": 60,
     "metadata": {},
     "output_type": "execute_result"
    }
   ],
   "source": [
    "new_dict= {'9': 1, '10':2 , '3': 6}\n",
    "\n",
    "max(new_dict, key = lambda key: int(key))\n",
    "\n",
    "max(new_dict, key = int)"
   ]
  },
  {
   "cell_type": "code",
   "execution_count": 64,
   "metadata": {},
   "outputs": [
    {
     "data": {
      "text/plain": [
       "dict_items([('9', 1), ('10', 2), ('3', 6)])"
      ]
     },
     "execution_count": 64,
     "metadata": {},
     "output_type": "execute_result"
    }
   ],
   "source": [
    "new_dict.items()"
   ]
  },
  {
   "cell_type": "code",
   "execution_count": 63,
   "metadata": {},
   "outputs": [
    {
     "data": {
      "text/plain": [
       "('3', 6)"
      ]
     },
     "execution_count": 63,
     "metadata": {},
     "output_type": "execute_result"
    }
   ],
   "source": [
    "max(new_dict.items(), key = lambda elem: elem[1])"
   ]
  },
  {
   "cell_type": "code",
   "execution_count": null,
   "metadata": {},
   "outputs": [],
   "source": []
  },
  {
   "cell_type": "code",
   "execution_count": 65,
   "metadata": {},
   "outputs": [
    {
     "data": {
      "text/plain": [
       "[11, 12, 13, 14]"
      ]
     },
     "execution_count": 65,
     "metadata": {},
     "output_type": "execute_result"
    }
   ],
   "source": [
    "new_list = [1, 2, 3, 4]\n",
    "\n",
    "[i + 10 for i in new_list]"
   ]
  },
  {
   "cell_type": "code",
   "execution_count": 68,
   "metadata": {},
   "outputs": [
    {
     "data": {
      "text/plain": [
       "[11, 12, 13, 14]"
      ]
     },
     "execution_count": 68,
     "metadata": {},
     "output_type": "execute_result"
    }
   ],
   "source": [
    "def foo(x):\n",
    "    return x + 10\n",
    "\n",
    "\"\"\"for i in new_list:\n",
    "    print(foo(i))\"\"\"\n",
    "\n",
    "list(map(foo, new_list))"
   ]
  },
  {
   "cell_type": "code",
   "execution_count": 69,
   "metadata": {},
   "outputs": [
    {
     "data": {
      "text/plain": [
       "[11, 12, 13, 14]"
      ]
     },
     "execution_count": 69,
     "metadata": {},
     "output_type": "execute_result"
    }
   ],
   "source": [
    "list(map(lambda elem: elem + 10, new_list))"
   ]
  },
  {
   "cell_type": "code",
   "execution_count": 73,
   "metadata": {},
   "outputs": [
    {
     "name": "stdout",
     "output_type": "stream",
     "text": [
      "1 2 3\n"
     ]
    },
    {
     "data": {
      "text/plain": [
       "[1, 2, 3]"
      ]
     },
     "execution_count": 73,
     "metadata": {},
     "output_type": "execute_result"
    }
   ],
   "source": [
    "a = input().split()\n",
    "\n",
    "#[int(i) for i in a]\n",
    "\n",
    "list(map(int, a))\n",
    "\n",
    "map(funck, list)"
   ]
  },
  {
   "cell_type": "code",
   "execution_count": 75,
   "metadata": {},
   "outputs": [
    {
     "data": {
      "text/plain": [
       "[1, 4, 9, 16]"
      ]
     },
     "execution_count": 75,
     "metadata": {},
     "output_type": "execute_result"
    }
   ],
   "source": [
    "#1 спосіб\n",
    "new_list = [1, 2, 3, 4]\n",
    "\n",
    "a = [num**2 for num in new_list]\n",
    "a"
   ]
  },
  {
   "cell_type": "code",
   "execution_count": 77,
   "metadata": {},
   "outputs": [
    {
     "data": {
      "text/plain": [
       "[1, 4, 9, 16]"
      ]
     },
     "execution_count": 77,
     "metadata": {},
     "output_type": "execute_result"
    }
   ],
   "source": [
    "#2 спосіб\n",
    "new_list = [1,2,3,4]\n",
    "a = []\n",
    "for i in new_list:\n",
    "    a.append(i**2)\n",
    "a"
   ]
  },
  {
   "cell_type": "code",
   "execution_count": 78,
   "metadata": {},
   "outputs": [
    {
     "data": {
      "text/plain": [
       "[1, 4, 9, 16]"
      ]
     },
     "execution_count": 78,
     "metadata": {},
     "output_type": "execute_result"
    }
   ],
   "source": [
    "#3 спосіб\n",
    "list(map(lambda el: el**2,new_list))"
   ]
  },
  {
   "cell_type": "code",
   "execution_count": 80,
   "metadata": {},
   "outputs": [
    {
     "data": {
      "text/plain": [
       "[10, 33, 45, 45, 66]"
      ]
     },
     "execution_count": 80,
     "metadata": {},
     "output_type": "execute_result"
    }
   ],
   "source": [
    "new_list = [10, 33, 45, 888, 1, 45, 66]\n",
    "\n",
    "list(filter(lambda x: len(str(x))==2, new_list))"
   ]
  },
  {
   "cell_type": "code",
   "execution_count": 84,
   "metadata": {},
   "outputs": [
    {
     "data": {
      "text/plain": [
       "[10, 33, 45, 45, 66]"
      ]
     },
     "execution_count": 84,
     "metadata": {},
     "output_type": "execute_result"
    }
   ],
   "source": [
    "[i for i in new_list if len(str(i))==2]"
   ]
  },
  {
   "cell_type": "code",
   "execution_count": 82,
   "metadata": {},
   "outputs": [
    {
     "data": {
      "text/plain": [
       "[10, 33, 45, 45, 66]"
      ]
     },
     "execution_count": 82,
     "metadata": {},
     "output_type": "execute_result"
    }
   ],
   "source": [
    "em_list = []\n",
    "for i in new_list:\n",
    "    if len(str(i))==2:\n",
    "        em_list.append(i)\n",
    "        \n",
    "em_list"
   ]
  },
  {
   "cell_type": "code",
   "execution_count": 87,
   "metadata": {},
   "outputs": [
    {
     "data": {
      "text/plain": [
       "<filter at 0x251da01ac88>"
      ]
     },
     "execution_count": 87,
     "metadata": {},
     "output_type": "execute_result"
    }
   ],
   "source": [
    "foo = [1,2,3,4,5]\n",
    "\n",
    "a = [int(i) for i in foo if i % 2 != 0]\n",
    "\n",
    "\n",
    "(filter(lambda i: i % 2 !=0, foo))"
   ]
  },
  {
   "cell_type": "code",
   "execution_count": 113,
   "metadata": {},
   "outputs": [],
   "source": [
    "a =iter(range(3))"
   ]
  },
  {
   "cell_type": "code",
   "execution_count": 106,
   "metadata": {},
   "outputs": [
    {
     "name": "stdout",
     "output_type": "stream",
     "text": [
      "0\n",
      "1\n",
      "2\n"
     ]
    }
   ],
   "source": [
    "for i in a:\n",
    "    print(i)"
   ]
  },
  {
   "cell_type": "code",
   "execution_count": 117,
   "metadata": {},
   "outputs": [
    {
     "ename": "StopIteration",
     "evalue": "",
     "output_type": "error",
     "traceback": [
      "\u001b[1;31m---------------------------------------------------------------------------\u001b[0m",
      "\u001b[1;31mStopIteration\u001b[0m                             Traceback (most recent call last)",
      "\u001b[1;32m<ipython-input-117-d34d2a8c0899>\u001b[0m in \u001b[0;36m<module>\u001b[1;34m\u001b[0m\n\u001b[1;32m----> 1\u001b[1;33m \u001b[0ma\u001b[0m\u001b[1;33m.\u001b[0m\u001b[0m__next__\u001b[0m\u001b[1;33m(\u001b[0m\u001b[1;33m)\u001b[0m\u001b[1;33m\u001b[0m\u001b[1;33m\u001b[0m\u001b[0m\n\u001b[0m",
      "\u001b[1;31mStopIteration\u001b[0m: "
     ]
    }
   ],
   "source": [
    "a.__next__()"
   ]
  },
  {
   "cell_type": "code",
   "execution_count": 130,
   "metadata": {},
   "outputs": [],
   "source": [
    "foo = [1,2,3,4,5]\n",
    "\n",
    "a = (int(i) for i in foo if i % 2 != 0)\n"
   ]
  },
  {
   "cell_type": "code",
   "execution_count": 131,
   "metadata": {},
   "outputs": [
    {
     "name": "stdout",
     "output_type": "stream",
     "text": [
      "1\n",
      "3\n",
      "5\n"
     ]
    }
   ],
   "source": [
    "for i in a:\n",
    "    print(i)"
   ]
  },
  {
   "cell_type": "code",
   "execution_count": 145,
   "metadata": {},
   "outputs": [],
   "source": [
    "def fib(n):\n",
    "    a, b = 1, 1\n",
    "    for _ in range(n):\n",
    "        yield a\n",
    "        a, b = b, a + b\n",
    "        \n"
   ]
  },
  {
   "cell_type": "code",
   "execution_count": 153,
   "metadata": {},
   "outputs": [
    {
     "data": {
      "text/plain": [
       "<generator object fib at 0x00000251DB0EE7C8>"
      ]
     },
     "execution_count": 153,
     "metadata": {},
     "output_type": "execute_result"
    }
   ],
   "source": [
    "fib(10)\n"
   ]
  },
  {
   "cell_type": "code",
   "execution_count": 167,
   "metadata": {},
   "outputs": [],
   "source": [
    "def even_string(n):\n",
    "    i = 0\n",
    "    for _ in range(n):\n",
    "        i += 2\n",
    "        yield f\"Ще одне парне число {i}\"\n",
    "       \n",
    "        "
   ]
  },
  {
   "cell_type": "code",
   "execution_count": 163,
   "metadata": {},
   "outputs": [],
   "source": [
    "a = (f\"Ще одне парне число {i}\" for i in range(0,10,2) )"
   ]
  },
  {
   "cell_type": "code",
   "execution_count": 168,
   "metadata": {},
   "outputs": [],
   "source": [
    "for i in a:\n",
    "    print(i)"
   ]
  },
  {
   "cell_type": "code",
   "execution_count": 169,
   "metadata": {},
   "outputs": [
    {
     "name": "stdout",
     "output_type": "stream",
     "text": [
      "Ще одне парне число 2\n",
      "Ще одне парне число 4\n",
      "Ще одне парне число 6\n",
      "Ще одне парне число 8\n",
      "Ще одне парне число 10\n"
     ]
    }
   ],
   "source": [
    "for i in even_string(5):\n",
    "    print(i)"
   ]
  },
  {
   "cell_type": "code",
   "execution_count": 165,
   "metadata": {},
   "outputs": [],
   "source": [
    "def even(n):\n",
    "    for x in range(n):\n",
    "        if x%2==0:\n",
    "            yield x"
   ]
  },
  {
   "cell_type": "code",
   "execution_count": 166,
   "metadata": {},
   "outputs": [
    {
     "data": {
      "text/plain": [
       "[0, 2, 4, 6, 8]"
      ]
     },
     "execution_count": 166,
     "metadata": {},
     "output_type": "execute_result"
    }
   ],
   "source": [
    "list(even(10))"
   ]
  },
  {
   "cell_type": "code",
   "execution_count": null,
   "metadata": {},
   "outputs": [],
   "source": [
    "dict_with_product = {'a': [\"1\", \"2\", 3],\n",
    "                    'b': [\"1\", \"2\", 1],\n",
    "                    'c': [\"1\", \"2\", 1]}"
   ]
  },
  {
   "cell_type": "code",
   "execution_count": 176,
   "metadata": {},
   "outputs": [
    {
     "data": {
      "text/plain": [
       "{'B81410': ['Антифриз BIZOL G11 синий (концентрант) 1л',\n",
       "  'В наличии',\n",
       "  '183 грн'],\n",
       " 'B81411': ['Антифриз BIZOL G11 синий (концентрант) 5л',\n",
       "  'В наличии',\n",
       "  '757 грн'],\n",
       " 'B81430': ['Антифриз BIZOL G12+ красный (концентрант) 1л',\n",
       "  'В наличии',\n",
       "  '192 грн']}"
      ]
     },
     "execution_count": 176,
     "metadata": {},
     "output_type": "execute_result"
    }
   ],
   "source": [
    "dict_with_product = {}\n",
    "for i in open(\"file.txt\", encoding=\"UTF-8\"):\n",
    "    tmp = i.rstrip().split('|')\n",
    "    dict_with_product[tmp[0]] = tmp[1:]\n",
    "    \n",
    "dict_with_product"
   ]
  },
  {
   "cell_type": "code",
   "execution_count": 188,
   "metadata": {},
   "outputs": [
    {
     "data": {
      "text/plain": [
       "{'B81410': ['Антифриз BIZOL G11 синий (концентрант) 1л', 'В наличии', 183],\n",
       " 'B81411': ['Антифриз BIZOL G11 синий (концентрант) 5л', 'В наличии', 757],\n",
       " 'B81430': ['Антифриз BIZOL G12+ красный (концентрант) 1л', 'В наличии', 192]}"
      ]
     },
     "execution_count": 188,
     "metadata": {},
     "output_type": "execute_result"
    }
   ],
   "source": [
    "#очистимо від грн\n",
    "for key, val in dict_with_product.items():\n",
    "    \n",
    "    text_price = val[-1].split()\n",
    "  \n",
    "    price =text_price[0]\n",
    "\n",
    "    val[-1] = int(price)\n",
    "\n",
    "dict_with_product"
   ]
  },
  {
   "cell_type": "code",
   "execution_count": 191,
   "metadata": {},
   "outputs": [
    {
     "data": {
      "text/plain": [
       "('B81411', ['Антифриз BIZOL G11 синий (концентрант) 5л', 'В наличии', 757])"
      ]
     },
     "execution_count": 191,
     "metadata": {},
     "output_type": "execute_result"
    }
   ],
   "source": [
    "#find max price\n",
    "\n",
    "max(dict_with_product.items(), key = lambda tup: tup[1][-1] )"
   ]
  },
  {
   "cell_type": "code",
   "execution_count": 192,
   "metadata": {},
   "outputs": [
    {
     "data": {
      "text/plain": [
       "757"
      ]
     },
     "execution_count": 192,
     "metadata": {},
     "output_type": "execute_result"
    }
   ],
   "source": [
    "max = 0\n",
    "\n",
    "for key, val in dict_with_product.items():\n",
    "    if max < val[-1]:\n",
    "        max = val[-1]\n",
    "        \n",
    "max"
   ]
  },
  {
   "cell_type": "code",
   "execution_count": 195,
   "metadata": {},
   "outputs": [
    {
     "name": "stdout",
     "output_type": "stream",
     "text": [
      "B81410\n"
     ]
    },
    {
     "data": {
      "text/plain": [
       "['Антифриз BIZOL G11 синий (концентрант) 1л', 'В наличии', 183]"
      ]
     },
     "execution_count": 195,
     "metadata": {},
     "output_type": "execute_result"
    }
   ],
   "source": [
    "a = input()\n",
    "\n",
    "dict_with_product[a]"
   ]
  },
  {
   "cell_type": "markdown",
   "metadata": {},
   "source": [
    "## 8.3. Декоратори"
   ]
  },
  {
   "cell_type": "code",
   "execution_count": 10,
   "metadata": {},
   "outputs": [],
   "source": [
    "def part1(x):\n",
    "    def part2(y):\n",
    "        print(x + y)\n",
    "    \n",
    "    return part2\n",
    "        \n",
    "summa_5 = part1(5)\n",
    "summa_10 = part1(10)\n",
    "summa_0 = part1(0)"
   ]
  },
  {
   "cell_type": "code",
   "execution_count": 18,
   "metadata": {},
   "outputs": [
    {
     "name": "stdout",
     "output_type": "stream",
     "text": [
      "5\n"
     ]
    }
   ],
   "source": [
    "summa_5(0)"
   ]
  },
  {
   "cell_type": "code",
   "execution_count": 14,
   "metadata": {},
   "outputs": [],
   "source": [
    "def file(x):\n",
    "    def read_file(qty_ch):\n",
    "        f = open(x)\n",
    "        print(f.read(qty_ch))\n",
    "        \n",
    "    return read_file"
   ]
  },
  {
   "cell_type": "code",
   "execution_count": 15,
   "metadata": {},
   "outputs": [],
   "source": [
    "#перша нова функція\n",
    "file1 = file('file.txt')"
   ]
  },
  {
   "cell_type": "code",
   "execution_count": 16,
   "metadata": {},
   "outputs": [
    {
     "name": "stdout",
     "output_type": "stream",
     "text": [
      "B81410|РђРЅС‚РёС„СЂР\n"
     ]
    }
   ],
   "source": [
    "file1(20)"
   ]
  },
  {
   "cell_type": "code",
   "execution_count": 17,
   "metadata": {},
   "outputs": [
    {
     "name": "stdout",
     "output_type": "stream",
     "text": [
      "fijfijfj \n",
      "\n"
     ]
    }
   ],
   "source": [
    "#друга функція\n",
    "file2 = file('delcomm.txt')\n",
    "file2(10)"
   ]
  },
  {
   "cell_type": "code",
   "execution_count": 23,
   "metadata": {},
   "outputs": [],
   "source": [
    "# Структура декоратора\n",
    "def decorator(funck):\n",
    "    def wrapper():\n",
    "        print(\"-----\")\n",
    "        funck()   \n",
    "        print(\"-----\")\n",
    "    return wrapper"
   ]
  },
  {
   "cell_type": "code",
   "execution_count": 24,
   "metadata": {},
   "outputs": [
    {
     "name": "stdout",
     "output_type": "stream",
     "text": [
      "-----\n",
      "Hello, word!!!\n",
      "-----\n"
     ]
    }
   ],
   "source": [
    "@decorator\n",
    "def printer():\n",
    "    print(\"Hello, word!!!\")\n",
    "    \n",
    "printer()"
   ]
  },
  {
   "cell_type": "code",
   "execution_count": 26,
   "metadata": {},
   "outputs": [
    {
     "name": "stdout",
     "output_type": "stream",
     "text": [
      "-----\n",
      "Hello, word2222!!!\n",
      "-----\n"
     ]
    }
   ],
   "source": [
    "@decorator\n",
    "def printer2():\n",
    "    print(\"Hello, word2222!!!\")\n",
    "\n",
    "printer2()"
   ]
  },
  {
   "cell_type": "code",
   "execution_count": 39,
   "metadata": {},
   "outputs": [
    {
     "data": {
      "text/plain": [
       "<_io.TextIOWrapper name='file.txt' mode='w' encoding='cp1251'>"
      ]
     },
     "execution_count": 39,
     "metadata": {},
     "output_type": "execute_result"
    }
   ],
   "source": [
    "open(\"file.txt\", \"w\")"
   ]
  },
  {
   "cell_type": "code",
   "execution_count": 40,
   "metadata": {},
   "outputs": [],
   "source": [
    "def stopwatch(funck):\n",
    "    \n",
    "    import time\n",
    "    \n",
    "    def wrapper(n):\n",
    "        start = time.time()\n",
    "        \n",
    "        l = funck(n)\n",
    "        \n",
    "        timer =  time.time() - start \n",
    "        #print(f\"Час виконання: {timer}\")\n",
    "        tmp = f\"Функція {funck.__name__} працює {timer} для {l} елементів \\n\"\n",
    "        with open(\"file.txt\", 'a', encoding=\"UTF-8\") as f:\n",
    "            f.write(tmp)\n",
    "            \n",
    "        return l\n",
    "    \n",
    "    return wrapper\n",
    "        \n",
    "\n",
    "\n",
    "@stopwatch\n",
    "def create_list1(n):\n",
    "  \n",
    "    tmp = [i for i in range(n)]\n",
    "    \n",
    "    return len(tmp)\n",
    "\n",
    "@stopwatch\n",
    "def create_list2(n):\n",
    "    tmp = []\n",
    "    for i in range(n):\n",
    "        tmp.append(i)\n",
    "    \n",
    "    return len(tmp)"
   ]
  },
  {
   "cell_type": "code",
   "execution_count": 45,
   "metadata": {},
   "outputs": [
    {
     "data": {
      "text/plain": [
       "11111111"
      ]
     },
     "execution_count": 45,
     "metadata": {},
     "output_type": "execute_result"
    }
   ],
   "source": [
    "create_list1(11111111)"
   ]
  },
  {
   "cell_type": "code",
   "execution_count": 44,
   "metadata": {},
   "outputs": [
    {
     "data": {
      "text/plain": [
       "11111"
      ]
     },
     "execution_count": 44,
     "metadata": {},
     "output_type": "execute_result"
    }
   ],
   "source": [
    "create_list2(11111)"
   ]
  },
  {
   "cell_type": "code",
   "execution_count": null,
   "metadata": {},
   "outputs": [],
   "source": [
    "# Структура декоратора\n",
    "def hellower(funck):\n",
    "    \n",
    "    def wrapper():\n",
    "      \n",
    "        s = funck()   \n",
    " \n",
    "    return wrapper\n",
    "\n",
    "\n",
    "\n",
    "@hellower\n",
    "def inputer():\n",
    "    name = input()\n",
    "    return name\n",
    "\n",
    "\n",
    "\n",
    "def hellower(func):\n",
    "    def wrapper():\n",
    "        s = func() \n",
    "        print(f'Hello, {s}')\n",
    "    return wrapper"
   ]
  },
  {
   "cell_type": "code",
   "execution_count": 48,
   "metadata": {},
   "outputs": [
    {
     "name": "stdout",
     "output_type": "stream",
     "text": [
      "******\n",
      "Ihor\n",
      "Hello, Ihor\n",
      "******\n"
     ]
    }
   ],
   "source": [
    "def stars(func):\n",
    "    def wrapper():\n",
    "        print(\"******\")\n",
    "        func() \n",
    "        print(\"******\")\n",
    "    return wrapper\n",
    "\n",
    "def hellower(func):\n",
    "    def wrapper():\n",
    "        s = func() \n",
    "        print(f'Hello, {s}')\n",
    "    return wrapper\n",
    "    \n",
    "@stars\n",
    "@hellower\n",
    "def inputer():\n",
    "    name = input()\n",
    "    return name\n",
    "\n",
    "inputer()"
   ]
  },
  {
   "cell_type": "code",
   "execution_count": 63,
   "metadata": {},
   "outputs": [],
   "source": [
    "def decorator1(func):\n",
    "    def wrapper(name):\n",
    "        print(r\"/-----\")\n",
    "        func(name) \n",
    "        print(\"\\_____/\")\n",
    "    return wrapper\n",
    "\n",
    "def decorator2(func):\n",
    "    def wrapper(name):\n",
    "        print(\"-------\")\n",
    "        func(name) \n",
    "        print(\"-------\")\n",
    "    return wrapper\n",
    "\n",
    "\n",
    "\n",
    "@decorator1\n",
    "@decorator2\n",
    "def food1(name):\n",
    "    print(name)"
   ]
  },
  {
   "cell_type": "code",
   "execution_count": 64,
   "metadata": {},
   "outputs": [
    {
     "name": "stdout",
     "output_type": "stream",
     "text": [
      "/-----\n",
      "-------\n",
      "Borch\n",
      "-------\n",
      "\\_____/\n"
     ]
    }
   ],
   "source": [
    "food1(\"Borch\")"
   ]
  },
  {
   "cell_type": "code",
   "execution_count": 71,
   "metadata": {},
   "outputs": [
    {
     "name": "stdout",
     "output_type": "stream",
     "text": [
      "0\n",
      "1\n",
      "Середній час викоання: 0.03290855884552002\n"
     ]
    }
   ],
   "source": [
    "def stopwatch(qty):\n",
    "    def actual_stopwatch(funck):\n",
    "\n",
    "        import time\n",
    "\n",
    "        def wrapper(n):\n",
    "            total_time = 0 \n",
    "            for i in range(qty):\n",
    "                print(i)\n",
    "                start = time.time()\n",
    "\n",
    "                funck(n)\n",
    "\n",
    "                total_time =+  time.time() - start \n",
    "\n",
    "            print(f\"Середній час викоання: {total_time/qty}\")\n",
    "\n",
    "\n",
    "        return wrapper\n",
    "    return actual_stopwatch\n",
    "        \n",
    "\n",
    "\n",
    "@stopwatch(2)\n",
    "def create_list1(n):\n",
    "  \n",
    "    tmp = [i for i in range(n)]\n",
    "    \n",
    "\n",
    "create_list1(999999)"
   ]
  }
 ],
 "metadata": {
  "kernelspec": {
   "display_name": "Python 3",
   "language": "python",
   "name": "python3"
  },
  "language_info": {
   "codemirror_mode": {
    "name": "ipython",
    "version": 3
   },
   "file_extension": ".py",
   "mimetype": "text/x-python",
   "name": "python",
   "nbconvert_exporter": "python",
   "pygments_lexer": "ipython3",
   "version": "3.7.3"
  }
 },
 "nbformat": 4,
 "nbformat_minor": 2
}
