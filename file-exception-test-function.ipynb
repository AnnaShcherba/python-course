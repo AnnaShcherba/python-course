{
 "cells": [
  {
   "cell_type": "code",
   "execution_count": 22,
   "metadata": {},
   "outputs": [
    {
     "name": "stdout",
     "output_type": "stream",
     "text": [
      "Ihor\n",
      "Olya\n",
      "Olya\n",
      "Ihor\n",
      "And\n",
      "Jon\n",
      "Jon\n",
      "Ihor\n",
      "Olya\n",
      "END\n"
     ]
    }
   ],
   "source": [
    "while True: \n",
    "    name = input()\n",
    "    if name == \"END\":\n",
    "        break\n",
    "    tmp = name + \" \" + \"1\"\n",
    "    \n",
    "    f = open('file.txt', 'a')\n",
    "    f.write(tmp)\n",
    "    f.write('\\n')\n",
    "    f.close()\n",
    "    \n",
    "   \n"
   ]
  },
  {
   "cell_type": "code",
   "execution_count": 29,
   "metadata": {},
   "outputs": [
    {
     "data": {
      "text/plain": [
       "{'Ihor': 3, 'Olya': 3, 'And': 1, 'Jon': 2}"
      ]
     },
     "execution_count": 29,
     "metadata": {},
     "output_type": "execute_result"
    }
   ],
   "source": [
    "f = open('file.txt')\n",
    "new_dict = {}\n",
    "\n",
    "\n",
    "for row in f:\n",
    "    name, qty = row.split()\n",
    "    \"\"\"if name not in new_dict:\n",
    "        new_dict[name] = int(qty)\n",
    "    else:\n",
    "        new_dict[name] = new_dict[name] + int(qty)\"\"\"\n",
    "    try:\n",
    "        new_dict[name] = new_dict[name] + int(qty)\n",
    "    except KeyError:\n",
    "        new_dict[name] = int(qty)\n",
    "        \n",
    "\n",
    "f.close()\n",
    "new_dict"
   ]
  },
  {
   "cell_type": "code",
   "execution_count": null,
   "metadata": {},
   "outputs": [],
   "source": [
    "while True: \n",
    "    name = input()\n",
    "    if name == \"END\":\n",
    "        break\n",
    "    tmp = name + \" \" + \"1\"\n",
    "    with open('file.txt', 'a') as f:\n",
    "        f.write(tmp)\n",
    "        f.write('\\n')\n",
    "    \n"
   ]
  },
  {
   "cell_type": "code",
   "execution_count": 42,
   "metadata": {},
   "outputs": [],
   "source": [
    "new_dict = {\"a\" : 20\n",
    "            \"b\" : 30\n",
    "            \"c\" : [10,20]}\n",
    "\n",
    "import pickle \n",
    "\n",
    "with open('db.pickle', 'wb') as f:\n",
    "    pickle.dump(new_dict, f)"
   ]
  },
  {
   "cell_type": "code",
   "execution_count": 43,
   "metadata": {},
   "outputs": [
    {
     "data": {
      "text/plain": [
       "{1: 20}"
      ]
     },
     "execution_count": 43,
     "metadata": {},
     "output_type": "execute_result"
    }
   ],
   "source": [
    "import pickle\n",
    "\n",
    "with open('db.pickle', 'rb') as f:\n",
    "    second_dict = pickle.load(f)\n",
    "    \n",
    "second_dict"
   ]
  },
  {
   "cell_type": "code",
   "execution_count": 45,
   "metadata": {},
   "outputs": [
    {
     "name": "stdout",
     "output_type": "stream",
     "text": [
      "1\n",
      "ddd\n",
      "invalid literal for int() with base 10: 'ddd'\n",
      "програма завершила роботу\n"
     ]
    }
   ],
   "source": [
    "try:\n",
    "    a = int(input())\n",
    "    b = int(input())\n",
    "    print(a / b)\n",
    "except ZeroDivisionError:\n",
    "    print(\"Не можна ділити на 0\")\n",
    "except Exception as e:\n",
    "    print(e)\n",
    "finally:\n",
    "    print(\"програма завершила роботу\")\n"
   ]
  },
  {
   "cell_type": "code",
   "execution_count": 47,
   "metadata": {},
   "outputs": [
    {
     "data": {
      "text/plain": [
       "'{\"temperature\": \"24.3\"}'"
      ]
     },
     "execution_count": 47,
     "metadata": {},
     "output_type": "execute_result"
    }
   ],
   "source": [
    "import json\n",
    "import requests\n",
    "data = {'temperature':'24.3'}\n",
    "data_json = json.dumps(data)\n",
    "data_json"
   ]
  },
  {
   "cell_type": "code",
   "execution_count": 13,
   "metadata": {},
   "outputs": [
    {
     "name": "stdout",
     "output_type": "stream",
     "text": [
      "emp\n"
     ]
    }
   ],
   "source": [
    "a = 0\n",
    "\n",
    "if a:\n",
    "    print('not emp')\n",
    "else:\n",
    "    print('emp')"
   ]
  },
  {
   "cell_type": "code",
   "execution_count": null,
   "metadata": {},
   "outputs": [],
   "source": [
    "a = 10  #bla bla bla\n",
    "\n",
    "\"\"\"comment\n",
    "\n",
    "ffjfj\n",
    "fkfkf\n",
    "\n",
    "\"\"\""
   ]
  },
  {
   "cell_type": "code",
   "execution_count": 15,
   "metadata": {},
   "outputs": [
    {
     "data": {
      "text/plain": [
       "['__abs__',\n",
       " '__add__',\n",
       " '__and__',\n",
       " '__bool__',\n",
       " '__ceil__',\n",
       " '__class__',\n",
       " '__delattr__',\n",
       " '__dir__',\n",
       " '__divmod__',\n",
       " '__doc__',\n",
       " '__eq__',\n",
       " '__float__',\n",
       " '__floor__',\n",
       " '__floordiv__',\n",
       " '__format__',\n",
       " '__ge__',\n",
       " '__getattribute__',\n",
       " '__getnewargs__',\n",
       " '__gt__',\n",
       " '__hash__',\n",
       " '__index__',\n",
       " '__init__',\n",
       " '__init_subclass__',\n",
       " '__int__',\n",
       " '__invert__',\n",
       " '__le__',\n",
       " '__lshift__',\n",
       " '__lt__',\n",
       " '__mod__',\n",
       " '__mul__',\n",
       " '__ne__',\n",
       " '__neg__',\n",
       " '__new__',\n",
       " '__or__',\n",
       " '__pos__',\n",
       " '__pow__',\n",
       " '__radd__',\n",
       " '__rand__',\n",
       " '__rdivmod__',\n",
       " '__reduce__',\n",
       " '__reduce_ex__',\n",
       " '__repr__',\n",
       " '__rfloordiv__',\n",
       " '__rlshift__',\n",
       " '__rmod__',\n",
       " '__rmul__',\n",
       " '__ror__',\n",
       " '__round__',\n",
       " '__rpow__',\n",
       " '__rrshift__',\n",
       " '__rshift__',\n",
       " '__rsub__',\n",
       " '__rtruediv__',\n",
       " '__rxor__',\n",
       " '__setattr__',\n",
       " '__sizeof__',\n",
       " '__str__',\n",
       " '__sub__',\n",
       " '__subclasshook__',\n",
       " '__truediv__',\n",
       " '__trunc__',\n",
       " '__xor__',\n",
       " 'bit_length',\n",
       " 'conjugate',\n",
       " 'denominator',\n",
       " 'from_bytes',\n",
       " 'imag',\n",
       " 'numerator',\n",
       " 'real',\n",
       " 'to_bytes']"
      ]
     },
     "execution_count": 15,
     "metadata": {},
     "output_type": "execute_result"
    }
   ],
   "source": [
    "b = 20\n",
    "\n",
    "dir(b)"
   ]
  },
  {
   "cell_type": "code",
   "execution_count": 30,
   "metadata": {},
   "outputs": [],
   "source": [
    "def foo():\n",
    "    \"\"\"Yes\n",
    "    \"\"\"\n",
    "    \n",
    "    print(\"Hello, word\")\n",
    "    \n"
   ]
  },
  {
   "cell_type": "code",
   "execution_count": 31,
   "metadata": {},
   "outputs": [
    {
     "name": "stdout",
     "output_type": "stream",
     "text": [
      "Yes\n",
      "    \n"
     ]
    }
   ],
   "source": [
    "print(foo.__doc__)"
   ]
  },
  {
   "cell_type": "code",
   "execution_count": 32,
   "metadata": {},
   "outputs": [],
   "source": [
    "s = \"\"\"fijfijfj #kdcje\n",
    "fegerg\n",
    "dewfweg #76\"\"\"\n",
    "\n",
    "with open(\"delcomm.txt\", \"w\") as f:\n",
    "    f.write(s)"
   ]
  },
  {
   "cell_type": "code",
   "execution_count": 37,
   "metadata": {},
   "outputs": [],
   "source": [
    "new_list = []\n",
    "with open(\"delcomm.txt\", \"r\") as f:\n",
    "    for i in f:\n",
    "        \"\"\"if \"#\" in i:\n",
    "            tmp = i[:i.find('#')]+'\\n'\n",
    "        else:\n",
    "            tmp = i\n",
    "        new_list.append(tmp)\n",
    "        \"\"\"  \n",
    "        new_list.append(i[:i.find('#')]+'\\n' if \"#\" in i else i)\n",
    "        \n",
    "        \n",
    "with open(\"delcomm.txt\", \"w\") as f:\n",
    "    f.writelines(new_list)\n",
    "    "
   ]
  },
  {
   "cell_type": "markdown",
   "metadata": {},
   "source": [
    "## Перерва до 20:15"
   ]
  },
  {
   "cell_type": "code",
   "execution_count": 33,
   "metadata": {},
   "outputs": [],
   "source": [
    "import requests\n",
    "import pandas\n",
    "requests.get(\"\").text\n",
    "\n",
    "pandas"
   ]
  },
  {
   "cell_type": "code",
   "execution_count": null,
   "metadata": {},
   "outputs": [],
   "source": [
    "\"\"\"\n",
    "1. Закупка товару\n",
    "2. Продажа товару\n",
    "3. Звітність \n",
    "\n",
    "\"\"\""
   ]
  },
  {
   "cell_type": "code",
   "execution_count": 59,
   "metadata": {},
   "outputs": [
    {
     "name": "stdout",
     "output_type": "stream",
     "text": [
      "Конект успішний\n",
      "Введіть товар: Хліб\n",
      "Введіть кількість: 20\n",
      "{'Помідори': 140.0, 'Кавуни': 170.0, 'Кукурудза': 10.0, 'Абрисоки': 290.0, 'Хліб': 20.0}\n"
     ]
    }
   ],
   "source": [
    "# 1\n",
    "import sys\n",
    "import pickle\n",
    "\n",
    "#відкриваємо або створюємо файл\n",
    "try:\n",
    "    with open('db.pickle', 'rb') as f:\n",
    "        PRODUCT_BASE = pickle.load(f)\n",
    "        print(\"Конект успішний\")\n",
    "except FileNotFoundError:\n",
    "    open('db.pickle', 'wb')\n",
    "    print(\"База даних створена!\")\n",
    "    PRODUCT_BASE = {}\n",
    "\n",
    "#ввдення інформації    \n",
    "try:\n",
    "    product = input(\"Введіть товар: \")\n",
    "    qty = float(input(\"Введіть кількість: \"))\n",
    "except ValueError:\n",
    "    print(\"Кількість ввдено некоректно\")\n",
    "    sys.exit()\n",
    "#внесення інформації в словник    \n",
    "if product in PRODUCT_BASE:\n",
    "    PRODUCT_BASE[product] += qty\n",
    "else:\n",
    "    PRODUCT_BASE[product] = qty\n",
    "\n",
    "#записуємо в базу даних\n",
    "with open('db.pickle', 'wb') as f:\n",
    "    pickle.dump(PRODUCT_BASE, f)\n",
    "    \n",
    "print(PRODUCT_BASE)"
   ]
  },
  {
   "cell_type": "code",
   "execution_count": null,
   "metadata": {},
   "outputs": [],
   "source": [
    "main():\n",
    "    open_bd()\n",
    "    input_data()\n",
    "    sale_product()"
   ]
  },
  {
   "cell_type": "code",
   "execution_count": 62,
   "metadata": {},
   "outputs": [
    {
     "name": "stdout",
     "output_type": "stream",
     "text": [
      "Конект успішний\n",
      "Введіть товар: Чай\n",
      "Введіть кількість для продажу: 20\n",
      "Такого товару немає в наявності\n",
      "{'Помідори': 140.0, 'Кавуни': 170.0, 'Кукурудза': 10.0, 'Абрисоки': 290.0, 'Хліб': 17.0}\n"
     ]
    }
   ],
   "source": [
    "import sys\n",
    "import pickle\n",
    "\n",
    "#відкриваємо базу даних\n",
    "try:\n",
    "    with open('db.pickle', 'rb') as f:\n",
    "        PRODUCT_BASE = pickle.load(f)\n",
    "        print(\"Конект успішний\")\n",
    "except FileNotFoundError:\n",
    "    print(\"База даних відсутня! Створіть її\")\n",
    "    sys.exit()\n",
    "    \n",
    "#Вводимо інформацію для продажу\n",
    "try:\n",
    "    product = input(\"Введіть товар: \")\n",
    "    qty = float(input(\"Введіть кількість для продажу: \"))\n",
    "except ValueError:\n",
    "    print(\"Кількість ввдено некоректно\")\n",
    "    sys.exit()\n",
    "\n",
    "#Продаємо товар - списуємо з бази даних\n",
    "if product in PRODUCT_BASE:\n",
    "    if qty <= PRODUCT_BASE[product]:\n",
    "        PRODUCT_BASE[product] -= qty\n",
    "        print(\"Продано\")\n",
    "    else:\n",
    "        print(\"Недостатня кількість в наявності\")\n",
    "else:\n",
    "    print(\"Такого товару немає в наявності\")\n",
    "\n",
    "#записуємо в базу даних    \n",
    "with open('db.pickle', 'wb') as f:\n",
    "    pickle.dump(PRODUCT_BASE, f)\n",
    "    \n",
    "print(PRODUCT_BASE)"
   ]
  },
  {
   "cell_type": "code",
   "execution_count": 58,
   "metadata": {},
   "outputs": [
    {
     "name": "stdout",
     "output_type": "stream",
     "text": [
      "Помідори\n",
      "Кавуни\n",
      "Кукурудза\n",
      "Абрисоки\n"
     ]
    }
   ],
   "source": [
    "with open('db.pickle', 'rb') as f:\n",
    "        PRODUCT_BASE = pickle.load(f)\n",
    "        for i in PRODUCT_BASE:\n",
    "            print(i)"
   ]
  },
  {
   "cell_type": "code",
   "execution_count": 22,
   "metadata": {},
   "outputs": [],
   "source": [
    "#площу прямокутника\n",
    "def sq(a, b):\n",
    "    c = a*b\n",
    "    print(f\"Прін працює з функції, площа фігури {c}\")\n",
    "    #return c\n"
   ]
  },
  {
   "cell_type": "code",
   "execution_count": 23,
   "metadata": {},
   "outputs": [
    {
     "name": "stdout",
     "output_type": "stream",
     "text": [
      "Прін працює з функції, площа фігури 1500\n"
     ]
    },
    {
     "ename": "NameError",
     "evalue": "name 'a' is not defined",
     "output_type": "error",
     "traceback": [
      "\u001b[1;31m---------------------------------------------------------------------------\u001b[0m",
      "\u001b[1;31mNameError\u001b[0m                                 Traceback (most recent call last)",
      "\u001b[1;32m<ipython-input-23-285fc7dfcc32>\u001b[0m in \u001b[0;36m<module>\u001b[1;34m\u001b[0m\n\u001b[0;32m      4\u001b[0m \u001b[0mz\u001b[0m \u001b[1;33m=\u001b[0m \u001b[0msq\u001b[0m\u001b[1;33m(\u001b[0m\u001b[0mx\u001b[0m\u001b[1;33m,\u001b[0m \u001b[0my\u001b[0m\u001b[1;33m)\u001b[0m\u001b[1;33m\u001b[0m\u001b[1;33m\u001b[0m\u001b[0m\n\u001b[0;32m      5\u001b[0m \u001b[1;33m\u001b[0m\u001b[0m\n\u001b[1;32m----> 6\u001b[1;33m \u001b[0mprint\u001b[0m\u001b[1;33m(\u001b[0m\u001b[0ma\u001b[0m\u001b[1;33m,\u001b[0m \u001b[0mb\u001b[0m\u001b[1;33m,\u001b[0m \u001b[0mc\u001b[0m\u001b[1;33m)\u001b[0m\u001b[1;33m\u001b[0m\u001b[1;33m\u001b[0m\u001b[0m\n\u001b[0m",
      "\u001b[1;31mNameError\u001b[0m: name 'a' is not defined"
     ]
    }
   ],
   "source": [
    "x = 50\n",
    "y = 30\n",
    "\n",
    "z = sq(x, y)\n",
    "\n",
    "print(a, b, c)"
   ]
  },
  {
   "cell_type": "code",
   "execution_count": 24,
   "metadata": {},
   "outputs": [
    {
     "name": "stdout",
     "output_type": "stream",
     "text": [
      "21\n",
      "10\n"
     ]
    }
   ],
   "source": [
    "#площу прямокутника\n",
    "a = 10    #глобальна область видимості\n",
    "\n",
    "\n",
    "def test(a):\n",
    "    a = a + 1   #локальна область видимості\n",
    "    print(a)\n",
    "    \n",
    "test(20)\n",
    "\n",
    "print(a)\n",
    "\n"
   ]
  },
  {
   "cell_type": "code",
   "execution_count": 26,
   "metadata": {},
   "outputs": [
    {
     "data": {
      "text/plain": [
       "33"
      ]
     },
     "execution_count": 26,
     "metadata": {},
     "output_type": "execute_result"
    }
   ],
   "source": [
    "a = 10\n",
    "b = 20\n",
    "c = 3\n",
    "\n",
    "def per(a, b, c):\n",
    "    return a + b + c\n",
    "\n",
    "\n",
    "per(a, b, c)"
   ]
  },
  {
   "cell_type": "code",
   "execution_count": 31,
   "metadata": {},
   "outputs": [
    {
     "ename": "UnboundLocalError",
     "evalue": "local variable 'eggs' referenced before assignment",
     "output_type": "error",
     "traceback": [
      "\u001b[1;31m---------------------------------------------------------------------------\u001b[0m",
      "\u001b[1;31mUnboundLocalError\u001b[0m                         Traceback (most recent call last)",
      "\u001b[1;32m<ipython-input-31-b2c53ac7c231>\u001b[0m in \u001b[0;36m<module>\u001b[1;34m\u001b[0m\n\u001b[0;32m      6\u001b[0m \u001b[1;33m\u001b[0m\u001b[0m\n\u001b[0;32m      7\u001b[0m \u001b[1;33m\u001b[0m\u001b[0m\n\u001b[1;32m----> 8\u001b[1;33m \u001b[0mspam\u001b[0m\u001b[1;33m(\u001b[0m\u001b[1;33m)\u001b[0m\u001b[1;33m\u001b[0m\u001b[1;33m\u001b[0m\u001b[0m\n\u001b[0m\u001b[0;32m      9\u001b[0m \u001b[0mprint\u001b[0m\u001b[1;33m(\u001b[0m\u001b[0meggs\u001b[0m\u001b[1;33m)\u001b[0m\u001b[1;33m\u001b[0m\u001b[1;33m\u001b[0m\u001b[0m\n",
      "\u001b[1;32m<ipython-input-31-b2c53ac7c231>\u001b[0m in \u001b[0;36mspam\u001b[1;34m()\u001b[0m\n\u001b[0;32m      2\u001b[0m \u001b[1;33m\u001b[0m\u001b[0m\n\u001b[0;32m      3\u001b[0m \u001b[1;32mdef\u001b[0m \u001b[0mspam\u001b[0m\u001b[1;33m(\u001b[0m\u001b[1;33m)\u001b[0m\u001b[1;33m:\u001b[0m\u001b[1;33m\u001b[0m\u001b[1;33m\u001b[0m\u001b[0m\n\u001b[1;32m----> 4\u001b[1;33m     \u001b[0mprint\u001b[0m\u001b[1;33m(\u001b[0m\u001b[0meggs\u001b[0m\u001b[1;33m)\u001b[0m\u001b[1;33m\u001b[0m\u001b[1;33m\u001b[0m\u001b[0m\n\u001b[0m\u001b[0;32m      5\u001b[0m     \u001b[0meggs\u001b[0m \u001b[1;33m=\u001b[0m \u001b[1;36m15\u001b[0m\u001b[1;33m\u001b[0m\u001b[1;33m\u001b[0m\u001b[0m\n\u001b[0;32m      6\u001b[0m \u001b[1;33m\u001b[0m\u001b[0m\n",
      "\u001b[1;31mUnboundLocalError\u001b[0m: local variable 'eggs' referenced before assignment"
     ]
    }
   ],
   "source": [
    "eggs = 10\n",
    "\n",
    "def spam():\n",
    "    print(eggs)\n",
    "    eggs = 15\n",
    "\n",
    "\n",
    "spam()\n",
    "print(eggs)"
   ]
  },
  {
   "cell_type": "code",
   "execution_count": 48,
   "metadata": {},
   "outputs": [
    {
     "name": "stdout",
     "output_type": "stream",
     "text": [
      "lalala\n"
     ]
    }
   ],
   "source": [
    "def foo():\n",
    "    global j\n",
    "    j = 25\n",
    " \n",
    "\n",
    "def foo2():\n",
    "    global j\n",
    "    j = 30\n",
    "    \n",
    "foo()\n",
    "foo2()\n",
    "j = \"lalala\"\n",
    "print(j)"
   ]
  },
  {
   "cell_type": "code",
   "execution_count": 50,
   "metadata": {},
   "outputs": [
    {
     "ename": "SyntaxError",
     "evalue": "can't assign to keyword (<ipython-input-50-29c47f813375>, line 2)",
     "output_type": "error",
     "traceback": [
      "\u001b[1;36m  File \u001b[1;32m\"<ipython-input-50-29c47f813375>\"\u001b[1;36m, line \u001b[1;32m2\u001b[0m\n\u001b[1;33m    True = False\u001b[0m\n\u001b[1;37m    ^\u001b[0m\n\u001b[1;31mSyntaxError\u001b[0m\u001b[1;31m:\u001b[0m can't assign to keyword\n"
     ]
    }
   ],
   "source": [
    "def foo():\n",
    "    True = False\n",
    "    print(True)\n",
    "    \n",
    "foo()"
   ]
  },
  {
   "cell_type": "code",
   "execution_count": 65,
   "metadata": {},
   "outputs": [
    {
     "name": "stdout",
     "output_type": "stream",
     "text": [
      "100\n"
     ]
    }
   ],
   "source": [
    "def power(a, pw=[]):\n",
    "    return a ** pw\n",
    "        \n",
    "print(power(10, 2))"
   ]
  },
  {
   "cell_type": "code",
   "execution_count": 76,
   "metadata": {},
   "outputs": [],
   "source": [
    "def summator(type_operation, *args):\n",
    "    if type_operation == 'sum':\n",
    "        return sum(args)\n",
    "    if type_operation == 'max':\n",
    "        return max(args)\n",
    "    if type_operation == 'min':\n",
    "        return min(args)\n",
    "    \n",
    "\n",
    "\n",
    "summator('aaa', 1, 3, 4, 7, 8, 10, 44)"
   ]
  },
  {
   "cell_type": "code",
   "execution_count": 93,
   "metadata": {},
   "outputs": [
    {
     "data": {
      "text/plain": [
       "55"
      ]
     },
     "execution_count": 93,
     "metadata": {},
     "output_type": "execute_result"
    }
   ],
   "source": [
    "def fib(n):\n",
    "    if n == 1:\n",
    "        return 1\n",
    "    if n == 2:\n",
    "        return 1\n",
    "    else:\n",
    "        return fib(n-1) + fib(n-2)\n",
    "\n",
    "fib(10)"
   ]
  },
  {
   "cell_type": "code",
   "execution_count": null,
   "metadata": {},
   "outputs": [],
   "source": [
    "regkmklgieig"
   ]
  },
  {
   "cell_type": "code",
   "execution_count": 101,
   "metadata": {},
   "outputs": [
    {
     "data": {
      "text/plain": [
       "75025"
      ]
     },
     "execution_count": 101,
     "metadata": {},
     "output_type": "execute_result"
    }
   ],
   "source": [
    "a = fib\n",
    "a(25)"
   ]
  },
  {
   "cell_type": "code",
   "execution_count": 108,
   "metadata": {},
   "outputs": [
    {
     "ename": "SyntaxError",
     "evalue": "can't use starred expression here (<ipython-input-108-99d9efabd097>, line 20)",
     "output_type": "error",
     "traceback": [
      "\u001b[1;36m  File \u001b[1;32m\"<ipython-input-108-99d9efabd097>\"\u001b[1;36m, line \u001b[1;32m20\u001b[0m\n\u001b[1;33m    \u001b[0m\n\u001b[1;37m    ^\u001b[0m\n\u001b[1;31mSyntaxError\u001b[0m\u001b[1;31m:\u001b[0m can't use starred expression here\n"
     ]
    }
   ],
   "source": [
    "import math\n",
    "\n",
    "def distance(x1, y1, x2, y2):\n",
    "    dis = math.sqrt((x1-x2)**2 + (y1-y2)**2)\n",
    "    return dis\n",
    "\n",
    "def input_data():\n",
    "    print(\"Введіть координати першої точки:\" )\n",
    "    x1 = int(input()) \n",
    "    y1 = int(input()) \n",
    "    print(\"Введіть координати другої точки:\" )\n",
    "    x2 = int(input()) \n",
    "    y2 = int(input())\n",
    "    return (x1, y1, x2, y2)\n",
    "\n",
    "def main():\n",
    "    x1, y1, x2, y2 = *input_data()\n",
    "    tmp = distance(x1, y1, x2, y2)\n",
    "    print(f\"Довжина відрізка = {tmp}\")\n",
    "    \n",
    "if __name__ == '__main__':\n",
    "    main()    "
   ]
  },
  {
   "cell_type": "code",
   "execution_count": 112,
   "metadata": {},
   "outputs": [
    {
     "name": "stdout",
     "output_type": "stream",
     "text": [
      "[1, 2, 3]\n"
     ]
    }
   ],
   "source": [
    "def re(*args, rev = False):\n",
    "    print(sorted([1,2,3]))\n",
    "    \n",
    "re(1, 2, 4, rev = True)"
   ]
  },
  {
   "cell_type": "code",
   "execution_count": 6,
   "metadata": {},
   "outputs": [
    {
     "name": "stdout",
     "output_type": "stream",
     "text": [
      "kvargs, type(kvargs)\n"
     ]
    },
    {
     "data": {
      "text/plain": [
       "1"
      ]
     },
     "execution_count": 6,
     "metadata": {},
     "output_type": "execute_result"
    }
   ],
   "source": [
    "def foo():\n",
    "    print(\"kvargs, type(kvargs)\")\n",
    "    return 1\n",
    "   \n",
    "    \n",
    "foo()"
   ]
  },
  {
   "cell_type": "code",
   "execution_count": 9,
   "metadata": {},
   "outputs": [
    {
     "data": {
      "text/plain": [
       "3.9"
      ]
     },
     "execution_count": 9,
     "metadata": {},
     "output_type": "execute_result"
    }
   ],
   "source": [
    "def summator(x: int, y: int) -> int:\n",
    "    return x + y\n",
    "\n",
    "summator(1.5, 2.4)"
   ]
  },
  {
   "cell_type": "code",
   "execution_count": null,
   "metadata": {},
   "outputs": [],
   "source": [
    "import random\n",
    "\n",
    "print(\"               GUESS A NUMBER                  \")\n",
    "print(\"\\n-----------------------------------------------\")\n",
    "\n",
    "user_name = input(\"\\nInsert your name: \")\n",
    "\n",
    "number = random.randint(1,10)\n",
    "\n",
    "print(f\"\\n{user_name}, you have 3 tries to guess a number from 1 to 10\")\n",
    "\n",
    "tries = 0\n",
    "\n",
    "while tries < 3:\n",
    "\ttry_num = int(input(\">>> Insert a number: \"))\n",
    "\tif try_num == number:\n",
    "\t\tprint(\"\\n--------\")\n",
    "\t\tprint(\"You win!\")\n",
    "\t\tprint(\"--------\")\n",
    "\t\tbreak\n",
    "\telif try_num > number:\n",
    "\t\ttries = tries + 1\n",
    "\t\tprint(f\"Number is less than {try_num}\")\n",
    "\telif try_num < number:\n",
    "\t\ttries = tries + 1\n",
    "\t\tprint(f\"Number is greater than {try_num}\")\n",
    "#Summary\n",
    "if try_num != number:\n",
    "\tprint(f\"\\nYou lose! Better luck next time, {user_name}\")\n",
    "\n",
    "print(\"\\n-----------------------------------------------\")"
   ]
  },
  {
   "cell_type": "code",
   "execution_count": 17,
   "metadata": {},
   "outputs": [
    {
     "name": "stdout",
     "output_type": "stream",
     "text": [
      "Введіть ім'яI\n",
      "2\n",
      ">>> Insert a number: 1\n",
      "Number is greater than 1\n",
      "Ще спробуйте ще раз\n",
      ">>> Insert a number: 3\n",
      "Number is less than 3\n",
      "Ще спробуйте ще раз\n",
      ">>> Insert a number: 2\n",
      "WIN\n"
     ]
    }
   ],
   "source": [
    "import random\n",
    "\n",
    "def random_number(start, stop):\n",
    "    return random.randint(start, stop)\n",
    "\n",
    "def input_name():\n",
    "    name = input(\"Введіть ім'я\")\n",
    "    return name\n",
    "\n",
    "def win_or_not(random_number, input_number):\n",
    "    #print(random_number, type(random_number))\n",
    "    #print(input_number, type(input_number))\n",
    "    if random_number == input_number:\n",
    "        return True\n",
    "    elif random_number > input_number:\n",
    "        print(f\"Number is greater than {input_number}\")\n",
    "        return False\n",
    "    elif random_number < input_number:\n",
    "        print(f\"Number is less than {input_number}\")\n",
    "        return False\n",
    "\n",
    "def game(random_number, player_name):\n",
    "    tries = 0\n",
    "    while tries < 3:\n",
    "        try_num = int(input(\">>> Insert a number: \"))\n",
    "        if win_or_not(random_number, try_num) == True:\n",
    "            print(\"WIN\")\n",
    "            return \"WIN\"\n",
    "        else:\n",
    "            tries +=1\n",
    "            if tries == 3:\n",
    "                print(\"The end\")\n",
    "                return \"END\"\n",
    "            else:\n",
    "                print(\"Ще спробуйте ще раз\")\n",
    "          \n",
    "        \n",
    "            \n",
    "def main():\n",
    "    name = input_name()\n",
    "    my_number = random_number(1, 4)\n",
    "    print(my_number)\n",
    "    game(my_number, name)\n",
    "        \n",
    "        \n",
    "        \n",
    "main()\n",
    "\n"
   ]
  },
  {
   "cell_type": "markdown",
   "metadata": {},
   "source": [
    "# Перерва до 20:28`"
   ]
  },
  {
   "cell_type": "code",
   "execution_count": 19,
   "metadata": {},
   "outputs": [
    {
     "data": {
      "text/plain": [
       "[0, 2, 4, 6, 8, 10]"
      ]
     },
     "execution_count": 19,
     "metadata": {},
     "output_type": "execute_result"
    }
   ],
   "source": [
    "list_1 = []\n",
    "for i in range(0,11):\n",
    "    if i%2 == 0:\n",
    "        list_1.append(i)\n",
    "list_1"
   ]
  },
  {
   "cell_type": "code",
   "execution_count": 22,
   "metadata": {},
   "outputs": [
    {
     "data": {
      "text/plain": [
       "[0, 2, 4, 6, 8, 10]"
      ]
     },
     "execution_count": 22,
     "metadata": {},
     "output_type": "execute_result"
    }
   ],
   "source": [
    "[i for i in range(11) if i%2==0]\n"
   ]
  },
  {
   "cell_type": "code",
   "execution_count": 31,
   "metadata": {},
   "outputs": [
    {
     "name": "stdout",
     "output_type": "stream",
     "text": [
      "1 2 3\n"
     ]
    },
    {
     "data": {
      "text/plain": [
       "[1, 2, 3]"
      ]
     },
     "execution_count": 31,
     "metadata": {},
     "output_type": "execute_result"
    }
   ],
   "source": [
    "numbers = input().split()\n",
    "\n",
    "for i in range(len(numbers)):\n",
    "    numbers[i] = int(numbers[i])\n",
    "\n",
    "numbers"
   ]
  },
  {
   "cell_type": "code",
   "execution_count": 34,
   "metadata": {},
   "outputs": [
    {
     "name": "stdout",
     "output_type": "stream",
     "text": [
      "1 2 3\n"
     ]
    },
    {
     "data": {
      "text/plain": [
       "[1, 2, 3]"
      ]
     },
     "execution_count": 34,
     "metadata": {},
     "output_type": "execute_result"
    }
   ],
   "source": [
    "[int(i) for i in input().split()]\n"
   ]
  },
  {
   "cell_type": "code",
   "execution_count": 36,
   "metadata": {},
   "outputs": [
    {
     "name": "stdout",
     "output_type": "stream",
     "text": [
      "Hello, world!\n",
      "\n",
      "Hello, world!2\n",
      "\n",
      "Hello, world!3\n",
      "\n",
      "Hello, world!5\n"
     ]
    }
   ],
   "source": [
    "f = open(\"file.txt\")\n",
    "\n",
    "for i in f:\n",
    "    print(i)\n",
    "f.close()"
   ]
  },
  {
   "cell_type": "code",
   "execution_count": 42,
   "metadata": {},
   "outputs": [
    {
     "data": {
      "text/plain": [
       "['Hello, world!\\n', 'Hello, world!2\\n', 'Hello, world!3\\n', 'Hello, world!5']"
      ]
     },
     "execution_count": 42,
     "metadata": {},
     "output_type": "execute_result"
    }
   ],
   "source": [
    "[i.strip().split(\",\") for i in open(\"file.txt\")]"
   ]
  },
  {
   "cell_type": "code",
   "execution_count": 48,
   "metadata": {},
   "outputs": [
    {
     "data": {
      "text/plain": [
       "[[0, 0, 0, 0, 0, 0, 0, 0, 0, 0],\n",
       " [0, 0, 0, 0, 0, 0, 0, 0, 0, 0],\n",
       " [0, 0, 0, 0, 0, 0, 1, 0, 0, 0],\n",
       " [0, 0, 0, 0, 0, 0, 0, 0, 0, 0],\n",
       " [0, 0, 0, 0, 0, 0, 0, 0, 0, 0],\n",
       " [0, 0, 0, 0, 0, 0, 0, 0, 0, 0],\n",
       " [0, 0, 0, 0, 0, 0, 0, 0, 0, 0],\n",
       " [0, 0, 0, 0, 0, 0, 0, 0, 0, 0],\n",
       " [0, 0, 0, 0, 0, 0, 0, 0, 0, 0],\n",
       " [0, 0, 0, 0, 0, 0, 0, 0, 0, 0]]"
      ]
     },
     "execution_count": 48,
     "metadata": {},
     "output_type": "execute_result"
    }
   ],
   "source": [
    "n = 10\n",
    "a = [[0] * n for i in range(n)]\n",
    "\n",
    "a[2][6] = 1\n",
    "a"
   ]
  },
  {
   "cell_type": "code",
   "execution_count": 54,
   "metadata": {},
   "outputs": [
    {
     "data": {
      "text/plain": [
       "{0: 0, 1: 1, 4: 2, 9: 3, 16: 4, 25: 5, 36: 6, 49: 7, 64: 8, 81: 9}"
      ]
     },
     "execution_count": 54,
     "metadata": {},
     "output_type": "execute_result"
    }
   ],
   "source": [
    "a = {i: i**2 for i in range(10)}\n",
    "\n",
    "{val:key  for key, val in a.items()}\n",
    "{a[key]:key  for key in a}"
   ]
  },
  {
   "cell_type": "code",
   "execution_count": 63,
   "metadata": {},
   "outputs": [
    {
     "name": "stdout",
     "output_type": "stream",
     "text": [
      "1.915548324584961\n"
     ]
    }
   ],
   "source": [
    "import time\n",
    "\n",
    "start = time.time()\n",
    "\n",
    "list_1 = []\n",
    "for i in range(0,9999999):\n",
    "    list_1.append(i)\n",
    "\n",
    "stop = time.time()\n",
    "\n",
    "print(stop - start)"
   ]
  },
  {
   "cell_type": "code",
   "execution_count": 64,
   "metadata": {},
   "outputs": [
    {
     "name": "stdout",
     "output_type": "stream",
     "text": [
      "0.7951550483703613\n"
     ]
    }
   ],
   "source": [
    "import time\n",
    "\n",
    "start = time.time()\n",
    "\n",
    "[i for i in range(0,9999999)       ]\n",
    "\n",
    "stop = time.time()\n",
    "\n",
    "print(stop - start)"
   ]
  },
  {
   "cell_type": "code",
   "execution_count": null,
   "metadata": {},
   "outputs": [],
   "source": []
  },
  {
   "cell_type": "code",
   "execution_count": 72,
   "metadata": {},
   "outputs": [
    {
     "data": {
      "text/plain": [
       "[(3, 5), (9, -3), (1, 2)]"
      ]
     },
     "execution_count": 72,
     "metadata": {},
     "output_type": "execute_result"
    }
   ],
   "source": [
    "a = [(1,2), (3,5), (9, -3)]\n",
    "\n",
    "sorted(a, reverse = True, key = sum)\n"
   ]
  },
  {
   "cell_type": "code",
   "execution_count": 84,
   "metadata": {},
   "outputs": [
    {
     "name": "stdout",
     "output_type": "stream",
     "text": [
      "B81410 Антифриз BIZOL G11 синий (концентрант) 1л\n",
      "B81411 Антифриз BIZOL G11 синий (концентрант) 5л\n",
      "B81430 Антифриз BIZOL G12+ красный (концентрант) 1л\n"
     ]
    }
   ],
   "source": [
    "f = open(\"file.txt\", encoding=\"UTF-8\")\n",
    "\n",
    "d = {}\n",
    "\n",
    "for i in f:\n",
    "    tmp = i.split(\"|\")\n",
    "    d[tmp[0]] = tmp[1:]\n",
    "    \n",
    "f.close()\n",
    "max = 0\n",
    "for key in d:\n",
    "    print(key, d[key][0])"
   ]
  },
  {
   "cell_type": "code",
   "execution_count": 79,
   "metadata": {},
   "outputs": [
    {
     "data": {
      "text/plain": [
       "{'B81410': ['Антифриз BIZOL G11 синий (концентрант) 1л',\n",
       "  'В наличии',\n",
       "  '183 грн\\n'],\n",
       " 'B81411': ['Антифриз BIZOL G11 синий (концентрант) 5л',\n",
       "  'В наличии',\n",
       "  '757 грн\\n'],\n",
       " 'B81430': ['Антифриз BIZOL G12+ красный (концентрант) 1л',\n",
       "  'В наличии',\n",
       "  '192 грн']}"
      ]
     },
     "execution_count": 79,
     "metadata": {},
     "output_type": "execute_result"
    }
   ],
   "source": [
    "{i.split(\"|\")[0] : i.split(\"|\")[1:]   for i in open(\"file.txt\", encoding=\"UTF-8\")}\n"
   ]
  }
 ],
 "metadata": {
  "kernelspec": {
   "display_name": "Python 3",
   "language": "python",
   "name": "python3"
  },
  "language_info": {
   "codemirror_mode": {
    "name": "ipython",
    "version": 3
   },
   "file_extension": ".py",
   "mimetype": "text/x-python",
   "name": "python",
   "nbconvert_exporter": "python",
   "pygments_lexer": "ipython3",
   "version": "3.7.3"
  }
 },
 "nbformat": 4,
 "nbformat_minor": 2
}
