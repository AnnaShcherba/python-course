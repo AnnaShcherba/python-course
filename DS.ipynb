{
 "cells": [
  {
   "cell_type": "markdown",
   "metadata": {},
   "source": [
    "### 1. Реалізація функції find"
   ]
  },
  {
   "cell_type": "code",
   "execution_count": null,
   "metadata": {},
   "outputs": [],
   "source": []
  },
  {
   "cell_type": "code",
   "execution_count": 11,
   "metadata": {},
   "outputs": [
    {
     "data": {
      "text/plain": [
       "12"
      ]
     },
     "execution_count": 11,
     "metadata": {},
     "output_type": "execute_result"
    }
   ],
   "source": [
    "#реалізація на Python\n",
    "s = 'Main AcademyA'\n",
    "s.rfind('A')"
   ]
  },
  {
   "cell_type": "code",
   "execution_count": 15,
   "metadata": {},
   "outputs": [
    {
     "name": "stdout",
     "output_type": "stream",
     "text": [
      "12\n"
     ]
    }
   ],
   "source": [
    "i = 0\n",
    "for letter in s[::-1]:\n",
    "    if letter == 'A':\n",
    "        print(len(s) - 1 - i)\n",
    "        break\n",
    "    i = i + 1"
   ]
  },
  {
   "cell_type": "code",
   "execution_count": 10,
   "metadata": {},
   "outputs": [
    {
     "name": "stdout",
     "output_type": "stream",
     "text": [
      "5\n"
     ]
    }
   ],
   "source": [
    "for i in range(len(s)):\n",
    "    if 'A' == s[i]:\n",
    "        print(i)\n",
    "        break\n",
    "    "
   ]
  },
  {
   "cell_type": "markdown",
   "metadata": {},
   "source": [
    "### 2. Реалізація функції count"
   ]
  },
  {
   "cell_type": "code",
   "execution_count": 17,
   "metadata": {},
   "outputs": [
    {
     "data": {
      "text/plain": [
       "2"
      ]
     },
     "execution_count": 17,
     "metadata": {},
     "output_type": "execute_result"
    }
   ],
   "source": [
    "s = 'Main AcademyA'\n",
    "s.count('A')"
   ]
  },
  {
   "cell_type": "code",
   "execution_count": 20,
   "metadata": {},
   "outputs": [
    {
     "name": "stdout",
     "output_type": "stream",
     "text": [
      "Літера A зустрічається 2\n"
     ]
    }
   ],
   "source": [
    "i = 0\n",
    "for letter in s:\n",
    "    if letter == \"A\":\n",
    "        i += 1\n",
    "        \n",
    "print(f\"Літера A зустрічається {i}\")\n",
    "        "
   ]
  },
  {
   "cell_type": "code",
   "execution_count": 21,
   "metadata": {},
   "outputs": [
    {
     "data": {
      "text/plain": [
       "True"
      ]
     },
     "execution_count": 21,
     "metadata": {},
     "output_type": "execute_result"
    }
   ],
   "source": [
    "'A' in s"
   ]
  },
  {
   "cell_type": "code",
   "execution_count": 22,
   "metadata": {},
   "outputs": [
    {
     "data": {
      "text/plain": [
       "4"
      ]
     },
     "execution_count": 22,
     "metadata": {},
     "output_type": "execute_result"
    }
   ],
   "source": [
    "new_list = [1, 4, 10, 15]\n",
    "len(new_list)"
   ]
  },
  {
   "cell_type": "code",
   "execution_count": 26,
   "metadata": {},
   "outputs": [
    {
     "data": {
      "text/plain": [
       "[15, 16, 4, 1]"
      ]
     },
     "execution_count": 26,
     "metadata": {},
     "output_type": "execute_result"
    }
   ],
   "source": [
    "new_list[2] = 16\n",
    "new_list[::-1]"
   ]
  },
  {
   "cell_type": "code",
   "execution_count": 28,
   "metadata": {},
   "outputs": [],
   "source": [
    "second_list = ['aaa', 'bbb']"
   ]
  },
  {
   "cell_type": "code",
   "execution_count": 33,
   "metadata": {},
   "outputs": [
    {
     "data": {
      "text/plain": [
       "[1, 4, 16, 15, 10]"
      ]
     },
     "execution_count": 33,
     "metadata": {},
     "output_type": "execute_result"
    }
   ],
   "source": [
    "new_list.append(10)\n",
    "new_list"
   ]
  },
  {
   "cell_type": "code",
   "execution_count": 34,
   "metadata": {},
   "outputs": [
    {
     "data": {
      "text/plain": [
       "[1, 4, 16, 15, 10, ['aaa', 'bbb']]"
      ]
     },
     "execution_count": 34,
     "metadata": {},
     "output_type": "execute_result"
    }
   ],
   "source": [
    "new_list.append(second_list)\n",
    "new_list"
   ]
  },
  {
   "cell_type": "code",
   "execution_count": 35,
   "metadata": {},
   "outputs": [
    {
     "data": {
      "text/plain": [
       "[1, 4, 16, 15, 10, ['aaa', 'bbb'], 'aaa', 'bbb']"
      ]
     },
     "execution_count": 35,
     "metadata": {},
     "output_type": "execute_result"
    }
   ],
   "source": [
    "new_list.extend(second_list)\n",
    "new_list"
   ]
  },
  {
   "cell_type": "code",
   "execution_count": 37,
   "metadata": {},
   "outputs": [
    {
     "data": {
      "text/plain": [
       "[1, 4, 16, 10, ['aaa', 'bbb'], 'aaa', 'bbb']"
      ]
     },
     "execution_count": 37,
     "metadata": {},
     "output_type": "execute_result"
    }
   ],
   "source": [
    "new_list.pop(3)\n",
    "new_list"
   ]
  },
  {
   "cell_type": "code",
   "execution_count": 47,
   "metadata": {},
   "outputs": [
    {
     "data": {
      "text/plain": [
       "['bbb', 'aaa', ['aaa', 'bbb'], 10, 16, 4, 1]"
      ]
     },
     "execution_count": 47,
     "metadata": {},
     "output_type": "execute_result"
    }
   ],
   "source": [
    "new_list.reverse()\n",
    "new_list\n"
   ]
  },
  {
   "cell_type": "code",
   "execution_count": 50,
   "metadata": {},
   "outputs": [
    {
     "data": {
      "text/plain": [
       "[5, 1, -3]"
      ]
     },
     "execution_count": 50,
     "metadata": {},
     "output_type": "execute_result"
    }
   ],
   "source": [
    "a = [1, 5, -3]\n",
    "a.sort(reverse=True)\n",
    "a"
   ]
  },
  {
   "cell_type": "code",
   "execution_count": 51,
   "metadata": {},
   "outputs": [
    {
     "data": {
      "text/plain": [
       "[-3, 1, 5]"
      ]
     },
     "execution_count": 51,
     "metadata": {},
     "output_type": "execute_result"
    }
   ],
   "source": [
    "sorted(a)"
   ]
  },
  {
   "cell_type": "code",
   "execution_count": 52,
   "metadata": {},
   "outputs": [
    {
     "data": {
      "text/plain": [
       "[5, 1, -3]"
      ]
     },
     "execution_count": 52,
     "metadata": {},
     "output_type": "execute_result"
    }
   ],
   "source": [
    "a"
   ]
  },
  {
   "cell_type": "code",
   "execution_count": 55,
   "metadata": {},
   "outputs": [
    {
     "data": {
      "text/plain": [
       "['Main', 'Acad']"
      ]
     },
     "execution_count": 55,
     "metadata": {},
     "output_type": "execute_result"
    }
   ],
   "source": [
    "s = 'Main@Acad'\n",
    "new_list = s.split('@')\n",
    "new_list"
   ]
  },
  {
   "cell_type": "code",
   "execution_count": 57,
   "metadata": {},
   "outputs": [
    {
     "name": "stdout",
     "output_type": "stream",
     "text": [
      "10\n",
      "Odd\n"
     ]
    }
   ],
   "source": [
    "n = int(input())\n",
    "\n",
    "if n % 2:\n",
    "    print(\"Odd\")\n",
    "else:\n",
    "    print(\"Even\")"
   ]
  },
  {
   "cell_type": "code",
   "execution_count": 61,
   "metadata": {},
   "outputs": [
    {
     "name": "stdout",
     "output_type": "stream",
     "text": [
      "а\n",
      "не голосна\n"
     ]
    }
   ],
   "source": [
    "letter = input()\n",
    "vov = ['a', 'e', 'i', 'o', 'u', 'y']\n",
    "if letter in vov:\n",
    "    print(\"Голосна\")\n",
    "else:\n",
    "    print('не голосна')"
   ]
  },
  {
   "cell_type": "code",
   "execution_count": 64,
   "metadata": {},
   "outputs": [
    {
     "name": "stdout",
     "output_type": "stream",
     "text": [
      "Help on module string:\n",
      "\n",
      "NAME\n",
      "    string - A collection of string constants.\n",
      "\n",
      "MODULE REFERENCE\n",
      "    https://docs.python.org/3.8/library/string\n",
      "    \n",
      "    The following documentation is automatically generated from the Python\n",
      "    source files.  It may be incomplete, incorrect or include features that\n",
      "    are considered implementation detail and may vary between Python\n",
      "    implementations.  When in doubt, consult the module reference at the\n",
      "    location listed above.\n",
      "\n",
      "DESCRIPTION\n",
      "    Public module variables:\n",
      "    \n",
      "    whitespace -- a string containing all ASCII whitespace\n",
      "    ascii_lowercase -- a string containing all ASCII lowercase letters\n",
      "    ascii_uppercase -- a string containing all ASCII uppercase letters\n",
      "    ascii_letters -- a string containing all ASCII letters\n",
      "    digits -- a string containing all ASCII decimal digits\n",
      "    hexdigits -- a string containing all ASCII hexadecimal digits\n",
      "    octdigits -- a string containing all ASCII octal digits\n",
      "    punctuation -- a string containing all ASCII punctuation characters\n",
      "    printable -- a string containing all ASCII characters considered printable\n",
      "\n",
      "CLASSES\n",
      "    builtins.object\n",
      "        Formatter\n",
      "        Template\n",
      "    \n",
      "    class Formatter(builtins.object)\n",
      "     |  Methods defined here:\n",
      "     |  \n",
      "     |  check_unused_args(self, used_args, args, kwargs)\n",
      "     |  \n",
      "     |  convert_field(self, value, conversion)\n",
      "     |  \n",
      "     |  format(self, format_string, /, *args, **kwargs)\n",
      "     |  \n",
      "     |  format_field(self, value, format_spec)\n",
      "     |  \n",
      "     |  get_field(self, field_name, args, kwargs)\n",
      "     |      # given a field_name, find the object it references.\n",
      "     |      #  field_name:   the field being looked up, e.g. \"0.name\"\n",
      "     |      #                 or \"lookup[3]\"\n",
      "     |      #  used_args:    a set of which args have been used\n",
      "     |      #  args, kwargs: as passed in to vformat\n",
      "     |  \n",
      "     |  get_value(self, key, args, kwargs)\n",
      "     |  \n",
      "     |  parse(self, format_string)\n",
      "     |      # returns an iterable that contains tuples of the form:\n",
      "     |      # (literal_text, field_name, format_spec, conversion)\n",
      "     |      # literal_text can be zero length\n",
      "     |      # field_name can be None, in which case there's no\n",
      "     |      #  object to format and output\n",
      "     |      # if field_name is not None, it is looked up, formatted\n",
      "     |      #  with format_spec and conversion and then used\n",
      "     |  \n",
      "     |  vformat(self, format_string, args, kwargs)\n",
      "     |  \n",
      "     |  ----------------------------------------------------------------------\n",
      "     |  Data descriptors defined here:\n",
      "     |  \n",
      "     |  __dict__\n",
      "     |      dictionary for instance variables (if defined)\n",
      "     |  \n",
      "     |  __weakref__\n",
      "     |      list of weak references to the object (if defined)\n",
      "    \n",
      "    class Template(builtins.object)\n",
      "     |  Template(template)\n",
      "     |  \n",
      "     |  A string class for supporting $-substitutions.\n",
      "     |  \n",
      "     |  Methods defined here:\n",
      "     |  \n",
      "     |  __init__(self, template)\n",
      "     |      Initialize self.  See help(type(self)) for accurate signature.\n",
      "     |  \n",
      "     |  safe_substitute(self, mapping={}, /, **kws)\n",
      "     |  \n",
      "     |  substitute(self, mapping={}, /, **kws)\n",
      "     |  \n",
      "     |  ----------------------------------------------------------------------\n",
      "     |  Data descriptors defined here:\n",
      "     |  \n",
      "     |  __dict__\n",
      "     |      dictionary for instance variables (if defined)\n",
      "     |  \n",
      "     |  __weakref__\n",
      "     |      list of weak references to the object (if defined)\n",
      "     |  \n",
      "     |  ----------------------------------------------------------------------\n",
      "     |  Data and other attributes defined here:\n",
      "     |  \n",
      "     |  braceidpattern = None\n",
      "     |  \n",
      "     |  delimiter = '$'\n",
      "     |  \n",
      "     |  flags = re.IGNORECASE\n",
      "     |  \n",
      "     |  idpattern = '(?a:[_a-z][_a-z0-9]*)'\n",
      "     |  \n",
      "     |  pattern = re.compile('\\n    \\\\$(?:\\n      (?P<escaped>\\\\$)...ced>(?a:[...\n",
      "\n",
      "FUNCTIONS\n",
      "    capwords(s, sep=None)\n",
      "        capwords(s [,sep]) -> string\n",
      "        \n",
      "        Split the argument into words using split, capitalize each\n",
      "        word using capitalize, and join the capitalized words using\n",
      "        join.  If the optional second argument sep is absent or None,\n",
      "        runs of whitespace characters are replaced by a single space\n",
      "        and leading and trailing whitespace are removed, otherwise\n",
      "        sep is used to split and join the words.\n",
      "\n",
      "DATA\n",
      "    __all__ = ['ascii_letters', 'ascii_lowercase', 'ascii_uppercase', 'cap...\n",
      "    ascii_letters = 'abcdefghijklmnopqrstuvwxyzABCDEFGHIJKLMNOPQRSTUVWXYZ'\n",
      "    ascii_lowercase = 'abcdefghijklmnopqrstuvwxyz'\n",
      "    ascii_uppercase = 'ABCDEFGHIJKLMNOPQRSTUVWXYZ'\n",
      "    digits = '0123456789'\n",
      "    hexdigits = '0123456789abcdefABCDEF'\n",
      "    octdigits = '01234567'\n",
      "    printable = '0123456789abcdefghijklmnopqrstuvwxyzABCDEFGHIJKLMNOPQRSTU...\n",
      "    punctuation = '!\"#$%&\\'()*+,-./:;<=>?@[\\\\]^_`{|}~'\n",
      "    whitespace = ' \\t\\n\\r\\x0b\\x0c'\n",
      "\n",
      "FILE\n",
      "    c:\\users\\i.betlei\\appdata\\local\\programs\\python\\python38-32\\lib\\string.py\n",
      "\n",
      "\n"
     ]
    }
   ],
   "source": [
    "help(string)"
   ]
  },
  {
   "cell_type": "code",
   "execution_count": 65,
   "metadata": {},
   "outputs": [
    {
     "data": {
      "text/plain": [
       "'!\"#$%&\\'()*+,-./:;<=>?@[\\\\]^_`{|}~'"
      ]
     },
     "execution_count": 65,
     "metadata": {},
     "output_type": "execute_result"
    }
   ],
   "source": [
    "import string\n",
    "string.punctuation  "
   ]
  },
  {
   "cell_type": "code",
   "execution_count": 73,
   "metadata": {},
   "outputs": [
    {
     "data": {
      "text/plain": [
       "tuple"
      ]
     },
     "execution_count": 73,
     "metadata": {},
     "output_type": "execute_result"
    }
   ],
   "source": [
    "new_tupl = (1)\n",
    "type(new_tupl)"
   ]
  },
  {
   "cell_type": "code",
   "execution_count": 74,
   "metadata": {},
   "outputs": [
    {
     "data": {
      "text/plain": [
       "['a', 'e', 'i', 'o', 'u']"
      ]
     },
     "execution_count": 74,
     "metadata": {},
     "output_type": "execute_result"
    }
   ],
   "source": [
    "vowels = ('a', 'e', 'i', 'o', 'u')\n",
    "vowels = list(vowels)"
   ]
  },
  {
   "cell_type": "code",
   "execution_count": 90,
   "metadata": {},
   "outputs": [
    {
     "data": {
      "text/plain": [
       "dict_items([((1, 2), [25, 30]), ('Vasy', 30), ('Olya', 40), ('Mykola', 10)])"
      ]
     },
     "execution_count": 90,
     "metadata": {},
     "output_type": "execute_result"
    }
   ],
   "source": [
    "new_dict = {(1,2): [25,30] , 'Vasy': 30, 'Olya' : 40, 'Mykola':10}\n",
    "\n",
    "\n",
    "new_dict.items()\n"
   ]
  },
  {
   "cell_type": "code",
   "execution_count": 93,
   "metadata": {},
   "outputs": [
    {
     "data": {
      "text/plain": [
       "{'a': 5, 's': 1, 'p': 2, 'o': 1, 'u': 2, 'd': 1, 'c': 1}"
      ]
     },
     "execution_count": 93,
     "metadata": {},
     "output_type": "execute_result"
    }
   ],
   "source": [
    "s = 'aspoapaaauduc'\n",
    "new_dict = {}\n",
    "\n",
    "for letter in s:\n",
    "    if letter not in new_dict: \n",
    "        new_dict[letter] = 1\n",
    "    else: \n",
    "        #new_dict[letter] = new_dict[letter] + 1\n",
    "        new_dict[letter] += 1\n",
    "new_dict    "
   ]
  },
  {
   "cell_type": "code",
   "execution_count": 95,
   "metadata": {},
   "outputs": [
    {
     "data": {
      "text/plain": [
       "{1, 3, 6}"
      ]
     },
     "execution_count": 95,
     "metadata": {},
     "output_type": "execute_result"
    }
   ],
   "source": [
    "new_set = {1, 3, 6, 6, 6, 6, 6, 6,}\n",
    "new_set"
   ]
  },
  {
   "cell_type": "code",
   "execution_count": 99,
   "metadata": {},
   "outputs": [
    {
     "data": {
      "text/plain": [
       "{'Olya', 'Tom'}"
      ]
     },
     "execution_count": 99,
     "metadata": {},
     "output_type": "execute_result"
    }
   ],
   "source": [
    "DS = {'Ihor', 'Maria', 'Olya', 'Tom'}\n",
    "Python = {'Ihor', 'Maria', 'Mykola', 'Sergii'}\n",
    "\n",
    "DS - Python"
   ]
  },
  {
   "cell_type": "code",
   "execution_count": 105,
   "metadata": {},
   "outputs": [
    {
     "name": "stdout",
     "output_type": "stream",
     "text": [
      "1 2 3 4 5\n"
     ]
    },
    {
     "data": {
      "text/plain": [
       "3.5"
      ]
     },
     "execution_count": 105,
     "metadata": {},
     "output_type": "execute_result"
    }
   ],
   "source": [
    "numbers = input()\n",
    "# sales = numbers.split()\n",
    "# sales\n",
    "# for i in range(len(sales)):\n",
    "#     sales[i] = int(sales[i])\n",
    "\n",
    "avg_sales = [int(i) for i in numbers.split()]\n",
    "    \n",
    "avg_sales = sum(sales)/len(sales)\n",
    "avg_sales"
   ]
  },
  {
   "cell_type": "code",
   "execution_count": 6,
   "metadata": {},
   "outputs": [
    {
     "name": "stdout",
     "output_type": "stream",
     "text": [
      "тернопіль\n"
     ]
    },
    {
     "data": {
      "text/plain": [
       "'макс. +29°'"
      ]
     },
     "execution_count": 6,
     "metadata": {},
     "output_type": "execute_result"
    }
   ],
   "source": [
    "import requests\n",
    "from bs4 import BeautifulSoup as BS\n",
    "\n",
    "city = input()\n",
    "r1 = requests.get('https://sinoptik.ua/погода-'+city)\n",
    "html1 = BS(r1.content, 'html.parser')\n",
    "\n",
    "for el in html1.select('#content'):\n",
    "    t_min = el.select('.temperature .min')[0].text\n",
    "    t_max = el.select('.temperature .max')[0].text\n",
    "    desc = el.select('.wDescription .description')[0].text\n",
    "\n",
    "t_max"
   ]
  },
  {
   "cell_type": "code",
   "execution_count": 8,
   "metadata": {},
   "outputs": [
    {
     "name": "stdout",
     "output_type": "stream",
     "text": [
      "<li><a href=\"/wiki/%D0%9B%D0%B8%D0%BC%D0%BE%D0%BD%D0%BE%D0%B2,_%D0%AD%D0%B4%D1%83%D0%B0%D1%80%D0%B4_%D0%92%D0%B5%D0%BD%D0%B8%D0%B0%D0%BC%D0%B8%D0%BD%D0%BE%D0%B2%D0%B8%D1%87\" title=\"Лимонов, Эдуард Вениаминович\">Автор</a> <b><a href=\"/wiki/%D0%94%D0%BD%D0%B5%D0%B2%D0%BD%D0%B8%D0%BA_%D0%BD%D0%B5%D1%83%D0%B4%D0%B0%D1%87%D0%BD%D0%B8%D0%BA%D0%B0\" title=\"Дневник неудачника\">романа</a></b> <span class=\"nowrap\"><i>(на илл.)</i></span> считал себя неудачником, ненавидел успешных людей и мечтал о мировой революции.</li>\n",
      "<li>Военный <b><a href=\"/wiki/%D0%94%D0%B8%D0%B0%D0%BD%D0%B0_(%D1%88%D0%BB%D1%8E%D0%BF)\" title=\"Диана (шлюп)\">парусник</a></b> стал первым построенным в России судном, пересёкшим <a href=\"/wiki/%D0%AD%D0%BA%D0%B2%D0%B0%D1%82%D0%BE%D1%80\" title=\"Экватор\">экватор</a>.</li>\n",
      "<li><b><a href=\"/wiki/%D0%A0%D0%BE%D1%82%D0%B0,_%D0%9F%D0%BE%D0%BB\" title=\"Рота, Пол\">Британский кинорежиссёр</a></b> женился на <a href=\"/wiki/%D0%A1%D0%BC%D0%B8%D1%82,_%D0%9A%D0%BE%D0%BD%D1%81%D1%82%D0%B0%D0%BD%D1%81\" title=\"Смит, Констанс\">актрисе</a>, до свадьбы дважды покушавшейся на его жизнь.</li>\n",
      "<li><span class=\"dabhide\"><a class=\"mw-disambig\" href=\"/wiki/%D0%A4%D0%B5%D1%82%D0%B8%D1%88%D0%B8%D0%B7%D0%BC\" title=\"Фетишизм\">Фетишизм</a></span> может быть <a href=\"/wiki/%D0%A0%D0%B5%D0%BB%D0%B8%D0%B3%D0%B8%D0%BE%D0%B7%D0%BD%D1%8B%D0%B9_%D1%84%D0%B5%D1%82%D0%B8%D1%88%D0%B8%D0%B7%D0%BC\" title=\"Религиозный фетишизм\">религиозным</a>, <a href=\"/wiki/%D0%A1%D0%B5%D0%BA%D1%81%D1%83%D0%B0%D0%BB%D1%8C%D0%BD%D1%8B%D0%B9_%D1%84%D0%B5%D1%82%D0%B8%D1%88%D0%B8%D0%B7%D0%BC\" title=\"Сексуальный фетишизм\">сексуальным</a> и даже <b><a href=\"/wiki/%D0%94%D0%B5%D0%BD%D0%B5%D0%B6%D0%BD%D1%8B%D0%B9_%D1%84%D0%B5%D1%82%D0%B8%D1%88%D0%B8%D0%B7%D0%BC\" title=\"Денежный фетишизм\">денежным</a></b>.</li>\n",
      "<li><b><a href=\"/wiki/%D0%A0%D1%83%D1%81%D1%81%D0%BA%D0%B8%D0%B9_%D1%81%D0%BE%D1%83%D1%81\" title=\"Русский соус\">Русский соус</a></b> <span class=\"nowrap\"><i>(на илл.)</i></span> готовят из <a href=\"/wiki/%D0%A1%D0%BE%D0%B5%D0%B4%D0%B8%D0%BD%D1%91%D0%BD%D0%BD%D1%8B%D0%B5_%D0%A8%D1%82%D0%B0%D1%82%D1%8B_%D0%90%D0%BC%D0%B5%D1%80%D0%B8%D0%BA%D0%B8\" title=\"Соединённые Штаты Америки\">американского</a> <a href=\"/wiki/%D0%9A%D0%B5%D1%82%D1%87%D1%83%D0%BF\" title=\"Кетчуп\">кетчупа</a> и <a href=\"/wiki/%D0%A4%D1%80%D0%B0%D0%BD%D1%86%D0%B8%D1%8F\" title=\"Франция\">французского</a> <a href=\"/wiki/%D0%9C%D0%B0%D0%B9%D0%BE%D0%BD%D0%B5%D0%B7\" title=\"Майонез\">майонеза</a>.</li>\n",
      "<li><b><a href=\"/wiki/%D0%91%D0%B0%D1%8F%D0%BD%D0%B4%D0%B8%D0%BD,_%D0%90%D0%BD%D0%B0%D1%82%D0%BE%D0%BB%D0%B8%D0%B9_%D0%94%D0%B5%D0%BD%D0%B8%D1%81%D0%BE%D0%B2%D0%B8%D1%87\" title=\"Баяндин, Анатолий Денисович\">Отважный и дерзкий</a></b> в бою, фронтовик в мирное время не смог защититься от хулиганов-подростков.</li>\n",
      "<li>Введя <a href=\"/wiki/%D0%A1%D1%83%D1%85%D0%BE%D0%B9_%D0%B7%D0%B0%D0%BA%D0%BE%D0%BD\" title=\"Сухой закон\">сухой закон</a>, партия <b><a href=\"/wiki/%D0%A2%D0%B8%D0%BB%D0%BB%D0%B8,_%D0%A1%D1%8D%D0%BC%D1%8E%D1%8D%D0%BB\" title=\"Тилли, Сэмюэл\">борца за трезвость</a></b> потеряла власть в <a href=\"/wiki/%D0%9D%D1%8C%D1%8E-%D0%91%D1%80%D0%B0%D0%BD%D1%81%D1%83%D0%B8%D0%BA\" title=\"Нью-Брансуик\">Нью-Брансуике</a>.</li>\n",
      "<li>Первого <b><a href=\"/wiki/%D0%91%D1%80%D0%B0%D1%83%D0%BD,_%D0%A0%D0%BE%D0%BD\" title=\"Браун, Рон\">афроамериканца-политика</a></b> называли «самым грозным министром торговли со времён <a href=\"/wiki/%D0%93%D1%83%D0%B2%D0%B5%D1%80,_%D0%93%D0%B5%D1%80%D0%B1%D0%B5%D1%80%D1%82\" title=\"Гувер, Герберт\">Герберта Гувера</a>».</li>\n",
      "<li>В Китае строят не только вертикальные, но и <b><a href=\"/wiki/%D0%A0%D0%B0%D1%84%D1%84%D0%BB%D0%B7-%D0%A1%D0%B8%D1%82%D0%B8_(%D0%A7%D1%83%D0%BD%D1%86%D0%B8%D0%BD)\" title=\"Раффлз-Сити (Чунцин)\">горизонтальные небоскрёбы</a></b> <span class=\"nowrap\"><i>(на илл.)</i></span>.</li>\n",
      "<li><b><a href=\"/wiki/%D0%93%D0%B5%D1%80%D1%88%D0%B5%D0%BB%D1%8C,_%D0%A3%D0%B8%D0%BB%D1%8C%D1%8F%D0%BC\" title=\"Гершель, Уильям\">Музыкант-виртуоз</a></b> открыл Уран, инфракрасное излучение, доказал существование двойных звёзд и построил 60 телескопов.</li>\n",
      "<li><a href=\"/wiki/%D0%93%D0%BE%D0%B2%D0%B0%D1%80%D0%B4,_%D0%A2%D0%BE%D0%BC%D0%B0%D1%81,_4-%D0%B9_%D0%B3%D0%B5%D1%80%D1%86%D0%BE%D0%B3_%D0%9D%D0%BE%D1%80%D1%84%D0%BE%D0%BB%D0%BA\" title=\"Говард, Томас, 4-й герцог Норфолк\">Герцог</a>, желая возвратить <a href=\"/wiki/%D0%9C%D0%B0%D1%80%D0%B8%D1%8F_%D0%A1%D1%82%D1%8E%D0%B0%D1%80%D1%82\" title=\"Мария Стюарт\">Марию Стюарт</a> на престол, уговорил <b><a href=\"/wiki/%D0%9D%D0%B5%D0%B2%D0%B8%D0%BB%D0%BB,_%D0%A7%D0%B0%D1%80%D0%BB%D1%8C%D0%B7,_6-%D0%B9_%D0%B3%D1%80%D0%B0%D1%84_%D0%A3%D1%8D%D1%81%D1%82%D0%BC%D0%BE%D1%80%D0%BB%D0%B5%D0%BD%D0%B4\" title=\"Невилл, Чарльз, 6-й граф Уэстморленд\">зятя</a></b> присоединиться к <b><a href=\"/wiki/%D0%A1%D0%B5%D0%B2%D0%B5%D1%80%D0%BD%D0%BE%D0%B5_%D0%B2%D0%BE%D1%81%D1%81%D1%82%D0%B0%D0%BD%D0%B8%D0%B5\" title=\"Северное восстание\">восстанию</a></b>, в котором сам не участвовал.</li>\n",
      "<li>В Австралии конкуренцию <a href=\"/wiki/%D0%9F%D0%B0%D1%81%D1%85%D0%B0%D0%BB%D1%8C%D0%BD%D1%8B%D0%B9_%D0%B7%D0%B0%D1%8F%D1%86\" title=\"Пасхальный заяц\">пасхальному кролику</a> составляет <b><a href=\"/wiki/%D0%9F%D0%B0%D1%81%D1%85%D0%B0%D0%BB%D1%8C%D0%BD%D1%8B%D0%B9_%D0%B1%D0%B8%D0%BB%D0%B1%D0%B8\" title=\"Пасхальный билби\">местное сумчатое</a></b>.</li>\n",
      "<li><a href=\"/wiki/%D0%9E%D0%B1%D1%81%D1%83%D0%B6%D0%B4%D0%B5%D0%BD%D0%B8%D0%B5_%D1%88%D0%B0%D0%B1%D0%BB%D0%BE%D0%BD%D0%B0:%D0%97%D0%BD%D0%B0%D0%B5%D1%82%D0%B5_%D0%BB%D0%B8_%D0%B2%D1%8B\" title=\"Обсуждение шаблона:Знаете ли вы\"><span class=\"mw-ui-button\">Обсудить</span></a></li>\n",
      "<li><a href=\"/wiki/%D0%9F%D1%80%D0%BE%D0%B5%D0%BA%D1%82:%D0%97%D0%BD%D0%B0%D0%B5%D1%82%D0%B5_%D0%BB%D0%B8_%D0%B2%D1%8B/%D0%9F%D0%BE%D0%B4%D0%B3%D0%BE%D1%82%D0%BE%D0%B2%D0%BA%D0%B0_%D1%81%D0%BB%D0%B5%D0%B4%D1%83%D1%8E%D1%89%D0%B5%D0%B3%D0%BE_%D0%B2%D1%8B%D0%BF%D1%83%D1%81%D0%BA%D0%B0\" title=\"Проект:Знаете ли вы/Подготовка следующего выпуска\"><span class=\"mw-ui-button mw-ui-quiet\">Предложения</span></a></li>\n",
      "<li><a href=\"/wiki/%D0%9F%D1%80%D0%BE%D0%B5%D0%BA%D1%82:%D0%97%D0%BD%D0%B0%D0%B5%D1%82%D0%B5_%D0%BB%D0%B8_%D0%B2%D1%8B/%D0%90%D1%80%D1%85%D0%B8%D0%B2_%D1%80%D1%83%D0%B1%D1%80%D0%B8%D0%BA%D0%B8\" title=\"Проект:Знаете ли вы/Архив рубрики\"><span class=\"mw-ui-button mw-ui-quiet\">Архив</span></a></li>\n",
      "<li><a href=\"/wiki/%D0%A8%D0%B0%D0%B1%D0%BB%D0%BE%D0%BD:%D0%97%D0%BD%D0%B0%D0%B5%D1%82%D0%B5_%D0%BB%D0%B8_%D0%B2%D1%8B\" title=\"Шаблон:Знаете ли вы\"><span class=\"mw-ui-button mw-ui-quiet\">Просмотр шаблона</span></a></li>\n"
     ]
    }
   ],
   "source": [
    "r2 = requests.get('https://ru.wikipedia.org/wiki/%D0%97%D0%B0%D0%B3%D0%BB%D0%B0%D0%B2%D0%BD%D0%B0%D1%8F_%D1%81%D1%82%D1%80%D0%B0%D0%BD%D0%B8%D1%86%D0%B0')\n",
    "html2 = BS(r2.text, 'html.parser')\n",
    "\n",
    "test1 = html2.find('div', id='main-dyk')\n",
    "for i in test1.find_all('ul'):\n",
    "    for j in i.find_all('li'):\n",
    "         print(j)"
   ]
  },
  {
   "cell_type": "code",
   "execution_count": 8,
   "metadata": {},
   "outputs": [
    {
     "data": {
      "text/plain": [
       "'@'"
      ]
     },
     "execution_count": 8,
     "metadata": {},
     "output_type": "execute_result"
    }
   ],
   "source": [
    "number = ord('A')\n",
    "chr(number - 1)"
   ]
  },
  {
   "cell_type": "code",
   "execution_count": 10,
   "metadata": {},
   "outputs": [
    {
     "name": "stdout",
     "output_type": "stream",
     "text": [
      "qwe\n"
     ]
    }
   ],
   "source": [
    "p = input()\n",
    "if len(p) >= 8:\n",
    "    if \"@\" in p or \"#\" in p:\n",
    "        print ('True')\n",
    "    else:\n",
    "        print ('False')"
   ]
  },
  {
   "cell_type": "markdown",
   "metadata": {},
   "source": [
    "Дана стрічка, що складається із двох слів розділених пробілом.\n",
    "    Слова та порядок букв в словах поміняйте місцями."
   ]
  },
  {
   "cell_type": "code",
   "execution_count": 18,
   "metadata": {},
   "outputs": [
    {
     "data": {
      "text/plain": [
       "'owT enO'"
      ]
     },
     "execution_count": 18,
     "metadata": {},
     "output_type": "execute_result"
    }
   ],
   "source": [
    "s = 'One Two'\n",
    "l = s.split('')\n",
    "first_word = l[0]\n",
    "second_word = l[1]\n",
    "second_word[::-1] +' '+ first_word[::-1]\n"
   ]
  },
  {
   "cell_type": "code",
   "execution_count": null,
   "metadata": {},
   "outputs": [],
   "source": [
    "# if a > b > c:\n",
    "#     max1 = a \n",
    "#     max2 = b\n",
    "#     print(max1+max2)\n",
    "# elif a > c > b:\n",
    "#     print()\n",
    "#     ..."
   ]
  },
  {
   "cell_type": "code",
   "execution_count": null,
   "metadata": {},
   "outputs": [],
   "source": [
    "a + b + c - min(a, b, c)"
   ]
  },
  {
   "cell_type": "markdown",
   "metadata": {},
   "source": [
    "   Дана стрічка. Якщо в цій стрічці відсутня буква \"a\", вивести \"False\".\n",
    "    Якщо буква зустрічається один раз - вивести її індекс.\n",
    "    Якщо більше одного разу - вивести індекс першого та останнього входження.\n",
    " "
   ]
  },
  {
   "cell_type": "code",
   "execution_count": 22,
   "metadata": {},
   "outputs": [
    {
     "name": "stdout",
     "output_type": "stream",
     "text": [
      "edefaefefeadefef\n",
      "4\n",
      "10\n"
     ]
    }
   ],
   "source": [
    "s = input()\n",
    "\n",
    "qty = s.count('a')\n",
    "\n",
    "\n",
    "if qty == 0:\n",
    "    print(False)\n",
    "elif qty == 1:\n",
    "    print(s.find('a'))\n",
    "else:\n",
    "    print(s.find('a'))\n",
    "    print(s.rfind('a'))\n",
    "    #print(s[::-1].find('a'))"
   ]
  },
  {
   "cell_type": "code",
   "execution_count": 24,
   "metadata": {},
   "outputs": [
    {
     "name": "stdout",
     "output_type": "stream",
     "text": [
      "Ціна  10 ошдаошщ\n"
     ]
    }
   ],
   "source": [
    "print('Ціна ', 10, \"ошдаошщ\")"
   ]
  },
  {
   "cell_type": "code",
   "execution_count": 27,
   "metadata": {},
   "outputs": [
    {
     "name": "stdout",
     "output_type": "stream",
     "text": [
      "1\n",
      "1\n",
      "2\n",
      "2\n"
     ]
    },
    {
     "data": {
      "text/plain": [
       "[['1', '1'], ['2', '2']]"
      ]
     },
     "execution_count": 27,
     "metadata": {},
     "output_type": "execute_result"
    }
   ],
   "source": [
    "l = []\n",
    "\n",
    "for _ in range(2):\n",
    "    tmp = []\n",
    "    for _ in range(2):\n",
    "        a = input()\n",
    "        tmp.append(a)\n",
    "    l.append(tmp)\n",
    "    \n",
    "print(l)"
   ]
  },
  {
   "cell_type": "code",
   "execution_count": 29,
   "metadata": {},
   "outputs": [
    {
     "data": {
      "text/plain": [
       "['1', '1']"
      ]
     },
     "execution_count": 29,
     "metadata": {},
     "output_type": "execute_result"
    }
   ],
   "source": [
    "l[0]"
   ]
  },
  {
   "cell_type": "code",
   "execution_count": 1,
   "metadata": {},
   "outputs": [
    {
     "data": {
      "text/plain": [
       "0"
      ]
     },
     "execution_count": 1,
     "metadata": {},
     "output_type": "execute_result"
    }
   ],
   "source": [
    "dob = 1\n",
    "\n",
    "for i in range(-23, 13):\n",
    "    dob = dob * i\n",
    "    \n",
    "    \n",
    "dob"
   ]
  },
  {
   "cell_type": "code",
   "execution_count": 9,
   "metadata": {},
   "outputs": [
    {
     "name": "stdout",
     "output_type": "stream",
     "text": [
      "Введіть своє ім'я: 4\n",
      "Вгадайте число від 1 до 10. У вас три спроби.\n",
      "Введи число:4\n",
      "Помилка. Ваша  спроба невірна.\n",
      "Задумане число більше\n",
      "Спробуйте ще раз!\n",
      "Введи число:6\n",
      "Помилка. Ваша  спроба невірна.\n",
      "Задумане число більше\n",
      "Спробуйте ще раз!\n",
      "Введи число:8\n",
      "Ви молодець!\n"
     ]
    }
   ],
   "source": [
    "import random\n",
    "\n",
    "N = random.randint(0, 10)  \n",
    "\n",
    "name = input(\"Введіть своє ім'я: \")\n",
    "\n",
    "print('Вгадайте число від 1 до 10. У вас три спроби.')\n",
    "\n",
    "for i in range(3):\n",
    "    number = int(input('Введи число:'))\n",
    "    if number == N:\n",
    "        print(\"Ви молодець!\")\n",
    "        break\n",
    "    else:\n",
    "        print('Помилка. Ваша  спроба невірна.')\n",
    "        if number > N:\n",
    "            print('Задумане число менше')\n",
    "        else:\n",
    "            print(\"Задумане число більше\")\n",
    "            \n",
    "        if i == 2:\n",
    "            print('Гра закінчена!')\n",
    "            print(\"Число = \", N)\n",
    "        else:\n",
    "            print('Спробуйте ще раз!')\n",
    "    "
   ]
  },
  {
   "cell_type": "code",
   "execution_count": 10,
   "metadata": {},
   "outputs": [
    {
     "name": "stdout",
     "output_type": "stream",
     "text": [
      "Хто перетинає кордон:Ihor\n",
      "Хто перетинає кордон:Ihor\n",
      "Хто перетинає кордон:Maria\n",
      "Хто перетинає кордон:Ihor\n",
      "Хто перетинає кордон:END\n",
      "{'Ihor': 3, 'Maria': 1}\n"
     ]
    }
   ],
   "source": [
    "new_dict = {}\n",
    "\n",
    "while True:\n",
    "    name = input(\"Хто перетинає кордон:\")\n",
    "    if name == 'END':\n",
    "        break\n",
    "    \n",
    "    if name in new_dict:\n",
    "        new_dict[name] = new_dict[name] + 1\n",
    "    else:\n",
    "        new_dict[name] = 1\n",
    "        \n",
    "        \n",
    "print(new_dict)"
   ]
  },
  {
   "cell_type": "code",
   "execution_count": 14,
   "metadata": {},
   "outputs": [
    {
     "name": "stdout",
     "output_type": "stream",
     "text": [
      "[2, 100, 2, 30]\n",
      "[5, 150, 5, 150]\n"
     ]
    }
   ],
   "source": [
    "\"\"\"a1 = [2, 100, 2, 30]\n",
    "a2 = [5, 150, 5, 150]\n",
    "\"\"\"\n",
    "matrixe = [[2, 100, 2, 30], [5, 150, 5, 150]]\n",
    "for ab in matrixe:\n",
    "    print(ab)"
   ]
  },
  {
   "cell_type": "code",
   "execution_count": 19,
   "metadata": {},
   "outputs": [
    {
     "name": "stdout",
     "output_type": "stream",
     "text": [
      "1\n",
      "445\n",
      "55\n",
      "76\n",
      "2\n",
      "4545\n",
      "7\n",
      "8\n",
      "3\n",
      "56\n",
      "56\n",
      "56\n"
     ]
    },
    {
     "data": {
      "text/plain": [
       "[[1, 445, 55, 76], [2, 4545, 7, 8], [3, 56, 56, 56]]"
      ]
     },
     "execution_count": 19,
     "metadata": {},
     "output_type": "execute_result"
    }
   ],
   "source": [
    "matrixe = []\n",
    "for j in range(3):\n",
    "    ab = []\n",
    "    for i in range(4):\n",
    "        e = int(input())\n",
    "        ab.append(e)\n",
    "    matrixe.append(ab)\n",
    "\n",
    "    \n",
    "matrixe"
   ]
  },
  {
   "cell_type": "code",
   "execution_count": 29,
   "metadata": {},
   "outputs": [
    {
     "data": {
      "text/plain": [
       "1682.0"
      ]
     },
     "execution_count": 29,
     "metadata": {},
     "output_type": "execute_result"
    }
   ],
   "source": [
    "result = 0\n",
    "for i in range(len(matrixe)):\n",
    "    result = result + matrixe[i][1]\n",
    "result/len(matrixe)\n"
   ]
  },
  {
   "cell_type": "code",
   "execution_count": 31,
   "metadata": {},
   "outputs": [
    {
     "name": "stdout",
     "output_type": "stream",
     "text": [
      "1\n",
      "2\n",
      "3\n"
     ]
    }
   ],
   "source": [
    "for ab in matrixe:\n",
    "    print(ab[0])"
   ]
  },
  {
   "cell_type": "code",
   "execution_count": 32,
   "metadata": {},
   "outputs": [
    {
     "name": "stdout",
     "output_type": "stream",
     "text": [
      "1\n",
      "4545\n",
      "56\n"
     ]
    }
   ],
   "source": [
    "for i in range(len(matrixe)):\n",
    "    print(matrixe[i][i])"
   ]
  },
  {
   "cell_type": "code",
   "execution_count": 34,
   "metadata": {},
   "outputs": [
    {
     "data": {
      "text/plain": [
       "-4"
      ]
     },
     "execution_count": 34,
     "metadata": {},
     "output_type": "execute_result"
    }
   ],
   "source": [
    "l = [1, 4, 9, -4]\n",
    "min_number = l[0]\n",
    "\n",
    "for number in l:\n",
    "    if number < min_number:\n",
    "        min_number = number\n",
    "        \n",
    "min_number"
   ]
  },
  {
   "cell_type": "markdown",
   "metadata": {},
   "source": [
    "### Дід і Бабуся"
   ]
  },
  {
   "cell_type": "code",
   "execution_count": 16,
   "metadata": {
    "scrolled": true
   },
   "outputs": [
    {
     "name": "stdout",
     "output_type": "stream",
     "text": [
      "Меню програми:\n",
      "1 - Добавити товар в палатку\n",
      "2 - Продати товар із палатки\n",
      "END - закінчити роботу програми\n",
      "1\n",
      "Введіть назву товаруКав\n",
      "Введіть кількість товаруфворвро\n",
      "Неправильно введене число\n",
      "{'Кав': 30}\n",
      "Меню програми:\n",
      "1 - Добавити товар в палатку\n",
      "2 - Продати товар із палатки\n",
      "END - закінчити роботу програми\n",
      "END\n"
     ]
    }
   ],
   "source": [
    "BASE = {}\n",
    "\n",
    "\n",
    "while True:\n",
    "    print(\"\"\"Меню програми:\"\"\")\n",
    "    print(\"1 - Добавити товар в палатку\")\n",
    "    print(\"2 - Продати товар із палатки\")\n",
    "    print(\"END - закінчити роботу програми\")\n",
    "    \n",
    "    n = input()      #n - контроллер меню\n",
    "    if n == \"END\":\n",
    "        break\n",
    "    if n == '1':\n",
    "        product = input('Введіть назву товару')\n",
    "        try:\n",
    "            qty = int(input('Введіть кількість товару'))\n",
    "            if product in BASE:\n",
    "                BASE[product] = qty + BASE[product]\n",
    "        else:\n",
    "            BASE[product] = qty\n",
    "        except ValueError:\n",
    "            print('Неправильно введене число')\n",
    "        \n",
    "        #перевіряємо, чи товар наявний\n",
    "        #якщо наявний - сумуємо до перередніх залишків\n",
    "        #якщо відсутній - записуємо введену кількість\n",
    "\n",
    "            \n",
    "        print(BASE)\n",
    "        \n",
    "    if n == '2':\n",
    "        product = input('Введіть назву товару, яку хочете продати:')\n",
    "        \n",
    "        if product not in BASE:\n",
    "            print('Товар відсутній')\n",
    "        else:\n",
    "            qty = int(input('Введіть кількість товару'))\n",
    "            if qty > BASE[product]:\n",
    "                print('Недостатня кількість')\n",
    "            else:\n",
    "                #продаємо товар\n",
    "                BASE[product] = BASE[product] - qty\n",
    "\n",
    "                print(BASE)\n",
    "\n",
    "            \n",
    "        \n",
    "        \n",
    "    \n",
    "`    "
   ]
  },
  {
   "cell_type": "code",
   "execution_count": 26,
   "metadata": {},
   "outputs": [
    {
     "name": "stdout",
     "output_type": "stream",
     "text": [
      "5\n"
     ]
    }
   ],
   "source": []
  },
  {
   "cell_type": "code",
   "execution_count": 30,
   "metadata": {
    "scrolled": false
   },
   "outputs": [
    {
     "name": "stdout",
     "output_type": "stream",
     "text": [
      "A:1\n",
      "B:10\n",
      "1\n",
      "2\n",
      "3\n",
      "4\n",
      "5\n",
      "6\n",
      "7\n",
      "8\n",
      "9\n",
      "10\n"
     ]
    }
   ],
   "source": [
    "def inputter():\n",
    "    a = int(input('A:'))\n",
    "    b = int(input('B:'))\n",
    "    \n",
    "    return (a,b)\n",
    "\n",
    "def printer():\n",
    "    my_numbers = inputter()\n",
    "    for i in range(my_numbers[0], my_numbers[1]+1):\n",
    "        print(i)\n",
    "        \n",
    "        \n",
    "printer()"
   ]
  },
  {
   "cell_type": "code",
   "execution_count": 5,
   "metadata": {},
   "outputs": [
    {
     "name": "stdout",
     "output_type": "stream",
     "text": [
      "1\n",
      "1\n",
      "1\n",
      "1\n",
      "1\n",
      "1\n",
      "1\n",
      "1\n",
      "1\n",
      "1\n",
      "10\n"
     ]
    }
   ],
   "source": [
    "def inputter(N):\n",
    "    new_list = []\n",
    "\n",
    "    for i in range(N):\n",
    "        a = int(input())\n",
    "        new_list.append(a)\n",
    "    return new_list\n",
    "\n",
    "def sumattor(list_with_numbers):\n",
    "    s = sum(list_with_numbers)\n",
    "    print(s)\n",
    "    \n",
    "if __name__ == '__main__':\n",
    "    my_list = inputter(10) \n",
    "    sumattor(my_list)\n"
   ]
  },
  {
   "cell_type": "code",
   "execution_count": 12,
   "metadata": {},
   "outputs": [
    {
     "name": "stdout",
     "output_type": "stream",
     "text": [
      "1 2 3\n",
      "1 2 4\n"
     ]
    },
    {
     "data": {
      "text/plain": [
       "13"
      ]
     },
     "execution_count": 12,
     "metadata": {},
     "output_type": "execute_result"
    }
   ],
   "source": [
    "my_numbers = input()\n",
    "\n",
    "my_numbers = my_numbers.split()\n",
    "\n",
    "for i in range(len(my_numbers)):\n",
    "    my_numbers[i] = int(my_numbers[i])\n",
    "\n",
    "my_numbers1 = input()\n",
    "\n",
    "my_numbers1 = my_numbers1.split()\n",
    "\n",
    "for i in range(len(my_numbers1)):\n",
    "    my_numbers1[i] = int(my_numbers1[i])\n",
    "\n",
    "\n",
    "\n",
    "\n",
    "sum(my_numbers) + sum(my_numbers1)"
   ]
  },
  {
   "cell_type": "code",
   "execution_count": 14,
   "metadata": {},
   "outputs": [
    {
     "name": "stdout",
     "output_type": "stream",
     "text": [
      "1 2 3\n",
      "1 24\n"
     ]
    },
    {
     "data": {
      "text/plain": [
       "31"
      ]
     },
     "execution_count": 14,
     "metadata": {},
     "output_type": "execute_result"
    }
   ],
   "source": [
    "def lister(new_strin):\n",
    "    l = new_strin.split()\n",
    "    \n",
    "    for i in range(len(l)):\n",
    "        l[i] = int(l[i])\n",
    "    return l\n",
    " \n",
    "    \n",
    "a = input()\n",
    "b = input()\n",
    "\n",
    "sum(lister(a)) + sum(lister(b))"
   ]
  },
  {
   "cell_type": "markdown",
   "metadata": {},
   "source": [
    "# Dist v1"
   ]
  },
  {
   "cell_type": "code",
   "execution_count": 17,
   "metadata": {},
   "outputs": [
    {
     "name": "stdout",
     "output_type": "stream",
     "text": [
      "Введіть кординату X вашого місця знаходження: 10\n",
      "Введіть кординату Y вашого місця знаходження: 10\n",
      "Найближчий магазин 2. Відстань до нього 74.0\n"
     ]
    }
   ],
   "source": [
    "def distance(location1, location2):\n",
    "    \"\"\"Функція для розрахунку відстані між двома точками\"\"\"\n",
    "    d = (location1[0] - location2[0])**2 +  (location1[1] - location2[1])**2\n",
    "    return d\n",
    "    \n",
    "\n",
    "\n",
    "Shop1 = (1, 2)\n",
    "Shop2 = (3, 5)\n",
    "Shop3 = (1, -10)\n",
    "\n",
    "x = float(input('Введіть кординату X вашого місця знаходження: '))\n",
    "y = float(input('Введіть кординату Y вашого місця знаходження: '))\n",
    "\n",
    "user_location = (x, y)\n",
    "\n",
    "l1 = distance(Shop1, user_location)\n",
    "l2 = distance(Shop2, user_location)\n",
    "l3 = distance(Shop3, user_location)\n",
    "\n",
    "if l1 < l2 and l1 < l3:\n",
    "    print(f'Найближчий магазин 1. Відстань до нього {l1}')\n",
    "if l2 < l1 and l2 < l3:\n",
    "    print(f'Найближчий магазин 2. Відстань до нього {l2}')\n",
    "if l3 < l2 and l3 < l1:\n",
    "    print(f'Найближчий магазин 3. Відстань до нього {l3}')\n"
   ]
  },
  {
   "cell_type": "code",
   "execution_count": 7,
   "metadata": {},
   "outputs": [
    {
     "name": "stdout",
     "output_type": "stream",
     "text": [
      "55 60 59 75 120 3 86 45\n",
      "AVG = 62.875\n",
      "Mediana = 59.5\n",
      "AVG = 62.875\n",
      "31.493798992817617\n"
     ]
    }
   ],
   "source": [
    "import math\n",
    "\n",
    "def lister(new_strin):\n",
    "    l = new_strin.split()\n",
    "    \n",
    "    for i in range(len(l)):\n",
    "        l[i] = int(l[i])\n",
    "    return l\n",
    " \n",
    "def avg(list_with_number):\n",
    "    c = sum(list_with_number)/len(list_with_number)\n",
    "    print('AVG =', c)\n",
    "    return c\n",
    "\n",
    "def mediana(list_with_number):\n",
    "    list_with_number.sort()\n",
    "    if len(list_with_number) % 2 == 0:\n",
    "        a = (list_with_number[int(len(list_with_number)/2)] + list_with_number[int(len(list_with_number)/2 - 1)]) / 2\n",
    "        print(\"Mediana =\", a)\n",
    "    else:\n",
    "        print(\"Mediana =\", list_with_number[int(len(list_with_number)/2)])\n",
    "\n",
    "def std(list_with_number):\n",
    "    tmp = 0\n",
    "    my_avg = avg(list_with_number)\n",
    "    for i in range(len(list_with_number)):\n",
    "        tmp = tmp + (list_with_number[i] - my_avg) ** 2\n",
    "    tmp = math.sqrt(tmp / len(list_with_number))\n",
    "    print(tmp)\n",
    "        \n",
    "\n",
    "numbers = lister(input())\n",
    "\n",
    "avg(numbers)\n",
    "mediana(numbers)\n",
    "std(numbers)"
   ]
  },
  {
   "cell_type": "code",
   "execution_count": 32,
   "metadata": {},
   "outputs": [
    {
     "name": "stdout",
     "output_type": "stream",
     "text": [
      "1 2 3 5\n"
     ]
    },
    {
     "data": {
      "text/plain": [
       "2.5"
      ]
     },
     "execution_count": 32,
     "metadata": {},
     "output_type": "execute_result"
    }
   ],
   "source": [
    "import statistics\n",
    "\n",
    "def lister(new_strin):\n",
    "    l = new_strin.split()\n",
    "    \n",
    "    for i in range(len(l)):\n",
    "        l[i] = int(l[i])\n",
    "    return l\n",
    "\n",
    "numbers = lister(input())\n",
    "statistics.median(numbers)"
   ]
  },
  {
   "cell_type": "code",
   "execution_count": 4,
   "metadata": {},
   "outputs": [
    {
     "name": "stdout",
     "output_type": "stream",
     "text": [
      "AVG =  62.875\n",
      "Median =  59.5\n",
      "Std =  31.493798992817617\n"
     ]
    }
   ],
   "source": [
    "list_with_time = [55, 60, 59, 75, 120, 3, 86, 45]\n",
    "\n",
    "import statistics\n",
    "\n",
    "print('AVG = ', statistics.mean(list_with_time))\n",
    "print('Median = ', statistics.median(list_with_time))\n",
    "print('Std = ', statistics.pstdev(list_with_time))"
   ]
  },
  {
   "cell_type": "code",
   "execution_count": null,
   "metadata": {},
   "outputs": [],
   "source": [
    "s = input().split()\n",
    "matrixe = []\n",
    "for j in range(int(s[0])):\n",
    "    tmp = [int(i) for i in input().split()]\n",
    "    matrixe.append(tmp)\n",
    "    \n",
    "#print(matrixe)\n",
    "col, row = 0, 0 \n",
    "my_max = matrixe[0][0]\n",
    "for i in range(len(matrixe)):\n",
    "    for j in range(len(matrixe[i])):\n",
    "        if matrixe[i][j] > my_max:\n",
    "            my_max = matrixe[i][j]\n",
    "            col, row = j, i\n",
    "            \n",
    "            \n",
    "print(row, col)\n",
    "            "
   ]
  },
  {
   "cell_type": "code",
   "execution_count": 19,
   "metadata": {},
   "outputs": [
    {
     "name": "stdout",
     "output_type": "stream",
     "text": [
      "Ihor\n",
      "Maria\n",
      "Ihor\n"
     ]
    }
   ],
   "source": [
    "\"\"\"name = input()\n",
    "\n",
    "f = open('hello.txt', 'a')\n",
    "f.write(name + '\\n')\n",
    "\n",
    "f.close()\"\"\"\n",
    "\n",
    "\"\"\"f = open('hello.txt')\n",
    "print(f.read())\n",
    "f.close()\"\"\"\n",
    "\n",
    "\n",
    "for string in open('hello.txt'):\n",
    "    print(string.rstrip())"
   ]
  },
  {
   "cell_type": "code",
   "execution_count": 25,
   "metadata": {},
   "outputs": [
    {
     "data": {
      "text/plain": [
       "['C:\\\\Users\\\\i.betlei\\\\Main-Academy\\\\DS',\n",
       " 'c:\\\\users\\\\i.betlei\\\\appdata\\\\local\\\\programs\\\\python\\\\python38-32\\\\python38.zip',\n",
       " 'c:\\\\users\\\\i.betlei\\\\appdata\\\\local\\\\programs\\\\python\\\\python38-32\\\\DLLs',\n",
       " 'c:\\\\users\\\\i.betlei\\\\appdata\\\\local\\\\programs\\\\python\\\\python38-32\\\\lib',\n",
       " 'c:\\\\users\\\\i.betlei\\\\appdata\\\\local\\\\programs\\\\python\\\\python38-32',\n",
       " '',\n",
       " 'C:\\\\Users\\\\i.betlei\\\\AppData\\\\Roaming\\\\Python\\\\Python38\\\\site-packages',\n",
       " 'c:\\\\users\\\\i.betlei\\\\appdata\\\\local\\\\programs\\\\python\\\\python38-32\\\\lib\\\\site-packages',\n",
       " 'c:\\\\users\\\\i.betlei\\\\appdata\\\\local\\\\programs\\\\python\\\\python38-32\\\\lib\\\\site-packages\\\\win32',\n",
       " 'c:\\\\users\\\\i.betlei\\\\appdata\\\\local\\\\programs\\\\python\\\\python38-32\\\\lib\\\\site-packages\\\\win32\\\\lib',\n",
       " 'c:\\\\users\\\\i.betlei\\\\appdata\\\\local\\\\programs\\\\python\\\\python38-32\\\\lib\\\\site-packages\\\\Pythonwin',\n",
       " 'c:\\\\users\\\\i.betlei\\\\appdata\\\\local\\\\programs\\\\python\\\\python38-32\\\\lib\\\\site-packages\\\\IPython\\\\extensions',\n",
       " 'C:\\\\Users\\\\i.betlei\\\\.ipython']"
      ]
     },
     "execution_count": 25,
     "metadata": {},
     "output_type": "execute_result"
    }
   ],
   "source": [
    "\"\"\"import pickle\n",
    "a = \"Гарного дня!!!\"\n",
    "\n",
    "with open('hello.pickle', 'wb') as f:\n",
    "    pickle.dump(a, f)\n",
    "    \"\"\"\n",
    "\n",
    "import sys\n",
    "sys.path"
   ]
  },
  {
   "cell_type": "code",
   "execution_count": 5,
   "metadata": {},
   "outputs": [
    {
     "name": "stdout",
     "output_type": "stream",
     "text": [
      "[Errno 22] Invalid argument: 'qwe<.txt'\n"
     ]
    }
   ],
   "source": [
    "#Завдання 1\n",
    "try:\n",
    "    open('qwe<.txt', 'w')\n",
    "except Exception as e:\n",
    "    print(e)"
   ]
  },
  {
   "cell_type": "code",
   "execution_count": 13,
   "metadata": {},
   "outputs": [
    {
     "name": "stdout",
     "output_type": "stream",
     "text": [
      "['**********\\n', '**********\\n']\n"
     ]
    }
   ],
   "source": [
    "#Завдання 2\n",
    "N = 2\n",
    "K = 10\n",
    "\n",
    "\n",
    "\n",
    "f = open('qwe.txt', 'w')\n",
    "for _ in range(N):\n",
    "    f.write('*'*K + '\\n')\n",
    "    \n",
    "new_list = ['*'*K + '\\n' for i in range(N)]\n",
    "print(new_list)\n",
    "f.writelines(new_list)\n",
    "\n",
    "f.close()\n",
    "\n"
   ]
  },
  {
   "cell_type": "code",
   "execution_count": 24,
   "metadata": {},
   "outputs": [],
   "source": [
    "#Завдання 3\n",
    "f = open('qwe.txt')\n",
    "new_list = f.readlines()\n",
    "new_list = new_list[1:]\n",
    "f.close()\n",
    "\n",
    "f = open('qwe.txt', 'w')\n",
    "f.writelines(new_list)\n",
    "f.close()\n"
   ]
  },
  {
   "cell_type": "code",
   "execution_count": 30,
   "metadata": {},
   "outputs": [],
   "source": [
    "#Завдання 4\n",
    "\n",
    "# f = open('qwe.txt')\n",
    "# new_list = f.readlines()\n",
    "# f.close()\n",
    "\n",
    "with open('qwe.txt') as f:\n",
    "    new_list = f.readlines()\n",
    "    \n",
    "for i in range(len(new_list)):\n",
    "    new_list[i] = new_list[i][3:]\n",
    "\n",
    "with open('qwe.txt', 'w') as f:\n",
    "    f.writelines(new_list)\n",
    "    "
   ]
  },
  {
   "cell_type": "code",
   "execution_count": 35,
   "metadata": {},
   "outputs": [
    {
     "ename": "AttributeError",
     "evalue": "'list' object has no attribute 'apenddd'",
     "output_type": "error",
     "traceback": [
      "\u001b[1;31m---------------------------------------------------------------------------\u001b[0m",
      "\u001b[1;31mAttributeError\u001b[0m                            Traceback (most recent call last)",
      "\u001b[1;32m<ipython-input-35-c9029e6ed830>\u001b[0m in \u001b[0;36m<module>\u001b[1;34m\u001b[0m\n\u001b[0;32m     10\u001b[0m \u001b[1;33m\u001b[0m\u001b[0m\n\u001b[0;32m     11\u001b[0m \u001b[0mnew_list\u001b[0m \u001b[1;33m=\u001b[0m \u001b[1;33m[\u001b[0m\u001b[1;36m1\u001b[0m\u001b[1;33m,\u001b[0m \u001b[1;36m3\u001b[0m\u001b[1;33m]\u001b[0m\u001b[1;33m\u001b[0m\u001b[1;33m\u001b[0m\u001b[0m\n\u001b[1;32m---> 12\u001b[1;33m \u001b[0mnew_list\u001b[0m\u001b[1;33m.\u001b[0m\u001b[0mapenddd\u001b[0m\u001b[1;33m(\u001b[0m\u001b[1;33m)\u001b[0m\u001b[1;33m\u001b[0m\u001b[1;33m\u001b[0m\u001b[0m\n\u001b[0m",
      "\u001b[1;31mAttributeError\u001b[0m: 'list' object has no attribute 'apenddd'"
     ]
    }
   ],
   "source": [
    "# - SyntaxError\n",
    "# \t\t- IndentationError\n",
    "# \t\t- NameError\n",
    "# \t\t- IndexError\n",
    "# \t\t- KeyError\n",
    "# \t\t- ImportError\n",
    "# \t\t- AttirbuteError\n",
    "# \t\t- ZeroDivisionError\n",
    "# \t\t- RuntimeError\n",
    "\n",
    "new_list = [1, 3]\n",
    "new_list.apenddd()"
   ]
  },
  {
   "cell_type": "code",
   "execution_count": 48,
   "metadata": {},
   "outputs": [],
   "source": [
    "dict_with_part = {}\n",
    "\n",
    "for row in open('qwe.txt', encoding='UTF-8'):\n",
    "    tmp = row.rstrip(' грн\\n').split('|')\n",
    "    #if not tmp[0] == 'Артикул':\n",
    "    dict_with_part[tmp[0]] = tmp[1:]\n",
    "        \n",
    "    \n",
    "del dict_with_part['Артикул']"
   ]
  },
  {
   "cell_type": "code",
   "execution_count": 52,
   "metadata": {},
   "outputs": [
    {
     "data": {
      "text/plain": [
       "17"
      ]
     },
     "execution_count": 52,
     "metadata": {},
     "output_type": "execute_result"
    }
   ],
   "source": [
    "qty = 0\n",
    "\n",
    "for part in dict_with_part:\n",
    "    if dict_with_part[part][1] == 'В наличии':\n",
    "        qty += 1\n",
    "\n",
    "qty"
   ]
  },
  {
   "cell_type": "code",
   "execution_count": 53,
   "metadata": {},
   "outputs": [
    {
     "name": "stdout",
     "output_type": "stream",
     "text": [
      "Max price B81431 = 798\n"
     ]
    }
   ],
   "source": [
    "max_price = 0\n",
    "max_part = None\n",
    "\n",
    "for part in dict_with_part:\n",
    "    price = int(dict_with_part[part][2])\n",
    "    if price > max_price:\n",
    "        max_part = part\n",
    "        max_price = price\n",
    "        \n",
    "print(f'Max price {max_part} = {max_price}')"
   ]
  },
  {
   "cell_type": "code",
   "execution_count": 32,
   "metadata": {},
   "outputs": [
    {
     "name": "stdout",
     "output_type": "stream",
     "text": [
      "Курс валют на сьогодні 27.6913 \n"
     ]
    }
   ],
   "source": [
    "import requests\n",
    "\n",
    "\n",
    "# cc = input('Введіть назву валюти: ')\n",
    "\n",
    "#словник з параметрами для запиту\n",
    "p = {'date' : '20200801', 'valcode' : 'USD'}\n",
    "\n",
    "r = requests.get('https://bank.gov.ua/NBUStatService/v1/statdirectory/exchange?json', params=p).json()\n",
    "\n",
    "for element in r:\n",
    "#     if element['cc'] == cc:\n",
    "    print(f'Курс валют на сьогодні {element[\"rate\"]} ')  \n",
    "    "
   ]
  },
  {
   "cell_type": "code",
   "execution_count": 63,
   "metadata": {},
   "outputs": [
    {
     "data": {
      "text/plain": [
       "datetime.datetime(2020, 8, 6, 11, 44, 51, 549922)"
      ]
     },
     "execution_count": 63,
     "metadata": {},
     "output_type": "execute_result"
    }
   ],
   "source": [
    "import datetime\n",
    "d = datetime.date(2020, 2, 3)\n",
    "d = datetime.datetime.now()\n",
    "d.strftime('%Y%m%d')\n",
    "d - datetime.timedelta(days=2)"
   ]
  },
  {
   "cell_type": "code",
   "execution_count": 70,
   "metadata": {},
   "outputs": [
    {
     "name": "stdout",
     "output_type": "stream",
     "text": [
      "Введіть курс валютиUSD\n",
      "За скільки днів вивести аналітику по курсу? 3\n",
      "08.08.2020 27.6793\n",
      "07.08.2020 27.6793\n",
      "06.08.2020 27.7028\n",
      "AVG rate:  27.687133333333335\n"
     ]
    }
   ],
   "source": [
    "import datetime\n",
    "import requests\n",
    "\n",
    "LINK = 'https://bank.gov.ua/NBUStatService/v1/statdirectory/exchange?json'\n",
    "valcode = input('Введіть курс валюти')\n",
    "qty_days = int(input(\"За скільки днів вивести аналітику по курсу? \"))\n",
    "\n",
    "list_with_rate = []\n",
    "\n",
    "date_for_requests = datetime.datetime.now()\n",
    "\n",
    "for _ in range(qty_days):\n",
    "    p = {'date' : date_for_requests.strftime('%Y%m%d'), 'valcode' : valcode}\n",
    "    r = requests.get(LINK, params=p).json()\n",
    "    print(r[0]['exchangedate'], r[0]['rate']) \n",
    "    \n",
    "    #Добавляємо курс в список для майбутньої аналітики\n",
    "    list_with_rate.append(float(r[0]['rate']))\n",
    "    \n",
    "    date_for_requests = date_for_requests - datetime.timedelta(days=1)\n",
    "\n",
    "print('AVG rate: ', sum(list_with_rate)/len(list_with_rate))"
   ]
  },
  {
   "cell_type": "code",
   "execution_count": 76,
   "metadata": {},
   "outputs": [],
   "source": [
    "LINK = \"https://24tv.ua/resources/photos/news/1200x675_DIR/201905/1157621.jpg?202005134837\"\n",
    "\n",
    "r = requests.get(LINK)\n",
    "img = r.content\n",
    "\n",
    "with open('Kyiv.jpg', 'wb') as f:\n",
    "    f.write(img)\n",
    "    "
   ]
  },
  {
   "cell_type": "code",
   "execution_count": 45,
   "metadata": {},
   "outputs": [
    {
     "name": "stdout",
     "output_type": "stream",
     "text": [
      "1521 — Эрнан Кортес захватил столицу ацтеков Теночтитлан\n",
      "1536 — монахи Энряку-дзи сожгли храмы последователей Нитирэна в японской столице Киото\n",
      "1553 — Мигель Сервет взят под стражу женевскими кальвинистами как еретик\n",
      "1704 — сокрушительное поражение французов от герцога Мальборо\n",
      "1905 — референдум о расторжении шведско-норвежской унии\n",
      "1920 — начало Варшавской битвы (на илл. — плакат военного времени)\n",
      "1997 — премьера первой серии американского анимационного сериала «Южный парк»\n",
      "2007 — авария поезда «Невский экспресс»\n"
     ]
    }
   ],
   "source": [
    "from bs4 import BeautifulSoup\n",
    "import requests\n",
    "r = requests.get('https://ru.wikipedia.org/wiki/%D0%97%D0%B0%D0%B3%D0%BB%D0%B0%D0%B2%D0%BD%D0%B0%D1%8F_%D1%81%D1%82%D1%80%D0%B0%D0%BD%D0%B8%D1%86%D0%B0')\n",
    "soup = BeautifulSoup (r.text, 'html.parser')\n",
    "\n",
    "for i in soup.find_all(class_='main-box-subtitle'):\n",
    "    if  'В' in i.text:\n",
    "        list_with_news = i.parent.ul.find_all('li')\n",
    "        for j in list_with_news:\n",
    "            print(j.text)"
   ]
  },
  {
   "cell_type": "code",
   "execution_count": 49,
   "metadata": {},
   "outputs": [
    {
     "name": "stdout",
     "output_type": "stream",
     "text": [
      "<ul>\n",
      "<li class=\"toclevel-1 tocsection-1\"><a href=\"#Переваги\"><span class=\"tocnumber\">1</span> <span class=\"toctext\">Переваги</span></a></li>\n",
      "<li class=\"toclevel-1 tocsection-2\"><a href=\"#Історія\"><span class=\"tocnumber\">2</span> <span class=\"toctext\">Історія</span></a></li>\n",
      "<li class=\"toclevel-1 tocsection-3\"><a href=\"#Філософія\"><span class=\"tocnumber\">3</span> <span class=\"toctext\">Філософія</span></a></li>\n",
      "<li class=\"toclevel-1 tocsection-4\"><a href=\"#Вплив_інших_мов_на_Python\"><span class=\"tocnumber\">4</span> <span class=\"toctext\">Вплив інших мов на Python</span></a></li>\n",
      "<li class=\"toclevel-1 tocsection-5\"><a href=\"#Портованість\"><span class=\"tocnumber\">5</span> <span class=\"toctext\">Портованість</span></a></li>\n",
      "<li class=\"toclevel-1 tocsection-6\"><a href=\"#Типи_й_структури_даних\"><span class=\"tocnumber\">6</span> <span class=\"toctext\">Типи й структури даних</span></a></li>\n",
      "<li class=\"toclevel-1 tocsection-7\"><a href=\"#Можливості\"><span class=\"tocnumber\">7</span> <span class=\"toctext\">Можливості</span></a>\n",
      "<ul>\n",
      "<li class=\"toclevel-2 tocsection-8\"><a href=\"#Інтерактивний_режим\"><span class=\"tocnumber\">7.1</span> <span class=\"toctext\">Інтерактивний режим</span></a></li>\n",
      "<li class=\"toclevel-2 tocsection-9\"><a href=\"#Об'єктно-орієнтоване_програмування\"><span class=\"tocnumber\">7.2</span> <span class=\"toctext\">Об'єктно-орієнтоване програмування</span></a></li>\n",
      "<li class=\"toclevel-2 tocsection-10\"><a href=\"#Функціональне_програмування\"><span class=\"tocnumber\">7.3</span> <span class=\"toctext\">Функціональне програмування</span></a></li>\n",
      "<li class=\"toclevel-2 tocsection-11\"><a href=\"#Модулі_та_пакети\"><span class=\"tocnumber\">7.4</span> <span class=\"toctext\">Модулі та пакети</span></a></li>\n",
      "<li class=\"toclevel-2 tocsection-12\"><a href=\"#Інтроспекція\"><span class=\"tocnumber\">7.5</span> <span class=\"toctext\">Інтроспекція</span></a></li>\n",
      "<li class=\"toclevel-2 tocsection-13\"><a href=\"#Обробка_винятків\"><span class=\"tocnumber\">7.6</span> <span class=\"toctext\">Обробка винятків</span></a></li>\n",
      "<li class=\"toclevel-2 tocsection-14\"><a href=\"#Ітератори\"><span class=\"tocnumber\">7.7</span> <span class=\"toctext\">Ітератори</span></a></li>\n",
      "<li class=\"toclevel-2 tocsection-15\"><a href=\"#Генератори\"><span class=\"tocnumber\">7.8</span> <span class=\"toctext\">Генератори</span></a></li>\n",
      "<li class=\"toclevel-2 tocsection-16\"><a href=\"#Керування_контекстом_виконання\"><span class=\"tocnumber\">7.9</span> <span class=\"toctext\">Керування контекстом виконання</span></a></li>\n",
      "<li class=\"toclevel-2 tocsection-17\"><a href=\"#Декоратори\"><span class=\"tocnumber\">7.10</span> <span class=\"toctext\">Декоратори</span></a></li>\n",
      "<li class=\"toclevel-2 tocsection-18\"><a href=\"#Інші_можливості\"><span class=\"tocnumber\">7.11</span> <span class=\"toctext\">Інші можливості</span></a></li>\n",
      "</ul>\n",
      "</li>\n",
      "<li class=\"toclevel-1 tocsection-19\"><a href=\"#Бібліотеки\"><span class=\"tocnumber\">8</span> <span class=\"toctext\">Бібліотеки</span></a>\n",
      "<ul>\n",
      "<li class=\"toclevel-2 tocsection-20\"><a href=\"#Стандартна_бібліотека\"><span class=\"tocnumber\">8.1</span> <span class=\"toctext\">Стандартна бібліотека</span></a></li>\n",
      "<li class=\"toclevel-2 tocsection-21\"><a href=\"#Модулі_розширення_та_програмні_інтерфейси\"><span class=\"tocnumber\">8.2</span> <span class=\"toctext\">Модулі розширення та програмні інтерфейси</span></a></li>\n",
      "<li class=\"toclevel-2 tocsection-22\"><a href=\"#Графічні_бібліотеки\"><span class=\"tocnumber\">8.3</span> <span class=\"toctext\">Графічні бібліотеки</span></a></li>\n",
      "</ul>\n",
      "</li>\n",
      "<li class=\"toclevel-1 tocsection-23\"><a href=\"#Порівняння_з_іншими_мовами\"><span class=\"tocnumber\">9</span> <span class=\"toctext\">Порівняння з іншими мовами</span></a>\n",
      "<ul>\n",
      "<li class=\"toclevel-2 tocsection-24\"><a href=\"#Недоліки\"><span class=\"tocnumber\">9.1</span> <span class=\"toctext\">Недоліки</span></a>\n",
      "<ul>\n",
      "<li class=\"toclevel-3 tocsection-25\"><a href=\"#Низька_швидкодія\"><span class=\"tocnumber\">9.1.1</span> <span class=\"toctext\">Низька швидкодія</span></a></li>\n",
      "<li class=\"toclevel-3 tocsection-26\"><a href=\"#Відсутність_статичної_типізації\"><span class=\"tocnumber\">9.1.2</span> <span class=\"toctext\">Відсутність статичної типізації</span></a></li>\n",
      "<li class=\"toclevel-3 tocsection-27\"><a href=\"#Неможливість_модифікації_вбудованих_класів\"><span class=\"tocnumber\">9.1.3</span> <span class=\"toctext\">Неможливість модифікації вбудованих класів</span></a></li>\n",
      "<li class=\"toclevel-3 tocsection-28\"><a href=\"#Глобальне_блокування_інтерпретатора_(GIL)\"><span class=\"tocnumber\">9.1.4</span> <span class=\"toctext\">Глобальне блокування інтерпретатора (GIL)</span></a></li>\n",
      "</ul>\n",
      "</li>\n",
      "</ul>\n",
      "</li>\n",
      "<li class=\"toclevel-1 tocsection-29\"><a href=\"#Реалізації\"><span class=\"tocnumber\">10</span> <span class=\"toctext\">Реалізації</span></a></li>\n",
      "<li class=\"toclevel-1 tocsection-30\"><a href=\"#Подальша_розробка\"><span class=\"tocnumber\">11</span> <span class=\"toctext\">Подальша розробка</span></a>\n",
      "<ul>\n",
      "<li class=\"toclevel-2 tocsection-31\"><a href=\"#Графік_і_сумісність\"><span class=\"tocnumber\">11.1</span> <span class=\"toctext\">Графік і сумісність</span></a></li>\n",
      "<li class=\"toclevel-2 tocsection-32\"><a href=\"#Можливості_2\"><span class=\"tocnumber\">11.2</span> <span class=\"toctext\">Можливості</span></a></li>\n",
      "<li class=\"toclevel-2 tocsection-33\"><a href=\"#Основні_пропозиції\"><span class=\"tocnumber\">11.3</span> <span class=\"toctext\">Основні пропозиції</span></a></li>\n",
      "</ul>\n",
      "</li>\n",
      "<li class=\"toclevel-1 tocsection-34\"><a href=\"#Спеціалізовані_підмножини/розширення_Python\"><span class=\"tocnumber\">12</span> <span class=\"toctext\">Спеціалізовані підмножини/розширення Python</span></a></li>\n",
      "<li class=\"toclevel-1 tocsection-35\"><a href=\"#Застосування\"><span class=\"tocnumber\">13</span> <span class=\"toctext\">Застосування</span></a></li>\n",
      "<li class=\"toclevel-1 tocsection-36\"><a href=\"#Документація_та_підручники\"><span class=\"tocnumber\">14</span> <span class=\"toctext\">Документація та підручники</span></a></li>\n",
      "<li class=\"toclevel-1 tocsection-37\"><a href=\"#Див._також\"><span class=\"tocnumber\">15</span> <span class=\"toctext\">Див. також</span></a></li>\n",
      "<li class=\"toclevel-1 tocsection-38\"><a href=\"#Примітки\"><span class=\"tocnumber\">16</span> <span class=\"toctext\">Примітки</span></a></li>\n",
      "<li class=\"toclevel-1 tocsection-39\"><a href=\"#Посилання\"><span class=\"tocnumber\">17</span> <span class=\"toctext\">Посилання</span></a></li>\n",
      "</ul>\n",
      "<ul>\n",
      "<li class=\"toclevel-2 tocsection-8\"><a href=\"#Інтерактивний_режим\"><span class=\"tocnumber\">7.1</span> <span class=\"toctext\">Інтерактивний режим</span></a></li>\n",
      "<li class=\"toclevel-2 tocsection-9\"><a href=\"#Об'єктно-орієнтоване_програмування\"><span class=\"tocnumber\">7.2</span> <span class=\"toctext\">Об'єктно-орієнтоване програмування</span></a></li>\n",
      "<li class=\"toclevel-2 tocsection-10\"><a href=\"#Функціональне_програмування\"><span class=\"tocnumber\">7.3</span> <span class=\"toctext\">Функціональне програмування</span></a></li>\n",
      "<li class=\"toclevel-2 tocsection-11\"><a href=\"#Модулі_та_пакети\"><span class=\"tocnumber\">7.4</span> <span class=\"toctext\">Модулі та пакети</span></a></li>\n",
      "<li class=\"toclevel-2 tocsection-12\"><a href=\"#Інтроспекція\"><span class=\"tocnumber\">7.5</span> <span class=\"toctext\">Інтроспекція</span></a></li>\n",
      "<li class=\"toclevel-2 tocsection-13\"><a href=\"#Обробка_винятків\"><span class=\"tocnumber\">7.6</span> <span class=\"toctext\">Обробка винятків</span></a></li>\n",
      "<li class=\"toclevel-2 tocsection-14\"><a href=\"#Ітератори\"><span class=\"tocnumber\">7.7</span> <span class=\"toctext\">Ітератори</span></a></li>\n",
      "<li class=\"toclevel-2 tocsection-15\"><a href=\"#Генератори\"><span class=\"tocnumber\">7.8</span> <span class=\"toctext\">Генератори</span></a></li>\n",
      "<li class=\"toclevel-2 tocsection-16\"><a href=\"#Керування_контекстом_виконання\"><span class=\"tocnumber\">7.9</span> <span class=\"toctext\">Керування контекстом виконання</span></a></li>\n",
      "<li class=\"toclevel-2 tocsection-17\"><a href=\"#Декоратори\"><span class=\"tocnumber\">7.10</span> <span class=\"toctext\">Декоратори</span></a></li>\n",
      "<li class=\"toclevel-2 tocsection-18\"><a href=\"#Інші_можливості\"><span class=\"tocnumber\">7.11</span> <span class=\"toctext\">Інші можливості</span></a></li>\n",
      "</ul>\n",
      "<ul>\n",
      "<li class=\"toclevel-2 tocsection-20\"><a href=\"#Стандартна_бібліотека\"><span class=\"tocnumber\">8.1</span> <span class=\"toctext\">Стандартна бібліотека</span></a></li>\n",
      "<li class=\"toclevel-2 tocsection-21\"><a href=\"#Модулі_розширення_та_програмні_інтерфейси\"><span class=\"tocnumber\">8.2</span> <span class=\"toctext\">Модулі розширення та програмні інтерфейси</span></a></li>\n",
      "<li class=\"toclevel-2 tocsection-22\"><a href=\"#Графічні_бібліотеки\"><span class=\"tocnumber\">8.3</span> <span class=\"toctext\">Графічні бібліотеки</span></a></li>\n",
      "</ul>\n",
      "<ul>\n",
      "<li class=\"toclevel-2 tocsection-24\"><a href=\"#Недоліки\"><span class=\"tocnumber\">9.1</span> <span class=\"toctext\">Недоліки</span></a>\n",
      "<ul>\n",
      "<li class=\"toclevel-3 tocsection-25\"><a href=\"#Низька_швидкодія\"><span class=\"tocnumber\">9.1.1</span> <span class=\"toctext\">Низька швидкодія</span></a></li>\n",
      "<li class=\"toclevel-3 tocsection-26\"><a href=\"#Відсутність_статичної_типізації\"><span class=\"tocnumber\">9.1.2</span> <span class=\"toctext\">Відсутність статичної типізації</span></a></li>\n",
      "<li class=\"toclevel-3 tocsection-27\"><a href=\"#Неможливість_модифікації_вбудованих_класів\"><span class=\"tocnumber\">9.1.3</span> <span class=\"toctext\">Неможливість модифікації вбудованих класів</span></a></li>\n",
      "<li class=\"toclevel-3 tocsection-28\"><a href=\"#Глобальне_блокування_інтерпретатора_(GIL)\"><span class=\"tocnumber\">9.1.4</span> <span class=\"toctext\">Глобальне блокування інтерпретатора (GIL)</span></a></li>\n",
      "</ul>\n",
      "</li>\n",
      "</ul>\n",
      "<ul>\n",
      "<li class=\"toclevel-3 tocsection-25\"><a href=\"#Низька_швидкодія\"><span class=\"tocnumber\">9.1.1</span> <span class=\"toctext\">Низька швидкодія</span></a></li>\n",
      "<li class=\"toclevel-3 tocsection-26\"><a href=\"#Відсутність_статичної_типізації\"><span class=\"tocnumber\">9.1.2</span> <span class=\"toctext\">Відсутність статичної типізації</span></a></li>\n",
      "<li class=\"toclevel-3 tocsection-27\"><a href=\"#Неможливість_модифікації_вбудованих_класів\"><span class=\"tocnumber\">9.1.3</span> <span class=\"toctext\">Неможливість модифікації вбудованих класів</span></a></li>\n",
      "<li class=\"toclevel-3 tocsection-28\"><a href=\"#Глобальне_блокування_інтерпретатора_(GIL)\"><span class=\"tocnumber\">9.1.4</span> <span class=\"toctext\">Глобальне блокування інтерпретатора (GIL)</span></a></li>\n",
      "</ul>\n",
      "<ul>\n",
      "<li class=\"toclevel-2 tocsection-31\"><a href=\"#Графік_і_сумісність\"><span class=\"tocnumber\">11.1</span> <span class=\"toctext\">Графік і сумісність</span></a></li>\n",
      "<li class=\"toclevel-2 tocsection-32\"><a href=\"#Можливості_2\"><span class=\"tocnumber\">11.2</span> <span class=\"toctext\">Можливості</span></a></li>\n",
      "<li class=\"toclevel-2 tocsection-33\"><a href=\"#Основні_пропозиції\"><span class=\"tocnumber\">11.3</span> <span class=\"toctext\">Основні пропозиції</span></a></li>\n",
      "</ul>\n",
      "<ul><li>чистий <a href=\"/wiki/%D0%A1%D0%B8%D0%BD%D1%82%D0%B0%D0%BA%D1%81%D0%B8%D1%81\" title=\"Синтаксис\">синтаксис</a> (для виділення блоків слід використовувати відступи);</li>\n",
      "<li>переносність програм (що властиве більшості інтерпретованих мов);</li>\n",
      "<li>стандартний <a href=\"/wiki/%D0%94%D0%B8%D1%81%D1%82%D1%80%D0%B8%D0%B1%D1%83%D1%82%D0%B8%D0%B2\" title=\"Дистрибутив\">дистрибутив</a> має велику кількість корисних модулів (включно з модулем для розробки графічного інтерфейсу);</li>\n",
      "<li>можливість використання Python в діалоговому режимі (дуже корисне для експериментування та розв'язання простих задач);</li>\n",
      "<li>стандартний дистрибутив має просте, але разом із тим досить потужне <a href=\"/wiki/%D0%86%D0%BD%D1%82%D0%B5%D0%B3%D1%80%D0%BE%D0%B2%D0%B0%D0%BD%D0%B5_%D1%81%D0%B5%D1%80%D0%B5%D0%B4%D0%BE%D0%B2%D0%B8%D1%89%D0%B5_%D1%80%D0%BE%D0%B7%D1%80%D0%BE%D0%B1%D0%BA%D0%B8\" title=\"Інтегроване середовище розробки\">середовище розробки</a>, яке зветься IDLE і яке написане мовою Python;</li>\n",
      "<li>зручний для розв'язання математичних проблем (має засоби роботи з <a class=\"mw-redirect\" href=\"/wiki/%D0%9A%D0%BE%D0%BC%D0%BF%D0%BB%D0%B5%D0%BA%D1%81%D0%BD%D1%96_%D1%87%D0%B8%D1%81%D0%BB%D0%B0\" title=\"Комплексні числа\">комплексними числами</a>, може оперувати з цілими числами довільної величини, у діалоговому режимі може використовуватися як потужний <a href=\"/wiki/%D0%9A%D0%B0%D0%BB%D1%8C%D0%BA%D1%83%D0%BB%D1%8F%D1%82%D0%BE%D1%80\" title=\"Калькулятор\">калькулятор</a>);</li>\n",
      "<li>відкритий код (можливість редагувати його іншими користувачами).</li></ul>\n",
      "<ul><li>Гарне краще за потворне.</li>\n",
      "<li>Явне краще за неявне.</li>\n",
      "<li>Просте краще за складне.</li>\n",
      "<li>Складне краще за заплутане.</li>\n",
      "<li>Плоске краще за вкладене.</li>\n",
      "<li>Розріджене краще за щільне.</li>\n",
      "<li><a class=\"mw-redirect\" href=\"/wiki/%D0%9B%D0%B5%D0%B3%D0%BA%D1%96%D1%81%D1%82%D1%8C_%D1%87%D0%B8%D1%82%D0%B0%D0%BD%D0%BD%D1%8F\" title=\"Легкість читання\">Легкість читання</a> має значення.</li>\n",
      "<li>Особливі випадки не є настільки особливими, щоб порушувати правила.</li>\n",
      "<li>Хоча практичність є важливішою за бездоганність.</li>\n",
      "<li>Помилки ніколи не повинні проходити непомітно.</li>\n",
      "<li>Якщо їх приховування не прописано явно.</li>\n",
      "<li>Зустрівши неоднозначність, опирайтесь спокусі вгадати.</li>\n",
      "<li>Має бути один — і, бажано, <i>тільки</i> один — очевидний спосіб зробити це.</li>\n",
      "<li>Хоча спочатку він може бути й не очевидним, якщо ви не голландець<sup class=\"reference\" id=\"cite_ref-12\"><a href=\"#cite_note-12\">[12]</a></sup>.</li>\n",
      "<li>Зараз — краще, ніж ніколи.</li>\n",
      "<li>Хоча ніколи, найчастіше, — краще, ніж <i>просто</i> зараз.</li>\n",
      "<li>Якщо реалізацію важко пояснити — задум поганий.</li>\n",
      "<li>Якщо реалізацію легко пояснити — <i>можливо</i>, задум добрий.</li>\n",
      "<li>Простори імен — чудова річ, тож робімо їх більше!</li></ul>\n",
      "<ul><li>Beautiful is better than ugly.</li>\n",
      "<li>Explicit is better than implicit.</li>\n",
      "<li>Simple is better than complex.</li>\n",
      "<li>Complex is better than complicated.</li>\n",
      "<li>Flat is better than nested.</li>\n",
      "<li>Sparse is better than dense.</li>\n",
      "<li>Readability counts.</li>\n",
      "<li>Special cases aren’t special enough to break the rules.</li>\n",
      "<li>Although practicality beats purity.</li>\n",
      "<li>Errors should never pass silently.</li>\n",
      "<li>Unless explicitly silenced.</li>\n",
      "<li>In the face of ambiguity, refuse the temptation to guess.</li>\n",
      "<li>There should be one — and preferably only one — obvious way to do it.</li>\n",
      "<li>Although that way may not be obvious at first unless you’re Dutch.</li>\n",
      "<li>Now is better than never.</li>\n",
      "<li>Although never is often better than 'right now'.</li>\n",
      "<li>If the implementation is hard to explain, it’s a bad idea.</li>\n",
      "<li>If the implementation is easy to explain, it may be a good idea.</li>\n",
      "<li>Namespaces are one honking great idea — let’s do more of those!</li></ul>\n",
      "<ul><li><a class=\"new\" href=\"/w/index.php?title=ABC_(%D0%BC%D0%BE%D0%B2%D0%B0_%D0%BF%D1%80%D0%BE%D0%B3%D1%80%D0%B0%D0%BC%D1%83%D0%B2%D0%B0%D0%BD%D0%BD%D1%8F)&amp;action=edit&amp;redlink=1\" title=\"ABC (мова програмування) (ще не написана)\">ABC</a><sup class=\"noprint\"><a class=\"extiw\" href=\"https://en.wikipedia.org/wiki/ABC_(programming_language)\" title=\"en:ABC (programming language)\"><span style=\"font-style:normal;font-weight:normal;font-size:normal\" title=\"ABC (programming language) — версія статті «ABC (мова програмування)» англійською мовою\">[en]</span></a></sup> — відступи (поля) для групування операторів, високорівневі структури даних (map)<sup class=\"reference\" id=\"cite_ref-foreword_13-0\"><a href=\"#cite_note-foreword-13\">[13]</a></sup><sup class=\"reference\" id=\"cite_ref-14\"><a href=\"#cite_note-14\">[14]</a></sup> (фактично, Python створювався як спроба виправити помилки, допущені при проектуванні ABC);</li>\n",
      "<li><a class=\"new\" href=\"/w/index.php?title=Modula-3&amp;action=edit&amp;redlink=1\" title=\"Modula-3 (ще не написана)\">Modula-3</a><sup class=\"noprint\"><a class=\"extiw\" href=\"https://en.wikipedia.org/wiki/Modula-3\" title=\"en:Modula-3\"><span style=\"font-style:normal;font-weight:normal;font-size:normal\" title=\"Modula-3 — версія статті «Modula-3» англійською мовою\">[en]</span></a></sup> — пакети, модулі, використання <code>else</code> спільно з <code>try</code> та <code>except</code>, іменовані аргументи функцій (на це також вплинув <a href=\"/wiki/Common_Lisp\" title=\"Common Lisp\">Common Lisp</a>);</li>\n",
      "<li><a class=\"mw-redirect\" href=\"/wiki/%D0%A1%D1%96_(%D0%BC%D0%BE%D0%B2%D0%B0_%D0%BF%D1%80%D0%BE%D0%B3%D1%80%D0%B0%D0%BC%D1%83%D0%B2%D0%B0%D0%BD%D0%BD%D1%8F)\" title=\"Сі (мова програмування)\">С</a>, <a href=\"/wiki/C%2B%2B\" title=\"C++\">C++</a> — деякі синтаксичні конструкції (як пише сам <a href=\"/wiki/%D0%93%D0%B2%D1%96%D0%B4%D0%BE_%D0%B2%D0%B0%D0%BD_%D0%A0%D0%BE%D1%81%D1%81%D1%83%D0%BC\" title=\"Гвідо ван Россум\">Гвідо ван Россум</a> — він використовував найбільш несуперечливі конструкції з С, щоб не викликати неприязнь у Сі-програмістів до Python<sup class=\"reference\" id=\"cite_ref-foreword_13-1\"><a href=\"#cite_note-foreword-13\">[13]</a></sup>);</li>\n",
      "<li><a href=\"/wiki/Smalltalk\" title=\"Smalltalk\">Smalltalk</a> — об'єктно-орієнтоване програмування;</li>\n",
      "<li><a href=\"/wiki/Lisp\" title=\"Lisp\">Lisp</a> — окремі риси <a class=\"mw-redirect\" href=\"/wiki/%D0%A4%D1%83%D0%BD%D0%BA%D1%86%D1%96%D0%BE%D0%BD%D0%B0%D0%BB%D1%8C%D0%BD%D0%B5_%D0%BF%D1%80%D0%BE%D0%B3%D1%80%D0%B0%D0%BC%D1%83%D0%B2%D0%B0%D0%BD%D0%BD%D1%8F\" title=\"Функціональне програмування\">функціонального програмування</a> (<code lang=\"python\">lambda, map, reduce, filter</code> та інші);</li>\n",
      "<li><a class=\"mw-redirect\" href=\"/wiki/Fortran\" title=\"Fortran\">Fortran</a> — зрізи масивів, комплексна арифметика;</li>\n",
      "<li><a class=\"new\" href=\"/w/index.php?title=%D0%9C%D1%96%D1%80%D0%B0%D0%BD%D0%B4%D0%B0_(%D0%BC%D0%BE%D0%B2%D0%B0_%D0%BF%D1%80%D0%BE%D0%B3%D1%80%D0%B0%D0%BC%D1%83%D0%B2%D0%B0%D0%BD%D0%BD%D1%8F)&amp;action=edit&amp;redlink=1\" title=\"Міранда (мова програмування) (ще не написана)\">Miranda</a><sup class=\"noprint\"><a class=\"extiw\" href=\"https://en.wikipedia.org/wiki/Miranda_(programming_language)\" title=\"en:Miranda (programming language)\"><span style=\"font-style:normal;font-weight:normal;font-size:normal\" title=\"Miranda (programming language) — версія статті «Міранда (мова програмування)» англійською мовою\">[en]</span></a></sup> — спискові вирази;</li>\n",
      "<li><a href=\"/wiki/Java\" title=\"Java\">Java</a> — модулі logging, unittest, threading (частина можливостей оригінального модуля не реалізована), xml.sax стандартної бібліотеки, спільне використання finally та except при обробці винятків, використання @ для декораторів;</li>\n",
      "<li><a class=\"new\" href=\"/w/index.php?title=Icon_(%D0%BC%D0%BE%D0%B2%D0%B0_%D0%BF%D1%80%D0%BE%D0%B3%D1%80%D0%B0%D0%BC%D1%83%D0%B2%D0%B0%D0%BD%D0%BD%D1%8F)&amp;action=edit&amp;redlink=1\" title=\"Icon (мова програмування) (ще не написана)\">Icon</a><sup class=\"noprint\"><a class=\"extiw\" href=\"https://en.wikipedia.org/wiki/Icon_(programming_language)\" title=\"en:Icon (programming language)\"><span style=\"font-style:normal;font-weight:normal;font-size:normal\" title=\"Icon (programming language) — версія статті «Icon (мова програмування)» англійською мовою\">[en]</span></a></sup> — <a href=\"/wiki/Python#Генератори\" title=\"Python\">генератори</a>.</li></ul>\n",
      "<ul><li>функція є об'єктом;</li>\n",
      "<li>функції вищих порядків;</li>\n",
      "<li>рекурсія;</li>\n",
      "<li>розвинена обробка списків (спискові вирази, операції над послідовностями, ітератори);</li>\n",
      "<li>аналог замикань (closures);</li>\n",
      "<li>часткове застосування функції;</li>\n",
      "<li>можливість реалізації інших засобів на самій мові (наприклад, <a class=\"mw-redirect\" href=\"/wiki/%D0%9A%D0%B0%D1%80%D1%80%D1%96%D0%BD%D0%B3\" title=\"Каррінг\">каррінг</a>).</li></ul>\n",
      "<ul><li>Синтаксична можливість для анотації параметрів і результату функцій (наприклад, для передачі інформації про тип або <a class=\"mw-redirect\" href=\"/wiki/%D0%94%D0%BE%D0%BA%D1%83%D0%BC%D0%B5%D0%BD%D1%82%D1%83%D0%B2%D0%B0%D0%BD%D0%BD%D1%8F\" title=\"Документування\">документування</a>).</li>\n",
      "<li>Повний перехід на <a class=\"mw-redirect\" href=\"/wiki/Unicode\" title=\"Unicode\">unicode</a> для рядків.</li>\n",
      "<li>Введення нового типу «незмінні байти» і типу «змінюваний буфер». Обидва необхідні для подання двійкових даних.</li>\n",
      "<li>Нова підсистема вводу-виводу (модуль <code>io</code>), що має окремі вигляди для бінарних і текстових даних.</li>\n",
      "<li><a href=\"/wiki/%D0%90%D0%B1%D1%81%D1%82%D1%80%D0%B0%D0%BA%D1%82%D0%BD%D0%B8%D0%B9_%D0%BA%D0%BB%D0%B0%D1%81\" title=\"Абстрактний клас\">Абстрактні класи</a>, <a href=\"/wiki/%D0%90%D0%B1%D1%81%D1%82%D1%80%D0%B0%D0%BA%D1%82%D0%BD%D0%B8%D0%B9_%D0%BC%D0%B5%D1%82%D0%BE%D0%B4\" title=\"Абстрактний метод\">абстрактні методи</a> (є вже в 2.6).</li>\n",
      "<li>Ієрархія типів для чисел.</li>\n",
      "<li>Вирази для словників і множин <code>{k: v for k, v in a_dict}</code> і <code>{el1, el2, el3}</code> (за аналогією зі списковими виразами).</li>\n",
      "<li>Зміни <code>print</code> з вбудованого виразу у вбудовану функцію. Це дозволить модулям робити зміни, підлаштовуючись під різне використання функції, а також спростить код. У Python 2.6 ця можливість активується введенням <code>from __future__ import print_function</code>.</li>\n",
      "<li>Переміщення <code>reduce</code> (але не <code>map</code> або <code>filter</code>) з вбудованого простору в модуль <code>functools</code> (використання <code>reduce</code> істотно менш читабельне в порівнянні з циклом).</li>\n",
      "<li>Видалення деяких застарілих можливостей, які підтримуються у гілці 2.x для сумісності, зокрема: класи старого стилю, цілочисельний поділ з обрізанням результату як поведінка за вмовчанням, рядкові винятки, неявний відносний імпорт, оператор <code>exec</code> тощо</li>\n",
      "<li>Реорганізація стандартної бібліотеки.</li>\n",
      "<li>Новий синтаксис для метакласів.</li>\n",
      "<li>Змінений синтаксис присвоєння. Стало можливим, наприклад, надання <code>(a, * rest, b) = range(5)</code>. З іншого боку, <a href=\"/wiki/%D0%9F%D0%B0%D1%80%D0%B0%D0%BC%D0%B5%D1%82%D1%80_(%D0%BF%D1%80%D0%BE%D0%B3%D1%80%D0%B0%D0%BC%D1%83%D0%B2%D0%B0%D0%BD%D0%BD%D1%8F)\" title=\"Параметр (програмування)\">формальні параметри</a> функцій на зразок <code>def foo (a, (b, c))</code> більше неприпустимі.</li></ul>\n",
      "<ul><li>PEP8 Настанова щодо стилю оформлення коду.<sup class=\"reference\" id=\"cite_ref-71\"><a href=\"#cite_note-71\">[71]</a></sup></li></ul>\n",
      "<ul><li>RPython<sup class=\"reference\" id=\"cite_ref-72\"><a href=\"#cite_note-72\">[72]</a></sup> — створена в рамках проекту <a href=\"/wiki/PyPy\" title=\"PyPy\">PyPy</a> значно обмежена реалізація Python без динамізму часу виконання та деяких інших можливостей. RPython код можна компілювати в безліч інших мов/платформ — C, JavaScript, Lisp, .NET<sup class=\"reference\" id=\"cite_ref-73\"><a href=\"#cite_note-73\">[73]</a></sup>, <a class=\"mw-redirect\" href=\"/wiki/LLVM\" title=\"LLVM\">LLVM</a>. На RPython написаний інтерпретатор PyPy.</li>\n",
      "<li>Pyrex<sup class=\"reference\" id=\"cite_ref-pyrex_29-1\"><a href=\"#cite_note-pyrex-29\">[29]</a></sup> — обмежена реалізація Python, але трохи менше, ніж RPython. PyReX розширено можливостями статичної типізації типами з мови С і дозволяє вільно змішувати типізований та не типізований код. Призначений для написання модулів розширень, компілюється в код на мові С.</li>\n",
      "<li>Cython<sup class=\"reference\" id=\"cite_ref-74\"><a href=\"#cite_note-74\">[74]</a></sup> — розширена версія Pyrex.</li>\n",
      "<li>pyastra<sup class=\"reference\" id=\"cite_ref-75\"><a href=\"#cite_note-75\">[75]</a></sup> — компілятор Python коду в асемблер для PIC архітектури.</li>\n",
      "<li>Shed Skin<sup class=\"reference\" id=\"cite_ref-shed-skin-blog_31-1\"><a href=\"#cite_note-shed-skin-blog-31\">[31]</a></sup> — призначений для компіляції неявно статично типізованого Python коду в оптимізований код на мові С++, проект далекий від завершення.</li></ul>\n",
      "<ul><li><span class=\"citation book\"><a href=\"/wiki/%D0%9C%D0%B0%D1%80%D0%BA_%D0%9F%D1%96%D0%BB%D1%96%D0%B3%D1%80%D0%B8%D0%BC\" title=\"Марк Пілігрим\">Марк Пілігрим</a>. <i><a class=\"extiw\" href=\"https://uk.wikibooks.org/wiki/%D0%9F%D0%BE%D1%80%D0%B8%D0%BD%D1%8C%D1%82%D0%B5_%D1%83_Python_3\" title=\"b:Пориньте у Python 3\">Пориньте у Python 3</a></i>.</span><span class=\"Z3988\" title=\"ctx_ver=Z39.88-2004&amp;rfr_id=info%3Asid%2Fuk.wikipedia.org%3APython&amp;rft.au=%D0%9C%D0%B0%D1%80%D0%BA+%D0%9F%D1%96%D0%BB%D1%96%D0%B3%D1%80%D0%B8%D0%BC&amp;rft.aulast=%D0%9C%D0%B0%D1%80%D0%BA+%D0%9F%D1%96%D0%BB%D1%96%D0%B3%D1%80%D0%B8%D0%BC&amp;rft.btitle=%D0%9F%D0%BE%D1%80%D0%B8%D0%BD%D1%8C%D1%82%D0%B5+%D1%83+Python+3&amp;rft.genre=book&amp;rft_val_fmt=info%3Aofi%2Ffmt%3Akev%3Amtx%3Abook\"><span style=\"display:none;\"> </span></span></li></ul>\n",
      "<ul><li><a href=\"/wiki/Anaconda_(%D0%B4%D0%B8%D1%81%D1%82%D1%80%D0%B8%D0%B1%D1%83%D1%82%D0%B8%D0%B2_Python)\" title=\"Anaconda (дистрибутив Python)\">Anaconda</a></li>\n",
      "<li><a href=\"/wiki/PyScripter\" title=\"PyScripter\">PyScripter</a></li>\n",
      "<li><a href=\"/wiki/Thonny\" title=\"Thonny\">Thonny</a></li>\n",
      "<li><a href=\"/wiki/%D0%86%D0%BD%D1%82%D0%B5%D1%80%D0%BF%D1%80%D0%B5%D1%82%D0%B0%D1%82%D0%BE%D1%80\" title=\"Інтерпретатор\">Інтерпретатор</a></li>\n",
      "<li>Інші популярні інтерпретовані мови програмування\n",
      "<ul><li><a href=\"/wiki/PHP\" title=\"PHP\">PHP</a></li>\n",
      "<li><a href=\"/wiki/Perl\" title=\"Perl\">Perl</a></li>\n",
      "<li><a href=\"/wiki/Ruby\" title=\"Ruby\">Ruby</a></li></ul></li></ul>\n",
      "<ul><li><a href=\"/wiki/PHP\" title=\"PHP\">PHP</a></li>\n",
      "<li><a href=\"/wiki/Perl\" title=\"Perl\">Perl</a></li>\n",
      "<li><a href=\"/wiki/Ruby\" title=\"Ruby\">Ruby</a></li></ul>\n",
      "<ul><li><a class=\"external text\" href=\"https://python.org\" rel=\"nofollow\">Головний сайт спільноти розробників Python.</a></li>\n",
      "<li><a class=\"external text\" href=\"https://docs.python.org/2/index.html\" rel=\"nofollow\">Python documentation</a> - документація мови програмування.</li>\n",
      "<li><a class=\"external text\" href=\"http://www.vitaliypodoba.com/tutorials/python2-beginners-course/\" rel=\"nofollow\">Python 2: Курс Молодого Бійця</a> <span style=\"font-size:85%; cursor:help; margin-left:0.2em; color:#888;\" title=\"українською мовою\">(укр.)</span></li>\n",
      "<li><a class=\"external text\" href=\"https://sites.google.com/site/pythonukr/\" rel=\"nofollow\">«Програмування на мові Python (3.x). Початковий курс»</a> <span style=\"font-size:85%; cursor:help; margin-left:0.2em; color:#888;\" title=\"українською мовою\">(укр.)</span></li>\n",
      "<li><a class=\"external text\" href=\"http://docs.linux.org.ua/Програмування/Python/Підручник_мови_Python/\" rel=\"nofollow\">Підручник з Python українською</a></li></ul>\n",
      "<ul><li class=\"nv-view\"><a href=\"/wiki/%D0%A8%D0%B0%D0%B1%D0%BB%D0%BE%D0%BD:Python\" title=\"Шаблон:Python\"><abbr style=\";;background:none transparent;border:none;\" title=\"Переглянути цей шаблон\">п</abbr></a></li><li class=\"nv-talk\"><a class=\"new\" href=\"/w/index.php?title=%D0%9E%D0%B1%D0%B3%D0%BE%D0%B2%D0%BE%D1%80%D0%B5%D0%BD%D0%BD%D1%8F_%D1%88%D0%B0%D0%B1%D0%BB%D0%BE%D0%BD%D1%83:Python&amp;action=edit&amp;redlink=1\" title=\"Обговорення шаблону:Python (ще не написана)\"><abbr style=\";;background:none transparent;border:none;\" title=\"Обговорити цей шаблон\">о</abbr></a></li><li class=\"nv-edit\"><a class=\"external text\" href=\"https://uk.wikipedia.org/w/index.php?title=%D0%A8%D0%B0%D0%B1%D0%BB%D0%BE%D0%BD:Python&amp;action=edit\"><abbr style=\";;background:none transparent;border:none;\" title=\"Редагувати цей шаблон\">р</abbr></a></li></ul>\n",
      "<ul><li><a href=\"/wiki/CLPython\" title=\"CLPython\">CLPython</a></li>\n",
      "<li><a href=\"/wiki/CPython\" title=\"CPython\">CPython</a></li>\n",
      "<li><a href=\"/wiki/Cython\" title=\"Cython\">Cython</a></li>\n",
      "<li><a href=\"/wiki/IronPython\" title=\"IronPython\">IronPython</a></li>\n",
      "<li><a href=\"/wiki/Jython\" title=\"Jython\">Jython</a></li>\n",
      "<li><a href=\"/wiki/Psyco\" title=\"Psyco\">Psyco</a></li>\n",
      "<li><a href=\"/wiki/PyPy\" title=\"PyPy\">PyPy</a></li>\n",
      "<li><a class=\"new\" href=\"/w/index.php?title=Python_for_S60&amp;action=edit&amp;redlink=1\" title=\"Python for S60 (ще не написана)\">Python for S60</a></li>\n",
      "<li><a href=\"/wiki/Stackless_Python\" title=\"Stackless Python\">Stackless Python</a></li>\n",
      "<li><a class=\"new\" href=\"/w/index.php?title=Unladen_Swallow&amp;action=edit&amp;redlink=1\" title=\"Unladen Swallow (ще не написана)\">Unladen Swallow</a></li></ul>\n",
      "<ul><li><a href=\"/wiki/Zope#BlueBream\" title=\"Zope\">BlueBream</a></li>\n",
      "<li><a href=\"/wiki/CherryPy\" title=\"CherryPy\">CherryPy</a></li>\n",
      "<li><a href=\"/wiki/Django\" title=\"Django\">Django</a></li>\n",
      "<li><a href=\"/wiki/Flask\" title=\"Flask\">Flask</a></li>\n",
      "<li><a class=\"new\" href=\"/w/index.php?title=Grok_(%D0%B2%D0%B5%D0%B1-%D1%84%D1%80%D0%B5%D0%B9%D0%BC%D0%B2%D0%BE%D1%80%D0%BA)&amp;action=edit&amp;redlink=1\" title=\"Grok (веб-фреймворк) (ще не написана)\">Grok</a></li>\n",
      "<li><a class=\"new\" href=\"/w/index.php?title=Nagare_(%D0%B2%D0%B5%D0%B1-%D1%84%D1%80%D0%B5%D0%B9%D0%BC%D0%B2%D0%BE%D1%80%D0%BA)&amp;action=edit&amp;redlink=1\" title=\"Nagare (веб-фреймворк) (ще не написана)\">Nagare</a></li>\n",
      "<li><a class=\"new\" href=\"/w/index.php?title=Nevow&amp;action=edit&amp;redlink=1\" title=\"Nevow (ще не написана)\">Nevow</a></li>\n",
      "<li><a class=\"new\" href=\"/w/index.php?title=Pyjs&amp;action=edit&amp;redlink=1\" title=\"Pyjs (ще не написана)\">Pyjs</a></li>\n",
      "<li><a href=\"/wiki/Pylons\" title=\"Pylons\">Pylons</a></li>\n",
      "<li><a class=\"new\" href=\"/w/index.php?title=Pyramid_(%D0%B2%D0%B5%D0%B1-%D1%84%D1%80%D0%B5%D0%B9%D0%BC%D0%B2%D0%BE%D1%80%D0%BA)&amp;action=edit&amp;redlink=1\" title=\"Pyramid (веб-фреймворк) (ще не написана)\">Pyramid</a></li>\n",
      "<li><a class=\"new\" href=\"/w/index.php?title=Quixote_(%D0%B2%D0%B5%D0%B1-%D1%84%D1%80%D0%B5%D0%B9%D0%BC%D0%B2%D0%BE%D1%80%D0%BA)&amp;action=edit&amp;redlink=1\" title=\"Quixote (веб-фреймворк) (ще не написана)\">Quixote</a></li>\n",
      "<li><a class=\"new\" href=\"/w/index.php?title=Spyce&amp;action=edit&amp;redlink=1\" title=\"Spyce (ще не написана)\">Spyce</a></li>\n",
      "<li><a class=\"new\" href=\"/w/index.php?title=TACTIC_(%D0%B2%D0%B5%D0%B1-%D1%84%D1%80%D0%B5%D0%B9%D0%BC%D0%B2%D0%BE%D1%80%D0%BA)&amp;action=edit&amp;redlink=1\" title=\"TACTIC (веб-фреймворк) (ще не написана)\">TACTIC</a></li>\n",
      "<li><a href=\"/wiki/Tornado\" title=\"Tornado\">Tornado</a></li>\n",
      "<li><a href=\"/wiki/TurboGears\" title=\"TurboGears\">TurboGears</a></li>\n",
      "<li><a class=\"new\" href=\"/w/index.php?title=Twisted&amp;action=edit&amp;redlink=1\" title=\"Twisted (ще не написана)\">Twisted</a></li>\n",
      "<li><a href=\"/wiki/Webware_for_Python\" title=\"Webware for Python\">Webware</a></li>\n",
      "<li><a class=\"new\" href=\"/w/index.php?title=Web2py&amp;action=edit&amp;redlink=1\" title=\"Web2py (ще не написана)\">web2py</a></li>\n",
      "<li><a href=\"/wiki/Zope\" title=\"Zope\">Zope</a></li></ul>\n",
      "<ul><li><a class=\"new\" href=\"/w/index.php?title=Boa_Constructor&amp;action=edit&amp;redlink=1\" title=\"Boa Constructor (ще не написана)\">Boa</a></li>\n",
      "<li><a class=\"new\" href=\"/w/index.php?title=Eric_(IDE)&amp;action=edit&amp;redlink=1\" title=\"Eric (IDE) (ще не написана)\">Eric</a></li>\n",
      "<li><a class=\"new\" href=\"/w/index.php?title=IDLE&amp;action=edit&amp;redlink=1\" title=\"IDLE (ще не написана)\">IDLE</a></li>\n",
      "<li><a href=\"/wiki/PyCharm\" title=\"PyCharm\">PyCharm</a></li>\n",
      "<li><a class=\"new\" href=\"/w/index.php?title=PyDev&amp;action=edit&amp;redlink=1\" title=\"PyDev (ще не написана)\">PyDev</a></li>\n",
      "<li><a href=\"/wiki/PyScripter\" title=\"PyScripter\">PyScripter</a></li>\n",
      "<li><a class=\"new\" href=\"/w/index.php?title=Stani%27s_Python_Editor&amp;action=edit&amp;redlink=1\" title=\"Stani's Python Editor (ще не написана)\">SPE</a></li>\n",
      "<li><a class=\"new\" href=\"/w/index.php?title=Ninja-IDE&amp;action=edit&amp;redlink=1\" title=\"Ninja-IDE (ще не написана)\">Ninja-IDE</a></li>\n",
      "<li><a class=\"new\" href=\"/w/index.php?title=Python_Tools_for_Visual_Studio&amp;action=edit&amp;redlink=1\" title=\"Python Tools for Visual Studio (ще не написана)\">Visual Studio</a></li>\n",
      "<li><a href=\"/wiki/Wing_IDE\" title=\"Wing IDE\">Wing IDE</a></li>\n",
      "<li><i><a class=\"new\" href=\"/w/index.php?title=%D0%A1%D0%BF%D0%B8%D1%81%D0%BE%D0%BA_%D1%96%D0%BD%D1%82%D0%B5%D0%B3%D1%80%D0%BE%D0%B2%D0%B0%D0%BD%D0%B8%D1%85_%D1%81%D0%B5%D1%80%D0%B5%D0%B4%D0%BE%D0%B2%D0%B8%D1%89_%D1%80%D0%BE%D0%B7%D1%80%D0%BE%D0%B1%D0%BA%D0%B8_%D0%B4%D0%BB%D1%8F_Python&amp;action=edit&amp;redlink=1\" title=\"Список інтегрованих середовищ розробки для Python (ще не написана)\">інші</a>...</i></li></ul>\n",
      "<ul><li><a href=\"/wiki/WSGI\" title=\"WSGI\">WSGI</a></li></ul>\n",
      "<ul><li><a href=\"/wiki/%D0%A1%D1%82%D0%B0%D0%BD%D0%B4%D0%B0%D1%80%D1%82%D0%BD%D0%B0_%D0%B1%D1%96%D0%B1%D0%BB%D1%96%D0%BE%D1%82%D0%B5%D0%BA%D0%B0_%D0%BC%D0%BE%D0%B2%D0%B8_Python\" title=\"Стандартна бібліотека мови Python\">Стандартна бібліотека мови Python</a></li></ul>\n",
      "<ul><li class=\"nv-view\"><a href=\"/wiki/%D0%A8%D0%B0%D0%B1%D0%BB%D0%BE%D0%BD:%D0%9C%D0%BE%D0%B2%D0%B8_%D0%BF%D1%80%D0%BE%D0%B3%D1%80%D0%B0%D0%BC%D1%83%D0%B2%D0%B0%D0%BD%D0%BD%D1%8F\" title=\"Шаблон:Мови програмування\"><abbr style=\";;background:none transparent;border:none;\" title=\"Переглянути цей шаблон\">п</abbr></a></li><li class=\"nv-talk\"><a href=\"/wiki/%D0%9E%D0%B1%D0%B3%D0%BE%D0%B2%D0%BE%D1%80%D0%B5%D0%BD%D0%BD%D1%8F_%D1%88%D0%B0%D0%B1%D0%BB%D0%BE%D0%BD%D1%83:%D0%9C%D0%BE%D0%B2%D0%B8_%D0%BF%D1%80%D0%BE%D0%B3%D1%80%D0%B0%D0%BC%D1%83%D0%B2%D0%B0%D0%BD%D0%BD%D1%8F\" title=\"Обговорення шаблону:Мови програмування\"><abbr style=\";;background:none transparent;border:none;\" title=\"Обговорити цей шаблон\">о</abbr></a></li><li class=\"nv-edit\"><a class=\"external text\" href=\"https://uk.wikipedia.org/w/index.php?title=%D0%A8%D0%B0%D0%B1%D0%BB%D0%BE%D0%BD:%D0%9C%D0%BE%D0%B2%D0%B8_%D0%BF%D1%80%D0%BE%D0%B3%D1%80%D0%B0%D0%BC%D1%83%D0%B2%D0%B0%D0%BD%D0%BD%D1%8F&amp;action=edit\"><abbr style=\";;background:none transparent;border:none;\" title=\"Редагувати цей шаблон\">р</abbr></a></li></ul>\n",
      "<ul><li><a href=\"/wiki/%D0%9C%D0%BE%D0%B2%D0%B0_%D0%B0%D1%81%D0%B5%D0%BC%D0%B1%D0%BB%D0%B5%D1%80%D0%B0\" title=\"Мова асемблера\">Мова асемблера</a>\n",
      "<ul><li><a class=\"new\" href=\"/w/index.php?title=ASSK&amp;action=edit&amp;redlink=1\" title=\"ASSK (ще не написана)\">ASSK</a><sup class=\"noprint\"><a class=\"extiw\" href=\"https://pl.wikipedia.org/wiki/ASSK\" title=\"pl:ASSK\"><span style=\"font-style:normal;font-weight:normal;font-size:normal\" title=\"ASSK — версія статті «ASSK» польською мовою\">[pl]</span></a></sup></li>\n",
      "<li><a href=\"/wiki/FASM\" title=\"FASM\">FASM</a></li>\n",
      "<li><a class=\"new\" href=\"/w/index.php?title=GNU_Assembler&amp;action=edit&amp;redlink=1\" title=\"GNU Assembler (ще не написана)\">GAS</a><sup class=\"noprint\"><a class=\"extiw\" href=\"https://en.wikipedia.org/wiki/GNU_Assembler\" title=\"en:GNU Assembler\"><span style=\"font-style:normal;font-weight:normal;font-size:normal\" title=\"GNU Assembler — версія статті «GNU Assembler» англійською мовою\">[en]</span></a></sup></li>\n",
      "<li><a href=\"/wiki/HLA_(%D0%BF%D1%80%D0%BE%D0%B3%D1%80%D0%B0%D0%BC%D1%83%D0%B2%D0%B0%D0%BD%D0%BD%D1%8F)\" title=\"HLA (програмування)\">HLA</a></li>\n",
      "<li><a href=\"/wiki/MASM\" title=\"MASM\">MASM</a></li>\n",
      "<li><a href=\"/wiki/NASM\" title=\"NASM\">NASM</a></li>\n",
      "<li><a href=\"/wiki/TASM\" title=\"TASM\">TASM</a></li>\n",
      "<li><a class=\"new\" href=\"/w/index.php?title=WASM&amp;action=edit&amp;redlink=1\" title=\"WASM (ще не написана)\">WASM</a><sup class=\"noprint\"><a class=\"extiw\" href=\"https://en.wikipedia.org/wiki/Open_Watcom_Assembler\" title=\"en:Open Watcom Assembler\"><span style=\"font-style:normal;font-weight:normal;font-size:normal\" title=\"Open Watcom Assembler — версія статті «WASM» англійською мовою\">[en]</span></a></sup></li></ul></li>\n",
      "<li><a class=\"new\" href=\"/w/index.php?title=PLAN_(%D1%96%D0%BD%D1%84%D0%BE%D1%80%D0%BC%D0%B0%D1%82%D0%B8%D0%BA%D0%B0)&amp;action=edit&amp;redlink=1\" title=\"PLAN (інформатика) (ще не написана)\">PLAN</a><sup class=\"noprint\"><a class=\"extiw\" href=\"https://en.wikipedia.org/wiki/PLAN_(computer_language)\" title=\"en:PLAN (computer language)\"><span style=\"font-style:normal;font-weight:normal;font-size:normal\" title=\"PLAN (computer language) — версія статті «PLAN (інформатика)» англійською мовою\">[en]</span></a></sup></li>\n",
      "<li><a class=\"new\" href=\"/w/index.php?title=SAS_(%D0%B0%D1%81%D0%B5%D0%BC%D0%B1%D0%BB%D0%B5%D1%80)&amp;action=edit&amp;redlink=1\" title=\"SAS (асемблер) (ще не написана)\">SAS</a><sup class=\"noprint\"><a class=\"extiw\" href=\"https://pl.wikipedia.org/wiki/SAS_(asembler)\" title=\"pl:SAS (asembler)\"><span style=\"font-style:normal;font-weight:normal;font-size:normal\" title=\"SAS (asembler) — версія статті «SAS (асемблер)» польською мовою\">[pl]</span></a></sup></li>\n",
      "<li><a class=\"new\" href=\"/w/index.php?title=Sawik&amp;action=edit&amp;redlink=1\" title=\"Sawik (ще не написана)\">Sawik</a><sup class=\"noprint\"><a class=\"extiw\" href=\"https://pl.wikipedia.org/wiki/Sawik\" title=\"pl:Sawik\"><span style=\"font-style:normal;font-weight:normal;font-size:normal\" title=\"Sawik — версія статті «Sawik» польською мовою\">[pl]</span></a></sup></li>\n",
      "<li><a class=\"new\" href=\"/w/index.php?title=TUZ-3&amp;action=edit&amp;redlink=1\" title=\"TUZ-3 (ще не написана)\">TUZ-3</a><sup class=\"noprint\"><a class=\"extiw\" href=\"https://pl.wikipedia.org/wiki/TUZ-3\" title=\"pl:TUZ-3\"><span style=\"font-style:normal;font-weight:normal;font-size:normal\" title=\"TUZ-3 — версія статті «TUZ-3» польською мовою\">[pl]</span></a></sup></li>\n",
      "<li><a href=\"/wiki/%D0%91%D0%B0%D0%B9%D1%82-%D0%BA%D0%BE%D0%B4\" title=\"Байт-код\">Байт-код</a>\n",
      "<ul><li><a class=\"mw-redirect\" href=\"/wiki/Pcode\" title=\"Pcode\">Pcode</a></li>\n",
      "<li><a href=\"/wiki/%D0%91%D0%B0%D0%B9%D1%82-%D0%BA%D0%BE%D0%B4_Java\" title=\"Байт-код Java\">Байт-код Java</a></li>\n",
      "<li><a class=\"new\" href=\"/w/index.php?title=%D0%91%D0%B0%D0%B9%D1%82-%D0%BA%D0%BE%D0%B4_Perl&amp;action=edit&amp;redlink=1\" title=\"Байт-код Perl (ще не написана)\">Байт-код Perl</a></li>\n",
      "<li><a href=\"/wiki/%D0%9A%D0%B5%D1%80%D0%BE%D0%B2%D0%B0%D0%BD%D0%B8%D0%B9_%D0%BA%D0%BE%D0%B4\" title=\"Керований код\">Керований код</a></li></ul></li>\n",
      "<li><a href=\"/wiki/%D0%9C%D0%B0%D1%88%D0%B8%D0%BD%D0%BD%D0%B8%D0%B9_%D0%BA%D0%BE%D0%B4\" title=\"Машинний код\">Машинний код</a></li></ul>\n",
      "<ul><li><a class=\"new\" href=\"/w/index.php?title=ASSK&amp;action=edit&amp;redlink=1\" title=\"ASSK (ще не написана)\">ASSK</a><sup class=\"noprint\"><a class=\"extiw\" href=\"https://pl.wikipedia.org/wiki/ASSK\" title=\"pl:ASSK\"><span style=\"font-style:normal;font-weight:normal;font-size:normal\" title=\"ASSK — версія статті «ASSK» польською мовою\">[pl]</span></a></sup></li>\n",
      "<li><a href=\"/wiki/FASM\" title=\"FASM\">FASM</a></li>\n",
      "<li><a class=\"new\" href=\"/w/index.php?title=GNU_Assembler&amp;action=edit&amp;redlink=1\" title=\"GNU Assembler (ще не написана)\">GAS</a><sup class=\"noprint\"><a class=\"extiw\" href=\"https://en.wikipedia.org/wiki/GNU_Assembler\" title=\"en:GNU Assembler\"><span style=\"font-style:normal;font-weight:normal;font-size:normal\" title=\"GNU Assembler — версія статті «GNU Assembler» англійською мовою\">[en]</span></a></sup></li>\n",
      "<li><a href=\"/wiki/HLA_(%D0%BF%D1%80%D0%BE%D0%B3%D1%80%D0%B0%D0%BC%D1%83%D0%B2%D0%B0%D0%BD%D0%BD%D1%8F)\" title=\"HLA (програмування)\">HLA</a></li>\n",
      "<li><a href=\"/wiki/MASM\" title=\"MASM\">MASM</a></li>\n",
      "<li><a href=\"/wiki/NASM\" title=\"NASM\">NASM</a></li>\n",
      "<li><a href=\"/wiki/TASM\" title=\"TASM\">TASM</a></li>\n",
      "<li><a class=\"new\" href=\"/w/index.php?title=WASM&amp;action=edit&amp;redlink=1\" title=\"WASM (ще не написана)\">WASM</a><sup class=\"noprint\"><a class=\"extiw\" href=\"https://en.wikipedia.org/wiki/Open_Watcom_Assembler\" title=\"en:Open Watcom Assembler\"><span style=\"font-style:normal;font-weight:normal;font-size:normal\" title=\"Open Watcom Assembler — версія статті «WASM» англійською мовою\">[en]</span></a></sup></li></ul>\n",
      "<ul><li><a class=\"mw-redirect\" href=\"/wiki/Pcode\" title=\"Pcode\">Pcode</a></li>\n",
      "<li><a href=\"/wiki/%D0%91%D0%B0%D0%B9%D1%82-%D0%BA%D0%BE%D0%B4_Java\" title=\"Байт-код Java\">Байт-код Java</a></li>\n",
      "<li><a class=\"new\" href=\"/w/index.php?title=%D0%91%D0%B0%D0%B9%D1%82-%D0%BA%D0%BE%D0%B4_Perl&amp;action=edit&amp;redlink=1\" title=\"Байт-код Perl (ще не написана)\">Байт-код Perl</a></li>\n",
      "<li><a href=\"/wiki/%D0%9A%D0%B5%D1%80%D0%BE%D0%B2%D0%B0%D0%BD%D0%B8%D0%B9_%D0%BA%D0%BE%D0%B4\" title=\"Керований код\">Керований код</a></li></ul>\n",
      "<ul><li><a class=\"new\" href=\"/w/index.php?title=ABAP&amp;action=edit&amp;redlink=1\" title=\"ABAP (ще не написана)\">ABAP</a><sup class=\"noprint\"><a class=\"extiw\" href=\"https://en.wikipedia.org/wiki/ABAP\" title=\"en:ABAP\"><span style=\"font-style:normal;font-weight:normal;font-size:normal\" title=\"ABAP — версія статті «ABAP» англійською мовою\">[en]</span></a></sup></li>\n",
      "<li><a class=\"new\" href=\"/w/index.php?title=Action!&amp;action=edit&amp;redlink=1\" title=\"Action! (ще не написана)\">Action!</a><sup class=\"noprint\"><a class=\"extiw\" href=\"https://en.wikipedia.org/wiki/Action!_(programming_language)\" title=\"en:Action! (programming language)\"><span style=\"font-style:normal;font-weight:normal;font-size:normal\" title=\"Action! (programming language) — версія статті «Action!» англійською мовою\">[en]</span></a></sup></li>\n",
      "<li><a href=\"/wiki/ActionScript\" title=\"ActionScript\">ActionScript</a></li>\n",
      "<li><a href=\"/wiki/Ada\" title=\"Ada\">Ada</a></li>\n",
      "<li><a href=\"/wiki/ALGOL\" title=\"ALGOL\">ALGOL</a></li>\n",
      "<li><a href=\"/wiki/Alice_(%D0%BC%D0%BE%D0%B2%D0%B0_%D0%BF%D1%80%D0%BE%D0%B3%D1%80%D0%B0%D0%BC%D1%83%D0%B2%D0%B0%D0%BD%D0%BD%D1%8F)\" title=\"Alice (мова програмування)\">Alice</a></li>\n",
      "<li><a href=\"/wiki/APL\" title=\"APL\">APL</a></li>\n",
      "<li><a href=\"/wiki/AWK\" title=\"AWK\">AWK</a></li>\n",
      "<li><a href=\"/wiki/B_(%D0%BC%D0%BE%D0%B2%D0%B0_%D0%BF%D1%80%D0%BE%D0%B3%D1%80%D0%B0%D0%BC%D1%83%D0%B2%D0%B0%D0%BD%D0%BD%D1%8F)\" title=\"B (мова програмування)\">B</a></li>\n",
      "<li><a href=\"/wiki/BASIC\" title=\"BASIC\">BASIC</a></li>\n",
      "<li><a href=\"/wiki/BCPL\" title=\"BCPL\">BCPL</a></li>\n",
      "<li><a href=\"/wiki/C_(%D0%BC%D0%BE%D0%B2%D0%B0_%D0%BF%D1%80%D0%BE%D0%B3%D1%80%D0%B0%D0%BC%D1%83%D0%B2%D0%B0%D0%BD%D0%BD%D1%8F)\" title=\"C (мова програмування)\">C</a></li>\n",
      "<li><a href=\"/wiki/C--\" title=\"C--\">C--</a></li>\n",
      "<li><a href=\"/wiki/C%2B%2B\" title=\"C++\">C++</a></li>\n",
      "<li><a href=\"/wiki/C%2B%2B/CLI\" title=\"C++/CLI\">C++/CLI</a></li>\n",
      "<li><a href=\"/wiki/C_Sharp\" title=\"C Sharp\">C#</a></li>\n",
      "<li><a class=\"new\" href=\"/w/index.php?title=Clarion_(%D0%BC%D0%BE%D0%B2%D0%B0_%D0%BF%D1%80%D0%BE%D0%B3%D1%80%D0%B0%D0%BC%D1%83%D0%B2%D0%B0%D0%BD%D0%BD%D1%8F)&amp;action=edit&amp;redlink=1\" title=\"Clarion (мова програмування) (ще не написана)\">Clarion</a><sup class=\"noprint\"><a class=\"extiw\" href=\"https://en.wikipedia.org/wiki/Clarion_(programming_language)\" title=\"en:Clarion (programming language)\"><span style=\"font-style:normal;font-weight:normal;font-size:normal\" title=\"Clarion (programming language) — версія статті «Clarion (мова програмування)» англійською мовою\">[en]</span></a></sup></li>\n",
      "<li><a class=\"new\" href=\"/w/index.php?title=Clascal&amp;action=edit&amp;redlink=1\" title=\"Clascal (ще не написана)\">Clascal</a><sup class=\"noprint\"><a class=\"extiw\" href=\"https://en.wikipedia.org/wiki/Clascal\" title=\"en:Clascal\"><span style=\"font-style:normal;font-weight:normal;font-size:normal\" title=\"Clascal — версія статті «Clascal» англійською мовою\">[en]</span></a></sup></li>\n",
      "<li><a href=\"/wiki/Clipper\" title=\"Clipper\">Clipper</a></li>\n",
      "<li><a href=\"/wiki/Clojure\" title=\"Clojure\">Clojure</a></li>\n",
      "<li><a href=\"/wiki/COBOL\" title=\"COBOL\">COBOL</a></li>\n",
      "<li><a href=\"/wiki/CoffeeScript\" title=\"CoffeeScript\">CoffeeScript</a></li>\n",
      "<li><a href=\"/wiki/COMAL\" title=\"COMAL\">COMAL</a></li>\n",
      "<li><a href=\"/wiki/Common_Lisp\" title=\"Common Lisp\">Common Lisp</a></li>\n",
      "<li><a class=\"new\" href=\"/w/index.php?title=CPL&amp;action=edit&amp;redlink=1\" title=\"CPL (ще не написана)\">CPL</a><sup class=\"noprint\"><a class=\"extiw\" href=\"https://en.wikipedia.org/wiki/CPL_(programming_language)\" title=\"en:CPL (programming language)\"><span style=\"font-style:normal;font-weight:normal;font-size:normal\" title=\"CPL (programming language) — версія статті «CPL» англійською мовою\">[en]</span></a></sup></li>\n",
      "<li><a href=\"/wiki/Crystal_(%D0%BC%D0%BE%D0%B2%D0%B0_%D0%BF%D1%80%D0%BE%D0%B3%D1%80%D0%B0%D0%BC%D1%83%D0%B2%D0%B0%D0%BD%D0%BD%D1%8F)\" title=\"Crystal (мова програмування)\">Crystal</a></li>\n",
      "<li><a href=\"/wiki/D_(%D0%BC%D0%BE%D0%B2%D0%B0_%D0%BF%D1%80%D0%BE%D0%B3%D1%80%D0%B0%D0%BC%D1%83%D0%B2%D0%B0%D0%BD%D0%BD%D1%8F)\" title=\"D (мова програмування)\">D</a></li>\n",
      "<li><a href=\"/wiki/Delphi.NET\" title=\"Delphi.NET\">Delphi.NET</a></li>\n",
      "<li><a href=\"/wiki/Embarcadero_Delphi#Delphi_Prism\" title=\"Embarcadero Delphi\">Delphi Prism</a></li>\n",
      "<li><a href=\"/wiki/Eiffel\" title=\"Eiffel\">Eiffel</a></li>\n",
      "<li><a href=\"/wiki/Erlang\" title=\"Erlang\">Erlang</a></li>\n",
      "<li><a href=\"/wiki/F_Sharp\" title=\"F Sharp\">F#</a></li>\n",
      "<li><a href=\"/wiki/Forth\" title=\"Forth\">Forth</a></li>\n",
      "<li><a href=\"/wiki/%D0%A4%D0%BE%D1%80%D1%82%D1%80%D0%B0%D0%BD\" title=\"Фортран\">Fortran</a></li>\n",
      "<li><a href=\"/wiki/FreeBASIC\" title=\"FreeBASIC\">FreeBASIC</a></li>\n",
      "<li><a href=\"/wiki/Free_Pascal\" title=\"Free Pascal\">Free Pascal</a></li>\n",
      "<li><a class=\"new\" href=\"/w/index.php?title=GAUSS&amp;action=edit&amp;redlink=1\" title=\"GAUSS (ще не написана)\">GAUSS</a><sup class=\"noprint\"><a class=\"extiw\" href=\"https://en.wikipedia.org/wiki/GAUSS\" title=\"en:GAUSS\"><span style=\"font-style:normal;font-weight:normal;font-size:normal\" title=\"GAUSS — версія статті «GAUSS» англійською мовою\">[en]</span></a></sup></li>\n",
      "<li><a href=\"/wiki/Go_(%D0%BC%D0%BE%D0%B2%D0%B0_%D0%BF%D1%80%D0%BE%D0%B3%D1%80%D0%B0%D0%BC%D1%83%D0%B2%D0%B0%D0%BD%D0%BD%D1%8F)\" title=\"Go (мова програмування)\">Go</a></li>\n",
      "<li><a href=\"/wiki/Haskell\" title=\"Haskell\">Haskell</a></li>\n",
      "<li><a class=\"new\" href=\"/w/index.php?title=Icon&amp;action=edit&amp;redlink=1\" title=\"Icon (ще не написана)\">Icon</a><sup class=\"noprint\"><a class=\"extiw\" href=\"https://en.wikipedia.org/wiki/Icon_(programming_language)\" title=\"en:Icon (programming language)\"><span style=\"font-style:normal;font-weight:normal;font-size:normal\" title=\"Icon (programming language) — версія статті «Icon» англійською мовою\">[en]</span></a></sup></li>\n",
      "<li><a class=\"new\" href=\"/w/index.php?title=Informix-4GL&amp;action=edit&amp;redlink=1\" title=\"Informix-4GL (ще не написана)\">Informix-4GL</a><sup class=\"noprint\"><a class=\"extiw\" href=\"https://en.wikipedia.org/wiki/Informix-4GL\" title=\"en:Informix-4GL\"><span style=\"font-style:normal;font-weight:normal;font-size:normal\" title=\"Informix-4GL — версія статті «Informix-4GL» англійською мовою\">[en]</span></a></sup></li>\n",
      "<li><a href=\"/wiki/Java\" title=\"Java\">Java</a></li>\n",
      "<li><a href=\"/wiki/JavaScript\" title=\"JavaScript\">JavaScript</a></li>\n",
      "<li><a href=\"/wiki/Kotlin\" title=\"Kotlin\">Kotlin</a></li>\n",
      "<li><a href=\"/wiki/Lisp\" title=\"Lisp\">Lisp</a></li>\n",
      "<li><a href=\"/wiki/Logo_(%D0%BC%D0%BE%D0%B2%D0%B0_%D0%BF%D1%80%D0%BE%D0%B3%D1%80%D0%B0%D0%BC%D1%83%D0%B2%D0%B0%D0%BD%D0%BD%D1%8F)\" title=\"Logo (мова програмування)\">Logo</a></li>\n",
      "<li><a href=\"/wiki/Lua\" title=\"Lua\">Lua</a></li>\n",
      "<li><a class=\"new\" href=\"/w/index.php?title=MCPL&amp;action=edit&amp;redlink=1\" title=\"MCPL (ще не написана)\">MCPL</a><sup class=\"noprint\"><a class=\"extiw\" href=\"https://pl.wikipedia.org/wiki/MCPL\" title=\"pl:MCPL\"><span style=\"font-style:normal;font-weight:normal;font-size:normal\" title=\"MCPL — версія статті «MCPL» польською мовою\">[pl]</span></a></sup></li>\n",
      "<li><a href=\"/wiki/ML\" title=\"ML\">Meta Language</a></li>\n",
      "<li><a href=\"/wiki/Microsoft_Small_Basic\" title=\"Microsoft Small Basic\">Microsoft Small Basic</a></li>\n",
      "<li><a class=\"new\" href=\"/w/index.php?title=Modula-2&amp;action=edit&amp;redlink=1\" title=\"Modula-2 (ще не написана)\">Modula-2</a><sup class=\"noprint\"><a class=\"extiw\" href=\"https://en.wikipedia.org/wiki/Modula-2\" title=\"en:Modula-2\"><span style=\"font-style:normal;font-weight:normal;font-size:normal\" title=\"Modula-2 — версія статті «Modula-2» англійською мовою\">[en]</span></a></sup></li>\n",
      "<li><a class=\"new\" href=\"/w/index.php?title=MUMPS&amp;action=edit&amp;redlink=1\" title=\"MUMPS (ще не написана)\">MUMPS</a><sup class=\"noprint\"><a class=\"extiw\" href=\"https://en.wikipedia.org/wiki/MUMPS\" title=\"en:MUMPS\"><span style=\"font-style:normal;font-weight:normal;font-size:normal\" title=\"MUMPS — версія статті «MUMPS» англійською мовою\">[en]</span></a></sup></li>\n",
      "<li><a href=\"/wiki/Nemerle\" title=\"Nemerle\">Nemerle</a></li>\n",
      "<li><a href=\"/wiki/%D0%9E%D0%B1%D0%B5%D1%80%D0%BE%D0%BD_(%D0%BC%D0%BE%D0%B2%D0%B0_%D0%BF%D1%80%D0%BE%D0%B3%D1%80%D0%B0%D0%BC%D1%83%D0%B2%D0%B0%D0%BD%D0%BD%D1%8F)\" title=\"Оберон (мова програмування)\">Oberon</a></li>\n",
      "<li><a href=\"/wiki/Object_Pascal\" title=\"Object Pascal\">Object Pascal</a></li>\n",
      "<li><a href=\"/wiki/Objective-C\" title=\"Objective-C\">Objective-C</a></li>\n",
      "<li><a href=\"/wiki/Objective_Caml\" title=\"Objective Caml\">OCaml</a></li>\n",
      "<li><a href=\"/wiki/Occam\" title=\"Occam\">occam</a></li>\n",
      "<li><a href=\"/wiki/Oxygene_(%D0%BC%D0%BE%D0%B2%D0%B0_%D0%BF%D1%80%D0%BE%D0%B3%D1%80%D0%B0%D0%BC%D1%83%D0%B2%D0%B0%D0%BD%D0%BD%D1%8F)\" title=\"Oxygene (мова програмування)\">Oxygene</a></li>\n",
      "<li><a href=\"/wiki/Opa_(%D0%BC%D0%BE%D0%B2%D0%B0_%D0%BF%D1%80%D0%BE%D0%B3%D1%80%D0%B0%D0%BC%D1%83%D0%B2%D0%B0%D0%BD%D0%BD%D1%8F)\" title=\"Opa (мова програмування)\">Opa</a></li>\n",
      "<li><a class=\"mw-redirect mw-disambig\" href=\"/wiki/Oz\" title=\"Oz\">Oz</a><span class=\"noprint visible-to-contributors\" style=\"color:red\" title=\"Шаблон «не перекладено» не замінено\">●</span></li>\n",
      "<li><a href=\"/wiki/Pascal\" title=\"Pascal\">Pascal</a></li>\n",
      "<li><a href=\"/wiki/PL/I\" title=\"PL/I\">PL/I</a></li>\n",
      "<li><a href=\"/wiki/PL/M\" title=\"PL/M\">PL/M</a></li>\n",
      "<li><a class=\"new\" href=\"/w/index.php?title=PLEX&amp;action=edit&amp;redlink=1\" title=\"PLEX (ще не написана)\">PLEX</a><sup class=\"noprint\"><a class=\"extiw\" href=\"https://pl.wikipedia.org/wiki/PLEX\" title=\"pl:PLEX\"><span style=\"font-style:normal;font-weight:normal;font-size:normal\" title=\"PLEX — версія статті «PLEX» польською мовою\">[pl]</span></a></sup></li>\n",
      "<li><a class=\"new\" href=\"/w/index.php?title=Processing&amp;action=edit&amp;redlink=1\" title=\"Processing (ще не написана)\">Processing</a><sup class=\"noprint\"><a class=\"extiw\" href=\"https://en.wikipedia.org/wiki/Processing_(programming_language)\" title=\"en:Processing (programming language)\"><span style=\"font-style:normal;font-weight:normal;font-size:normal\" title=\"Processing (programming language) — версія статті «Processing» англійською мовою\">[en]</span></a></sup></li>\n",
      "<li><a class=\"mw-selflink selflink\">Python</a></li>\n",
      "<li><a href=\"/wiki/REXX\" title=\"REXX\">REXX</a></li>\n",
      "<li><a href=\"/wiki/RPG_(%D0%BC%D0%BE%D0%B2%D0%B0_%D0%BF%D1%80%D0%BE%D0%B3%D1%80%D0%B0%D0%BC%D1%83%D0%B2%D0%B0%D0%BD%D0%BD%D1%8F)\" title=\"RPG (мова програмування)\">RPG-II</a></li>\n",
      "<li><a class=\"mw-redirect\" href=\"/wiki/Racket_(%D0%BC%D0%BE%D0%B2%D0%B0_%D0%BF%D1%80%D0%BE%D0%B3%D1%80%D0%B0%D0%BC%D1%83%D0%B2%D0%B0%D0%BD%D0%BD%D1%8F)\" title=\"Racket (мова програмування)\">Racket</a></li>\n",
      "<li><a href=\"/wiki/Ruby\" title=\"Ruby\">Ruby</a></li>\n",
      "<li><a href=\"/wiki/Rust_(%D0%BC%D0%BE%D0%B2%D0%B0_%D0%BF%D1%80%D0%BE%D0%B3%D1%80%D0%B0%D0%BC%D1%83%D0%B2%D0%B0%D0%BD%D0%BD%D1%8F)\" title=\"Rust (мова програмування)\">Rust</a></li>\n",
      "<li><a class=\"new\" href=\"/w/index.php?title=SAKO&amp;action=edit&amp;redlink=1\" title=\"SAKO (ще не написана)\">SAKO</a><sup class=\"noprint\"><a class=\"extiw\" href=\"https://pl.wikipedia.org/wiki/SAKO\" title=\"pl:SAKO\"><span style=\"font-style:normal;font-weight:normal;font-size:normal\" title=\"SAKO — версія статті «SAKO» польською мовою\">[pl]</span></a></sup></li>\n",
      "<li><a class=\"new\" href=\"/w/index.php?title=SAS_4GL&amp;action=edit&amp;redlink=1\" title=\"SAS 4GL (ще не написана)\">SAS 4GL</a><sup class=\"noprint\"><a class=\"extiw\" href=\"https://pl.wikipedia.org/wiki/SAS_4GL\" title=\"pl:SAS 4GL\"><span style=\"font-style:normal;font-weight:normal;font-size:normal\" title=\"SAS 4GL — версія статті «SAS 4GL» польською мовою\">[pl]</span></a></sup></li>\n",
      "<li><a href=\"/wiki/Scala\" title=\"Scala\">Scala</a></li>\n",
      "<li><a href=\"/wiki/Scheme\" title=\"Scheme\">Scheme</a></li>\n",
      "<li><a href=\"/wiki/Simula\" title=\"Simula\">Simula</a></li>\n",
      "<li><a href=\"/wiki/Smalltalk\" title=\"Smalltalk\">Smalltalk</a></li>\n",
      "<li><a href=\"/wiki/Snobol\" title=\"Snobol\">Snobol</a></li>\n",
      "<li><a href=\"/wiki/Standard_ML\" title=\"Standard ML\">Standard Meta Language</a></li>\n",
      "<li><a href=\"/wiki/Swift_(%D0%BC%D0%BE%D0%B2%D0%B0_%D0%BF%D1%80%D0%BE%D0%B3%D1%80%D0%B0%D0%BC%D1%83%D0%B2%D0%B0%D0%BD%D0%BD%D1%8F)\" title=\"Swift (мова програмування)\">Swift</a></li>\n",
      "<li><a href=\"/wiki/Tcl\" title=\"Tcl\">Tcl</a></li>\n",
      "<li><a href=\"/wiki/Turbo_Pascal\" title=\"Turbo Pascal\">Turbo Pascal</a></li>\n",
      "<li><a href=\"/wiki/Vala\" title=\"Vala\">Vala</a></li>\n",
      "<li><a href=\"/wiki/Visual_Basic\" title=\"Visual Basic\">Visual Basic</a></li>\n",
      "<li><a href=\"/wiki/Visual_Basic_.NET\" title=\"Visual Basic .NET\">Visual Basic.NET</a></li>\n",
      "<li><a href=\"/wiki/Visual_J_Sharp\" title=\"Visual J Sharp\">Visual J Sharp</a></li>\n",
      "<li><a href=\"/wiki/%D0%9B%D1%8F%D0%BF%D0%B0%D1%81_(%D0%BC%D0%BE%D0%B2%D0%B0_%D0%BF%D1%80%D0%BE%D0%B3%D1%80%D0%B0%D0%BC%D1%83%D0%B2%D0%B0%D0%BD%D0%BD%D1%8F)\" title=\"Ляпас (мова програмування)\">ЛЯПАС</a></li></ul>\n",
      "<ul><li><a href=\"/wiki/Perl\" title=\"Perl\">Perl</a></li>\n",
      "<li><a href=\"/wiki/PHP\" title=\"PHP\">PHP</a></li></ul>\n",
      "<ul><li><a href=\"/wiki/PL/SQL\" title=\"PL/SQL\">PL/SQL</a></li>\n",
      "<li><a href=\"/wiki/SQL\" title=\"SQL\">SQL</a></li>\n",
      "<li><a href=\"/wiki/Transact-SQL\" title=\"Transact-SQL\">Transact-SQL</a></li></ul>\n",
      "<ul><li><a class=\"new\" href=\"/w/index.php?title=Asymptote&amp;action=edit&amp;redlink=1\" title=\"Asymptote (ще не написана)\">Asymptote</a><sup class=\"noprint\"><a class=\"extiw\" href=\"https://en.wikipedia.org/wiki/Asymptote_(vector_graphics_language)\" title=\"en:Asymptote (vector graphics language)\"><span style=\"font-style:normal;font-weight:normal;font-size:normal\" title=\"Asymptote (vector graphics language) — версія статті «Asymptote» англійською мовою\">[en]</span></a></sup></li>\n",
      "<li><a href=\"/wiki/HTML\" title=\"HTML\">HTML</a></li>\n",
      "<li><a href=\"/wiki/Haml\" title=\"Haml\">Haml</a></li>\n",
      "<li><a href=\"/wiki/Metafont\" title=\"Metafont\">METAFONT</a></li>\n",
      "<li><a href=\"/wiki/PostScript\" title=\"PostScript\">PostScript</a></li>\n",
      "<li><a href=\"/wiki/XML\" title=\"XML\">XML</a></li></ul>\n",
      "<ul><li><a class=\"new\" href=\"/w/index.php?title=Lustre_(%D0%BC%D0%BE%D0%B2%D0%B0_%D0%BF%D1%80%D0%BE%D0%B3%D1%80%D0%B0%D0%BC%D1%83%D0%B2%D0%B0%D0%BD%D0%BD%D1%8F)&amp;action=edit&amp;redlink=1\" title=\"Lustre (мова програмування) (ще не написана)\">Lustre</a><sup class=\"noprint\"><a class=\"extiw\" href=\"https://en.wikipedia.org/wiki/Lustre_(programming_language)\" title=\"en:Lustre (programming language)\"><span style=\"font-style:normal;font-weight:normal;font-size:normal\" title=\"Lustre (programming language) — версія статті «Lustre (мова програмування)» англійською мовою\">[en]</span></a></sup></li></ul>\n",
      "<ul><li><a href=\"/wiki/Maple\" title=\"Maple\">Maple</a></li>\n",
      "<li><a href=\"/wiki/Mathcad\" title=\"Mathcad\">Mathcad</a></li>\n",
      "<li><a href=\"/wiki/MATLAB\" title=\"MATLAB\">MATLAB</a></li>\n",
      "<li><a href=\"/wiki/R_(%D0%BC%D0%BE%D0%B2%D0%B0_%D0%BF%D1%80%D0%BE%D0%B3%D1%80%D0%B0%D0%BC%D1%83%D0%B2%D0%B0%D0%BD%D0%BD%D1%8F)\" title=\"R (мова програмування)\">R</a></li>\n",
      "<li><a class=\"new\" href=\"/w/index.php?title=Wolfram&amp;action=edit&amp;redlink=1\" title=\"Wolfram (ще не написана)\">Wolfram</a><sup class=\"noprint\"><a class=\"extiw\" href=\"https://en.wikipedia.org/wiki/Wolfram_Language\" title=\"en:Wolfram Language\"><span style=\"font-style:normal;font-weight:normal;font-size:normal\" title=\"Wolfram Language — версія статті «Wolfram» англійською мовою\">[en]</span></a></sup>\n",
      "<ul><li><a href=\"/wiki/Mathematica\" title=\"Mathematica\">Mathematica</a></li></ul></li></ul>\n",
      "<ul><li><a href=\"/wiki/Mathematica\" title=\"Mathematica\">Mathematica</a></li></ul>\n",
      "<ul><li><a href=\"/wiki/Q_Sharp\" title=\"Q Sharp\">Q#</a></li>\n",
      "<li><a href=\"/wiki/%D0%9A%D0%B2%D0%B0%D0%BD%D1%82%D0%BE%D0%B2%D0%B5_%D0%BF%D1%80%D0%BE%D0%B3%D1%80%D0%B0%D0%BC%D1%83%D0%B2%D0%B0%D0%BD%D0%BD%D1%8F\" title=\"Квантове програмування\">QCL</a></li></ul>\n",
      "<ul><li><a class=\"new\" href=\"/w/index.php?title=Mercury_(%D0%BC%D0%BE%D0%B2%D0%B0_%D0%BF%D1%80%D0%BE%D0%B3%D1%80%D0%B0%D0%BC%D1%83%D0%B2%D0%B0%D0%BD%D0%BD%D1%8F)&amp;action=edit&amp;redlink=1\" title=\"Mercury (мова програмування) (ще не написана)\">Mercury</a><sup class=\"noprint\"><a class=\"extiw\" href=\"https://en.wikipedia.org/wiki/Mercury_(programming_language)\" title=\"en:Mercury (programming language)\"><span style=\"font-style:normal;font-weight:normal;font-size:normal\" title=\"Mercury (programming language) — версія статті «Mercury (мова програмування)» англійською мовою\">[en]</span></a></sup></li>\n",
      "<li><a href=\"/wiki/%D0%9F%D1%80%D0%BE%D0%BB%D0%BE%D0%B3\" title=\"Пролог\">Prolog</a></li></ul>\n",
      "<ul><li><a href=\"/wiki/Befunge\" title=\"Befunge\">Befunge</a></li>\n",
      "<li><a href=\"/wiki/Brainfork\" title=\"Brainfork\">Brainfork</a></li>\n",
      "<li><a href=\"/wiki/Brainfuck\" title=\"Brainfuck\">Brainfuck</a></li>\n",
      "<li><a class=\"new\" href=\"/w/index.php?title=FALSE&amp;action=edit&amp;redlink=1\" title=\"FALSE (ще не написана)\">FALSE</a><sup class=\"noprint\"><a class=\"extiw\" href=\"https://ru.wikipedia.org/wiki/FALSE\" title=\"ru:FALSE\"><span style=\"font-style:normal;font-weight:normal;font-size:normal\" title=\"FALSE — версія статті «FALSE» російською мовою\">[ru]</span></a></sup></li>\n",
      "<li><a href=\"/wiki/HQ9%2B\" title=\"HQ9+\">HQ9+</a></li>\n",
      "<li><a class=\"new\" href=\"/w/index.php?title=Illgoll&amp;action=edit&amp;redlink=1\" title=\"Illgoll (ще не написана)\">Illgoll</a></li>\n",
      "<li><a href=\"/wiki/Intercal\" title=\"Intercal\">INTERCAL</a></li>\n",
      "<li><a class=\"new\" href=\"/w/index.php?title=Legal&amp;action=edit&amp;redlink=1\" title=\"Legal (ще не написана)\">Legal</a></li>\n",
      "<li><a class=\"new\" href=\"/w/index.php?title=LOLCODE&amp;action=edit&amp;redlink=1\" title=\"LOLCODE (ще не написана)\">LOLCODE</a><sup class=\"noprint\"><a class=\"extiw\" href=\"https://en.wikipedia.org/wiki/LOLCODE\" title=\"en:LOLCODE\"><span style=\"font-style:normal;font-weight:normal;font-size:normal\" title=\"LOLCODE — версія статті «LOLCODE» англійською мовою\">[en]</span></a></sup></li>\n",
      "<li><a class=\"new\" href=\"/w/index.php?title=Malbolge&amp;action=edit&amp;redlink=1\" title=\"Malbolge (ще не написана)\">Malbolge</a><sup class=\"noprint\"><a class=\"extiw\" href=\"https://en.wikipedia.org/wiki/Malbolge\" title=\"en:Malbolge\"><span style=\"font-style:normal;font-weight:normal;font-size:normal\" title=\"Malbolge — версія статті «Malbolge» англійською мовою\">[en]</span></a></sup></li>\n",
      "<li><a href=\"/wiki/Pandora\" title=\"Pandora\">Pandora</a></li>\n",
      "<li><a class=\"new\" href=\"/w/index.php?title=Piet&amp;action=edit&amp;redlink=1\" title=\"Piet (ще не написана)\">Piet</a><sup class=\"noprint\"><a class=\"extiw\" href=\"https://pl.wikipedia.org/wiki/Piet\" title=\"pl:Piet\"><span style=\"font-style:normal;font-weight:normal;font-size:normal\" title=\"Piet — версія статті «Piet» польською мовою\">[pl]</span></a></sup></li>\n",
      "<li><a class=\"new\" href=\"/w/index.php?title=Shakespeare&amp;action=edit&amp;redlink=1\" title=\"Shakespeare (ще не написана)\">Shakespeare</a><sup class=\"noprint\"><a class=\"extiw\" href=\"https://en.wikipedia.org/wiki/Shakespeare_Programming_Language\" title=\"en:Shakespeare Programming Language\"><span style=\"font-style:normal;font-weight:normal;font-size:normal\" title=\"Shakespeare Programming Language — версія статті «Shakespeare» англійською мовою\">[en]</span></a></sup></li>\n",
      "<li><a class=\"new\" href=\"/w/index.php?title=Unlambda&amp;action=edit&amp;redlink=1\" title=\"Unlambda (ще не написана)\">Unlambda</a><sup class=\"noprint\"><a class=\"extiw\" href=\"https://en.wikipedia.org/wiki/Unlambda\" title=\"en:Unlambda\"><span style=\"font-style:normal;font-weight:normal;font-size:normal\" title=\"Unlambda — версія статті «Unlambda» англійською мовою\">[en]</span></a></sup></li>\n",
      "<li><a class=\"new\" href=\"/w/index.php?title=Velato&amp;action=edit&amp;redlink=1\" title=\"Velato (ще не написана)\">Velato</a></li>\n",
      "<li><a href=\"/wiki/Whirl\" title=\"Whirl\">Whirl</a></li>\n",
      "<li><a href=\"/wiki/Whitespace\" title=\"Whitespace\">Whitespace</a></li></ul>\n",
      "<ul><li><b><a href=\"/wiki/%D0%9F%D0%BE%D1%80%D1%96%D0%B2%D0%BD%D1%8F%D0%BD%D0%BD%D1%8F_%D0%BC%D0%BE%D0%B2_%D0%BF%D1%80%D0%BE%D0%B3%D1%80%D0%B0%D0%BC%D1%83%D0%B2%D0%B0%D0%BD%D0%BD%D1%8F\" title=\"Порівняння мов програмування\">Порівняння мов програмування</a></b></li>\n",
      "<li><b><a href=\"/wiki/%D0%A1%D0%BF%D0%B8%D1%81%D0%BE%D0%BA_%D0%BC%D0%BE%D0%B2_%D0%BF%D1%80%D0%BE%D0%B3%D1%80%D0%B0%D0%BC%D1%83%D0%B2%D0%B0%D0%BD%D0%BD%D1%8F\" title=\"Список мов програмування\">Список мов програмування</a></b></li>\n",
      "<li><b><a href=\"/wiki/%D0%A5%D1%80%D0%BE%D0%BD%D0%BE%D0%BB%D0%BE%D0%B3%D1%96%D1%8F_%D0%BC%D0%BE%D0%B2_%D0%BF%D1%80%D0%BE%D0%B3%D1%80%D0%B0%D0%BC%D1%83%D0%B2%D0%B0%D0%BD%D0%BD%D1%8F\" title=\"Хронологія мов програмування\">Хронологія мов програмування</a></b></li></ul>\n",
      "<ul><li class=\"nv-view\"><a href=\"/wiki/%D0%A8%D0%B0%D0%B1%D0%BB%D0%BE%D0%BD:FOSS\" title=\"Шаблон:FOSS\"><abbr style=\";;background:none transparent;border:none;\" title=\"Переглянути цей шаблон\">п</abbr></a></li><li class=\"nv-talk\"><a class=\"new\" href=\"/w/index.php?title=%D0%9E%D0%B1%D0%B3%D0%BE%D0%B2%D0%BE%D1%80%D0%B5%D0%BD%D0%BD%D1%8F_%D1%88%D0%B0%D0%B1%D0%BB%D0%BE%D0%BD%D1%83:FOSS&amp;action=edit&amp;redlink=1\" title=\"Обговорення шаблону:FOSS (ще не написана)\"><abbr style=\";;background:none transparent;border:none;\" title=\"Обговорити цей шаблон\">о</abbr></a></li><li class=\"nv-edit\"><a class=\"external text\" href=\"https://uk.wikipedia.org/w/index.php?title=%D0%A8%D0%B0%D0%B1%D0%BB%D0%BE%D0%BD:FOSS&amp;action=edit\"><abbr style=\";;background:none transparent;border:none;\" title=\"Редагувати цей шаблон\">р</abbr></a></li></ul>\n",
      "<ul><li><a href=\"/wiki/%D0%9A%D0%B0%D1%82%D0%B5%D0%B3%D0%BE%D1%80%D1%96%D1%8F:%D0%9C%D0%BE%D0%B2%D0%B8_%D0%BF%D1%80%D0%BE%D0%B3%D1%80%D0%B0%D0%BC%D1%83%D0%B2%D0%B0%D0%BD%D0%BD%D1%8F\" title=\"Категорія:Мови програмування\">Мови програмування</a></li><li><a href=\"/wiki/%D0%9A%D0%B0%D1%82%D0%B5%D0%B3%D0%BE%D1%80%D1%96%D1%8F:Python\" title=\"Категорія:Python\">Python</a></li><li><a href=\"/wiki/%D0%9A%D0%B0%D1%82%D0%B5%D0%B3%D0%BE%D1%80%D1%96%D1%8F:%D0%9E%D1%81%D0%B2%D1%96%D1%82%D0%BD%D1%96_%D0%BC%D0%BE%D0%B2%D0%B8_%D0%BF%D1%80%D0%BE%D0%B3%D1%80%D0%B0%D0%BC%D1%83%D0%B2%D0%B0%D0%BD%D0%BD%D1%8F\" title=\"Категорія:Освітні мови програмування\">Освітні мови програмування</a></li><li><a href=\"/wiki/%D0%9A%D0%B0%D1%82%D0%B5%D0%B3%D0%BE%D1%80%D1%96%D1%8F:%D0%91%D0%B0%D0%B3%D0%B0%D1%82%D0%BE%D0%BF%D0%BB%D0%B0%D1%82%D1%84%D0%BE%D1%80%D0%BC%D0%BD%D0%B5_%D0%B2%D1%96%D0%BB%D1%8C%D0%BD%D0%B5_%D0%BF%D1%80%D0%BE%D0%B3%D1%80%D0%B0%D0%BC%D0%BD%D0%B5_%D0%B7%D0%B0%D0%B1%D0%B5%D0%B7%D0%BF%D0%B5%D1%87%D0%B5%D0%BD%D0%BD%D1%8F\" title=\"Категорія:Багатоплатформне вільне програмне забезпечення\">Багатоплатформне вільне програмне забезпечення</a></li><li><a href=\"/wiki/%D0%9A%D0%B0%D1%82%D0%B5%D0%B3%D0%BE%D1%80%D1%96%D1%8F:%D0%92%D0%B8%D0%BD%D0%B0%D1%85%D0%BE%D0%B4%D0%B8_%D0%9D%D1%96%D0%B4%D0%B5%D1%80%D0%BB%D0%B0%D0%BD%D0%B4%D1%96%D0%B2\" title=\"Категорія:Винаходи Нідерландів\">Винаходи Нідерландів</a></li><li><a href=\"/wiki/%D0%9A%D0%B0%D1%82%D0%B5%D0%B3%D0%BE%D1%80%D1%96%D1%8F:%D0%A2%D0%B5%D0%BA%D1%81%D1%82%D0%BE%D0%B2%D0%BE-%D0%BE%D1%80%D1%96%D1%94%D0%BD%D1%82%D0%BE%D0%B2%D0%B0%D0%BD%D1%96_%D0%BC%D0%BE%D0%B2%D0%B8_%D0%BF%D1%80%D0%BE%D0%B3%D1%80%D0%B0%D0%BC%D1%83%D0%B2%D0%B0%D0%BD%D0%BD%D1%8F\" title=\"Категорія:Текстово-орієнтовані мови програмування\">Текстово-орієнтовані мови програмування</a></li><li><a href=\"/wiki/%D0%9A%D0%B0%D1%82%D0%B5%D0%B3%D0%BE%D1%80%D1%96%D1%8F:%D0%A1%D0%BA%D1%80%D0%B8%D0%BF%D1%82%D0%BE%D0%B2%D1%96_%D0%BC%D0%BE%D0%B2%D0%B8\" title=\"Категорія:Скриптові мови\">Скриптові мови</a></li><li><a href=\"/wiki/%D0%9A%D0%B0%D1%82%D0%B5%D0%B3%D0%BE%D1%80%D1%96%D1%8F:%D0%9C%D0%BE%D0%B2%D0%B8_%D0%BF%D1%80%D0%BE%D0%B3%D1%80%D0%B0%D0%BC%D1%83%D0%B2%D0%B0%D0%BD%D0%BD%D1%8F,_%D1%81%D1%82%D0%B2%D0%BE%D1%80%D0%B5%D0%BD%D1%96_1991-%D0%B3%D0%BE_%D1%80%D0%BE%D0%BA%D1%83\" title=\"Категорія:Мови програмування, створені 1991-го року\">Мови програмування, створені 1991-го року</a></li><li><a href=\"/wiki/%D0%9A%D0%B0%D1%82%D0%B5%D0%B3%D0%BE%D1%80%D1%96%D1%8F:%D0%91%D0%B0%D0%B3%D0%B0%D1%82%D0%BE%D0%BF%D0%B0%D1%80%D0%B0%D0%B4%D0%B8%D0%B3%D0%BC%D0%BE%D0%B2%D1%96_%D0%BC%D0%BE%D0%B2%D0%B8_%D0%BF%D1%80%D0%BE%D0%B3%D1%80%D0%B0%D0%BC%D1%83%D0%B2%D0%B0%D0%BD%D0%BD%D1%8F\" title=\"Категорія:Багатопарадигмові мови програмування\">Багатопарадигмові мови програмування</a></li><li><a href=\"/wiki/%D0%9A%D0%B0%D1%82%D0%B5%D0%B3%D0%BE%D1%80%D1%96%D1%8F:%D0%86%D0%BD%D1%84%D0%BE%D1%80%D0%BC%D0%B0%D1%86%D1%96%D0%B9%D0%BD%D1%96_%D1%82%D0%B5%D1%85%D0%BD%D0%BE%D0%BB%D0%BE%D0%B3%D1%96%D1%97_%D0%B2_%D0%9D%D1%96%D0%B4%D0%B5%D1%80%D0%BB%D0%B0%D0%BD%D0%B4%D0%B0%D1%85\" title=\"Категорія:Інформаційні технології в Нідерландах\">Інформаційні технології в Нідерландах</a></li></ul>\n",
      "<ul><li><a href=\"/wiki/%D0%9A%D0%B0%D1%82%D0%B5%D0%B3%D0%BE%D1%80%D1%96%D1%8F:%D0%A1%D1%82%D0%B0%D1%82%D1%82%D1%96_%D0%B7_%D0%BD%D0%B5%D1%87%D0%B8%D0%BD%D0%BD%D0%B8%D0%BC%D0%B8_%D0%BF%D0%BE%D1%81%D0%B8%D0%BB%D0%B0%D0%BD%D0%BD%D1%8F%D0%BC%D0%B8\" title=\"Категорія:Статті з нечинними посиланнями\">Статті з нечинними посиланнями</a></li><li><a href=\"/wiki/%D0%9A%D0%B0%D1%82%D0%B5%D0%B3%D0%BE%D1%80%D1%96%D1%8F:%D0%92%D1%96%D0%BA%D1%96%D0%BF%D0%B5%D0%B4%D1%96%D1%8F:%D0%A1%D1%82%D0%BE%D1%80%D1%96%D0%BD%D0%BA%D0%B8_%D0%B7%D1%96_%D1%81%D0%BA%D0%BB%D0%B0%D0%B4%D0%BD%D0%B8%D0%BC_%D0%B2%D1%85%D0%BE%D0%B4%D0%BE%D0%BC_%D0%B2_%D0%9C%D0%BE%D0%B4%D1%83%D0%BB%D1%8C:URL\" title=\"Категорія:Вікіпедія:Сторінки зі складним входом в Модуль:URL\">Вікіпедія:Сторінки зі складним входом в Модуль:URL</a></li><li><a href=\"/wiki/%D0%9A%D0%B0%D1%82%D0%B5%D0%B3%D0%BE%D1%80%D1%96%D1%8F:%D0%A1%D1%82%D0%B0%D1%82%D1%82%D1%96,_%D1%89%D0%BE_%D0%BD%D0%B5%D0%BE%D0%B1%D1%85%D1%96%D0%B4%D0%BD%D0%BE_%D0%BF%D0%BE%D0%BB%D1%96%D0%BF%D1%88%D0%B8%D1%82%D0%B8\" title=\"Категорія:Статті, що необхідно поліпшити\">Статті, що необхідно поліпшити</a></li><li><a href=\"/wiki/%D0%9A%D0%B0%D1%82%D0%B5%D0%B3%D0%BE%D1%80%D1%96%D1%8F:%D0%A1%D1%82%D0%B0%D1%82%D1%82%D1%96,_%D1%8F%D0%BA%D1%96_%D0%BF%D0%BE%D1%82%D1%80%D1%96%D0%B1%D0%BD%D0%BE_%D0%BF%D0%B5%D1%80%D0%B5%D0%BF%D0%B8%D1%81%D0%B0%D1%82%D0%B8_%D0%B7_%D1%82%D1%80%D0%B0%D0%B2%D0%BD%D1%8F_2011\" title=\"Категорія:Статті, які потрібно переписати з травня 2011\">Статті, які потрібно переписати з травня 2011</a></li><li><a href=\"/wiki/%D0%9A%D0%B0%D1%82%D0%B5%D0%B3%D0%BE%D1%80%D1%96%D1%8F:%D0%92%D1%81%D1%96_%D1%81%D1%82%D0%B0%D1%82%D1%82%D1%96,_%D1%8F%D0%BA%D1%96_%D0%BF%D0%BE%D1%82%D1%80%D1%96%D0%B1%D0%BD%D0%BE_%D0%BF%D0%B5%D1%80%D0%B5%D0%BF%D0%B8%D1%81%D0%B0%D1%82%D0%B8\" title=\"Категорія:Всі статті, які потрібно переписати\">Всі статті, які потрібно переписати</a></li><li><a href=\"/wiki/%D0%9A%D0%B0%D1%82%D0%B5%D0%B3%D0%BE%D1%80%D1%96%D1%8F:%D0%92%D1%96%D0%BA%D1%96%D0%BF%D0%B5%D0%B4%D1%96%D1%8F:%D0%A1%D1%82%D0%BE%D1%80%D1%96%D0%BD%D0%BA%D0%B8_%D0%B7_%D0%BF%D0%BE%D1%81%D0%B8%D0%BB%D0%B0%D0%BD%D0%BD%D1%8F%D0%BC_%D0%BD%D0%B0_%D0%92%D1%96%D0%BA%D1%96%D0%BF%D1%96%D0%B4%D1%80%D1%83%D1%87%D0%BD%D0%B8%D0%BA\" title=\"Категорія:Вікіпедія:Сторінки з посиланням на Вікіпідручник\">Вікіпедія:Сторінки з посиланням на Вікіпідручник</a></li><li><a href=\"/wiki/%D0%9A%D0%B0%D1%82%D0%B5%D0%B3%D0%BE%D1%80%D1%96%D1%8F:%D0%9F%D0%BE%D1%81%D0%B8%D0%BB%D0%B0%D0%BD%D0%BD%D1%8F_%D0%BD%D0%B0_%D0%92%D1%96%D0%BA%D1%96%D1%81%D1%85%D0%BE%D0%B2%D0%B8%D1%89%D0%B5_%D0%B1%D0%B5%D0%B7%D0%BF%D0%BE%D1%81%D0%B5%D1%80%D0%B5%D0%B4%D0%BD%D1%8C%D0%BE_%D0%B2_%D1%81%D1%82%D0%B0%D1%82%D1%82%D1%96\" title=\"Категорія:Посилання на Вікісховище безпосередньо в статті\">Посилання на Вікісховище безпосередньо в статті</a></li><li><a href=\"/wiki/%D0%9A%D0%B0%D1%82%D0%B5%D0%B3%D0%BE%D1%80%D1%96%D1%8F:%D0%92%D1%96%D0%BA%D1%96%D0%BF%D0%B5%D0%B4%D1%96%D1%8F:%D0%A1%D1%82%D0%B0%D1%82%D1%82%D1%96_%D0%B7_%D0%BD%D0%B5%D0%B0%D0%BA%D1%82%D1%83%D0%B0%D0%BB%D1%8C%D0%BD%D0%B8%D0%BC_%D1%88%D0%B0%D0%B1%D0%BB%D0%BE%D0%BD%D0%BE%D0%BC_%D0%9D%D0%B5_%D0%BF%D0%B5%D1%80%D0%B5%D0%BA%D0%BB%D0%B0%D0%B4%D0%B5%D0%BD%D0%BE\" title=\"Категорія:Вікіпедія:Статті з неактуальним шаблоном Не перекладено\">Вікіпедія:Статті з неактуальним шаблоном Не перекладено</a></li><li><a href=\"/wiki/%D0%9A%D0%B0%D1%82%D0%B5%D0%B3%D0%BE%D1%80%D1%96%D1%8F:%D0%A1%D1%82%D0%B0%D1%82%D1%82%D1%96_%D0%B7_%D0%BF%D1%80%D0%B8%D0%BA%D0%BB%D0%B0%D0%B4%D0%B0%D0%BC%D0%B8_%D0%BA%D0%BE%D0%B4%D1%83_%D0%BC%D0%BE%D0%B2%D0%BE%D1%8E_Python\" title=\"Категорія:Статті з прикладами коду мовою Python\">Статті з прикладами коду мовою Python</a></li></ul>\n",
      "<ul class=\"vector-menu-content-list\"><li id=\"pt-anonuserpage\">Ви не увійшли до системи</li><li id=\"pt-anontalk\"><a accesskey=\"n\" href=\"/wiki/%D0%A1%D0%BF%D0%B5%D1%86%D1%96%D0%B0%D0%BB%D1%8C%D0%BD%D0%B0:%D0%9C%D0%BE%D1%94_%D0%BE%D0%B1%D0%B3%D0%BE%D0%B2%D0%BE%D1%80%D0%B5%D0%BD%D0%BD%D1%8F\" title=\"Обговорення редагувань з цієї IP-адреси [n]\">Обговорення</a></li><li id=\"pt-anoncontribs\"><a accesskey=\"y\" href=\"/wiki/%D0%A1%D0%BF%D0%B5%D1%86%D1%96%D0%B0%D0%BB%D1%8C%D0%BD%D0%B0:%D0%9C%D1%96%D0%B9_%D0%B2%D0%BD%D0%B5%D1%81%D0%BE%D0%BA\" title=\"Список редагувань, зроблених з цієї IP-адреси [y]\">Внесок</a></li><li id=\"pt-createaccount\"><a href=\"/w/index.php?title=%D0%A1%D0%BF%D0%B5%D1%86%D1%96%D0%B0%D0%BB%D1%8C%D0%BD%D0%B0:%D0%A1%D1%82%D0%B2%D0%BE%D1%80%D0%B8%D1%82%D0%B8_%D0%BE%D0%B1%D0%BB%D1%96%D0%BA%D0%BE%D0%B2%D0%B8%D0%B9_%D0%B7%D0%B0%D0%BF%D0%B8%D1%81&amp;returnto=Python\" title=\"Пропонуємо створити обліковий запис і увійти в систему; однак, це не обов'язково\">Створити обліковий запис</a></li><li id=\"pt-login\"><a accesskey=\"o\" href=\"/w/index.php?title=%D0%A1%D0%BF%D0%B5%D1%86%D1%96%D0%B0%D0%BB%D1%8C%D0%BD%D0%B0:%D0%92%D1%85%D1%96%D0%B4&amp;returnto=Python\" title=\"Заохочуємо Вас увійти в систему, але це необов'язково. [o]\">Увійти</a></li></ul>\n",
      "<ul class=\"vector-menu-content-list\"><li class=\"selected\" id=\"ca-nstab-main\"><a accesskey=\"c\" href=\"/wiki/Python\" title=\"Вміст статті [c]\">Стаття</a></li><li id=\"ca-talk\"><a accesskey=\"t\" href=\"/wiki/%D0%9E%D0%B1%D0%B3%D0%BE%D0%B2%D0%BE%D1%80%D0%B5%D0%BD%D0%BD%D1%8F:Python\" rel=\"discussion\" title=\"Обговорення змісту сторінки [t]\">Обговорення</a></li></ul>\n",
      "<ul class=\"menu vector-menu-content-list\"></ul>\n",
      "<ul class=\"vector-menu-content-list\"><li class=\"selected\" id=\"ca-view\"><a href=\"/wiki/Python\">Читати</a></li><li id=\"ca-ve-edit\"><a accesskey=\"v\" href=\"/w/index.php?title=Python&amp;veaction=edit\" title=\"Редагувати цю сторінку [v]\">Редагувати</a></li><li class=\"collapsible\" id=\"ca-edit\"><a accesskey=\"e\" href=\"/w/index.php?title=Python&amp;action=edit\" title=\"Редагувати цю сторінку [e]\">Редагувати код</a></li><li id=\"ca-history\"><a accesskey=\"h\" href=\"/w/index.php?title=Python&amp;action=history\" title=\"Журнал змін сторінки [h]\">Переглянути історію</a></li></ul>\n",
      "<ul class=\"menu vector-menu-content-list\"></ul>\n",
      "<ul class=\"vector-menu-content-list\"><li id=\"n-mainpage-description\"><a accesskey=\"z\" href=\"/wiki/%D0%93%D0%BE%D0%BB%D0%BE%D0%B2%D0%BD%D0%B0_%D1%81%D1%82%D0%BE%D1%80%D1%96%D0%BD%D0%BA%D0%B0\" title=\"Перейти на головну сторінку [z]\">Головна сторінка</a></li><li id=\"n-currentevents\"><a href=\"/wiki/%D0%92%D1%96%D0%BA%D1%96%D0%BF%D0%B5%D0%B4%D1%96%D1%8F:%D0%9F%D0%BE%D1%82%D0%BE%D1%87%D0%BD%D1%96_%D0%BF%D0%BE%D0%B4%D1%96%D1%97\" title=\"Список поточних подій\">Поточні події</a></li><li id=\"n-recentchanges\"><a accesskey=\"r\" href=\"/wiki/%D0%A1%D0%BF%D0%B5%D1%86%D1%96%D0%B0%D0%BB%D1%8C%D0%BD%D0%B0:%D0%9D%D0%BE%D0%B2%D1%96_%D1%80%D0%B5%D0%B4%D0%B0%D0%B3%D1%83%D0%B2%D0%B0%D0%BD%D0%BD%D1%8F\" title=\"Список останніх змін у цій вікі [r]\">Нові редагування</a></li><li id=\"n-newpages\"><a href=\"/wiki/%D0%A1%D0%BF%D0%B5%D1%86%D1%96%D0%B0%D0%BB%D1%8C%D0%BD%D0%B0:%D0%9D%D0%BE%D0%B2%D1%96_%D1%81%D1%82%D0%BE%D1%80%D1%96%D0%BD%D0%BA%D0%B8\">Нові сторінки</a></li><li id=\"n-randompage\"><a accesskey=\"x\" href=\"/wiki/%D0%A1%D0%BF%D0%B5%D1%86%D1%96%D0%B0%D0%BB%D1%8C%D0%BD%D0%B0:%D0%92%D0%B8%D0%BF%D0%B0%D0%B4%D0%BA%D0%BE%D0%B2%D0%B0_%D1%81%D1%82%D0%BE%D1%80%D1%96%D0%BD%D0%BA%D0%B0\" title=\"Переглянути випадкову сторінку [x]\">Випадкова стаття</a></li></ul>\n",
      "<ul class=\"vector-menu-content-list\"><li id=\"n-portal\"><a href=\"/wiki/%D0%92%D1%96%D0%BA%D1%96%D0%BF%D0%B5%D0%B4%D1%96%D1%8F:%D0%9F%D0%BE%D1%80%D1%82%D0%B0%D0%BB_%D1%81%D0%BF%D1%96%D0%BB%D1%8C%D0%BD%D0%BE%D1%82%D0%B8\" title=\"Про проект, про те, що Ви можете зробити, і що де шукати\">Портал спільноти</a></li><li id=\"n-tavern\"><a href=\"/wiki/%D0%92%D1%96%D0%BA%D1%96%D0%BF%D0%B5%D0%B4%D1%96%D1%8F:%D0%9A%D0%BD%D0%B0%D0%B9%D0%BF%D0%B0\" title=\"Місце для обговорення більшості питань\">Кнайпа</a></li><li id=\"n-help\"><a href=\"/wiki/%D0%92%D1%96%D0%BA%D1%96%D0%BF%D0%B5%D0%B4%D1%96%D1%8F:%D0%94%D0%BE%D0%B2%D1%96%D0%B4%D0%BA%D0%B0\" title=\"Довідка з проекту\">Довідка</a></li><li id=\"n-sitesupport\"><a href=\"//donate.wikimedia.org/wiki/Special:FundraiserRedirector?utm_source=donate&amp;utm_medium=sidebar&amp;utm_campaign=C13_uk.wikipedia.org&amp;uselang=uk\" title=\"Підтримайте проект\">Пожертвувати</a></li></ul>\n",
      "<ul class=\"vector-menu-content-list\"><li id=\"t-whatlinkshere\"><a accesskey=\"j\" href=\"/wiki/%D0%A1%D0%BF%D0%B5%D1%86%D1%96%D0%B0%D0%BB%D1%8C%D0%BD%D0%B0:%D0%9F%D0%BE%D1%81%D0%B8%D0%BB%D0%B0%D0%BD%D0%BD%D1%8F_%D1%81%D1%8E%D0%B4%D0%B8/Python\" title=\"Перелік усіх сторінок, які посилаються на цю сторінку [j]\">Посилання сюди</a></li><li id=\"t-recentchangeslinked\"><a accesskey=\"k\" href=\"/wiki/%D0%A1%D0%BF%D0%B5%D1%86%D1%96%D0%B0%D0%BB%D1%8C%D0%BD%D0%B0:%D0%9F%D0%BE%D0%B2%27%D1%8F%D0%B7%D0%B0%D0%BD%D1%96_%D1%80%D0%B5%D0%B4%D0%B0%D0%B3%D1%83%D0%B2%D0%B0%D0%BD%D0%BD%D1%8F/Python\" rel=\"nofollow\" title=\"Останні зміни на сторінках, на які посилається ця сторінка [k]\">Пов'язані редагування</a></li><li id=\"t-specialpages\"><a accesskey=\"q\" href=\"/wiki/%D0%A1%D0%BF%D0%B5%D1%86%D1%96%D0%B0%D0%BB%D1%8C%D0%BD%D0%B0:%D0%A1%D0%BF%D0%B5%D1%86%D1%96%D0%B0%D0%BB%D1%8C%D0%BD%D1%96_%D1%81%D1%82%D0%BE%D1%80%D1%96%D0%BD%D0%BA%D0%B8\" title=\"Перелік спеціальних сторінок [q]\">Спеціальні сторінки</a></li><li id=\"t-permalink\"><a href=\"/w/index.php?title=Python&amp;oldid=29211142\" title=\"Постійне посилання на цю версію сторінки\">Постійне посилання</a></li><li id=\"t-info\"><a href=\"/w/index.php?title=Python&amp;action=info\" title=\"Додаткові відомості про цю сторінку\">Інформація про сторінку</a></li><li id=\"t-cite\"><a href=\"/w/index.php?title=%D0%A1%D0%BF%D0%B5%D1%86%D1%96%D0%B0%D0%BB%D1%8C%D0%BD%D0%B0:%D0%A6%D0%B8%D1%82%D0%B0%D1%82%D0%B0&amp;page=Python&amp;id=29211142&amp;wpFormIdentifier=titleform\" title=\"Інформація про те, як цитувати цю сторінку\">Цитувати сторінку</a></li><li id=\"t-wikibase\"><a accesskey=\"g\" href=\"https://www.wikidata.org/wiki/Special:EntityPage/Q28865\" title=\"Посилання на пов’язаний елемент сховища даних [g]\">Елемент Вікіданих</a></li></ul>\n",
      "<ul class=\"vector-menu-content-list\"><li id=\"coll-create_a_book\"><a href=\"/w/index.php?title=%D0%A1%D0%BF%D0%B5%D1%86%D1%96%D0%B0%D0%BB%D1%8C%D0%BD%D0%B0:%D0%9A%D0%BD%D0%B8%D0%B3%D0%B0&amp;bookcmd=book_creator&amp;referer=Python\">Створити книгу</a></li><li id=\"coll-download-as-rl\"><a href=\"/w/index.php?title=%D0%A1%D0%BF%D0%B5%D1%86%D1%96%D0%B0%D0%BB%D1%8C%D0%BD%D0%B0:ElectronPdf&amp;page=Python&amp;action=show-download-screen\">Завантажити як PDF</a></li><li id=\"t-print\"><a accesskey=\"p\" href=\"/w/index.php?title=Python&amp;printable=yes\" title=\"Версія цієї сторінки для друку [p]\">Версія до друку</a></li></ul>\n",
      "<ul class=\"vector-menu-content-list\"><li class=\"wb-otherproject-link wb-otherproject-commons\"><a href=\"https://commons.wikimedia.org/wiki/Category:Python_(programming_language)\" hreflang=\"en\">Вікісховище</a></li><li class=\"wb-otherproject-link wb-otherproject-wikibooks\"><a href=\"https://uk.wikibooks.org/wiki/Python\" hreflang=\"uk\">Вікіпідручник</a></li></ul>\n",
      "<ul class=\"vector-menu-content-list\"><li class=\"interlanguage-link interwiki-af\"><a class=\"interlanguage-link-target\" href=\"https://af.wikipedia.org/wiki/Python_(programmeertaal)\" hreflang=\"af\" lang=\"af\" title=\"Python (programmeertaal) — африкаанс\">Afrikaans</a></li><li class=\"interlanguage-link interwiki-als\"><a class=\"interlanguage-link-target\" href=\"https://als.wikipedia.org/wiki/Python_(Programmiersprache)\" hreflang=\"gsw\" lang=\"gsw\" title=\"Python (Programmiersprache) — Alemannisch\">Alemannisch</a></li><li class=\"interlanguage-link interwiki-an\"><a class=\"interlanguage-link-target\" href=\"https://an.wikipedia.org/wiki/Python\" hreflang=\"an\" lang=\"an\" title=\"Python — арагонська\">Aragonés</a></li><li class=\"interlanguage-link interwiki-ar\"><a class=\"interlanguage-link-target\" href=\"https://ar.wikipedia.org/wiki/%D8%A8%D8%A7%D9%8A%D8%AB%D9%88%D9%86_(%D9%84%D8%BA%D8%A9_%D8%A8%D8%B1%D9%85%D8%AC%D8%A9)\" hreflang=\"ar\" lang=\"ar\" title=\"بايثون (لغة برمجة) — арабська\">العربية</a></li><li class=\"interlanguage-link interwiki-as\"><a class=\"interlanguage-link-target\" href=\"https://as.wikipedia.org/wiki/%E0%A6%AA%E0%A6%BE%E0%A6%87%E0%A6%A5%E0%A6%A8\" hreflang=\"as\" lang=\"as\" title=\"পাইথন — асамська\">অসমীয়া</a></li><li class=\"interlanguage-link interwiki-ast\"><a class=\"interlanguage-link-target\" href=\"https://ast.wikipedia.org/wiki/Python\" hreflang=\"ast\" lang=\"ast\" title=\"Python — астурська\">Asturianu</a></li><li class=\"interlanguage-link interwiki-az\"><a class=\"interlanguage-link-target\" href=\"https://az.wikipedia.org/wiki/Python_(proqramla%C5%9Fd%C4%B1rma_dili)\" hreflang=\"az\" lang=\"az\" title=\"Python (proqramlaşdırma dili) — азербайджанська\">Azərbaycanca</a></li><li class=\"interlanguage-link interwiki-azb\"><a class=\"interlanguage-link-target\" href=\"https://azb.wikipedia.org/wiki/%D9%BE%D8%A7%DB%8C%D8%AA%D9%88%D9%86\" hreflang=\"azb\" lang=\"azb\" title=\"پایتون — South Azerbaijani\">تۆرکجه</a></li><li class=\"interlanguage-link interwiki-ban\"><a class=\"interlanguage-link-target\" href=\"https://ban.wikipedia.org/wiki/Python\" hreflang=\"ban\" lang=\"ban\" title=\"Python — балійська\">Bali</a></li><li class=\"interlanguage-link interwiki-be\"><a class=\"interlanguage-link-target\" href=\"https://be.wikipedia.org/wiki/Python_(%D0%BC%D0%BE%D0%B2%D0%B0_%D0%BF%D1%80%D0%B0%D0%B3%D1%80%D0%B0%D0%BC%D0%B0%D0%B2%D0%B0%D0%BD%D0%BD%D1%8F)\" hreflang=\"be\" lang=\"be\" title=\"Python (мова праграмавання) — білоруська\">Беларуская</a></li><li class=\"interlanguage-link interwiki-bg\"><a class=\"interlanguage-link-target\" href=\"https://bg.wikipedia.org/wiki/Python\" hreflang=\"bg\" lang=\"bg\" title=\"Python — болгарська\">Български</a></li><li class=\"interlanguage-link interwiki-bh\"><a class=\"interlanguage-link-target\" href=\"https://bh.wikipedia.org/wiki/%E0%A4%AA%E0%A4%BE%E0%A4%87%E0%A4%A5%E0%A4%A8\" hreflang=\"bh\" lang=\"bh\" title=\"पाइथन — Bhojpuri\">भोजपुरी</a></li><li class=\"interlanguage-link interwiki-bn\"><a class=\"interlanguage-link-target\" href=\"https://bn.wikipedia.org/wiki/%E0%A6%AA%E0%A6%BE%E0%A6%87%E0%A6%A5%E0%A6%A8_(%E0%A6%AA%E0%A7%8D%E0%A6%B0%E0%A7%8B%E0%A6%97%E0%A7%8D%E0%A6%B0%E0%A6%BE%E0%A6%AE%E0%A6%BF%E0%A6%82_%E0%A6%AD%E0%A6%BE%E0%A6%B7%E0%A6%BE)\" hreflang=\"bn\" lang=\"bn\" title=\"পাইথন (প্রোগ্রামিং ভাষা) — банґла\">বাংলা</a></li><li class=\"interlanguage-link interwiki-bs\"><a class=\"interlanguage-link-target\" href=\"https://bs.wikipedia.org/wiki/Python_(programski_jezik)\" hreflang=\"bs\" lang=\"bs\" title=\"Python (programski jezik) — боснійська\">Bosanski</a></li><li class=\"interlanguage-link interwiki-bug\"><a class=\"interlanguage-link-target\" href=\"https://bug.wikipedia.org/wiki/Python\" hreflang=\"bug\" lang=\"bug\" title=\"Python — бугійська\">ᨅᨔ ᨕᨘᨁᨗ</a></li><li class=\"interlanguage-link interwiki-ca\"><a class=\"interlanguage-link-target\" href=\"https://ca.wikipedia.org/wiki/Python\" hreflang=\"ca\" lang=\"ca\" title=\"Python — каталонська\">Català</a></li><li class=\"interlanguage-link interwiki-ceb\"><a class=\"interlanguage-link-target\" href=\"https://ceb.wikipedia.org/wiki/Python_(programming_language)\" hreflang=\"ceb\" lang=\"ceb\" title=\"Python (programming language) — себуанська\">Cebuano</a></li><li class=\"interlanguage-link interwiki-ckb\"><a class=\"interlanguage-link-target\" href=\"https://ckb.wikipedia.org/wiki/%D9%BE%D8%A7%DB%8C%D8%AA%D9%86_(%D8%B2%D9%85%D8%A7%D9%86%DB%8C_%D9%BE%D8%B1%DB%86%DA%AF%D8%B1%D8%A7%D9%85%D8%B3%D8%A7%D8%B2%DB%8C)\" hreflang=\"ckb\" lang=\"ckb\" title=\"پایتن (زمانی پرۆگرامسازی) — центральнокурдська\">کوردی</a></li><li class=\"interlanguage-link interwiki-cs\"><a class=\"interlanguage-link-target\" href=\"https://cs.wikipedia.org/wiki/Python\" hreflang=\"cs\" lang=\"cs\" title=\"Python — чеська\">Čeština</a></li><li class=\"interlanguage-link interwiki-cy\"><a class=\"interlanguage-link-target\" href=\"https://cy.wikipedia.org/wiki/Python_(iaith_raglennu)\" hreflang=\"cy\" lang=\"cy\" title=\"Python (iaith raglennu) — валлійська\">Cymraeg</a></li><li class=\"interlanguage-link interwiki-da\"><a class=\"interlanguage-link-target\" href=\"https://da.wikipedia.org/wiki/Python_(programmeringssprog)\" hreflang=\"da\" lang=\"da\" title=\"Python (programmeringssprog) — данська\">Dansk</a></li><li class=\"interlanguage-link interwiki-de badge-Q17437798 badge-goodarticle\" title=\"добра стаття\"><a class=\"interlanguage-link-target\" href=\"https://de.wikipedia.org/wiki/Python_(Programmiersprache)\" hreflang=\"de\" lang=\"de\" title=\"Python (Programmiersprache) — німецька\">Deutsch</a></li><li class=\"interlanguage-link interwiki-el\"><a class=\"interlanguage-link-target\" href=\"https://el.wikipedia.org/wiki/Python\" hreflang=\"el\" lang=\"el\" title=\"Python — грецька\">Ελληνικά</a></li><li class=\"interlanguage-link interwiki-en badge-Q17437798 badge-goodarticle\" title=\"добра стаття\"><a class=\"interlanguage-link-target\" href=\"https://en.wikipedia.org/wiki/Python_(programming_language)\" hreflang=\"en\" lang=\"en\" title=\"Python (programming language) — англійська\">English</a></li><li class=\"interlanguage-link interwiki-eo\"><a class=\"interlanguage-link-target\" href=\"https://eo.wikipedia.org/wiki/Python_(programlingvo)\" hreflang=\"eo\" lang=\"eo\" title=\"Python (programlingvo) — есперанто\">Esperanto</a></li><li class=\"interlanguage-link interwiki-es\"><a class=\"interlanguage-link-target\" href=\"https://es.wikipedia.org/wiki/Python\" hreflang=\"es\" lang=\"es\" title=\"Python — іспанська\">Español</a></li><li class=\"interlanguage-link interwiki-et\"><a class=\"interlanguage-link-target\" href=\"https://et.wikipedia.org/wiki/Python_(programmeerimiskeel)\" hreflang=\"et\" lang=\"et\" title=\"Python (programmeerimiskeel) — естонська\">Eesti</a></li><li class=\"interlanguage-link interwiki-eu\"><a class=\"interlanguage-link-target\" href=\"https://eu.wikipedia.org/wiki/Python_(informatika)\" hreflang=\"eu\" lang=\"eu\" title=\"Python (informatika) — баскська\">Euskara</a></li><li class=\"interlanguage-link interwiki-fa\"><a class=\"interlanguage-link-target\" href=\"https://fa.wikipedia.org/wiki/%D9%BE%D8%A7%DB%8C%D8%AA%D9%88%D9%86_(%D8%B2%D8%A8%D8%A7%D9%86_%D8%A8%D8%B1%D9%86%D8%A7%D9%85%D9%87%E2%80%8C%D9%86%D9%88%DB%8C%D8%B3%DB%8C)\" hreflang=\"fa\" lang=\"fa\" title=\"پایتون (زبان برنامه‌نویسی) — перська\">فارسی</a></li><li class=\"interlanguage-link interwiki-fi\"><a class=\"interlanguage-link-target\" href=\"https://fi.wikipedia.org/wiki/Python_(ohjelmointikieli)\" hreflang=\"fi\" lang=\"fi\" title=\"Python (ohjelmointikieli) — фінська\">Suomi</a></li><li class=\"interlanguage-link interwiki-fj\"><a class=\"interlanguage-link-target\" href=\"https://fj.wikipedia.org/wiki/Python\" hreflang=\"fj\" lang=\"fj\" title=\"Python — фіджі\">Na Vosa Vakaviti</a></li><li class=\"interlanguage-link interwiki-fr\"><a class=\"interlanguage-link-target\" href=\"https://fr.wikipedia.org/wiki/Python_(langage)\" hreflang=\"fr\" lang=\"fr\" title=\"Python (langage) — французька\">Français</a></li><li class=\"interlanguage-link interwiki-gl\"><a class=\"interlanguage-link-target\" href=\"https://gl.wikipedia.org/wiki/Python\" hreflang=\"gl\" lang=\"gl\" title=\"Python — галісійська\">Galego</a></li><li class=\"interlanguage-link interwiki-gu\"><a class=\"interlanguage-link-target\" href=\"https://gu.wikipedia.org/wiki/%E0%AA%AA%E0%AA%BE%E0%AA%AF%E0%AA%A5%E0%AB%8B%E0%AA%A8(%E0%AA%AA%E0%AB%8D%E0%AA%B0%E0%AB%8B%E0%AA%97%E0%AB%8D%E0%AA%B0%E0%AA%BE%E0%AA%AE%E0%AA%BF%E0%AA%82%E0%AA%97_%E0%AA%AD%E0%AA%BE%E0%AA%B7%E0%AA%BE)\" hreflang=\"gu\" lang=\"gu\" title=\"પાયથોન(પ્રોગ્રામિંગ ભાષા) — гуджараті\">ગુજરાતી</a></li><li class=\"interlanguage-link interwiki-he\"><a class=\"interlanguage-link-target\" href=\"https://he.wikipedia.org/wiki/%D7%A4%D7%99%D7%99%D7%AA%D7%95%D7%9F\" hreflang=\"he\" lang=\"he\" title=\"פייתון — іврит\">עברית</a></li><li class=\"interlanguage-link interwiki-hi\"><a class=\"interlanguage-link-target\" href=\"https://hi.wikipedia.org/wiki/%E0%A4%AA%E0%A4%BE%E0%A4%87%E0%A4%A5%E0%A4%A8\" hreflang=\"hi\" lang=\"hi\" title=\"पाइथन — гінді\">हिन्दी</a></li><li class=\"interlanguage-link interwiki-hr\"><a class=\"interlanguage-link-target\" href=\"https://hr.wikipedia.org/wiki/Python_(programski_jezik)\" hreflang=\"hr\" lang=\"hr\" title=\"Python (programski jezik) — хорватська\">Hrvatski</a></li><li class=\"interlanguage-link interwiki-hu\"><a class=\"interlanguage-link-target\" href=\"https://hu.wikipedia.org/wiki/Python_(programoz%C3%A1si_nyelv)\" hreflang=\"hu\" lang=\"hu\" title=\"Python (programozási nyelv) — угорська\">Magyar</a></li><li class=\"interlanguage-link interwiki-hy\"><a class=\"interlanguage-link-target\" href=\"https://hy.wikipedia.org/wiki/Python\" hreflang=\"hy\" lang=\"hy\" title=\"Python — вірменська\">Հայերեն</a></li><li class=\"interlanguage-link interwiki-ia\"><a class=\"interlanguage-link-target\" href=\"https://ia.wikipedia.org/wiki/Python_(linguage_de_programmation)\" hreflang=\"ia\" lang=\"ia\" title=\"Python (linguage de programmation) — інтерлінгва\">Interlingua</a></li><li class=\"interlanguage-link interwiki-id\"><a class=\"interlanguage-link-target\" href=\"https://id.wikipedia.org/wiki/Python_(bahasa_pemrograman)\" hreflang=\"id\" lang=\"id\" title=\"Python (bahasa pemrograman) — індонезійська\">Bahasa Indonesia</a></li><li class=\"interlanguage-link interwiki-is\"><a class=\"interlanguage-link-target\" href=\"https://is.wikipedia.org/wiki/Python_(forritunarm%C3%A1l)\" hreflang=\"is\" lang=\"is\" title=\"Python (forritunarmál) — ісландська\">Íslenska</a></li><li class=\"interlanguage-link interwiki-it\"><a class=\"interlanguage-link-target\" href=\"https://it.wikipedia.org/wiki/Python\" hreflang=\"it\" lang=\"it\" title=\"Python — італійська\">Italiano</a></li><li class=\"interlanguage-link interwiki-ja\"><a class=\"interlanguage-link-target\" href=\"https://ja.wikipedia.org/wiki/Python\" hreflang=\"ja\" lang=\"ja\" title=\"Python — японська\">日本語</a></li><li class=\"interlanguage-link interwiki-jbo\"><a class=\"interlanguage-link-target\" href=\"https://jbo.wikipedia.org/wiki/paiton\" hreflang=\"jbo\" lang=\"jbo\" title=\"paiton — ложбан\">La .lojban.</a></li><li class=\"interlanguage-link interwiki-ka\"><a class=\"interlanguage-link-target\" href=\"https://ka.wikipedia.org/wiki/%E1%83%9E%E1%83%98%E1%83%97%E1%83%9D%E1%83%9C%E1%83%98_(%E1%83%9E%E1%83%A0%E1%83%9D%E1%83%92%E1%83%A0%E1%83%90%E1%83%9B%E1%83%98%E1%83%A0%E1%83%94%E1%83%91%E1%83%98%E1%83%A1_%E1%83%94%E1%83%9C%E1%83%90)\" hreflang=\"ka\" lang=\"ka\" title=\"პითონი (პროგრამირების ენა) — грузинська\">ქართული</a></li><li class=\"interlanguage-link interwiki-kk\"><a class=\"interlanguage-link-target\" href=\"https://kk.wikipedia.org/wiki/Python\" hreflang=\"kk\" lang=\"kk\" title=\"Python — казахська\">Қазақша</a></li><li class=\"interlanguage-link interwiki-km\"><a class=\"interlanguage-link-target\" href=\"https://km.wikipedia.org/wiki/%E1%9E%95%E1%9E%B6%E1%9E%99%E1%9E%90%E1%9E%BB%E1%9E%93\" hreflang=\"km\" lang=\"km\" title=\"ផាយថុន — кхмерська\">ភាសាខ្មែរ</a></li><li class=\"interlanguage-link interwiki-ko\"><a class=\"interlanguage-link-target\" href=\"https://ko.wikipedia.org/wiki/%ED%8C%8C%EC%9D%B4%EC%8D%AC\" hreflang=\"ko\" lang=\"ko\" title=\"파이썬 — корейська\">한국어</a></li><li class=\"interlanguage-link interwiki-ky\"><a class=\"interlanguage-link-target\" href=\"https://ky.wikipedia.org/wiki/Python\" hreflang=\"ky\" lang=\"ky\" title=\"Python — киргизька\">Кыргызча</a></li><li class=\"interlanguage-link interwiki-la\"><a class=\"interlanguage-link-target\" href=\"https://la.wikipedia.org/wiki/Python_(lingua_programmandi)\" hreflang=\"la\" lang=\"la\" title=\"Python (lingua programmandi) — латинська\">Latina</a></li><li class=\"interlanguage-link interwiki-lmo\"><a class=\"interlanguage-link-target\" href=\"https://lmo.wikipedia.org/wiki/Python\" hreflang=\"lmo\" lang=\"lmo\" title=\"Python — Lombard\">Lumbaart</a></li><li class=\"interlanguage-link interwiki-lt\"><a class=\"interlanguage-link-target\" href=\"https://lt.wikipedia.org/wiki/Python\" hreflang=\"lt\" lang=\"lt\" title=\"Python — литовська\">Lietuvių</a></li><li class=\"interlanguage-link interwiki-lv\"><a class=\"interlanguage-link-target\" href=\"https://lv.wikipedia.org/wiki/Python\" hreflang=\"lv\" lang=\"lv\" title=\"Python — латвійська\">Latviešu</a></li><li class=\"interlanguage-link interwiki-mk\"><a class=\"interlanguage-link-target\" href=\"https://mk.wikipedia.org/wiki/%D0%9F%D0%B0%D1%98%D1%82%D0%BE%D0%BD_(%D0%BF%D1%80%D0%BE%D0%B3%D1%80%D0%B0%D0%BC%D1%81%D0%BA%D0%B8_%D1%98%D0%B0%D0%B7%D0%B8%D0%BA)\" hreflang=\"mk\" lang=\"mk\" title=\"Пајтон (програмски јазик) — македонська\">Македонски</a></li><li class=\"interlanguage-link interwiki-ml\"><a class=\"interlanguage-link-target\" href=\"https://ml.wikipedia.org/wiki/%E0%B4%AA%E0%B5%88%E0%B4%A4%E0%B5%8D%E0%B4%A4%E0%B5%BA_(%E0%B4%AA%E0%B5%8D%E0%B4%B0%E0%B5%8B%E0%B4%97%E0%B5%8D%E0%B4%B0%E0%B4%BE%E0%B4%AE%E0%B4%BF%E0%B4%99%E0%B5%8D%E0%B4%99%E0%B5%8D_%E0%B4%AD%E0%B4%BE%E0%B4%B7)\" hreflang=\"ml\" lang=\"ml\" title=\"പൈത്തൺ (പ്രോഗ്രാമിങ്ങ് ഭാഷ) — малаялам\">മലയാളം</a></li><li class=\"interlanguage-link interwiki-mn\"><a class=\"interlanguage-link-target\" href=\"https://mn.wikipedia.org/wiki/Python\" hreflang=\"mn\" lang=\"mn\" title=\"Python — монгольська\">Монгол</a></li><li class=\"interlanguage-link interwiki-mr\"><a class=\"interlanguage-link-target\" href=\"https://mr.wikipedia.org/wiki/%E0%A4%AA%E0%A4%BE%E0%A4%AF%E0%A4%A5%E0%A5%89%E0%A4%A8\" hreflang=\"mr\" lang=\"mr\" title=\"पायथॉन — маратхі\">मराठी</a></li><li class=\"interlanguage-link interwiki-ms\"><a class=\"interlanguage-link-target\" href=\"https://ms.wikipedia.org/wiki/Python\" hreflang=\"ms\" lang=\"ms\" title=\"Python — малайська\">Bahasa Melayu</a></li><li class=\"interlanguage-link interwiki-my\"><a class=\"interlanguage-link-target\" href=\"https://my.wikipedia.org/wiki/Python_(programming_language)\" hreflang=\"my\" lang=\"my\" title=\"Python (programming language) — бірманська\">မြန်မာဘာသာ</a></li><li class=\"interlanguage-link interwiki-nds\"><a class=\"interlanguage-link-target\" href=\"https://nds.wikipedia.org/wiki/Python_(Programmeerspraak)\" hreflang=\"nds\" lang=\"nds\" title=\"Python (Programmeerspraak) — нижньонімецька\">Plattdüütsch</a></li><li class=\"interlanguage-link interwiki-ne\"><a class=\"interlanguage-link-target\" href=\"https://ne.wikipedia.org/wiki/%E0%A4%AA%E0%A4%BE%E0%A4%87%E0%A4%A5%E0%A4%A8_%E0%A4%AA%E0%A5%8D%E0%A4%B0%E0%A5%8B%E0%A4%97%E0%A5%8D%E0%A4%B0%E0%A4%BE%E0%A4%AE%E0%A4%BF%E0%A4%99%E0%A5%8D%E0%A4%97_%E0%A4%AD%E0%A4%BE%E0%A4%B7%E0%A4%BE\" hreflang=\"ne\" lang=\"ne\" title=\"पाइथन प्रोग्रामिङ्ग भाषा — непальська\">नेपाली</a></li><li class=\"interlanguage-link interwiki-nl\"><a class=\"interlanguage-link-target\" href=\"https://nl.wikipedia.org/wiki/Python_(programmeertaal)\" hreflang=\"nl\" lang=\"nl\" title=\"Python (programmeertaal) — нідерландська\">Nederlands</a></li><li class=\"interlanguage-link interwiki-nn\"><a class=\"interlanguage-link-target\" href=\"https://nn.wikipedia.org/wiki/Python\" hreflang=\"nn\" lang=\"nn\" title=\"Python — норвезька (нюношк)\">Norsk nynorsk</a></li><li class=\"interlanguage-link interwiki-no\"><a class=\"interlanguage-link-target\" href=\"https://no.wikipedia.org/wiki/Python\" hreflang=\"nb\" lang=\"nb\" title=\"Python — норвезька (букмол)\">Norsk bokmål</a></li><li class=\"interlanguage-link interwiki-nqo\"><a class=\"interlanguage-link-target\" href=\"https://nqo.wikipedia.org/wiki/%DF%93%DF%8A%DF%A6%DF%8C%DF%95%DF%90%DF%A3\" hreflang=\"nqo\" lang=\"nqo\" title=\"ߓߊߦߌߕߐߣ — нко\">ߒߞߏ</a></li><li class=\"interlanguage-link interwiki-or\"><a class=\"interlanguage-link-target\" href=\"https://or.wikipedia.org/wiki/%E0%AC%AA%E0%AC%BE%E0%AC%87%E0%AC%A5%E0%AC%A8%E0%AD%8D_(%E0%AC%AA%E0%AD%8D%E0%AC%B0%E0%AD%8B%E0%AC%97%E0%AD%8D%E0%AC%B0%E0%AC%BE%E0%AC%AE%E0%AC%BF%E0%AC%82_%E0%AC%AD%E0%AC%BE%E0%AC%B7%E0%AC%BE)\" hreflang=\"or\" lang=\"or\" title=\"ପାଇଥନ୍ (ପ୍ରୋଗ୍ରାମିଂ ଭାଷା) — одія\">ଓଡ଼ିଆ</a></li><li class=\"interlanguage-link interwiki-pa\"><a class=\"interlanguage-link-target\" href=\"https://pa.wikipedia.org/wiki/%E0%A8%AA%E0%A8%BE%E0%A8%88%E0%A8%A5%E0%A8%A8_(%E0%A8%AA%E0%A9%8D%E0%A8%B0%E0%A9%8B%E0%A8%97%E0%A8%B0%E0%A8%BE%E0%A8%AE%E0%A8%BF%E0%A9%B0%E0%A8%97_%E0%A8%AD%E0%A8%BE%E0%A8%B8%E0%A8%BC%E0%A8%BE)\" hreflang=\"pa\" lang=\"pa\" title=\"ਪਾਈਥਨ (ਪ੍ਰੋਗਰਾਮਿੰਗ ਭਾਸ਼ਾ) — панджабі\">ਪੰਜਾਬੀ</a></li><li class=\"interlanguage-link interwiki-pl\"><a class=\"interlanguage-link-target\" href=\"https://pl.wikipedia.org/wiki/Python\" hreflang=\"pl\" lang=\"pl\" title=\"Python — польська\">Polski</a></li><li class=\"interlanguage-link interwiki-pnb\"><a class=\"interlanguage-link-target\" href=\"https://pnb.wikipedia.org/wiki/%D9%BE%D8%A7%D8%A6%DB%8C%D8%AA%DA%BE%D9%86_(%DA%A9%D9%85%D9%BE%DB%8C%D9%88%D9%B9%D8%B1_%D8%A8%D9%88%D9%84%DB%8C)\" hreflang=\"pnb\" lang=\"pnb\" title=\"پائیتھن (کمپیوٹر بولی) — Western Punjabi\">پنجابی</a></li><li class=\"interlanguage-link interwiki-pt\"><a class=\"interlanguage-link-target\" href=\"https://pt.wikipedia.org/wiki/Python\" hreflang=\"pt\" lang=\"pt\" title=\"Python — портуґальська\">Português</a></li><li class=\"interlanguage-link interwiki-ro\"><a class=\"interlanguage-link-target\" href=\"https://ro.wikipedia.org/wiki/Python\" hreflang=\"ro\" lang=\"ro\" title=\"Python — румунська\">Română</a></li><li class=\"interlanguage-link interwiki-ru badge-Q17437796 badge-featuredarticle\" title=\"вибрана стаття\"><a class=\"interlanguage-link-target\" href=\"https://ru.wikipedia.org/wiki/Python\" hreflang=\"ru\" lang=\"ru\" title=\"Python — російська\">Русский</a></li><li class=\"interlanguage-link interwiki-sah\"><a class=\"interlanguage-link-target\" href=\"https://sah.wikipedia.org/wiki/Python\" hreflang=\"sah\" lang=\"sah\" title=\"Python — якутська\">Саха тыла</a></li><li class=\"interlanguage-link interwiki-sco\"><a class=\"interlanguage-link-target\" href=\"https://sco.wikipedia.org/wiki/Python_(programmin_leid)\" hreflang=\"sco\" lang=\"sco\" title=\"Python (programmin leid) — шотландська\">Scots</a></li><li class=\"interlanguage-link interwiki-sh\"><a class=\"interlanguage-link-target\" href=\"https://sh.wikipedia.org/wiki/Python_programski_jezik\" hreflang=\"sh\" lang=\"sh\" title=\"Python programski jezik — сербсько-хорватська\">Srpskohrvatski / српскохрватски</a></li><li class=\"interlanguage-link interwiki-shn\"><a class=\"interlanguage-link-target\" href=\"https://shn.wikipedia.org/wiki/Python_(programming_language)\" hreflang=\"shn\" lang=\"shn\" title=\"Python (programming language) — шанська\">ၽႃႇသႃႇတႆး </a></li><li class=\"interlanguage-link interwiki-si\"><a class=\"interlanguage-link-target\" href=\"https://si.wikipedia.org/wiki/%E0%B6%B4%E0%B6%BA%E0%B7%92%E0%B6%AD%E0%B6%B1%E0%B7%8A\" hreflang=\"si\" lang=\"si\" title=\"පයිතන් — сингальська\">සිංහල</a></li><li class=\"interlanguage-link interwiki-simple\"><a class=\"interlanguage-link-target\" href=\"https://simple.wikipedia.org/wiki/Python_(programming_language)\" hreflang=\"en-simple\" lang=\"en-simple\" title=\"Python (programming language) — Simple English\">Simple English</a></li><li class=\"interlanguage-link interwiki-sk\"><a class=\"interlanguage-link-target\" href=\"https://sk.wikipedia.org/wiki/Python_(programovac%C3%AD_jazyk)\" hreflang=\"sk\" lang=\"sk\" title=\"Python (programovací jazyk) — словацька\">Slovenčina</a></li><li class=\"interlanguage-link interwiki-sl\"><a class=\"interlanguage-link-target\" href=\"https://sl.wikipedia.org/wiki/Python_(programski_jezik)\" hreflang=\"sl\" lang=\"sl\" title=\"Python (programski jezik) — словенська\">Slovenščina</a></li><li class=\"interlanguage-link interwiki-sq\"><a class=\"interlanguage-link-target\" href=\"https://sq.wikipedia.org/wiki/Python\" hreflang=\"sq\" lang=\"sq\" title=\"Python — албанська\">Shqip</a></li><li class=\"interlanguage-link interwiki-sr\"><a class=\"interlanguage-link-target\" href=\"https://sr.wikipedia.org/wiki/%D0%9F%D0%B0%D1%98%D1%82%D0%BE%D0%BD_(%D0%BF%D1%80%D0%BE%D0%B3%D1%80%D0%B0%D0%BC%D1%81%D0%BA%D0%B8_%D1%98%D0%B5%D0%B7%D0%B8%D0%BA)\" hreflang=\"sr\" lang=\"sr\" title=\"Пајтон (програмски језик) — сербська\">Српски / srpski</a></li><li class=\"interlanguage-link interwiki-sv\"><a class=\"interlanguage-link-target\" href=\"https://sv.wikipedia.org/wiki/Python_(programspr%C3%A5k)\" hreflang=\"sv\" lang=\"sv\" title=\"Python (programspråk) — шведська\">Svenska</a></li><li class=\"interlanguage-link interwiki-sw\"><a class=\"interlanguage-link-target\" href=\"https://sw.wikipedia.org/wiki/Python_(Lugha_ya_programu)\" hreflang=\"sw\" lang=\"sw\" title=\"Python (Lugha ya programu) — суахілі\">Kiswahili</a></li><li class=\"interlanguage-link interwiki-ta\"><a class=\"interlanguage-link-target\" href=\"https://ta.wikipedia.org/wiki/%E0%AE%AA%E0%AF%88%E0%AE%A4%E0%AF%8D%E0%AE%A4%E0%AE%BE%E0%AE%A9%E0%AF%8D\" hreflang=\"ta\" lang=\"ta\" title=\"பைத்தான் — тамільська\">தமிழ்</a></li><li class=\"interlanguage-link interwiki-te\"><a class=\"interlanguage-link-target\" href=\"https://te.wikipedia.org/wiki/%E0%B0%AA%E0%B1%88%E0%B0%A5%E0%B0%BE%E0%B0%A8%E0%B1%8D_(%E0%B0%95%E0%B0%82%E0%B0%AA%E0%B1%8D%E0%B0%AF%E0%B1%82%E0%B0%9F%E0%B0%B0%E0%B1%8D_%E0%B0%AD%E0%B0%BE%E0%B0%B7)\" hreflang=\"te\" lang=\"te\" title=\"పైథాన్ (కంప్యూటర్ భాష) — телугу\">తెలుగు</a></li><li class=\"interlanguage-link interwiki-tg\"><a class=\"interlanguage-link-target\" href=\"https://tg.wikipedia.org/wiki/Python\" hreflang=\"tg\" lang=\"tg\" title=\"Python — таджицька\">Тоҷикӣ</a></li><li class=\"interlanguage-link interwiki-th\"><a class=\"interlanguage-link-target\" href=\"https://th.wikipedia.org/wiki/%E0%B9%84%E0%B8%9E%E0%B8%97%E0%B8%AD%E0%B8%99_(%E0%B8%A0%E0%B8%B2%E0%B8%A9%E0%B8%B2%E0%B9%82%E0%B8%9B%E0%B8%A3%E0%B9%81%E0%B8%81%E0%B8%A3%E0%B8%A1)\" hreflang=\"th\" lang=\"th\" title=\"ไพทอน (ภาษาโปรแกรม) — тайська\">ไทย</a></li><li class=\"interlanguage-link interwiki-tl\"><a class=\"interlanguage-link-target\" href=\"https://tl.wikipedia.org/wiki/Python_(wikang_pamprograma)\" hreflang=\"tl\" lang=\"tl\" title=\"Python (wikang pamprograma) — тагальська\">Tagalog</a></li><li class=\"interlanguage-link interwiki-tr\"><a class=\"interlanguage-link-target\" href=\"https://tr.wikipedia.org/wiki/Python_(programlama_dili)\" hreflang=\"tr\" lang=\"tr\" title=\"Python (programlama dili) — турецька\">Türkçe</a></li><li class=\"interlanguage-link interwiki-tt\"><a class=\"interlanguage-link-target\" href=\"https://tt.wikipedia.org/wiki/Python\" hreflang=\"tt\" lang=\"tt\" title=\"Python — татарська\">Татарча/tatarça</a></li><li class=\"interlanguage-link interwiki-ug\"><a class=\"interlanguage-link-target\" href=\"https://ug.wikipedia.org/wiki/%D9%BE%D8%A7%D9%8A%D8%B3%D9%88%D9%86\" hreflang=\"ug\" lang=\"ug\" title=\"پايسون — уйгурська\">ئۇيغۇرچە / Uyghurche</a></li><li class=\"interlanguage-link interwiki-ur\"><a class=\"interlanguage-link-target\" href=\"https://ur.wikipedia.org/wiki/%D9%BE%D8%A7%D8%A6%DB%8C%D8%AA%DA%BE%D9%86_(%D9%BE%D8%B1%D9%88%DA%AF%D8%B1%D8%A7%D9%85%D9%86%DA%AF_%D8%B2%D8%A8%D8%A7%D9%86)\" hreflang=\"ur\" lang=\"ur\" title=\"پائیتھن (پروگرامنگ زبان) — урду\">اردو</a></li><li class=\"interlanguage-link interwiki-uz\"><a class=\"interlanguage-link-target\" href=\"https://uz.wikipedia.org/wiki/Python\" hreflang=\"uz\" lang=\"uz\" title=\"Python — узбецька\">Oʻzbekcha/ўзбекча</a></li><li class=\"interlanguage-link interwiki-vi\"><a class=\"interlanguage-link-target\" href=\"https://vi.wikipedia.org/wiki/Python_(ng%C3%B4n_ng%E1%BB%AF_l%E1%BA%ADp_tr%C3%ACnh)\" hreflang=\"vi\" lang=\"vi\" title=\"Python (ngôn ngữ lập trình) — вʼєтнамська\">Tiếng Việt</a></li><li class=\"interlanguage-link interwiki-wa\"><a class=\"interlanguage-link-target\" href=\"https://wa.wikipedia.org/wiki/Python_(lingaedje_%C3%A9ndjolike)\" hreflang=\"wa\" lang=\"wa\" title=\"Python (lingaedje éndjolike) — валлонська\">Walon</a></li><li class=\"interlanguage-link interwiki-war\"><a class=\"interlanguage-link-target\" href=\"https://war.wikipedia.org/wiki/Python_(programming_language)\" hreflang=\"war\" lang=\"war\" title=\"Python (programming language) — варай\">Winaray</a></li><li class=\"interlanguage-link interwiki-wuu\"><a class=\"interlanguage-link-target\" href=\"https://wuu.wikipedia.org/wiki/Python\" hreflang=\"wuu\" lang=\"wuu\" title=\"Python — уська китайська\">吴语</a></li><li class=\"interlanguage-link interwiki-zh\"><a class=\"interlanguage-link-target\" href=\"https://zh.wikipedia.org/wiki/Python\" hreflang=\"zh\" lang=\"zh\" title=\"Python — китайська\">中文</a></li><li class=\"interlanguage-link interwiki-zh-min-nan\"><a class=\"interlanguage-link-target\" href=\"https://zh-min-nan.wikipedia.org/wiki/Python\" hreflang=\"nan\" lang=\"nan\" title=\"Python — Chinese (Min Nan)\">Bân-lâm-gú</a></li><li class=\"interlanguage-link interwiki-zh-yue\"><a class=\"interlanguage-link-target\" href=\"https://zh-yue.wikipedia.org/wiki/Python\" hreflang=\"yue\" lang=\"yue\" title=\"Python — Cantonese\">粵語</a></li></ul>\n",
      "<ul id=\"footer-info\">\n",
      "<li id=\"footer-info-lastmod\"> Цю сторінку востаннє відредаговано о 13:04, 13 серпня 2020.</li>\n",
      "<li id=\"footer-info-copyright\">Текст доступний на умовах ліцензії <a href=\"https://creativecommons.org/licenses/by-sa/3.0/\">Creative Commons Attribution-ShareAlike</a>;\n",
      "також можуть діяти додаткові умови.\n",
      "Детальніше див. <a href=\"https://foundation.wikimedia.org/wiki/Умови_використання\">Умови використання</a>.</li>\n",
      "</ul>\n",
      "<ul id=\"footer-places\">\n",
      "<li id=\"footer-places-privacy\"><a class=\"extiw\" href=\"https://foundation.wikimedia.org/wiki/Privacy_policy\" title=\"wmf:Privacy policy\">Політика конфіденційності</a></li>\n",
      "<li id=\"footer-places-about\"><a href=\"/wiki/%D0%92%D1%96%D0%BA%D1%96%D0%BF%D0%B5%D0%B4%D1%96%D1%8F:%D0%9F%D1%80%D0%BE\" title=\"Вікіпедія:Про\">Про Вікіпедію</a></li>\n",
      "<li id=\"footer-places-disclaimer\"><a href=\"/wiki/%D0%92%D1%96%D0%BA%D1%96%D0%BF%D0%B5%D0%B4%D1%96%D1%8F:%D0%92%D1%96%D0%B4%D0%BC%D0%BE%D0%B2%D0%B0_%D0%B2%D1%96%D0%B4_%D0%B2%D1%96%D0%B4%D0%BF%D0%BE%D0%B2%D1%96%D0%B4%D0%B0%D0%BB%D1%8C%D0%BD%D0%BE%D1%81%D1%82%D1%96\" title=\"Вікіпедія:Відмова від відповідальності\">Відмова від відповідальності</a></li>\n",
      "<li id=\"footer-places-contact\"><a href=\"//uk.wikipedia.org/wiki/Вікіпедія:Зворотний_зв%27язок\">Зворотний зв'язок</a></li>\n",
      "<li id=\"footer-places-mobileview\"><a class=\"noprint stopMobileRedirectToggle\" href=\"//uk.m.wikipedia.org/w/index.php?title=Python&amp;mobileaction=toggle_view_mobile\">Мобільний вигляд</a></li>\n",
      "<li id=\"footer-places-developers\"><a href=\"https://www.mediawiki.org/wiki/Special:MyLanguage/How_to_contribute\">Розробники</a></li>\n",
      "<li id=\"footer-places-statslink\"><a href=\"https://stats.wikimedia.org/#/uk.wikipedia.org\">Статистика</a></li>\n",
      "<li id=\"footer-places-cookiestatement\"><a href=\"https://foundation.wikimedia.org/wiki/Cookie_statement\">Куки</a></li>\n",
      "</ul>\n",
      "<ul class=\"noprint\" id=\"footer-icons\">\n",
      "<li id=\"footer-copyrightico\"><a href=\"https://wikimediafoundation.org/\"><img alt=\"Wikimedia Foundation\" height=\"31\" loading=\"lazy\" src=\"/static/images/footer/wikimedia-button.png\" srcset=\"/static/images/footer/wikimedia-button-1.5x.png 1.5x, /static/images/footer/wikimedia-button-2x.png 2x\" width=\"88\"/></a></li>\n",
      "<li id=\"footer-poweredbyico\"><a href=\"https://www.mediawiki.org/\"><img alt=\"Powered by MediaWiki\" height=\"31\" loading=\"lazy\" src=\"/static/images/footer/poweredby_mediawiki_88x31.png\" srcset=\"/static/images/footer/poweredby_mediawiki_132x47.png 1.5x, /static/images/footer/poweredby_mediawiki_176x62.png 2x\" width=\"88\"/></a></li>\n",
      "</ul>\n"
     ]
    }
   ],
   "source": [
    "from bs4 import BeautifulSoup\n",
    "import requests\n",
    "r = requests.get(\"https://uk.wikipedia.org/wiki/Python\")\n",
    "soup = BeautifulSoup (r.text, 'html.parser')\n",
    "for i in soup.find_all('ul'):\n",
    "    print(i)"
   ]
  },
  {
   "cell_type": "code",
   "execution_count": 44,
   "metadata": {},
   "outputs": [
    {
     "name": "stdout",
     "output_type": "stream",
     "text": [
      "\n",
      "Ириска\n",
      "\t\t31 год, овен, познакомится с парнем в возрасте 35-42 лет\t\n"
     ]
    }
   ],
   "source": [
    "import requests\n",
    "r = requests.get('https://www.i.ua/')\n",
    "\n",
    "\n",
    "from bs4 import BeautifulSoup\n",
    "soup = BeautifulSoup(r.text, 'html.parser')\n",
    "for i in soup.find_all('h2'):\n",
    "    if i.text == 'Знакомства':\n",
    "        name = i.parent.p.text\n",
    "        info = i.parent.dd.text\n",
    "        \n",
    "print(info)"
   ]
  },
  {
   "cell_type": "markdown",
   "metadata": {},
   "source": [
    "# Облік товарів в магазині"
   ]
  },
  {
   "cell_type": "code",
   "execution_count": 3,
   "metadata": {},
   "outputs": [
    {
     "ename": "OperationalError",
     "evalue": "table sales already exists",
     "output_type": "error",
     "traceback": [
      "\u001b[1;31m---------------------------------------------------------------------------\u001b[0m",
      "\u001b[1;31mOperationalError\u001b[0m                          Traceback (most recent call last)",
      "\u001b[1;32m<ipython-input-3-18c6251594be>\u001b[0m in \u001b[0;36m<module>\u001b[1;34m\u001b[0m\n\u001b[0;32m     11\u001b[0m \u001b[0mQty\u001b[0m \u001b[0mINT\u001b[0m\u001b[1;33m\u001b[0m\u001b[1;33m\u001b[0m\u001b[0m\n\u001b[0;32m     12\u001b[0m )'''\n\u001b[1;32m---> 13\u001b[1;33m \u001b[0mcurs\u001b[0m\u001b[1;33m.\u001b[0m\u001b[0mexecute\u001b[0m\u001b[1;33m(\u001b[0m\u001b[0msql_text\u001b[0m\u001b[1;33m)\u001b[0m\u001b[1;33m\u001b[0m\u001b[1;33m\u001b[0m\u001b[0m\n\u001b[0m\u001b[0;32m     14\u001b[0m \u001b[0mconn\u001b[0m\u001b[1;33m.\u001b[0m\u001b[0mcommit\u001b[0m\u001b[1;33m(\u001b[0m\u001b[1;33m)\u001b[0m\u001b[1;33m\u001b[0m\u001b[1;33m\u001b[0m\u001b[0m\n",
      "\u001b[1;31mOperationalError\u001b[0m: table sales already exists"
     ]
    }
   ],
   "source": [
    "#створюємо базу даних для зберігання інформації\n",
    "\n",
    "import sqlite3\n",
    "\n",
    "conn = sqlite3.connect('sales.db')\n",
    "curs = conn.cursor()\n",
    "\n",
    "sql_text = '''CREATE TABLE sales \n",
    "(Period DATETIME,\n",
    "Product VARCHAR(100),\n",
    "Qty INT\n",
    ")'''\n",
    "curs.execute(sql_text)\n",
    "conn.commit()"
   ]
  },
  {
   "cell_type": "code",
   "execution_count": 15,
   "metadata": {},
   "outputs": [
    {
     "name": "stdout",
     "output_type": "stream",
     "text": [
      "('Кавун', 7)\n",
      "('Полуниця', 10)\n"
     ]
    }
   ],
   "source": [
    "sql_text = \"\"\"SELECT Product, SUM(Qty) FROM sales GROUP BY Product\"\"\"\n",
    "curs.execute(sql_text)\n",
    "for i in curs.fetchall():\n",
    "    print(i)"
   ]
  },
  {
   "cell_type": "code",
   "execution_count": 19,
   "metadata": {},
   "outputs": [
    {
     "name": "stdout",
     "output_type": "stream",
     "text": [
      "Виберіть операцію:\n",
      "1 - прийняти товар в магазин\n",
      "2 - продати товар\n",
      "3 - вивести залишки товарів\n",
      "2\n",
      "Введіть назву, що продаємо: Кавун\n",
      "Введіть кількість товару: 20\n",
      "Такої кількості немає в наявності\n"
     ]
    }
   ],
   "source": [
    "import sqlite3\n",
    "import datetime\n",
    "\n",
    "conn = sqlite3.connect('sales.db')\n",
    "curs = conn.cursor()\n",
    "\n",
    "print(\"\"\"Виберіть операцію:\n",
    "1 - прийняти товар в магазин\n",
    "2 - продати товар\n",
    "3 - вивести залишки товарів\"\"\")\n",
    "\n",
    "menu = input()\n",
    "if menu == '1':\n",
    "    product = input(\"Введіть назву товару: \")\n",
    "    qty = int(input(\"Введіть кількість товару: \"))\n",
    "    period = datetime.datetime.now().isoformat()\n",
    "    \n",
    "    sql_text = \"\"\"INSERT INTO sales VALUES (?, ?, ?)\"\"\"\n",
    "    curs.execute(sql_text, (period ,product, qty))\n",
    "    conn.commit()\n",
    "    \n",
    "elif menu == '2':\n",
    "    product = input(\"Введіть назву, що продаємо: \")\n",
    "    qty = int(input(\"Введіть кількість товару: \"))\n",
    "    period = datetime.datetime.now().isoformat()\n",
    "    my_dict = {}\n",
    "    sql_text = \"\"\"SELECT Product, SUM(Qty) FROM sales GROUP BY Product\"\"\"\n",
    "    curs.execute(sql_text)\n",
    "    for i in curs.fetchall():\n",
    "        my_dict[i[0]] = i[1]\n",
    "    if product in my_dict:\n",
    "        if qty <= my_dict[product]:\n",
    "            sql_text = \"\"\"INSERT INTO sales VALUES (?, ?, ?)\"\"\"\n",
    "            curs.execute(sql_text, (period ,product, -qty))\n",
    "            conn.commit()\n",
    "        else:\n",
    "            print(\"Такої кількості немає в наявності\")\n",
    "    else:\n",
    "        print(\"Такого товару немає в наявності\")\n",
    "        \n",
    "    \n",
    "    \n",
    "    \n",
    "elif menu == '3':\n",
    "    sql_text = \"\"\"SELECT Product, SUM(Qty) FROM sales GROUP BY Product\"\"\"\n",
    "    curs.execute(sql_text)\n",
    "    for i in curs.fetchall():\n",
    "        print(*i)\n",
    "else:\n",
    "    print('Error')"
   ]
  },
  {
   "cell_type": "code",
   "execution_count": 1,
   "metadata": {},
   "outputs": [],
   "source": [
    "import sqlite3\n",
    "\n",
    "conn = sqlite3.connect('tysql.sqlite')\n",
    "curs = conn.cursor()"
   ]
  },
  {
   "cell_type": "code",
   "execution_count": 3,
   "metadata": {},
   "outputs": [
    {
     "data": {
      "text/plain": [
       "[('Customers',),\n",
       " ('sqlite_autoindex_Customers_1',),\n",
       " ('OrderItems',),\n",
       " ('sqlite_autoindex_OrderItems_1',),\n",
       " ('Orders',),\n",
       " ('sqlite_autoindex_Orders_1',),\n",
       " ('Products',),\n",
       " ('sqlite_autoindex_Products_1',),\n",
       " ('Vendors',),\n",
       " ('sqlite_autoindex_Vendors_1',)]"
      ]
     },
     "execution_count": 3,
     "metadata": {},
     "output_type": "execute_result"
    }
   ],
   "source": [
    "sql_text = \"\"\"SELECT  name FROM  sqlite_master \"\"\"\n",
    "\n",
    "curs.execute(sql_text)\n",
    "curs.fetchall()"
   ]
  },
  {
   "cell_type": "code",
   "execution_count": 4,
   "metadata": {},
   "outputs": [
    {
     "name": "stdout",
     "output_type": "stream",
     "text": [
      "('1000000001',)\n",
      "('1000000002',)\n",
      "('1000000003',)\n",
      "('1000000004',)\n",
      "('1000000005',)\n"
     ]
    }
   ],
   "source": [
    "sql_text = \"\"\"SELECT  cust_id FROM customers \"\"\"\n",
    "\n",
    "curs.execute(sql_text)\n",
    "for i in curs.fetchall():\n",
    "    print(i)"
   ]
  },
  {
   "cell_type": "code",
   "execution_count": 5,
   "metadata": {},
   "outputs": [
    {
     "name": "stdout",
     "output_type": "stream",
     "text": [
      "('1000000001', 'Village Toys', '200 Maple Lane', 'Detroit', 'MI', '44444', 'USA', 'John Smith', 'sales@villagetoys.com')\n",
      "('1000000002', 'Kids Place', '333 South Lake Drive', 'Columbus', 'OH', '43333', 'USA', 'Michelle Green', None)\n",
      "('1000000003', 'Fun4All', '1 Sunny Place', 'Muncie', 'IN', '42222', 'USA', 'Jim Jones', 'jjones@fun4all.com')\n",
      "('1000000004', 'Fun4All', '829 Riverside Drive', 'Phoenix', 'AZ', '88888', 'USA', 'Denise L. Stephens', 'dstephens@fun4all.com')\n",
      "('1000000005', 'The Toy Store', '4545 53rd Street', 'Chicago', 'IL', '54545', 'USA', 'Kim Howard', None)\n"
     ]
    }
   ],
   "source": [
    "sql_text = \"\"\"SELECT  * FROM customers \"\"\"\n",
    "\n",
    "curs.execute(sql_text)\n",
    "for i in curs.fetchall():\n",
    "    print(i)"
   ]
  },
  {
   "cell_type": "code",
   "execution_count": 8,
   "metadata": {},
   "outputs": [
    {
     "name": "stdout",
     "output_type": "stream",
     "text": [
      "('Village Toys',)\n",
      "('The Toy Store',)\n",
      "('Kids Place',)\n",
      "('Fun4All',)\n",
      "('Fun4All',)\n"
     ]
    }
   ],
   "source": [
    "sql_text = \"\"\"SELECT cust_name  FROM customers ORDER BY cust_name DESC \"\"\"\n",
    "\n",
    "curs.execute(sql_text)\n",
    "for i in curs.fetchall():\n",
    "    print(i)"
   ]
  },
  {
   "cell_type": "code",
   "execution_count": 9,
   "metadata": {},
   "outputs": [
    {
     "name": "stdout",
     "output_type": "stream",
     "text": [
      "('1000000001', 20009)\n",
      "('1000000001', 20005)\n",
      "('1000000003', 20006)\n",
      "('1000000004', 20007)\n",
      "('1000000005', 20008)\n"
     ]
    }
   ],
   "source": [
    "sql_text = \"\"\"SELECT cust_id, order_num  FROM Orders ORDER BY cust_id, order_date \"\"\"\n",
    "\n",
    "curs.execute(sql_text)\n",
    "for i in curs.fetchall():\n",
    "    print(i)"
   ]
  },
  {
   "cell_type": "code",
   "execution_count": 15,
   "metadata": {},
   "outputs": [
    {
     "name": "stdout",
     "output_type": "stream",
     "text": [
      "(250, 2.49, 622.5)\n",
      "(250, 2.49, 622.5)\n",
      "(250, 2.49, 622.5)\n",
      "(100, 10.99, 1099.0)\n",
      "(100, 5.49, 549.0)\n",
      "(100, 2.99, 299.0)\n",
      "(100, 2.99, 299.0)\n",
      "(100, 2.99, 299.0)\n",
      "(50, 11.49, 574.5)\n",
      "(50, 4.49, 224.5)\n",
      "(20, 5.99, 119.80000000000001)\n",
      "(10, 11.99, 119.9)\n",
      "(10, 8.99, 89.9)\n",
      "(10, 3.49, 34.900000000000006)\n",
      "(10, 3.49, 34.900000000000006)\n",
      "(10, 3.49, 34.900000000000006)\n",
      "(5, 11.99, 59.95)\n",
      "(5, 4.99, 24.950000000000003)\n"
     ]
    }
   ],
   "source": [
    "sql_text = \"\"\"SELECT quantity, item_price, round(quantity*item_price  FROM OrderItems ORDER BY quantity DESC, item_price DESC  \"\"\"\n",
    "\n",
    "curs.execute(sql_text)\n",
    "for i in curs.fetchall():\n",
    "    print(i)"
   ]
  },
  {
   "cell_type": "code",
   "execution_count": 18,
   "metadata": {},
   "outputs": [
    {
     "name": "stdout",
     "output_type": "stream",
     "text": [
      "('Fish bean bag toy', 3.49)\n",
      "('Bird bean bag toy', 3.49)\n",
      "('Rabbit bean bag toy', 3.49)\n",
      "('Raggedy Ann', 4.99)\n",
      "('8 inch teddy bear', 5.99)\n"
     ]
    }
   ],
   "source": [
    "sql_text = \"\"\"\n",
    "SELECT prod_name, prod_price \n",
    "FROM Products \n",
    "WHERE prod_price  between 3 and 6\n",
    "ORDER BY prod_price\"\"\"\n",
    "\n",
    "curs.execute(sql_text)\n",
    "for i in curs.fetchall():\n",
    "    print(i)"
   ]
  },
  {
   "cell_type": "code",
   "execution_count": 20,
   "metadata": {},
   "outputs": [
    {
     "name": "stdout",
     "output_type": "stream",
     "text": [
      "('BNBG01', 360)\n",
      "('BNBG02', 360)\n",
      "('BNBG03', 360)\n",
      "('BR01', 120)\n",
      "('BR02', 10)\n",
      "('BR03', 165)\n",
      "('RGAN01', 55)\n"
     ]
    }
   ],
   "source": [
    "sql_text = \"\"\"\n",
    "SELECT prod_id,  SUM(quantity)\n",
    "FROM OrderItems\n",
    "GROUP BY prod_id\n",
    "\"\"\"\n",
    "\n",
    "curs.execute(sql_text)\n",
    "for i in curs.fetchall():\n",
    "    print(i)"
   ]
  },
  {
   "cell_type": "code",
   "execution_count": 36,
   "metadata": {},
   "outputs": [
    {
     "name": "stdout",
     "output_type": "stream",
     "text": [
      "('8 inch teddy bear',)\n",
      "('12 inch teddy bear',)\n",
      "('18 inch teddy bear',)\n",
      "('Raggedy Ann',)\n",
      "('King doll',)\n",
      "('Queen doll',)\n"
     ]
    }
   ],
   "source": [
    "sql_text = \"\"\"\n",
    "SELECT prod_name\n",
    "FROM Products\n",
    "WHERE prod_price > 4\n",
    "\"\"\"\n",
    "\n",
    "curs.execute(sql_text)\n",
    "for i in curs.fetchall():\n",
    "    print(i)"
   ]
  },
  {
   "cell_type": "code",
   "execution_count": 38,
   "metadata": {},
   "outputs": [
    {
     "name": "stdout",
     "output_type": "stream",
     "text": [
      "('18 inch teddy bear', 11.99)\n",
      "('King doll', 9.49)\n",
      "('Queen doll', 9.49)\n"
     ]
    }
   ],
   "source": [
    "sql_text = \"\"\"\n",
    "SELECT prod_name, prod_price\n",
    "FROM Products\n",
    "ORDER BY prod_price DESC\n",
    "LIMIT 3\n",
    "\"\"\"\n",
    "\n",
    "curs.execute(sql_text)\n",
    "for i in curs.fetchall():\n",
    "    print(i)"
   ]
  },
  {
   "cell_type": "code",
   "execution_count": 43,
   "metadata": {},
   "outputs": [
    {
     "name": "stdout",
     "output_type": "stream",
     "text": [
      "('1000000001', 5)\n",
      "('1000000003', 5)\n",
      "('1000000004', 5)\n",
      "('1000000005', 5)\n"
     ]
    }
   ],
   "source": [
    "sql_text = \"\"\"\n",
    "SELECT cust_id, COUNT(order_num)\n",
    "FROM ORDERS\n",
    "GROUP BY cust_id\n",
    "\"\"\"\n",
    "\n",
    "sql_text = \"\"\"\n",
    "SELECT cust_id, (SELECT COUNT(order_num) FROM ORDERS t1 WHERE t1.cust_id = t2.cust_id)\n",
    "FROM ORDERS t2\n",
    "GROUP BY cust_id\n",
    "\"\"\"\n",
    "\n",
    "curs.execute(sql_text)\n",
    "for i in curs.fetchall():\n",
    "    print(i)"
   ]
  },
  {
   "cell_type": "code",
   "execution_count": 48,
   "metadata": {},
   "outputs": [
    {
     "name": "stdout",
     "output_type": "stream",
     "text": [
      "('Village Toys', 20005)\n",
      "('Fun4All', 20006)\n",
      "('Fun4All', 20007)\n",
      "('The Toy Store', 20008)\n",
      "('Village Toys', 20009)\n"
     ]
    }
   ],
   "source": [
    "sql_text = \"\"\"\n",
    "SELECT Customers.cust_name, ORDERS.order_num\n",
    "FROM ORDERS\n",
    "JOIN Customers on ORDERS.cust_id = Customers.cust_id\n",
    "\n",
    "\"\"\"\n",
    "\n",
    "curs.execute(sql_text)\n",
    "for i in curs.fetchall():\n",
    "    print(i)"
   ]
  },
  {
   "cell_type": "code",
   "execution_count": 59,
   "metadata": {},
   "outputs": [
    {
     "name": "stdout",
     "output_type": "stream",
     "text": [
      "(20005, 200)\n",
      "(20007, 400)\n",
      "(20009, 750)\n"
     ]
    }
   ],
   "source": [
    "sql_text = \"\"\"\n",
    "SELECT *\n",
    "FROM (SELECT prod_name, prod_price FROM Products ORDER BY prod_price DESC LIMIT 1)\n",
    "UNION\n",
    "SELECT *\n",
    "FROM (SELECT prod_name, prod_price FROM Products ORDER BY prod_price  LIMIT 1)\n",
    "\"\"\"\n",
    "\n",
    "sql_text = \"\"\"\n",
    "SELECT prod_name, prod_price \n",
    "FROM Products\n",
    "WHERE prod_price  = (SELECT MAX(prod_price) FROM Products )\n",
    "UNION\n",
    "SELECT prod_name, prod_price \n",
    "FROM Products\n",
    "WHERE prod_price  = (SELECT MIN (prod_price) FROM Products )\n",
    "\"\"\"\n",
    "\n",
    "sql_text = \"\"\"\n",
    "SELECT order_num, sum(quantity)\n",
    "FROM OrderItems\n",
    "GROUP BY order_num \n",
    "HAVING sum(quantity) > 50\n",
    "\"\"\"\n",
    "\n",
    "curs.execute(sql_text)\n",
    "for i in curs.fetchall():\n",
    "    print(i)"
   ]
  }
 ],
 "metadata": {
  "kernelspec": {
   "display_name": ".venv",
   "language": "python",
   "name": ".venv"
  },
  "language_info": {
   "codemirror_mode": {
    "name": "ipython",
    "version": 3
   },
   "file_extension": ".py",
   "mimetype": "text/x-python",
   "name": "python",
   "nbconvert_exporter": "python",
   "pygments_lexer": "ipython3",
   "version": "3.8.3"
  }
 },
 "nbformat": 4,
 "nbformat_minor": 4
}
