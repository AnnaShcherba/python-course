{
 "cells": [
  {
   "cell_type": "code",
   "execution_count": 22,
   "metadata": {},
   "outputs": [
    {
     "name": "stdout",
     "output_type": "stream",
     "text": [
      "Ihor\n",
      "Olya\n",
      "Olya\n",
      "Ihor\n",
      "And\n",
      "Jon\n",
      "Jon\n",
      "Ihor\n",
      "Olya\n",
      "END\n"
     ]
    }
   ],
   "source": [
    "while True: \n",
    "    name = input()\n",
    "    if name == \"END\":\n",
    "        break\n",
    "    tmp = name + \" \" + \"1\"\n",
    "    \n",
    "    f = open('file.txt', 'a')\n",
    "    f.write(tmp)\n",
    "    f.write('\\n')\n",
    "    f.close()\n",
    "    \n",
    "   \n"
   ]
  },
  {
   "cell_type": "code",
   "execution_count": 29,
   "metadata": {},
   "outputs": [
    {
     "data": {
      "text/plain": [
       "{'Ihor': 3, 'Olya': 3, 'And': 1, 'Jon': 2}"
      ]
     },
     "execution_count": 29,
     "metadata": {},
     "output_type": "execute_result"
    }
   ],
   "source": [
    "f = open('file.txt')\n",
    "new_dict = {}\n",
    "\n",
    "\n",
    "for row in f:\n",
    "    name, qty = row.split()\n",
    "    \"\"\"if name not in new_dict:\n",
    "        new_dict[name] = int(qty)\n",
    "    else:\n",
    "        new_dict[name] = new_dict[name] + int(qty)\"\"\"\n",
    "    try:\n",
    "        new_dict[name] = new_dict[name] + int(qty)\n",
    "    except KeyError:\n",
    "        new_dict[name] = int(qty)\n",
    "        \n",
    "\n",
    "f.close()\n",
    "new_dict"
   ]
  },
  {
   "cell_type": "code",
   "execution_count": null,
   "metadata": {},
   "outputs": [],
   "source": [
    "while True: \n",
    "    name = input()\n",
    "    if name == \"END\":\n",
    "        break\n",
    "    tmp = name + \" \" + \"1\"\n",
    "    with open('file.txt', 'a') as f:\n",
    "        f.write(tmp)\n",
    "        f.write('\\n')\n",
    "    \n"
   ]
  },
  {
   "cell_type": "code",
   "execution_count": 34,
   "metadata": {},
   "outputs": [],
   "source": [
    "import pickle \n",
    "\n",
    "with open('db.pickle', 'wb') as f:\n",
    "    pickle.dump(new_dict, f)"
   ]
  },
  {
   "cell_type": "code",
   "execution_count": 35,
   "metadata": {},
   "outputs": [
    {
     "data": {
      "text/plain": [
       "{'Ihor': 3, 'Olya': 3, 'And': 1, 'Jon': 2}"
      ]
     },
     "execution_count": 35,
     "metadata": {},
     "output_type": "execute_result"
    }
   ],
   "source": [
    "import pickle\n",
    "\n",
    "with open('db.pickle', 'rb') as f:\n",
    "    second_dict = pickle.load(f)\n",
    "    \n",
    "second_dict"
   ]
  },
  {
   "cell_type": "code",
   "execution_count": 45,
   "metadata": {},
   "outputs": [
    {
     "name": "stdout",
     "output_type": "stream",
     "text": [
      "1\n",
      "ddd\n",
      "invalid literal for int() with base 10: 'ddd'\n",
      "програма завершила роботу\n"
     ]
    }
   ],
   "source": [
    "try:\n",
    "    a = int(input())\n",
    "    b = int(input())\n",
    "    print(a / b)\n",
    "except ZeroDivisionError:\n",
    "    print(\"Не можна ділити на 0\")\n",
    "except Exception as e:\n",
    "    print(e)\n",
    "finally:\n",
    "    print(\"програма завершила роботу\")\n"
   ]
  },
  {
   "cell_type": "code",
   "execution_count": 41,
   "metadata": {},
   "outputs": [
    {
     "ename": "ZeroDivisionError",
     "evalue": "division by zero",
     "output_type": "error",
     "traceback": [
      "\u001b[1;31m---------------------------------------------------------------------------\u001b[0m",
      "\u001b[1;31mZeroDivisionError\u001b[0m                         Traceback (most recent call last)",
      "\u001b[1;32m<ipython-input-41-9e1622b385b6>\u001b[0m in \u001b[0;36m<module>\u001b[1;34m\u001b[0m\n\u001b[1;32m----> 1\u001b[1;33m \u001b[1;36m1\u001b[0m\u001b[1;33m/\u001b[0m\u001b[1;36m0\u001b[0m\u001b[1;33m\u001b[0m\u001b[1;33m\u001b[0m\u001b[0m\n\u001b[0m",
      "\u001b[1;31mZeroDivisionError\u001b[0m: division by zero"
     ]
    }
   ],
   "source": [
    "1/0\n"
   ]
  }
 ],
 "metadata": {
  "kernelspec": {
   "display_name": "Python 3",
   "language": "python",
   "name": "python3"
  },
  "language_info": {
   "codemirror_mode": {
    "name": "ipython",
    "version": 3
   },
   "file_extension": ".py",
   "mimetype": "text/x-python",
   "name": "python",
   "nbconvert_exporter": "python",
   "pygments_lexer": "ipython3",
   "version": "3.7.3"
  }
 },
 "nbformat": 4,
 "nbformat_minor": 2
}
