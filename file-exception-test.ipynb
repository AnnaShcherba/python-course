{
 "cells": [
  {
   "cell_type": "code",
   "execution_count": 22,
   "metadata": {},
   "outputs": [
    {
     "name": "stdout",
     "output_type": "stream",
     "text": [
      "Ihor\n",
      "Olya\n",
      "Olya\n",
      "Ihor\n",
      "And\n",
      "Jon\n",
      "Jon\n",
      "Ihor\n",
      "Olya\n",
      "END\n"
     ]
    }
   ],
   "source": [
    "while True: \n",
    "    name = input()\n",
    "    if name == \"END\":\n",
    "        break\n",
    "    tmp = name + \" \" + \"1\"\n",
    "    \n",
    "    f = open('file.txt', 'a')\n",
    "    f.write(tmp)\n",
    "    f.write('\\n')\n",
    "    f.close()\n",
    "    \n",
    "   \n"
   ]
  },
  {
   "cell_type": "code",
   "execution_count": 29,
   "metadata": {},
   "outputs": [
    {
     "data": {
      "text/plain": [
       "{'Ihor': 3, 'Olya': 3, 'And': 1, 'Jon': 2}"
      ]
     },
     "execution_count": 29,
     "metadata": {},
     "output_type": "execute_result"
    }
   ],
   "source": [
    "f = open('file.txt')\n",
    "new_dict = {}\n",
    "\n",
    "\n",
    "for row in f:\n",
    "    name, qty = row.split()\n",
    "    \"\"\"if name not in new_dict:\n",
    "        new_dict[name] = int(qty)\n",
    "    else:\n",
    "        new_dict[name] = new_dict[name] + int(qty)\"\"\"\n",
    "    try:\n",
    "        new_dict[name] = new_dict[name] + int(qty)\n",
    "    except KeyError:\n",
    "        new_dict[name] = int(qty)\n",
    "        \n",
    "\n",
    "f.close()\n",
    "new_dict"
   ]
  },
  {
   "cell_type": "code",
   "execution_count": null,
   "metadata": {},
   "outputs": [],
   "source": [
    "while True: \n",
    "    name = input()\n",
    "    if name == \"END\":\n",
    "        break\n",
    "    tmp = name + \" \" + \"1\"\n",
    "    with open('file.txt', 'a') as f:\n",
    "        f.write(tmp)\n",
    "        f.write('\\n')\n",
    "    \n"
   ]
  },
  {
   "cell_type": "code",
   "execution_count": 42,
   "metadata": {},
   "outputs": [],
   "source": [
    "new_dict = {1:20}\n",
    "\n",
    "import pickle \n",
    "\n",
    "with open('db.pickle', 'wb') as f:\n",
    "    pickle.dump(new_dict, f)"
   ]
  },
  {
   "cell_type": "code",
   "execution_count": 43,
   "metadata": {},
   "outputs": [
    {
     "data": {
      "text/plain": [
       "{1: 20}"
      ]
     },
     "execution_count": 43,
     "metadata": {},
     "output_type": "execute_result"
    }
   ],
   "source": [
    "import pickle\n",
    "\n",
    "with open('db.pickle', 'rb') as f:\n",
    "    second_dict = pickle.load(f)\n",
    "    \n",
    "second_dict"
   ]
  },
  {
   "cell_type": "code",
   "execution_count": 45,
   "metadata": {},
   "outputs": [
    {
     "name": "stdout",
     "output_type": "stream",
     "text": [
      "1\n",
      "ddd\n",
      "invalid literal for int() with base 10: 'ddd'\n",
      "програма завершила роботу\n"
     ]
    }
   ],
   "source": [
    "try:\n",
    "    a = int(input())\n",
    "    b = int(input())\n",
    "    print(a / b)\n",
    "except ZeroDivisionError:\n",
    "    print(\"Не можна ділити на 0\")\n",
    "except Exception as e:\n",
    "    print(e)\n",
    "finally:\n",
    "    print(\"програма завершила роботу\")\n"
   ]
  },
  {
   "cell_type": "code",
   "execution_count": 47,
   "metadata": {},
   "outputs": [
    {
     "data": {
      "text/plain": [
       "'{\"temperature\": \"24.3\"}'"
      ]
     },
     "execution_count": 47,
     "metadata": {},
     "output_type": "execute_result"
    }
   ],
   "source": [
    "import json\n",
    "import requests\n",
    "data = {'temperature':'24.3'}\n",
    "data_json = json.dumps(data)\n",
    "data_json"
   ]
  },
  {
   "cell_type": "code",
   "execution_count": 13,
   "metadata": {},
   "outputs": [
    {
     "name": "stdout",
     "output_type": "stream",
     "text": [
      "emp\n"
     ]
    }
   ],
   "source": [
    "a = 0\n",
    "\n",
    "if a:\n",
    "    print('not emp')\n",
    "else:\n",
    "    print('emp')"
   ]
  },
  {
   "cell_type": "code",
   "execution_count": null,
   "metadata": {},
   "outputs": [],
   "source": [
    "a = 10  #bla bla bla\n",
    "\n",
    "\"\"\"comment\n",
    "\n",
    "ffjfj\n",
    "fkfkf\n",
    "\n",
    "\"\"\""
   ]
  },
  {
   "cell_type": "code",
   "execution_count": 15,
   "metadata": {},
   "outputs": [
    {
     "data": {
      "text/plain": [
       "['__abs__',\n",
       " '__add__',\n",
       " '__and__',\n",
       " '__bool__',\n",
       " '__ceil__',\n",
       " '__class__',\n",
       " '__delattr__',\n",
       " '__dir__',\n",
       " '__divmod__',\n",
       " '__doc__',\n",
       " '__eq__',\n",
       " '__float__',\n",
       " '__floor__',\n",
       " '__floordiv__',\n",
       " '__format__',\n",
       " '__ge__',\n",
       " '__getattribute__',\n",
       " '__getnewargs__',\n",
       " '__gt__',\n",
       " '__hash__',\n",
       " '__index__',\n",
       " '__init__',\n",
       " '__init_subclass__',\n",
       " '__int__',\n",
       " '__invert__',\n",
       " '__le__',\n",
       " '__lshift__',\n",
       " '__lt__',\n",
       " '__mod__',\n",
       " '__mul__',\n",
       " '__ne__',\n",
       " '__neg__',\n",
       " '__new__',\n",
       " '__or__',\n",
       " '__pos__',\n",
       " '__pow__',\n",
       " '__radd__',\n",
       " '__rand__',\n",
       " '__rdivmod__',\n",
       " '__reduce__',\n",
       " '__reduce_ex__',\n",
       " '__repr__',\n",
       " '__rfloordiv__',\n",
       " '__rlshift__',\n",
       " '__rmod__',\n",
       " '__rmul__',\n",
       " '__ror__',\n",
       " '__round__',\n",
       " '__rpow__',\n",
       " '__rrshift__',\n",
       " '__rshift__',\n",
       " '__rsub__',\n",
       " '__rtruediv__',\n",
       " '__rxor__',\n",
       " '__setattr__',\n",
       " '__sizeof__',\n",
       " '__str__',\n",
       " '__sub__',\n",
       " '__subclasshook__',\n",
       " '__truediv__',\n",
       " '__trunc__',\n",
       " '__xor__',\n",
       " 'bit_length',\n",
       " 'conjugate',\n",
       " 'denominator',\n",
       " 'from_bytes',\n",
       " 'imag',\n",
       " 'numerator',\n",
       " 'real',\n",
       " 'to_bytes']"
      ]
     },
     "execution_count": 15,
     "metadata": {},
     "output_type": "execute_result"
    }
   ],
   "source": [
    "b = 20\n",
    "\n",
    "dir(b)"
   ]
  },
  {
   "cell_type": "code",
   "execution_count": 30,
   "metadata": {},
   "outputs": [],
   "source": [
    "def foo():\n",
    "    \"\"\"Yes\n",
    "    \"\"\"\n",
    "    \n",
    "    print(\"Hello, word\")\n",
    "    \n"
   ]
  },
  {
   "cell_type": "code",
   "execution_count": 31,
   "metadata": {},
   "outputs": [
    {
     "name": "stdout",
     "output_type": "stream",
     "text": [
      "Yes\n",
      "    \n"
     ]
    }
   ],
   "source": [
    "print(foo.__doc__)"
   ]
  },
  {
   "cell_type": "code",
   "execution_count": 32,
   "metadata": {},
   "outputs": [],
   "source": [
    "s = \"\"\"fijfijfj #kdcje\n",
    "fegerg\n",
    "dewfweg #76\"\"\"\n",
    "\n",
    "with open(\"delcomm.txt\", \"w\") as f:\n",
    "    f.write(s)"
   ]
  },
  {
   "cell_type": "code",
   "execution_count": 37,
   "metadata": {},
   "outputs": [],
   "source": [
    "new_list = []\n",
    "with open(\"delcomm.txt\", \"r\") as f:\n",
    "    for i in f:\n",
    "        \"\"\"if \"#\" in i:\n",
    "            tmp = i[:i.find('#')]+'\\n'\n",
    "        else:\n",
    "            tmp = i\n",
    "        new_list.append(tmp)\n",
    "        \"\"\"  \n",
    "        new_list.append(i[:i.find('#')]+'\\n' if \"#\" in i else i)\n",
    "        \n",
    "        \n",
    "with open(\"delcomm.txt\", \"w\") as f:\n",
    "    f.writelines(new_list)\n",
    "    "
   ]
  },
  {
   "cell_type": "markdown",
   "metadata": {},
   "source": [
    "## Перерва до 20:15"
   ]
  },
  {
   "cell_type": "code",
   "execution_count": 33,
   "metadata": {},
   "outputs": [],
   "source": [
    "import requests\n",
    "import pandas\n",
    "requests.get(\"\").text\n",
    "\n",
    "pandas"
   ]
  },
  {
   "cell_type": "code",
   "execution_count": null,
   "metadata": {},
   "outputs": [],
   "source": [
    "\"\"\"\n",
    "1. Закупка товару\n",
    "2. Продажа товару\n",
    "3. Звітність \n",
    "\n",
    "\"\"\""
   ]
  },
  {
   "cell_type": "code",
   "execution_count": 52,
   "metadata": {},
   "outputs": [
    {
     "name": "stdout",
     "output_type": "stream",
     "text": [
      "Конект успішний\n",
      "Введіть товар: Абрисоки\n",
      "Введіть кількість: 300\n",
      "{'Помідори': 140.0, 'Кавуни': 170.0, 'Кукурудза': 10.0, 'Абрисоки': 300.0}\n"
     ]
    }
   ],
   "source": [
    "# 1\n",
    "import sys\n",
    "import pickle\n",
    "\n",
    "#відкриваємо або створюємо файл\n",
    "try:\n",
    "    with open('db.pickle', 'rb') as f:\n",
    "        PRODUCT_BASE = pickle.load(f)\n",
    "        print(\"Конект успішний\")\n",
    "except FileNotFoundError:\n",
    "    open('db.pickle', 'wb')\n",
    "    print(\"База даних створена!\")\n",
    "    PRODUCT_BASE = {}\n",
    "\n",
    "#ввдення інформації    \n",
    "try:\n",
    "    product = input(\"Введіть товар: \")\n",
    "    qty = float(input(\"Введіть кількість: \"))\n",
    "except ValueError:\n",
    "    print(\"Кількість ввдено некоректно\")\n",
    "    sys.exit()\n",
    "#внесення інформації в словник    \n",
    "if product in PRODUCT_BASE:\n",
    "    PRODUCT_BASE[product] += qty\n",
    "else:\n",
    "    PRODUCT_BASE[product] = qty\n",
    "\n",
    "#записуємо в базу даних\n",
    "with open('db.pickle', 'wb') as f:\n",
    "    pickle.dump(PRODUCT_BASE, f)\n",
    "    \n",
    "print(PRODUCT_BASE)"
   ]
  },
  {
   "cell_type": "code",
   "execution_count": 56,
   "metadata": {},
   "outputs": [
    {
     "name": "stdout",
     "output_type": "stream",
     "text": [
      "База даних відсутня! Створіть її\n"
     ]
    },
    {
     "ename": "SystemExit",
     "evalue": "",
     "output_type": "error",
     "traceback": [
      "An exception has occurred, use %tb to see the full traceback.\n",
      "\u001b[1;31mSystemExit\u001b[0m\n"
     ]
    },
    {
     "name": "stderr",
     "output_type": "stream",
     "text": [
      "C:\\Users\\i.betlei\\AppData\\Local\\Anaconda\\lib\\site-packages\\IPython\\core\\interactiveshell.py:3304: UserWarning: To exit: use 'exit', 'quit', or Ctrl-D.\n",
      "  warn(\"To exit: use 'exit', 'quit', or Ctrl-D.\", stacklevel=1)\n"
     ]
    }
   ],
   "source": [
    "import sys\n",
    "import pickle\n",
    "\n",
    "#відкриваємо базу даних\n",
    "try:\n",
    "    with open('db.pickle', 'rb') as f:\n",
    "        PRODUCT_BASE = pickle.load(f)\n",
    "        print(\"Конект успішний\")\n",
    "except FileNotFoundError:\n",
    "    print(\"База даних відсутня! Створіть її\")\n",
    "    sys.exit()\n",
    "    \n",
    "#Вводимо інформацію для продажу\n",
    "try:\n",
    "    product = input(\"Введіть товар: \")\n",
    "    qty = float(input(\"Введіть кількість для продажу: \"))\n",
    "except ValueError:\n",
    "    print(\"Кількість ввдено некоректно\")\n",
    "    sys.exit()\n",
    "\n",
    "#Продаємо товар - списуємо з бази даних\n",
    "if product in PRODUCT_BASE:\n",
    "    if qty <= PRODUCT_BASE[product]:\n",
    "        PRODUCT_BASE[product] -= qty\n",
    "        print(\"Продано\")\n",
    "    else:\n",
    "        print(\"Недостатня кількість в наявності\")\n",
    "else:\n",
    "    print(\"Такого товару немає в наявності\")\n",
    "\n",
    "#записуємо в базу даних    \n",
    "with open('db.pickle', 'wb') as f:\n",
    "    pickle.dump(PRODUCT_BASE, f)\n",
    "    \n",
    "print(PRODUCT_BASE)"
   ]
  },
  {
   "cell_type": "code",
   "execution_count": 58,
   "metadata": {},
   "outputs": [
    {
     "name": "stdout",
     "output_type": "stream",
     "text": [
      "Помідори\n",
      "Кавуни\n",
      "Кукурудза\n",
      "Абрисоки\n"
     ]
    }
   ],
   "source": [
    "with open('db.pickle', 'rb') as f:\n",
    "        PRODUCT_BASE = pickle.load(f)\n",
    "        for i in PRODUCT_BASE:\n",
    "            print(i)"
   ]
  }
 ],
 "metadata": {
  "kernelspec": {
   "display_name": "Python 3",
   "language": "python",
   "name": "python3"
  },
  "language_info": {
   "codemirror_mode": {
    "name": "ipython",
    "version": 3
   },
   "file_extension": ".py",
   "mimetype": "text/x-python",
   "name": "python",
   "nbconvert_exporter": "python",
   "pygments_lexer": "ipython3",
   "version": "3.7.3"
  }
 },
 "nbformat": 4,
 "nbformat_minor": 2
}
